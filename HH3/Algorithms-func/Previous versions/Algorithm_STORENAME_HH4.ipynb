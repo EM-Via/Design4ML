{
 "cells": [
  {
   "cell_type": "markdown",
   "id": "2cce2977",
   "metadata": {},
   "source": [
    "## 3: THIRD ALGORITHM - Where WILL THEY SHOP?"
   ]
  },
  {
   "cell_type": "markdown",
   "id": "87a037df",
   "metadata": {},
   "source": [
    "### Import libraries "
   ]
  },
  {
   "cell_type": "code",
   "execution_count": 1,
   "id": "419cb39a",
   "metadata": {},
   "outputs": [],
   "source": [
    "# %matplotlib notebook\n",
    "%matplotlib inline\n",
    "#Pandas is a software library written for the Python programming language for data manipulation and analysis.\n",
    "import pandas as pd\n",
    "#NumPy is a library for the Python programming language, adding support for large, multi-dimensional arrays and matrices, along with a large collection of high-level mathematical functions to operate on these arrays\n",
    "import numpy as np\n",
    "# Matplotlib is a plotting library for python and pyplot gives us a MatLab like plotting framework. We will use this in our plotter function to plot data.\n",
    "import matplotlib.pyplot as plt\n",
    "#Seaborn is a Python data visualization library based on matplotlib. It provides a high-level interface for drawing attractive and informative statistical graphics\n",
    "import seaborn as sns\n",
    "import dataframe_image as dfi\n",
    "from datetime import time\n",
    "import matplotlib.dates as mdates\n",
    "from matplotlib.ticker import StrMethodFormatter\n",
    "from matplotlib.pyplot import figure"
   ]
  },
  {
   "cell_type": "markdown",
   "id": "f10011bb",
   "metadata": {},
   "source": [
    "### Load and view data "
   ]
  },
  {
   "cell_type": "code",
   "execution_count": 57,
   "id": "d7338672",
   "metadata": {},
   "outputs": [],
   "source": [
    "# data for HH\n",
    "df = pd.read_csv (r\"C:\\Users\\20204113\\OneDrive - TU Eindhoven\\2_Research\\1_Groceries\\DATA\\9th week - narrative (3rd attempt)\\HH4\\df\\df_HH4.csv\")"
   ]
  },
  {
   "cell_type": "code",
   "execution_count": 4,
   "id": "62dfd4de",
   "metadata": {},
   "outputs": [],
   "source": [
    "from STORENAME_HH4 import storename"
   ]
  },
  {
   "cell_type": "code",
   "execution_count": 6,
   "id": "cb2b10b5",
   "metadata": {},
   "outputs": [],
   "source": [
    "df_storename = storename()"
   ]
  },
  {
   "cell_type": "code",
   "execution_count": 7,
   "id": "d0f1e14f",
   "metadata": {},
   "outputs": [],
   "source": [
    "# Assign weights based on how the numbers per day are represented\n",
    "df_MCD = pd.DataFrame(df_storename['MCD'])\n",
    "df_MCD['weights'] = df_MCD.groupby(['MCD'])['MCD'].transform('count')\n",
    "df_MCD = df_MCD.drop_duplicates()\n",
    "\n",
    "df_DePers = pd.DataFrame(df_storename['De Pers'])\n",
    "df_DePers['weights'] = df_DePers.groupby(['De Pers'])['De Pers'].transform('count')\n",
    "df_DePers = df_DePers.drop_duplicates()\n",
    "\n",
    "df_AH = pd.DataFrame(df_storename['Albert Heijn'])\n",
    "df_AH['weights'] = df_AH.groupby(['Albert Heijn'])['Albert Heijn'].transform('count')\n",
    "df_AH = df_AH.drop_duplicates()"
   ]
  },
  {
   "cell_type": "markdown",
   "id": "7800ec08",
   "metadata": {},
   "source": [
    "# 1. SELECT TIMES\n"
   ]
  },
  {
   "cell_type": "code",
   "execution_count": 84,
   "id": "81fbcac3",
   "metadata": {},
   "outputs": [],
   "source": [
    "#create random samples for each day based on the assigned weights\n",
    "def storename(n):\n",
    "    i = 0\n",
    "\n",
    "    while i < 1:\n",
    "        df_MCDs = df_MCD.sample(n=1, weights='weights') \n",
    "        df_MCDs = df_MCDs.rename(columns={\"MCD\": \"times\"})\n",
    "\n",
    "        df_DePerss = df_DePers.sample(n=1, weights='weights')\n",
    "        df_DePerss = df_DePerss.rename(columns={\"De Pers\": \"times\"})\n",
    "\n",
    "        df_AHs = df_AH.sample(n=1, weights='weights')\n",
    "        df_AHs = df_AHs.rename(columns={\"Albert Heijn\": \"times\"})\n",
    "\n",
    "        #combine all random samplers and print the final (random) week9\n",
    "        df_week9 = pd.concat([df_MCDs, df_DePerss, df_AHs])\n",
    "        df_week9['store_name']=['MCD', 'De Pers', 'Albert Heijn']\n",
    "        df_week9\n",
    "\n",
    "        store9=[]\n",
    "        for store in  df_week9['store_name']:\n",
    "            store_9 = df.loc[df['store_name'] == store, 'store_type'].iloc[0]\n",
    "            store9.append(store_9)\n",
    "\n",
    "        df_week9['store_type'] = store9\n",
    "        df_week9\n",
    "            \n",
    "        del df_week9['weights']\n",
    "        if df_week9['times'].sum() == n:\n",
    "            i= i+1\n",
    "            return df_week9\n",
    "        else:\n",
    "            i=0\n",
    "            continue"
   ]
  },
  {
   "cell_type": "code",
   "execution_count": 85,
   "id": "c4e38895",
   "metadata": {},
   "outputs": [
    {
     "data": {
      "text/html": [
       "<div>\n",
       "<style scoped>\n",
       "    .dataframe tbody tr th:only-of-type {\n",
       "        vertical-align: middle;\n",
       "    }\n",
       "\n",
       "    .dataframe tbody tr th {\n",
       "        vertical-align: top;\n",
       "    }\n",
       "\n",
       "    .dataframe thead th {\n",
       "        text-align: right;\n",
       "    }\n",
       "</style>\n",
       "<table border=\"1\" class=\"dataframe\">\n",
       "  <thead>\n",
       "    <tr style=\"text-align: right;\">\n",
       "      <th></th>\n",
       "      <th>times</th>\n",
       "      <th>store_name</th>\n",
       "      <th>store_type</th>\n",
       "    </tr>\n",
       "  </thead>\n",
       "  <tbody>\n",
       "    <tr>\n",
       "      <th>0</th>\n",
       "      <td>7.0</td>\n",
       "      <td>MCD</td>\n",
       "      <td>supermarket</td>\n",
       "    </tr>\n",
       "    <tr>\n",
       "      <th>0</th>\n",
       "      <td>1.0</td>\n",
       "      <td>De Pers</td>\n",
       "      <td>minimarket</td>\n",
       "    </tr>\n",
       "    <tr>\n",
       "      <th>0</th>\n",
       "      <td>0.0</td>\n",
       "      <td>Albert Heijn</td>\n",
       "      <td>supermarket</td>\n",
       "    </tr>\n",
       "  </tbody>\n",
       "</table>\n",
       "</div>"
      ],
      "text/plain": [
       "   times    store_name   store_type\n",
       "0    7.0           MCD  supermarket\n",
       "0    1.0       De Pers   minimarket\n",
       "0    0.0  Albert Heijn  supermarket"
      ]
     },
     "execution_count": 85,
     "metadata": {},
     "output_type": "execute_result"
    }
   ],
   "source": [
    "storename(8)"
   ]
  }
 ],
 "metadata": {
  "kernelspec": {
   "display_name": "Python 3 (ipykernel)",
   "language": "python",
   "name": "python3"
  },
  "language_info": {
   "codemirror_mode": {
    "name": "ipython",
    "version": 3
   },
   "file_extension": ".py",
   "mimetype": "text/x-python",
   "name": "python",
   "nbconvert_exporter": "python",
   "pygments_lexer": "ipython3",
   "version": "3.9.7"
  },
  "widgets": {
   "application/vnd.jupyter.widget-state+json": {
    "state": {},
    "version_major": 2,
    "version_minor": 0
   }
  }
 },
 "nbformat": 4,
 "nbformat_minor": 5
}

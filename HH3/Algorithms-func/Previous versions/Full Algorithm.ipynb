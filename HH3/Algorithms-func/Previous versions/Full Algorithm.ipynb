{
 "cells": [
  {
   "cell_type": "markdown",
   "id": "2cce2977",
   "metadata": {},
   "source": [
    "# Full algorithm - generating grocery lists\n",
    "\n",
    "1. Define variables: days-times-stores\n",
    "2. Define limits: min amount-max amount\n",
    "3. Generate (random) lists from narrowed down df"
   ]
  },
  {
   "cell_type": "markdown",
   "id": "87a037df",
   "metadata": {},
   "source": [
    "### Import libraries "
   ]
  },
  {
   "cell_type": "code",
   "execution_count": 9,
   "id": "419cb39a",
   "metadata": {},
   "outputs": [],
   "source": [
    "# %matplotlib notebook\n",
    "%matplotlib inline\n",
    "#Pandas is a software library written for the Python programming language for data manipulation and analysis.\n",
    "import pandas as pd\n",
    "#NumPy is a library for the Python programming language, adding support for large, multi-dimensional arrays and matrices, along with a large collection of high-level mathematical functions to operate on these arrays\n",
    "import numpy as np\n",
    "# Matplotlib is a plotting library for python and pyplot gives us a MatLab like plotting framework. We will use this in our plotter function to plot data.\n",
    "import matplotlib.pyplot as plt\n",
    "#Seaborn is a Python data visualization library based on matplotlib. It provides a high-level interface for drawing attractive and informative statistical graphics\n",
    "import seaborn as sns\n",
    "import dataframe_image as dfi\n",
    "from datetime import time\n",
    "import matplotlib.dates as mdates\n",
    "from matplotlib.ticker import StrMethodFormatter\n",
    "from matplotlib.pyplot import figure\n",
    "\n",
    "from random import sample\n"
   ]
  },
  {
   "cell_type": "code",
   "execution_count": 10,
   "id": "1365b462",
   "metadata": {},
   "outputs": [],
   "source": [
    "from AlgorithmCOUNTS_HH2 import CountTotalVisits, CountTotalDays, CountStoreName, CountStoreType"
   ]
  },
  {
   "cell_type": "code",
   "execution_count": 11,
   "id": "9543f26d",
   "metadata": {},
   "outputs": [],
   "source": [
    "dataframe = pd.read_csv (r\"C:\\Users\\20204113\\OneDrive - TU Eindhoven\\2_Research\\1_Groceries\\DATA\\9th week - narrative (3rd attempt)\\HH2\\df\\df_HH2.csv\")"
   ]
  },
  {
   "cell_type": "markdown",
   "id": "cb3e0c0f",
   "metadata": {},
   "source": [
    "## Define variables - day/time/store"
   ]
  },
  {
   "cell_type": "markdown",
   "id": "3e8a99dd",
   "metadata": {},
   "source": [
    "### 1. What day?"
   ]
  },
  {
   "cell_type": "code",
   "execution_count": 12,
   "id": "1218ae7e",
   "metadata": {},
   "outputs": [],
   "source": [
    "# Function to generate #visits per day of the week\n",
    "from AlgorithmDAYS_HH2 import beforeNY, AfterNY"
   ]
  },
  {
   "cell_type": "code",
   "execution_count": 13,
   "id": "a8bc7588",
   "metadata": {},
   "outputs": [
    {
     "data": {
      "text/html": [
       "<div>\n",
       "<style scoped>\n",
       "    .dataframe tbody tr th:only-of-type {\n",
       "        vertical-align: middle;\n",
       "    }\n",
       "\n",
       "    .dataframe tbody tr th {\n",
       "        vertical-align: top;\n",
       "    }\n",
       "\n",
       "    .dataframe thead th {\n",
       "        text-align: right;\n",
       "    }\n",
       "</style>\n",
       "<table border=\"1\" class=\"dataframe\">\n",
       "  <thead>\n",
       "    <tr style=\"text-align: right;\">\n",
       "      <th></th>\n",
       "      <th>times</th>\n",
       "      <th>day</th>\n",
       "    </tr>\n",
       "  </thead>\n",
       "  <tbody>\n",
       "    <tr>\n",
       "      <th>4</th>\n",
       "      <td>2.0</td>\n",
       "      <td>Monday</td>\n",
       "    </tr>\n",
       "    <tr>\n",
       "      <th>4</th>\n",
       "      <td>2.0</td>\n",
       "      <td>Tuesday</td>\n",
       "    </tr>\n",
       "    <tr>\n",
       "      <th>4</th>\n",
       "      <td>0.0</td>\n",
       "      <td>Wednesday</td>\n",
       "    </tr>\n",
       "    <tr>\n",
       "      <th>6</th>\n",
       "      <td>1.0</td>\n",
       "      <td>Thursday</td>\n",
       "    </tr>\n",
       "    <tr>\n",
       "      <th>4</th>\n",
       "      <td>0.0</td>\n",
       "      <td>Friday</td>\n",
       "    </tr>\n",
       "    <tr>\n",
       "      <th>5</th>\n",
       "      <td>3.0</td>\n",
       "      <td>Saturday</td>\n",
       "    </tr>\n",
       "    <tr>\n",
       "      <th>6</th>\n",
       "      <td>1.0</td>\n",
       "      <td>Sunday</td>\n",
       "    </tr>\n",
       "  </tbody>\n",
       "</table>\n",
       "</div>"
      ],
      "text/plain": [
       "   times        day\n",
       "4    2.0     Monday\n",
       "4    2.0    Tuesday\n",
       "4    0.0  Wednesday\n",
       "6    1.0   Thursday\n",
       "4    0.0     Friday\n",
       "5    3.0   Saturday\n",
       "6    1.0     Sunday"
      ]
     },
     "execution_count": 13,
     "metadata": {},
     "output_type": "execute_result"
    }
   ],
   "source": [
    "    # Select the relevant df for this generated grocery list, comment out the other one\n",
    "# df = beforeNY()\n",
    "df = AfterNY()\n",
    "\n",
    "    # assign visit times vor each day to an identifier\n",
    "mo = int(df[\"times\"].values[0])\n",
    "tu = int(df[\"times\"].values[1])\n",
    "we = int (df[\"times\"].values[2])\n",
    "th = int (df[\"times\"].values[3])\n",
    "fr = int (df[\"times\"].values[4])\n",
    "sa = int (df[\"times\"].values[5])\n",
    "su = int (df[\"times\"].values[6])\n",
    "\n",
    "df"
   ]
  },
  {
   "cell_type": "markdown",
   "id": "b1d64a2e",
   "metadata": {},
   "source": [
    "### 2. What store?"
   ]
  },
  {
   "cell_type": "code",
   "execution_count": 14,
   "id": "0c72ee93",
   "metadata": {},
   "outputs": [
    {
     "data": {
      "text/html": [
       "<div>\n",
       "<style scoped>\n",
       "    .dataframe tbody tr th:only-of-type {\n",
       "        vertical-align: middle;\n",
       "    }\n",
       "\n",
       "    .dataframe tbody tr th {\n",
       "        vertical-align: top;\n",
       "    }\n",
       "\n",
       "    .dataframe thead th {\n",
       "        text-align: right;\n",
       "    }\n",
       "</style>\n",
       "<table border=\"1\" class=\"dataframe\">\n",
       "  <thead>\n",
       "    <tr style=\"text-align: right;\">\n",
       "      <th></th>\n",
       "      <th>store_name</th>\n",
       "      <th>store_type</th>\n",
       "      <th>day</th>\n",
       "    </tr>\n",
       "  </thead>\n",
       "  <tbody>\n",
       "    <tr>\n",
       "      <th>0</th>\n",
       "      <td>Albert Heijn</td>\n",
       "      <td>supermarket</td>\n",
       "      <td>Monday</td>\n",
       "    </tr>\n",
       "    <tr>\n",
       "      <th>0</th>\n",
       "      <td>Albert Heijn</td>\n",
       "      <td>supermarket</td>\n",
       "      <td>Monday</td>\n",
       "    </tr>\n",
       "    <tr>\n",
       "      <th>1</th>\n",
       "      <td>Okay</td>\n",
       "      <td>supermarket</td>\n",
       "      <td>Tuesday</td>\n",
       "    </tr>\n",
       "    <tr>\n",
       "      <th>2</th>\n",
       "      <td>Sys</td>\n",
       "      <td>bakery</td>\n",
       "      <td>Tuesday</td>\n",
       "    </tr>\n",
       "    <tr>\n",
       "      <th>0</th>\n",
       "      <td>Albert Heijn</td>\n",
       "      <td>supermarket</td>\n",
       "      <td>Thursday</td>\n",
       "    </tr>\n",
       "    <tr>\n",
       "      <th>2</th>\n",
       "      <td>Sys</td>\n",
       "      <td>bakery</td>\n",
       "      <td>Saturday</td>\n",
       "    </tr>\n",
       "    <tr>\n",
       "      <th>2</th>\n",
       "      <td>Sys</td>\n",
       "      <td>bakery</td>\n",
       "      <td>Saturday</td>\n",
       "    </tr>\n",
       "    <tr>\n",
       "      <th>3</th>\n",
       "      <td>Versavel Poelman</td>\n",
       "      <td>butcher</td>\n",
       "      <td>Saturday</td>\n",
       "    </tr>\n",
       "    <tr>\n",
       "      <th>0</th>\n",
       "      <td>Albert Heijn</td>\n",
       "      <td>supermarket</td>\n",
       "      <td>Sunday</td>\n",
       "    </tr>\n",
       "  </tbody>\n",
       "</table>\n",
       "</div>"
      ],
      "text/plain": [
       "         store_name   store_type       day\n",
       "0      Albert Heijn  supermarket    Monday\n",
       "0      Albert Heijn  supermarket    Monday\n",
       "1              Okay  supermarket   Tuesday\n",
       "2               Sys       bakery   Tuesday\n",
       "0      Albert Heijn  supermarket  Thursday\n",
       "2               Sys       bakery  Saturday\n",
       "2               Sys       bakery  Saturday\n",
       "3  Versavel Poelman      butcher  Saturday\n",
       "0      Albert Heijn  supermarket    Sunday"
      ]
     },
     "execution_count": 14,
     "metadata": {},
     "output_type": "execute_result"
    }
   ],
   "source": [
    "    # Function to generate store name (&type) per weekday (+ assign #of visits per day)\n",
    "from AlgorithmSTORE_HH2 import Mondays, Tuesdays, Wednesdays, Thursdays, Fridays, Saturdays, Sundays\n",
    "\n",
    "    # Generate store names for the [previously identified] shopping dags + corresponding store type\n",
    "stores = [Mondays(mo), Tuesdays(tu), Wednesdays(we), Thursdays(th), Fridays(fr), Saturdays(sa), Sundays(su)]\n",
    "    # create one df for all visited stores + day\n",
    "stores = pd.concat(stores)\n",
    "stores"
   ]
  },
  {
   "cell_type": "code",
   "execution_count": 17,
   "id": "04103651",
   "metadata": {},
   "outputs": [],
   "source": [
    "AHt = (stores['store_name'] == 'Albert Heijn').sum()\n",
    "OKt = (stores['store_name'] == 'Okay').sum()\n",
    "DHt = (stores['store_name'] == 'Delhaize').sum()\n",
    "CFt = (stores['store_name'] == 'Carrefour').sum()\n",
    "VPt = (stores['store_name'] == 'Versavel Poelman').sum()\n",
    "SYt = (stores['store_name'] == 'Sys').sum()\n",
    "BRt = (stores['store_name'] == 'Brabo').sum()\n",
    "IKt = (stores['store_name'] == 'Ikea').sum()\n",
    "KRt = (stores['store_name'] == 'Kruidvat').sum()"
   ]
  },
  {
   "cell_type": "markdown",
   "id": "1b9a31ae",
   "metadata": {},
   "source": [
    "### 3. What time?"
   ]
  },
  {
   "cell_type": "code",
   "execution_count": 18,
   "id": "0b27ed8b",
   "metadata": {},
   "outputs": [],
   "source": [
    "    # Function to decide time (morning, noon. afternoon) per visited store\n",
    "from AlgorithmTIMES_HH2 import AlbertHeijn, Okay, Delhaize, Carrefour, VersavelPoelman, Sys, Brabo, Ikea, Kruidvat\n",
    "\n",
    "    # Identifier counts for store names per week\n",
    "AHt = (stores['store_name'] == 'Albert Heijn').sum()\n",
    "OKt = (stores['store_name'] == 'Okay').sum()\n",
    "DHt = (stores['store_name'] == 'Delhaize').sum()\n",
    "CFt = (stores['store_name'] == 'Carrefour').sum()\n",
    "VPt = (stores['store_name'] == 'Versavel Poelman').sum()\n",
    "SYt = (stores['store_name'] == 'Sys').sum()\n",
    "BRt = (stores['store_name'] == 'Brabo').sum()\n",
    "IKt = (stores['store_name'] == 'Ikea').sum()\n",
    "KRt = (stores['store_name'] == 'Kruidvat').sum()\n",
    "\n",
    "    # Generate times per storename and compile in df with stores\n",
    "storetimes = [AlbertHeijn(AHt), Okay(OKt), Delhaize(DHt), Carrefour(CFt), VersavelPoelman(VPt), Sys(SYt), Brabo(BRt), Ikea(IKt), Kruidvat(KRt)]\n",
    "storetimes = pd.concat(storetimes)\n",
    "stores = pd.merge(stores, storetimes, on=\"store_name\")\n",
    "\n",
    "display(stores)"
   ]
  },
  {
   "cell_type": "markdown",
   "id": "599fc62c",
   "metadata": {},
   "source": [
    "## CHECKPOINT: range for visits/week and days/week"
   ]
  },
  {
   "cell_type": "code",
   "execution_count": null,
   "id": "2195dd7f",
   "metadata": {},
   "outputs": [],
   "source": [
    "    # Check if the total GROCERY VISITS PER WEEK are within the normal range\n",
    "visitcount = stores['store_name'].count()\n",
    "totalvisits = CountTotalVisits()\n",
    "minvisits = totalvisits[0]\n",
    "maxvisits = totalvisits[1]\n",
    "if minvisits <= visitcount <= maxvisits:\n",
    "    pass\n",
    "else:\n",
    "    print(f\"{bcolors.WARNING}{bcolors.BOLD} RERUN - Too few/many visits per week\")\n",
    "\n",
    "    # Check if the total GROCERY DAYS PER WEEK are within the normal range\n",
    "dayscount = stores['day'].nunique()\n",
    "totaldays = CountTotalDays()\n",
    "mindays = totaldays[0]\n",
    "maxdays = totaldays[1]\n",
    "if mindays <= dayscount <= maxdays:\n",
    "    pass\n",
    "else:\n",
    "    print(f\"{bcolors.WARNING}{bcolors.BOLD} RERUN - Too few/many days per week\")\n",
    "\n",
    "    # Check if the total STORE TYPES VISITED PER WEEK are within the normal range\n",
    "for storetype in dataframe['store_type']:\n",
    "    typecount = stores[stores['store_type']==storetype]['store_type'].count()\n",
    "    countstoretype = CountStoreType(storetype)\n",
    "    minstoretype = countstoretype[0]\n",
    "    maxstoretype = countstoretype[1]\n",
    "    if typecount < minstoretype:\n",
    "        print(f\"{bcolors.WARNING}{bcolors.BOLD} RERUN - Too few store type:\", storetype)\n",
    "        break\n",
    "    elif maxstoretype < typecount:\n",
    "        print(f\"{bcolors.WARNING}{bcolors.BOLD} RERUN - Too many store type:\", storetype)\n",
    "        break\n",
    "    else:\n",
    "        pass\n",
    "    \n",
    "    # Check if the total STORE NAMES VISITED PER WEEK are within the normal range\n",
    "for storename in dataframe['store_name']:\n",
    "    namecount = stores[stores['store_name']==storename]['store_name'].count()\n",
    "    countstorename = CountStoreName(storename)\n",
    "    minstorename = countstorename[0]\n",
    "    maxstorename = countstorename[1]\n",
    "    if namecount < minstorename:\n",
    "        print(f\"{bcolors.WARNING}{bcolors.BOLD} RERUN - Too few store name:\", storename)\n",
    "        break\n",
    "    elif maxstorename < namecount:\n",
    "        print(f\"{bcolors.WARNING}{bcolors.BOLD} RERUN - Too many store name:\", storename)\n",
    "        break\n",
    "    else:\n",
    "        pass"
   ]
  },
  {
   "cell_type": "code",
   "execution_count": null,
   "id": "1b40c1bd",
   "metadata": {},
   "outputs": [],
   "source": []
  },
  {
   "cell_type": "code",
   "execution_count": null,
   "id": "ddd700c1",
   "metadata": {},
   "outputs": [],
   "source": []
  },
  {
   "cell_type": "code",
   "execution_count": null,
   "id": "30dc6c7f",
   "metadata": {},
   "outputs": [],
   "source": []
  },
  {
   "cell_type": "markdown",
   "id": "375d9f71",
   "metadata": {},
   "source": [
    "## Define limits - amount per order"
   ]
  },
  {
   "cell_type": "code",
   "execution_count": null,
   "id": "991d31fa",
   "metadata": {},
   "outputs": [],
   "source": [
    "from AlgorithmAMOUNT_HH2 import DelhaizeAmount"
   ]
  },
  {
   "cell_type": "code",
   "execution_count": null,
   "id": "f243da8c",
   "metadata": {},
   "outputs": [],
   "source": [
    "Delhaize = DelhaizeAmount()\n",
    "Delhaize"
   ]
  },
  {
   "cell_type": "markdown",
   "id": "aabb1aa2",
   "metadata": {},
   "source": [
    "# The Grocery Lists"
   ]
  },
  {
   "cell_type": "code",
   "execution_count": null,
   "id": "1eb3ce2c",
   "metadata": {},
   "outputs": [],
   "source": [
    "df = pd.read_csv (r\"C:\\Users\\20204113\\OneDrive - TU Eindhoven\\2_Research\\1_Groceries\\DATA\\9th week - narrative (3rd attempt)\\HH2\\df\\df_HH2.csv\")"
   ]
  },
  {
   "cell_type": "code",
   "execution_count": null,
   "id": "bd133eb7",
   "metadata": {},
   "outputs": [],
   "source": [
    "df= df[df[\"day\"] == 'Friday']"
   ]
  },
  {
   "cell_type": "code",
   "execution_count": null,
   "id": "3decb38d",
   "metadata": {},
   "outputs": [],
   "source": [
    "df.sample(n=DelhaizeAmount())"
   ]
  }
 ],
 "metadata": {
  "kernelspec": {
   "display_name": "Python 3 (ipykernel)",
   "language": "python",
   "name": "python3"
  },
  "language_info": {
   "codemirror_mode": {
    "name": "ipython",
    "version": 3
   },
   "file_extension": ".py",
   "mimetype": "text/x-python",
   "name": "python",
   "nbconvert_exporter": "python",
   "pygments_lexer": "ipython3",
   "version": "3.9.7"
  },
  "widgets": {
   "application/vnd.jupyter.widget-state+json": {
    "state": {},
    "version_major": 2,
    "version_minor": 0
   }
  }
 },
 "nbformat": 4,
 "nbformat_minor": 5
}

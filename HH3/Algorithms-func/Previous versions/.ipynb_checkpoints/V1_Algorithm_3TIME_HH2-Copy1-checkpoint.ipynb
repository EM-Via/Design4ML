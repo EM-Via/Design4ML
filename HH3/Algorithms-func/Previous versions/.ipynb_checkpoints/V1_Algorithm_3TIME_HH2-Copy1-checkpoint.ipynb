{
 "cells": [
  {
   "cell_type": "markdown",
   "id": "2cce2977",
   "metadata": {},
   "source": [
    "## 3: THIRD ALGORITHM - AT WHAT TIME WILL THEY SHOP?\n",
    "\n",
    "Outcome (example):\n",
    "1. input: Monday,Tuesday...\n",
    "2. output: noon/morning/afternoon"
   ]
  },
  {
   "cell_type": "markdown",
   "id": "87a037df",
   "metadata": {},
   "source": [
    "### Import libraries "
   ]
  },
  {
   "cell_type": "code",
   "execution_count": 2,
   "id": "419cb39a",
   "metadata": {},
   "outputs": [],
   "source": [
    "# %matplotlib notebook\n",
    "%matplotlib inline\n",
    "#Pandas is a software library written for the Python programming language for data manipulation and analysis.\n",
    "import pandas as pd\n",
    "#NumPy is a library for the Python programming language, adding support for large, multi-dimensional arrays and matrices, along with a large collection of high-level mathematical functions to operate on these arrays\n",
    "import numpy as np\n",
    "# Matplotlib is a plotting library for python and pyplot gives us a MatLab like plotting framework. We will use this in our plotter function to plot data.\n",
    "import matplotlib.pyplot as plt\n",
    "#Seaborn is a Python data visualization library based on matplotlib. It provides a high-level interface for drawing attractive and informative statistical graphics\n",
    "import seaborn as sns\n",
    "import dataframe_image as dfi\n",
    "from datetime import time\n",
    "import matplotlib.dates as mdates\n",
    "from matplotlib.ticker import StrMethodFormatter\n",
    "from matplotlib.pyplot import figure"
   ]
  },
  {
   "cell_type": "markdown",
   "id": "f10011bb",
   "metadata": {},
   "source": [
    "### Load and view data "
   ]
  },
  {
   "cell_type": "code",
   "execution_count": 3,
   "id": "d7338672",
   "metadata": {},
   "outputs": [],
   "source": [
    "# data for HH\n",
    "df = pd.read_csv (r\"C:\\Users\\20204113\\OneDrive - TU Eindhoven\\2_Research\\1_Groceries\\DATA\\9th week - narrative (3rd attempt)\\HH2\\df\\df_HH2.csv\")"
   ]
  },
  {
   "cell_type": "code",
   "execution_count": 4,
   "id": "62dfd4de",
   "metadata": {},
   "outputs": [],
   "source": [
    "# data for different days vs stores\n",
    "df_Monday = pd.read_csv (r\"C:\\Users\\20204113\\OneDrive - TU Eindhoven\\2_Research\\1_Groceries\\DATA\\9th week - narrative (3rd attempt)\\HH2\\df\\df_HH2_MoTime.csv\")\n",
    "df_Tuesday = pd.read_csv (r\"C:\\Users\\20204113\\OneDrive - TU Eindhoven\\2_Research\\1_Groceries\\DATA\\9th week - narrative (3rd attempt)\\HH2\\df\\df_HH2_TuTime.csv\")\n",
    "df_Wednesday = pd.read_csv (r\"C:\\Users\\20204113\\OneDrive - TU Eindhoven\\2_Research\\1_Groceries\\DATA\\9th week - narrative (3rd attempt)\\HH2\\df\\df_HH2_WeTime.csv\")\n",
    "df_Thursday = pd.read_csv (r\"C:\\Users\\20204113\\OneDrive - TU Eindhoven\\2_Research\\1_Groceries\\DATA\\9th week - narrative (3rd attempt)\\HH2\\df\\df_HH2_ThTime.csv\")\n",
    "df_Friday = pd.read_csv (r\"C:\\Users\\20204113\\OneDrive - TU Eindhoven\\2_Research\\1_Groceries\\DATA\\9th week - narrative (3rd attempt)\\HH2\\df\\df_HH2_FrTime.csv\")\n",
    "df_Saturday = pd.read_csv (r\"C:\\Users\\20204113\\OneDrive - TU Eindhoven\\2_Research\\1_Groceries\\DATA\\9th week - narrative (3rd attempt)\\HH2\\df\\df_HH2_SaTime.csv\")\n",
    "df_Sunday = pd.read_csv (r\"C:\\Users\\20204113\\OneDrive - TU Eindhoven\\2_Research\\1_Groceries\\DATA\\9th week - narrative (3rd attempt)\\HH2\\df\\df_HH2_SuTime.csv\")"
   ]
  },
  {
   "cell_type": "markdown",
   "id": "d7a7ddde",
   "metadata": {},
   "source": [
    "# SELECT TIME"
   ]
  },
  {
   "cell_type": "code",
   "execution_count": 6,
   "id": "b2fd3c16",
   "metadata": {
    "scrolled": true
   },
   "outputs": [
    {
     "data": {
      "text/html": [
       "<div>\n",
       "<style scoped>\n",
       "    .dataframe tbody tr th:only-of-type {\n",
       "        vertical-align: middle;\n",
       "    }\n",
       "\n",
       "    .dataframe tbody tr th {\n",
       "        vertical-align: top;\n",
       "    }\n",
       "\n",
       "    .dataframe thead th {\n",
       "        text-align: right;\n",
       "    }\n",
       "</style>\n",
       "<table border=\"1\" class=\"dataframe\">\n",
       "  <thead>\n",
       "    <tr style=\"text-align: right;\">\n",
       "      <th></th>\n",
       "      <th>time</th>\n",
       "      <th>weight</th>\n",
       "    </tr>\n",
       "  </thead>\n",
       "  <tbody>\n",
       "    <tr>\n",
       "      <th>1</th>\n",
       "      <td>morning</td>\n",
       "      <td>2</td>\n",
       "    </tr>\n",
       "  </tbody>\n",
       "</table>\n",
       "</div>"
      ],
      "text/plain": [
       "      time  weight\n",
       "1  morning       2"
      ]
     },
     "execution_count": 6,
     "metadata": {},
     "output_type": "execute_result"
    }
   ],
   "source": [
    "#create random samples for this day based on the assigned weights\n",
    "df_Mondays = df_Monday.sample(n=1, weights='weight') \n",
    "df_Mondays"
   ]
  },
  {
   "cell_type": "code",
   "execution_count": 17,
   "id": "41a6caca",
   "metadata": {},
   "outputs": [
    {
     "data": {
      "text/html": [
       "<div>\n",
       "<style scoped>\n",
       "    .dataframe tbody tr th:only-of-type {\n",
       "        vertical-align: middle;\n",
       "    }\n",
       "\n",
       "    .dataframe tbody tr th {\n",
       "        vertical-align: top;\n",
       "    }\n",
       "\n",
       "    .dataframe thead th {\n",
       "        text-align: right;\n",
       "    }\n",
       "</style>\n",
       "<table border=\"1\" class=\"dataframe\">\n",
       "  <thead>\n",
       "    <tr style=\"text-align: right;\">\n",
       "      <th></th>\n",
       "      <th>time</th>\n",
       "      <th>weight</th>\n",
       "    </tr>\n",
       "  </thead>\n",
       "  <tbody>\n",
       "    <tr>\n",
       "      <th>0</th>\n",
       "      <td>afternoon</td>\n",
       "      <td>1</td>\n",
       "    </tr>\n",
       "  </tbody>\n",
       "</table>\n",
       "</div>"
      ],
      "text/plain": [
       "        time  weight\n",
       "0  afternoon       1"
      ]
     },
     "execution_count": 17,
     "metadata": {},
     "output_type": "execute_result"
    }
   ],
   "source": [
    "#create random samples for this day based on the assigned weights\n",
    "df_Tuesdays = df_Tuesday.sample(n=1, weights='weight')\n",
    "df_Tuesdays"
   ]
  },
  {
   "cell_type": "code",
   "execution_count": 20,
   "id": "c51c49e4",
   "metadata": {},
   "outputs": [
    {
     "data": {
      "text/html": [
       "<div>\n",
       "<style scoped>\n",
       "    .dataframe tbody tr th:only-of-type {\n",
       "        vertical-align: middle;\n",
       "    }\n",
       "\n",
       "    .dataframe tbody tr th {\n",
       "        vertical-align: top;\n",
       "    }\n",
       "\n",
       "    .dataframe thead th {\n",
       "        text-align: right;\n",
       "    }\n",
       "</style>\n",
       "<table border=\"1\" class=\"dataframe\">\n",
       "  <thead>\n",
       "    <tr style=\"text-align: right;\">\n",
       "      <th></th>\n",
       "      <th>time</th>\n",
       "      <th>weight</th>\n",
       "    </tr>\n",
       "  </thead>\n",
       "  <tbody>\n",
       "    <tr>\n",
       "      <th>0</th>\n",
       "      <td>morning</td>\n",
       "      <td>2</td>\n",
       "    </tr>\n",
       "  </tbody>\n",
       "</table>\n",
       "</div>"
      ],
      "text/plain": [
       "      time  weight\n",
       "0  morning       2"
      ]
     },
     "execution_count": 20,
     "metadata": {},
     "output_type": "execute_result"
    }
   ],
   "source": [
    "#create random samples for this day based on the assigned weights\n",
    "df_Wednesdays = df_Wednesday.sample(n=1, weights='weight')\n",
    "df_Wednesdays"
   ]
  },
  {
   "cell_type": "code",
   "execution_count": 32,
   "id": "28027650",
   "metadata": {},
   "outputs": [
    {
     "data": {
      "text/html": [
       "<div>\n",
       "<style scoped>\n",
       "    .dataframe tbody tr th:only-of-type {\n",
       "        vertical-align: middle;\n",
       "    }\n",
       "\n",
       "    .dataframe tbody tr th {\n",
       "        vertical-align: top;\n",
       "    }\n",
       "\n",
       "    .dataframe thead th {\n",
       "        text-align: right;\n",
       "    }\n",
       "</style>\n",
       "<table border=\"1\" class=\"dataframe\">\n",
       "  <thead>\n",
       "    <tr style=\"text-align: right;\">\n",
       "      <th></th>\n",
       "      <th>time</th>\n",
       "      <th>weight</th>\n",
       "    </tr>\n",
       "  </thead>\n",
       "  <tbody>\n",
       "    <tr>\n",
       "      <th>0</th>\n",
       "      <td>afternoon</td>\n",
       "      <td>3</td>\n",
       "    </tr>\n",
       "  </tbody>\n",
       "</table>\n",
       "</div>"
      ],
      "text/plain": [
       "        time  weight\n",
       "0  afternoon       3"
      ]
     },
     "execution_count": 32,
     "metadata": {},
     "output_type": "execute_result"
    }
   ],
   "source": [
    "#create random samples for this day based on the assigned weights\n",
    "df_Thursdays = df_Thursday.sample(n=1, weights='weight')\n",
    "df_Thursdays"
   ]
  },
  {
   "cell_type": "code",
   "execution_count": 26,
   "id": "da955bcb",
   "metadata": {},
   "outputs": [
    {
     "data": {
      "text/html": [
       "<div>\n",
       "<style scoped>\n",
       "    .dataframe tbody tr th:only-of-type {\n",
       "        vertical-align: middle;\n",
       "    }\n",
       "\n",
       "    .dataframe tbody tr th {\n",
       "        vertical-align: top;\n",
       "    }\n",
       "\n",
       "    .dataframe thead th {\n",
       "        text-align: right;\n",
       "    }\n",
       "</style>\n",
       "<table border=\"1\" class=\"dataframe\">\n",
       "  <thead>\n",
       "    <tr style=\"text-align: right;\">\n",
       "      <th></th>\n",
       "      <th>time</th>\n",
       "      <th>weight</th>\n",
       "    </tr>\n",
       "  </thead>\n",
       "  <tbody>\n",
       "    <tr>\n",
       "      <th>1</th>\n",
       "      <td>morning</td>\n",
       "      <td>1</td>\n",
       "    </tr>\n",
       "  </tbody>\n",
       "</table>\n",
       "</div>"
      ],
      "text/plain": [
       "      time  weight\n",
       "1  morning       1"
      ]
     },
     "execution_count": 26,
     "metadata": {},
     "output_type": "execute_result"
    }
   ],
   "source": [
    "#create random samples for this day based on the assigned weights\n",
    "df_Fridays = df_Friday.sample(n=1, weights='weight')\n",
    "df_Fridays"
   ]
  },
  {
   "cell_type": "code",
   "execution_count": 9,
   "id": "306eb283",
   "metadata": {},
   "outputs": [
    {
     "data": {
      "text/html": [
       "<div>\n",
       "<style scoped>\n",
       "    .dataframe tbody tr th:only-of-type {\n",
       "        vertical-align: middle;\n",
       "    }\n",
       "\n",
       "    .dataframe tbody tr th {\n",
       "        vertical-align: top;\n",
       "    }\n",
       "\n",
       "    .dataframe thead th {\n",
       "        text-align: right;\n",
       "    }\n",
       "</style>\n",
       "<table border=\"1\" class=\"dataframe\">\n",
       "  <thead>\n",
       "    <tr style=\"text-align: right;\">\n",
       "      <th></th>\n",
       "      <th>time</th>\n",
       "      <th>weight</th>\n",
       "    </tr>\n",
       "  </thead>\n",
       "  <tbody>\n",
       "    <tr>\n",
       "      <th>0</th>\n",
       "      <td>afternoon</td>\n",
       "      <td>2</td>\n",
       "    </tr>\n",
       "  </tbody>\n",
       "</table>\n",
       "</div>"
      ],
      "text/plain": [
       "        time  weight\n",
       "0  afternoon       2"
      ]
     },
     "execution_count": 9,
     "metadata": {},
     "output_type": "execute_result"
    }
   ],
   "source": [
    "#create random samples for this day based on the assigned weights\n",
    "df_Saturdays = df_Saturday.sample(n=1, weights='weight')\n",
    "df_Saturdays"
   ]
  },
  {
   "cell_type": "code",
   "execution_count": 10,
   "id": "fc1b1105",
   "metadata": {},
   "outputs": [
    {
     "data": {
      "text/html": [
       "<div>\n",
       "<style scoped>\n",
       "    .dataframe tbody tr th:only-of-type {\n",
       "        vertical-align: middle;\n",
       "    }\n",
       "\n",
       "    .dataframe tbody tr th {\n",
       "        vertical-align: top;\n",
       "    }\n",
       "\n",
       "    .dataframe thead th {\n",
       "        text-align: right;\n",
       "    }\n",
       "</style>\n",
       "<table border=\"1\" class=\"dataframe\">\n",
       "  <thead>\n",
       "    <tr style=\"text-align: right;\">\n",
       "      <th></th>\n",
       "      <th>time</th>\n",
       "      <th>weight</th>\n",
       "    </tr>\n",
       "  </thead>\n",
       "  <tbody>\n",
       "    <tr>\n",
       "      <th>0</th>\n",
       "      <td>morning</td>\n",
       "      <td>9</td>\n",
       "    </tr>\n",
       "  </tbody>\n",
       "</table>\n",
       "</div>"
      ],
      "text/plain": [
       "      time  weight\n",
       "0  morning       9"
      ]
     },
     "execution_count": 10,
     "metadata": {},
     "output_type": "execute_result"
    }
   ],
   "source": [
    "#create random samples for this day based on the assigned weights\n",
    "df_Sundays = df_Sunday.sample(n=1, weights='weight')\n",
    "df_Sundays"
   ]
  }
 ],
 "metadata": {
  "kernelspec": {
   "display_name": "Python 3 (ipykernel)",
   "language": "python",
   "name": "python3"
  },
  "language_info": {
   "codemirror_mode": {
    "name": "ipython",
    "version": 3
   },
   "file_extension": ".py",
   "mimetype": "text/x-python",
   "name": "python",
   "nbconvert_exporter": "python",
   "pygments_lexer": "ipython3",
   "version": "3.9.7"
  },
  "widgets": {
   "application/vnd.jupyter.widget-state+json": {
    "state": {},
    "version_major": 2,
    "version_minor": 0
   }
  }
 },
 "nbformat": 4,
 "nbformat_minor": 5
}

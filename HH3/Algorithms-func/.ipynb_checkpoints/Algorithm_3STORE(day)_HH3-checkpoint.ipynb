{
 "cells": [
  {
   "cell_type": "markdown",
   "id": "2cce2977",
   "metadata": {},
   "source": [
    "## 2: SECOND ALGORITHM - WHERE WILL THEY SHOP?\n",
    "\n",
    "Outcome (example):\n",
    "1. input: Monday,Tuesday...\n",
    "2. output: store name X,Y..."
   ]
  },
  {
   "cell_type": "markdown",
   "id": "87a037df",
   "metadata": {},
   "source": [
    "### Import libraries "
   ]
  },
  {
   "cell_type": "code",
   "execution_count": 8,
   "id": "419cb39a",
   "metadata": {},
   "outputs": [],
   "source": [
    "%matplotlib inline\n",
    "import pandas as pd\n",
    "import numpy as np\n",
    "from random import sample\n",
    "import random\n",
    "class bcolors:\n",
    "    WARNING = '\\033[91m'\n",
    "    BOLD = '\\033[1m'"
   ]
  },
  {
   "cell_type": "markdown",
   "id": "f10011bb",
   "metadata": {},
   "source": [
    "### Load and view data "
   ]
  },
  {
   "cell_type": "code",
   "execution_count": 9,
   "id": "d7338672",
   "metadata": {},
   "outputs": [],
   "source": [
    "# data for HH\n",
    "dataframe = pd.read_csv (r\"C:\\Users\\20204113\\OneDrive - TU Eindhoven\\2_Research\\1_Groceries\\DATA\\9th week - narrative (3rd attempt)\\HH3\\df\\df_HH3.csv\")\n",
    "df = pd.read_csv (r\"C:\\Users\\20204113\\OneDrive - TU Eindhoven\\2_Research\\1_Groceries\\DATA\\9th week - narrative (3rd attempt)\\HH3\\df\\df_HH3.csv\")"
   ]
  },
  {
   "cell_type": "code",
   "execution_count": 10,
   "id": "62dfd4de",
   "metadata": {},
   "outputs": [],
   "source": [
    "# data for different days vs stores\n",
    "df_Monday = pd.read_csv (r\"C:\\Users\\20204113\\OneDrive - TU Eindhoven\\2_Research\\1_Groceries\\DATA\\9th week - narrative (3rd attempt)\\HH3\\df\\df_HH3_Mo.csv\")\n",
    "df_Tuesday = pd.read_csv (r\"C:\\Users\\20204113\\OneDrive - TU Eindhoven\\2_Research\\1_Groceries\\DATA\\9th week - narrative (3rd attempt)\\HH3\\df\\df_HH3_Tu.csv\")\n",
    "df_Wednesday = pd.read_csv (r\"C:\\Users\\20204113\\OneDrive - TU Eindhoven\\2_Research\\1_Groceries\\DATA\\9th week - narrative (3rd attempt)\\HH3\\df\\df_HH3_We.csv\")\n",
    "df_Thursday = pd.read_csv (r\"C:\\Users\\20204113\\OneDrive - TU Eindhoven\\2_Research\\1_Groceries\\DATA\\9th week - narrative (3rd attempt)\\HH3\\df\\df_HH3_Th.csv\")\n",
    "df_Friday = pd.read_csv (r\"C:\\Users\\20204113\\OneDrive - TU Eindhoven\\2_Research\\1_Groceries\\DATA\\9th week - narrative (3rd attempt)\\HH3\\df\\df_HH3_Fr.csv\")\n",
    "df_Saturday = pd.read_csv (r\"C:\\Users\\20204113\\OneDrive - TU Eindhoven\\2_Research\\1_Groceries\\DATA\\9th week - narrative (3rd attempt)\\HH3\\df\\df_HH3_Sa.csv\")\n",
    "df_Sunday = pd.read_csv (r\"C:\\Users\\20204113\\OneDrive - TU Eindhoven\\2_Research\\1_Groceries\\DATA\\9th week - narrative (3rd attempt)\\HH3\\df\\df_HH3_Su.csv\")"
   ]
  },
  {
   "cell_type": "code",
   "execution_count": 11,
   "id": "8519b917",
   "metadata": {},
   "outputs": [],
   "source": [
    "    # Function to generate #visits per day of the week\n",
    "from AlgorithmDAYS_HH3 import weekdays, dayofweek\n",
    "\n",
    "    #Function to define the limits for total visits, days, same store and type per week\n",
    "from AlgorithmCOUNTS_HH3 import CountTotalVisits, CountTotalDays, CountStoreName, CountTimePerDay, CountStoreType, CountTotalPerday, CountVisitsPerDay, CountTimingPerDay\n",
    "    \n",
    "    # Function to generate #visits per time\n",
    "from AlgorithmTIMES_HH3 import Monday, Tuesday, Wednesday, Thursday, Friday, Sunday, timeperday\n",
    "\n",
    "    # Function to decide amounts per visit & per week\n",
    "# from AlgorithmAMOUNT_HH3 import StoreAmount, WeekAmount, StoreCount, WeekCount"
   ]
  },
  {
   "cell_type": "code",
   "execution_count": 12,
   "id": "7dd36dd2",
   "metadata": {},
   "outputs": [
    {
     "data": {
      "text/html": [
       "<div>\n",
       "<style scoped>\n",
       "    .dataframe tbody tr th:only-of-type {\n",
       "        vertical-align: middle;\n",
       "    }\n",
       "\n",
       "    .dataframe tbody tr th {\n",
       "        vertical-align: top;\n",
       "    }\n",
       "\n",
       "    .dataframe thead th {\n",
       "        text-align: right;\n",
       "    }\n",
       "</style>\n",
       "<table border=\"1\" class=\"dataframe\">\n",
       "  <thead>\n",
       "    <tr style=\"text-align: right;\">\n",
       "      <th></th>\n",
       "      <th>store_name</th>\n",
       "      <th>store_type</th>\n",
       "      <th>day</th>\n",
       "      <th>weight</th>\n",
       "    </tr>\n",
       "  </thead>\n",
       "  <tbody>\n",
       "    <tr>\n",
       "      <th>0</th>\n",
       "      <td>Vanessa</td>\n",
       "      <td>bakery</td>\n",
       "      <td>Sunday</td>\n",
       "      <td>3</td>\n",
       "    </tr>\n",
       "    <tr>\n",
       "      <th>1</th>\n",
       "      <td>Wouters</td>\n",
       "      <td>bakery</td>\n",
       "      <td>Sunday</td>\n",
       "      <td>1</td>\n",
       "    </tr>\n",
       "  </tbody>\n",
       "</table>\n",
       "</div>"
      ],
      "text/plain": [
       "  store_name store_type     day  weight\n",
       "0    Vanessa     bakery  Sunday       3\n",
       "1    Wouters     bakery  Sunday       1"
      ]
     },
     "execution_count": 12,
     "metadata": {},
     "output_type": "execute_result"
    }
   ],
   "source": [
    "df_Sunday"
   ]
  },
  {
   "cell_type": "markdown",
   "id": "d7a7ddde",
   "metadata": {},
   "source": [
    "# 1. SELECT STORE NAME"
   ]
  },
  {
   "cell_type": "code",
   "execution_count": 13,
   "id": "c1d12ddc",
   "metadata": {},
   "outputs": [],
   "source": [
    "#create random samples for this day based on the assigned weights\n",
    "def MondayStore(n):\n",
    "    df_Mondays = df_Monday.sample(n=n, weights='weight', replace=True) \n",
    "    df_Mondays = df_Mondays.assign(day='Monday')\n",
    "    del df_Mondays['weight']\n",
    "    return df_Mondays\n",
    "\n",
    "#create random samples for this day based on the assigned weights\n",
    "def TuesdayStore(n):\n",
    "    df_Tuesdays = df_Tuesday.sample(n=n, weights='weight', replace=True) \n",
    "    df_Tuesdays = df_Tuesdays.assign(day='Tuesday')\n",
    "    del df_Tuesdays['weight']\n",
    "    return df_Tuesdays\n",
    "\n",
    "#create random samples for this day based on the assigned weights\n",
    "def WednesdayStore(n):\n",
    "    df_Wednesdays = df_Wednesday.sample(n=n, weights='weight', replace=True) \n",
    "    df_Wednesdays = df_Wednesdays.assign(day='Wednesday')\n",
    "    del df_Wednesdays['weight']\n",
    "    return df_Wednesdays\n",
    "\n",
    "#create random samples for this day based on the assigned weights\n",
    "def ThursdayStore(n):\n",
    "    df_Thursdays = df_Thursday.sample(n=n, weights='weight', replace=True) \n",
    "    df_Thursdays = df_Thursdays.assign(day='Thursday')\n",
    "    del df_Thursdays['weight']\n",
    "    return df_Thursdays\n",
    "\n",
    "#create random samples for this day based on the assigned weights\n",
    "def FridayStore(n):\n",
    "    df_Fridays = df_Friday.sample(n=n, weights='weight', replace=True) \n",
    "    df_Fridays = df_Fridays.assign(day='Friday')\n",
    "    del df_Fridays['weight']\n",
    "    return df_Fridays\n",
    "\n",
    "#create random samples for this day based on the assigned weights\n",
    "def SundayStore(n):\n",
    "    df_Sundays = df_Sunday.sample(n=n, weights='weight', replace=True) \n",
    "    df_Sundays = df_Sundays.assign(day='Sunday')\n",
    "    del df_Sundays['weight']\n",
    "    return df_Sundays"
   ]
  },
  {
   "cell_type": "markdown",
   "id": "5ff0a502",
   "metadata": {},
   "source": [
    "# New function for store per day, time"
   ]
  },
  {
   "cell_type": "code",
   "execution_count": 34,
   "id": "a2307b1f",
   "metadata": {},
   "outputs": [],
   "source": [
    " # New function for store per day\n",
    "def storeperday(dataframes, dataframes2):\n",
    "    restart = True\n",
    "\n",
    "    while restart:\n",
    "        \n",
    "        ### 2. What STORE?\n",
    "        # identify counts for visits per weekday\n",
    "        mo = int(dataframes[\"times\"].values[0])\n",
    "        tu = int(dataframes[\"times\"].values[1])\n",
    "        we = int (dataframes[\"times\"].values[2])\n",
    "        th = int (dataframes[\"times\"].values[3])\n",
    "        fr = int (dataframes[\"times\"].values[4])\n",
    "        sa = int (dataframes[\"times\"].values[5])\n",
    "        su = int (dataframes[\"times\"].values[6])\n",
    "\n",
    "        # Generate store names for the [previously identified] shopping dags + corresponding store type\n",
    "        df3 = [MondayStore(mo), TuesdayStore(tu), WednesdayStore(we), ThursdayStore(th), FridayStore(fr), SundayStore(su)]\n",
    "        # create one df for all visited stores + day of the week\n",
    "        df3 = pd.concat(df3)\n",
    "        stores = pd.merge(df3, dataframes2, how=\"left\", on=\"day\")\n",
    "\n",
    "\n",
    "        ### CHECKPOINT: range for visits/week and days/week\n",
    "\n",
    "        # Check if the total STORE TYPES VISITED PER WEEK are within the normal range\n",
    "        for storetype in stores['store_type']:\n",
    "            typecount = stores[stores['store_type']==storetype]['store_type'].count()\n",
    "            countstoretype = CountStoreType(storetype)\n",
    "            minstoretype = countstoretype[0]\n",
    "            maxstoretype = countstoretype[1]\n",
    "            if minstoretype <= typecount <= maxstoretype:\n",
    "                pass\n",
    "            else:\n",
    "                print(f\"{bcolors.WARNING}{bcolors.BOLD} RERUN - Too few/many store type:\", storetype)\n",
    "                restart = True\n",
    "                break\n",
    "\n",
    "        # Check if the total STORE NAMES VISITED PER WEEK are within the normal range\n",
    "        for storename in stores['store_name']:\n",
    "            namecount = stores[stores['store_name']==storename]['store_name'].count()\n",
    "            countstorename = CountStoreName(storename)\n",
    "            minstorename = countstorename[0]\n",
    "            maxstorename = countstorename[1]\n",
    "            if minstorename <= namecount <= maxstorename:\n",
    "                restart = False\n",
    "                return stores\n",
    "                break\n",
    "            else:\n",
    "                print(f\"{bcolors.WARNING}{bcolors.BOLD} RERUN - Too few/many store name:\", storename)\n",
    "                restart = True\n",
    "                break"
   ]
  },
  {
   "cell_type": "code",
   "execution_count": 54,
   "id": "e93eac9d",
   "metadata": {},
   "outputs": [
    {
     "name": "stdout",
     "output_type": "stream",
     "text": [
      "\u001b[91m\u001b[1m RERUN - Too few/many times per day\n",
      "\u001b[91m\u001b[1m RERUN - Too few/many times per day\n"
     ]
    },
    {
     "data": {
      "text/html": [
       "<div>\n",
       "<style scoped>\n",
       "    .dataframe tbody tr th:only-of-type {\n",
       "        vertical-align: middle;\n",
       "    }\n",
       "\n",
       "    .dataframe tbody tr th {\n",
       "        vertical-align: top;\n",
       "    }\n",
       "\n",
       "    .dataframe thead th {\n",
       "        text-align: right;\n",
       "    }\n",
       "</style>\n",
       "<table border=\"1\" class=\"dataframe\">\n",
       "  <thead>\n",
       "    <tr style=\"text-align: right;\">\n",
       "      <th></th>\n",
       "      <th>time</th>\n",
       "      <th>day</th>\n",
       "    </tr>\n",
       "  </thead>\n",
       "  <tbody>\n",
       "    <tr>\n",
       "      <th>1</th>\n",
       "      <td>evening</td>\n",
       "      <td>Monday</td>\n",
       "    </tr>\n",
       "    <tr>\n",
       "      <th>0</th>\n",
       "      <td>afternoon</td>\n",
       "      <td>Wednesday</td>\n",
       "    </tr>\n",
       "    <tr>\n",
       "      <th>0</th>\n",
       "      <td>afternoon</td>\n",
       "      <td>Thursday</td>\n",
       "    </tr>\n",
       "    <tr>\n",
       "      <th>0</th>\n",
       "      <td>noon</td>\n",
       "      <td>Sunday</td>\n",
       "    </tr>\n",
       "  </tbody>\n",
       "</table>\n",
       "</div>"
      ],
      "text/plain": [
       "        time        day\n",
       "1    evening     Monday\n",
       "0  afternoon  Wednesday\n",
       "0  afternoon   Thursday\n",
       "0       noon     Sunday"
      ]
     },
     "execution_count": 54,
     "metadata": {},
     "output_type": "execute_result"
    }
   ],
   "source": [
    "df1 = dayofweek()\n",
    "\n",
    "df2 = timeperday(df1)\n",
    "df2"
   ]
  },
  {
   "cell_type": "code",
   "execution_count": 57,
   "id": "0f587323",
   "metadata": {},
   "outputs": [
    {
     "name": "stdout",
     "output_type": "stream",
     "text": [
      "\u001b[91m\u001b[1m RERUN - Too few/many store type: supermarket\n",
      "\u001b[91m\u001b[1m RERUN - Too few/many store name: Colruyt\n",
      "\u001b[91m\u001b[1m RERUN - Too few/many store type: supermarket\n",
      "\u001b[91m\u001b[1m RERUN - Too few/many store name: Colruyt\n",
      "\u001b[91m\u001b[1m RERUN - Too few/many store name: Colruyt\n",
      "\u001b[91m\u001b[1m RERUN - Too few/many store type: supermarket\n",
      "\u001b[91m\u001b[1m RERUN - Too few/many store name: Colruyt\n",
      "\u001b[91m\u001b[1m RERUN - Too few/many store type: supermarket\n"
     ]
    },
    {
     "data": {
      "text/html": [
       "<div>\n",
       "<style scoped>\n",
       "    .dataframe tbody tr th:only-of-type {\n",
       "        vertical-align: middle;\n",
       "    }\n",
       "\n",
       "    .dataframe tbody tr th {\n",
       "        vertical-align: top;\n",
       "    }\n",
       "\n",
       "    .dataframe thead th {\n",
       "        text-align: right;\n",
       "    }\n",
       "</style>\n",
       "<table border=\"1\" class=\"dataframe\">\n",
       "  <thead>\n",
       "    <tr style=\"text-align: right;\">\n",
       "      <th></th>\n",
       "      <th>store_name</th>\n",
       "      <th>store_type</th>\n",
       "      <th>day</th>\n",
       "      <th>time</th>\n",
       "    </tr>\n",
       "  </thead>\n",
       "  <tbody>\n",
       "    <tr>\n",
       "      <th>0</th>\n",
       "      <td>Aldi</td>\n",
       "      <td>supermarket</td>\n",
       "      <td>Monday</td>\n",
       "      <td>evening</td>\n",
       "    </tr>\n",
       "    <tr>\n",
       "      <th>1</th>\n",
       "      <td>Colruyt</td>\n",
       "      <td>supermarket</td>\n",
       "      <td>Wednesday</td>\n",
       "      <td>afternoon</td>\n",
       "    </tr>\n",
       "    <tr>\n",
       "      <th>2</th>\n",
       "      <td>Delhaize</td>\n",
       "      <td>supermarket</td>\n",
       "      <td>Thursday</td>\n",
       "      <td>afternoon</td>\n",
       "    </tr>\n",
       "    <tr>\n",
       "      <th>3</th>\n",
       "      <td>Vanessa</td>\n",
       "      <td>bakery</td>\n",
       "      <td>Sunday</td>\n",
       "      <td>noon</td>\n",
       "    </tr>\n",
       "  </tbody>\n",
       "</table>\n",
       "</div>"
      ],
      "text/plain": [
       "  store_name   store_type        day       time\n",
       "0       Aldi  supermarket     Monday    evening\n",
       "1    Colruyt  supermarket  Wednesday  afternoon\n",
       "2   Delhaize  supermarket   Thursday  afternoon\n",
       "3    Vanessa       bakery     Sunday       noon"
      ]
     },
     "execution_count": 57,
     "metadata": {},
     "output_type": "execute_result"
    }
   ],
   "source": [
    "df3 = storeperday(df1,df2)\n",
    "df3"
   ]
  }
 ],
 "metadata": {
  "kernelspec": {
   "display_name": "Python 3 (ipykernel)",
   "language": "python",
   "name": "python3"
  },
  "language_info": {
   "codemirror_mode": {
    "name": "ipython",
    "version": 3
   },
   "file_extension": ".py",
   "mimetype": "text/x-python",
   "name": "python",
   "nbconvert_exporter": "python",
   "pygments_lexer": "ipython3",
   "version": "3.9.7"
  },
  "widgets": {
   "application/vnd.jupyter.widget-state+json": {
    "state": {},
    "version_major": 2,
    "version_minor": 0
   }
  }
 },
 "nbformat": 4,
 "nbformat_minor": 5
}

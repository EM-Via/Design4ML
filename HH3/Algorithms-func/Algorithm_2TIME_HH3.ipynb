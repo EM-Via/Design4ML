{
 "cells": [
  {
   "cell_type": "markdown",
   "id": "2cce2977",
   "metadata": {},
   "source": [
    "## 3: THIRD ALGORITHM - AT WHAT TIME WILL THEY SHOP?\n",
    "\n",
    "Outcome (example):\n",
    "1. input: Monday,Tuesday...\n",
    "2. output: noon/morning/afternoon"
   ]
  },
  {
   "cell_type": "markdown",
   "id": "87a037df",
   "metadata": {},
   "source": [
    "### Import libraries "
   ]
  },
  {
   "cell_type": "code",
   "execution_count": 1,
   "id": "419cb39a",
   "metadata": {},
   "outputs": [],
   "source": [
    "# %matplotlib notebook\n",
    "%matplotlib inline\n",
    "#Pandas is a software library written for the Python programming language for data manipulation and analysis.\n",
    "import pandas as pd\n",
    "#NumPy is a library for the Python programming language, adding support for large, multi-dimensional arrays and matrices, along with a large collection of high-level mathematical functions to operate on these arrays\n",
    "import numpy as np\n",
    "# Matplotlib is a plotting library for python and pyplot gives us a MatLab like plotting framework. We will use this in our plotter function to plot data.\n",
    "import matplotlib.pyplot as plt\n",
    "#Seaborn is a Python data visualization library based on matplotlib. It provides a high-level interface for drawing attractive and informative statistical graphics\n",
    "import seaborn as sns\n",
    "import dataframe_image as dfi\n",
    "from datetime import time\n",
    "import matplotlib.dates as mdates\n",
    "from matplotlib.ticker import StrMethodFormatter\n",
    "from matplotlib.pyplot import figure\n",
    "import random\n",
    "class bcolors:\n",
    "    WARNING = '\\033[91m'\n",
    "    BOLD = '\\033[1m'"
   ]
  },
  {
   "cell_type": "markdown",
   "id": "f10011bb",
   "metadata": {},
   "source": [
    "### Load and view data "
   ]
  },
  {
   "cell_type": "code",
   "execution_count": 2,
   "id": "d7338672",
   "metadata": {},
   "outputs": [],
   "source": [
    "# data for HH\n",
    "df = pd.read_csv (r\"C:\\Users\\20204113\\OneDrive - TU Eindhoven\\2_Research\\1_Groceries\\DATA\\9th week - narrative (3rd attempt)\\HH3\\df\\df_HH3.csv\")\n",
    "dataframe = pd.read_csv (r\"C:\\Users\\20204113\\OneDrive - TU Eindhoven\\2_Research\\1_Groceries\\DATA\\9th week - narrative (3rd attempt)\\HH3\\df\\df_HH3.csv\")\n",
    "\n",
    "# data for different days vs stores\n",
    "df_Mondays = pd.read_csv (r\"C:\\Users\\20204113\\OneDrive - TU Eindhoven\\2_Research\\1_Groceries\\DATA\\9th week - narrative (3rd attempt)\\HH3\\df\\df_HH3_MoTime.csv\")\n",
    "df_Tuesdays = pd.read_csv (r\"C:\\Users\\20204113\\OneDrive - TU Eindhoven\\2_Research\\1_Groceries\\DATA\\9th week - narrative (3rd attempt)\\HH3\\df\\df_HH3_TuTime.csv\")\n",
    "df_Wednesdays = pd.read_csv (r\"C:\\Users\\20204113\\OneDrive - TU Eindhoven\\2_Research\\1_Groceries\\DATA\\9th week - narrative (3rd attempt)\\HH3\\df\\df_HH3_WeTime.csv\")\n",
    "df_Thursdays = pd.read_csv (r\"C:\\Users\\20204113\\OneDrive - TU Eindhoven\\2_Research\\1_Groceries\\DATA\\9th week - narrative (3rd attempt)\\HH3\\df\\df_HH3_ThTime.csv\")\n",
    "df_Fridays = pd.read_csv (r\"C:\\Users\\20204113\\OneDrive - TU Eindhoven\\2_Research\\1_Groceries\\DATA\\9th week - narrative (3rd attempt)\\HH3\\df\\df_HH3_FrTime.csv\")\n",
    "df_Saturdays = pd.read_csv (r\"C:\\Users\\20204113\\OneDrive - TU Eindhoven\\2_Research\\1_Groceries\\DATA\\9th week - narrative (3rd attempt)\\HH3\\df\\df_HH3_SaTime.csv\")\n",
    "df_Sundays = pd.read_csv (r\"C:\\Users\\20204113\\OneDrive - TU Eindhoven\\2_Research\\1_Groceries\\DATA\\9th week - narrative (3rd attempt)\\HH3\\df\\df_HH3_SuTime.csv\")"
   ]
  },
  {
   "cell_type": "code",
   "execution_count": 3,
   "id": "7278ac21",
   "metadata": {},
   "outputs": [],
   "source": [
    "    # Function to generate #visits per day of the week\n",
    "from AlgorithmDAYS_HH3 import weekdays, dayofweek\n",
    "\n",
    "    #Function to define the limits for total visits, days, same store and type per week\n",
    "from AlgorithmCOUNTS_HH3 import CountTotalVisits, CountTotalDays, CountStoreName, CountTimePerDay, CountStoreType, CountTotalPerday, CountVisitsPerDay, CountTimingPerDay"
   ]
  },
  {
   "cell_type": "markdown",
   "id": "ac5adb52",
   "metadata": {},
   "source": [
    "# SELECT TIME"
   ]
  },
  {
   "cell_type": "code",
   "execution_count": 4,
   "id": "d0f1e14f",
   "metadata": {},
   "outputs": [],
   "source": [
    "#create random samples for this day based on the assigned weights\n",
    "def Monday(n):\n",
    "    df_Monday = df_Mondays.sample(n=n, weights='weight', replace=True) \n",
    "    df_Monday = df_Monday.assign(day='Monday')\n",
    "    del df_Monday['weight']\n",
    "    return df_Monday\n",
    "\n",
    "#create random samples for this day based on the assigned weights\n",
    "def Tuesday(n):\n",
    "    df_Tuesday = df_Tuesdays.sample(n=n, weights='weight', replace=True) \n",
    "    df_Tuesday = df_Tuesday.assign(day='Tuesday')\n",
    "    del df_Tuesday['weight']\n",
    "    return df_Tuesday\n",
    "\n",
    "#create random samples for this day based on the assigned weights\n",
    "def Wednesday(n):\n",
    "    df_Wednesday = df_Wednesdays.sample(n=n, weights='weight', replace=True) \n",
    "    df_Wednesday = df_Wednesday.assign(day='Wednesday')\n",
    "    del df_Wednesday['weight']\n",
    "    return df_Wednesday\n",
    "\n",
    "#create random samples for this day based on the assigned weights\n",
    "def Thursday(n):\n",
    "    df_Thursday = df_Thursdays.sample(n=n, weights='weight', replace=True) \n",
    "    df_Thursday = df_Thursday.assign(day='Thursday')\n",
    "    del df_Thursday['weight']\n",
    "    return df_Thursday\n",
    "\n",
    "#create random samples for this day based on the assigned weights\n",
    "def Friday(n):\n",
    "    df_Friday = df_Fridays.sample(n=n, weights='weight', replace=True) \n",
    "    df_Friday = df_Friday.assign(day='Friday')\n",
    "    del df_Friday['weight']\n",
    "    return df_Friday\n",
    "\n",
    "# #create random samples for this day based on the assigned weights\n",
    "# def Saturday(n):\n",
    "#     df_Saturday = df_Saturdays.sample(n=n, weights='weight', replace=True) \n",
    "#     df_Saturday = df_Saturday.assign(day='Saturday')\n",
    "#     del df_Saturday['weight']\n",
    "#     return df_Saturday\n",
    "\n",
    "#create random samples for this day based on the assigned weights\n",
    "def Sunday(n):\n",
    "    df_Sunday = df_Sundays.sample(n=n, weights='weight', replace=True) \n",
    "    df_Sunday = df_Sunday.assign(day='Sunday')\n",
    "    del df_Sunday['weight']\n",
    "    return df_Sunday"
   ]
  },
  {
   "cell_type": "markdown",
   "id": "7e956373",
   "metadata": {},
   "source": [
    "# New function for time per day"
   ]
  },
  {
   "cell_type": "code",
   "execution_count": 13,
   "id": "ac8c96b5",
   "metadata": {},
   "outputs": [
    {
     "data": {
      "text/html": [
       "<div>\n",
       "<style scoped>\n",
       "    .dataframe tbody tr th:only-of-type {\n",
       "        vertical-align: middle;\n",
       "    }\n",
       "\n",
       "    .dataframe tbody tr th {\n",
       "        vertical-align: top;\n",
       "    }\n",
       "\n",
       "    .dataframe thead th {\n",
       "        text-align: right;\n",
       "    }\n",
       "</style>\n",
       "<table border=\"1\" class=\"dataframe\">\n",
       "  <thead>\n",
       "    <tr style=\"text-align: right;\">\n",
       "      <th></th>\n",
       "      <th>times</th>\n",
       "      <th>day</th>\n",
       "    </tr>\n",
       "  </thead>\n",
       "  <tbody>\n",
       "    <tr>\n",
       "      <th>0</th>\n",
       "      <td>0</td>\n",
       "      <td>Monday</td>\n",
       "    </tr>\n",
       "    <tr>\n",
       "      <th>2</th>\n",
       "      <td>2</td>\n",
       "      <td>Tuesday</td>\n",
       "    </tr>\n",
       "    <tr>\n",
       "      <th>1</th>\n",
       "      <td>1</td>\n",
       "      <td>Wednesday</td>\n",
       "    </tr>\n",
       "    <tr>\n",
       "      <th>0</th>\n",
       "      <td>0</td>\n",
       "      <td>Thursday</td>\n",
       "    </tr>\n",
       "    <tr>\n",
       "      <th>1</th>\n",
       "      <td>0</td>\n",
       "      <td>Friday</td>\n",
       "    </tr>\n",
       "    <tr>\n",
       "      <th>0</th>\n",
       "      <td>0</td>\n",
       "      <td>Saturday</td>\n",
       "    </tr>\n",
       "    <tr>\n",
       "      <th>0</th>\n",
       "      <td>1</td>\n",
       "      <td>Sunday</td>\n",
       "    </tr>\n",
       "  </tbody>\n",
       "</table>\n",
       "</div>"
      ],
      "text/plain": [
       "   times        day\n",
       "0      0     Monday\n",
       "2      2    Tuesday\n",
       "1      1  Wednesday\n",
       "0      0   Thursday\n",
       "1      0     Friday\n",
       "0      0   Saturday\n",
       "0      1     Sunday"
      ]
     },
     "execution_count": 13,
     "metadata": {},
     "output_type": "execute_result"
    }
   ],
   "source": [
    "# df1 = dayofweek()\n",
    "# df1"
   ]
  },
  {
   "cell_type": "code",
   "execution_count": 14,
   "id": "3ae12d8e",
   "metadata": {},
   "outputs": [],
   "source": [
    "def timeperday(dataframes):\n",
    "    restart = True\n",
    "\n",
    "    while restart:\n",
    "\n",
    "        ### 2. What STORE?\n",
    "        # identify counts for visits per weekday\n",
    "        mo = int(dataframes[\"times\"].values[0])\n",
    "        tu = int(dataframes[\"times\"].values[1])\n",
    "        we = int (dataframes[\"times\"].values[2])\n",
    "        th = int (dataframes[\"times\"].values[3])\n",
    "        fr = int (dataframes[\"times\"].values[4])\n",
    "        sa = int (dataframes[\"times\"].values[5])\n",
    "        su = int (dataframes[\"times\"].values[6])\n",
    "        \n",
    "        # Generate store names for the [previously identified] shopping dags + corresponding store type\n",
    "        times = [Monday(mo), Tuesday(tu), Wednesday(we), Thursday(th), Friday(fr), Sunday(su)]\n",
    "        # create one df for all visited stores + day of the week\n",
    "        times = pd.concat(times)\n",
    "\n",
    "\n",
    "        ### CHECKPOINT: range for visits/week and days/week\n",
    "\n",
    "        # Check if the total STORE TYPES VISITED PER WEEK are within the normal range\n",
    "        timecount = times[['time', 'day']]\n",
    "        timecount = timecount.to_numpy()\n",
    "\n",
    "        for timing, days in timecount:\n",
    "            timeecount = times[times['time']==timing]['time'].count()\n",
    "            counttimesperday = CountTimingPerDay(timing)\n",
    "            mindaytimes = counttimesperday[0]\n",
    "            maxdaytimes = counttimesperday[1]\n",
    "            if mindaytimes <= timeecount <= maxdaytimes:\n",
    "                restart = False\n",
    "                return times\n",
    "                break\n",
    "            else:\n",
    "                print(f\"{bcolors.WARNING}{bcolors.BOLD} RERUN - Too few/many times per day\")\n",
    "                restart = True\n",
    "                break"
   ]
  },
  {
   "cell_type": "code",
   "execution_count": 54,
   "id": "580ffd45",
   "metadata": {},
   "outputs": [
    {
     "name": "stdout",
     "output_type": "stream",
     "text": [
      "\u001b[91m\u001b[1m RERUN - Too few/many times per day\n",
      "\u001b[91m\u001b[1m RERUN - Too few/many times per day\n"
     ]
    },
    {
     "data": {
      "text/html": [
       "<div>\n",
       "<style scoped>\n",
       "    .dataframe tbody tr th:only-of-type {\n",
       "        vertical-align: middle;\n",
       "    }\n",
       "\n",
       "    .dataframe tbody tr th {\n",
       "        vertical-align: top;\n",
       "    }\n",
       "\n",
       "    .dataframe thead th {\n",
       "        text-align: right;\n",
       "    }\n",
       "</style>\n",
       "<table border=\"1\" class=\"dataframe\">\n",
       "  <thead>\n",
       "    <tr style=\"text-align: right;\">\n",
       "      <th></th>\n",
       "      <th>time</th>\n",
       "      <th>day</th>\n",
       "    </tr>\n",
       "  </thead>\n",
       "  <tbody>\n",
       "    <tr>\n",
       "      <th>0</th>\n",
       "      <td>afternoon</td>\n",
       "      <td>Tuesday</td>\n",
       "    </tr>\n",
       "    <tr>\n",
       "      <th>2</th>\n",
       "      <td>noon</td>\n",
       "      <td>Tuesday</td>\n",
       "    </tr>\n",
       "    <tr>\n",
       "      <th>1</th>\n",
       "      <td>evening</td>\n",
       "      <td>Wednesday</td>\n",
       "    </tr>\n",
       "    <tr>\n",
       "      <th>0</th>\n",
       "      <td>noon</td>\n",
       "      <td>Sunday</td>\n",
       "    </tr>\n",
       "  </tbody>\n",
       "</table>\n",
       "</div>"
      ],
      "text/plain": [
       "        time        day\n",
       "0  afternoon    Tuesday\n",
       "2       noon    Tuesday\n",
       "1    evening  Wednesday\n",
       "0       noon     Sunday"
      ]
     },
     "execution_count": 54,
     "metadata": {},
     "output_type": "execute_result"
    }
   ],
   "source": [
    "timeperday(df1)"
   ]
  }
 ],
 "metadata": {
  "kernelspec": {
   "display_name": "Python 3 (ipykernel)",
   "language": "python",
   "name": "python3"
  },
  "language_info": {
   "codemirror_mode": {
    "name": "ipython",
    "version": 3
   },
   "file_extension": ".py",
   "mimetype": "text/x-python",
   "name": "python",
   "nbconvert_exporter": "python",
   "pygments_lexer": "ipython3",
   "version": "3.9.7"
  },
  "widgets": {
   "application/vnd.jupyter.widget-state+json": {
    "state": {},
    "version_major": 2,
    "version_minor": 0
   }
  }
 },
 "nbformat": 4,
 "nbformat_minor": 5
}

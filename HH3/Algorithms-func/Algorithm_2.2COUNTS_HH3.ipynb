{
 "cells": [
  {
   "cell_type": "markdown",
   "id": "2cce2977",
   "metadata": {},
   "source": [
    "## 2.2. CHECKPOINT: counts & intervals per week/stores"
   ]
  },
  {
   "cell_type": "markdown",
   "id": "87a037df",
   "metadata": {},
   "source": [
    "### Import libraries "
   ]
  },
  {
   "cell_type": "code",
   "execution_count": 1,
   "id": "419cb39a",
   "metadata": {},
   "outputs": [],
   "source": [
    "# %matplotlib notebook\n",
    "%matplotlib inline\n",
    "#Pandas is a software library written for the Python programming language for data manipulation and analysis.\n",
    "import pandas as pd\n",
    "#NumPy is a library for the Python programming language, adding support for large, multi-dimensional arrays and matrices, along with a large collection of high-level mathematical functions to operate on these arrays\n",
    "import numpy as np\n",
    "# Matplotlib is a plotting library for python and pyplot gives us a MatLab like plotting framework. We will use this in our plotter function to plot data.\n",
    "import matplotlib.pyplot as plt\n",
    "#Seaborn is a Python data visualization library based on matplotlib. It provides a high-level interface for drawing attractive and informative statistical graphics\n",
    "import seaborn as sns\n",
    "import dataframe_image as dfi\n",
    "from datetime import time\n",
    "import matplotlib.dates as mdates\n",
    "from matplotlib.ticker import StrMethodFormatter\n",
    "from matplotlib.pyplot import figure"
   ]
  },
  {
   "cell_type": "markdown",
   "id": "f10011bb",
   "metadata": {},
   "source": [
    "### Load and view data "
   ]
  },
  {
   "cell_type": "code",
   "execution_count": 2,
   "id": "d7338672",
   "metadata": {},
   "outputs": [],
   "source": [
    "# data for HH\n",
    "df = pd.read_csv (r\"C:\\Users\\20204113\\OneDrive - TU Eindhoven\\2_Research\\1_Groceries\\DATA\\9th week - narrative (3rd attempt)\\HH3\\df\\df_HH3.csv\")"
   ]
  },
  {
   "cell_type": "code",
   "execution_count": 3,
   "id": "c5c6343c",
   "metadata": {},
   "outputs": [
    {
     "data": {
      "text/html": [
       "<div>\n",
       "<style scoped>\n",
       "    .dataframe tbody tr th:only-of-type {\n",
       "        vertical-align: middle;\n",
       "    }\n",
       "\n",
       "    .dataframe tbody tr th {\n",
       "        vertical-align: top;\n",
       "    }\n",
       "\n",
       "    .dataframe thead th {\n",
       "        text-align: right;\n",
       "    }\n",
       "</style>\n",
       "<table border=\"1\" class=\"dataframe\">\n",
       "  <thead>\n",
       "    <tr style=\"text-align: right;\">\n",
       "      <th></th>\n",
       "      <th>week</th>\n",
       "      <th>order_ID</th>\n",
       "      <th>amount</th>\n",
       "      <th>price_unit</th>\n",
       "      <th>price_total</th>\n",
       "      <th>item_id</th>\n",
       "      <th>type_id</th>\n",
       "      <th>order_amount</th>\n",
       "      <th>order_price</th>\n",
       "      <th>day_num</th>\n",
       "      <th>storetype_num</th>\n",
       "      <th>storename_num</th>\n",
       "      <th>cat_num</th>\n",
       "      <th>time_num</th>\n",
       "      <th>promo_num</th>\n",
       "      <th>timestamp</th>\n",
       "      <th>times_min</th>\n",
       "      <th>dates_days</th>\n",
       "    </tr>\n",
       "  </thead>\n",
       "  <tbody>\n",
       "    <tr>\n",
       "      <th>count</th>\n",
       "      <td>266.000000</td>\n",
       "      <td>266.000000</td>\n",
       "      <td>266.000000</td>\n",
       "      <td>266.000000</td>\n",
       "      <td>266.000000</td>\n",
       "      <td>266.000000</td>\n",
       "      <td>266.000000</td>\n",
       "      <td>266.000000</td>\n",
       "      <td>266.000000</td>\n",
       "      <td>266.000000</td>\n",
       "      <td>266.000000</td>\n",
       "      <td>266.000000</td>\n",
       "      <td>266.000000</td>\n",
       "      <td>266.000000</td>\n",
       "      <td>266.000000</td>\n",
       "      <td>2.660000e+02</td>\n",
       "      <td>266.000000</td>\n",
       "      <td>2.660000e+02</td>\n",
       "    </tr>\n",
       "    <tr>\n",
       "      <th>mean</th>\n",
       "      <td>4.706767</td>\n",
       "      <td>9.112782</td>\n",
       "      <td>1.338346</td>\n",
       "      <td>2.285553</td>\n",
       "      <td>2.645734</td>\n",
       "      <td>108.661654</td>\n",
       "      <td>52.203008</td>\n",
       "      <td>36.093985</td>\n",
       "      <td>68.665751</td>\n",
       "      <td>3.319549</td>\n",
       "      <td>1.860902</td>\n",
       "      <td>2.266917</td>\n",
       "      <td>7.657895</td>\n",
       "      <td>0.800752</td>\n",
       "      <td>0.018797</td>\n",
       "      <td>1.641034e+18</td>\n",
       "      <td>1744.428571</td>\n",
       "      <td>2.021637e+07</td>\n",
       "    </tr>\n",
       "    <tr>\n",
       "      <th>std</th>\n",
       "      <td>2.551454</td>\n",
       "      <td>5.116240</td>\n",
       "      <td>1.218643</td>\n",
       "      <td>2.672999</td>\n",
       "      <td>2.927494</td>\n",
       "      <td>64.043368</td>\n",
       "      <td>33.553733</td>\n",
       "      <td>16.295462</td>\n",
       "      <td>29.704535</td>\n",
       "      <td>1.645851</td>\n",
       "      <td>0.490873</td>\n",
       "      <td>1.713486</td>\n",
       "      <td>4.764598</td>\n",
       "      <td>0.690747</td>\n",
       "      <td>0.136063</td>\n",
       "      <td>2.401568e+15</td>\n",
       "      <td>165.970686</td>\n",
       "      <td>4.437701e+03</td>\n",
       "    </tr>\n",
       "    <tr>\n",
       "      <th>min</th>\n",
       "      <td>1.000000</td>\n",
       "      <td>1.000000</td>\n",
       "      <td>1.000000</td>\n",
       "      <td>0.193120</td>\n",
       "      <td>0.193120</td>\n",
       "      <td>0.000000</td>\n",
       "      <td>0.000000</td>\n",
       "      <td>2.000000</td>\n",
       "      <td>4.000000</td>\n",
       "      <td>0.000000</td>\n",
       "      <td>0.000000</td>\n",
       "      <td>0.000000</td>\n",
       "      <td>0.000000</td>\n",
       "      <td>0.000000</td>\n",
       "      <td>0.000000</td>\n",
       "      <td>1.637693e+18</td>\n",
       "      <td>1146.000000</td>\n",
       "      <td>2.021112e+07</td>\n",
       "    </tr>\n",
       "    <tr>\n",
       "      <th>25%</th>\n",
       "      <td>2.000000</td>\n",
       "      <td>4.000000</td>\n",
       "      <td>1.000000</td>\n",
       "      <td>0.990000</td>\n",
       "      <td>1.190000</td>\n",
       "      <td>54.250000</td>\n",
       "      <td>20.250000</td>\n",
       "      <td>24.000000</td>\n",
       "      <td>57.440000</td>\n",
       "      <td>1.000000</td>\n",
       "      <td>2.000000</td>\n",
       "      <td>1.000000</td>\n",
       "      <td>4.000000</td>\n",
       "      <td>0.000000</td>\n",
       "      <td>0.000000</td>\n",
       "      <td>1.638385e+18</td>\n",
       "      <td>1658.000000</td>\n",
       "      <td>2.021120e+07</td>\n",
       "    </tr>\n",
       "    <tr>\n",
       "      <th>50%</th>\n",
       "      <td>5.000000</td>\n",
       "      <td>10.000000</td>\n",
       "      <td>1.000000</td>\n",
       "      <td>1.655000</td>\n",
       "      <td>1.890000</td>\n",
       "      <td>109.500000</td>\n",
       "      <td>55.000000</td>\n",
       "      <td>44.000000</td>\n",
       "      <td>78.075170</td>\n",
       "      <td>4.000000</td>\n",
       "      <td>2.000000</td>\n",
       "      <td>2.000000</td>\n",
       "      <td>9.000000</td>\n",
       "      <td>1.000000</td>\n",
       "      <td>0.000000</td>\n",
       "      <td>1.641840e+18</td>\n",
       "      <td>1810.000000</td>\n",
       "      <td>2.022011e+07</td>\n",
       "    </tr>\n",
       "    <tr>\n",
       "      <th>75%</th>\n",
       "      <td>7.000000</td>\n",
       "      <td>12.000000</td>\n",
       "      <td>1.000000</td>\n",
       "      <td>2.592940</td>\n",
       "      <td>2.990000</td>\n",
       "      <td>163.750000</td>\n",
       "      <td>80.000000</td>\n",
       "      <td>46.000000</td>\n",
       "      <td>82.691596</td>\n",
       "      <td>5.000000</td>\n",
       "      <td>2.000000</td>\n",
       "      <td>2.000000</td>\n",
       "      <td>11.000000</td>\n",
       "      <td>1.000000</td>\n",
       "      <td>0.000000</td>\n",
       "      <td>1.643216e+18</td>\n",
       "      <td>1841.000000</td>\n",
       "      <td>2.022013e+07</td>\n",
       "    </tr>\n",
       "    <tr>\n",
       "      <th>max</th>\n",
       "      <td>8.000000</td>\n",
       "      <td>18.000000</td>\n",
       "      <td>12.000000</td>\n",
       "      <td>29.950000</td>\n",
       "      <td>29.950000</td>\n",
       "      <td>218.000000</td>\n",
       "      <td>102.000000</td>\n",
       "      <td>54.000000</td>\n",
       "      <td>118.655430</td>\n",
       "      <td>5.000000</td>\n",
       "      <td>2.000000</td>\n",
       "      <td>9.000000</td>\n",
       "      <td>14.000000</td>\n",
       "      <td>3.000000</td>\n",
       "      <td>1.000000</td>\n",
       "      <td>1.644151e+18</td>\n",
       "      <td>1900.000000</td>\n",
       "      <td>2.022021e+07</td>\n",
       "    </tr>\n",
       "  </tbody>\n",
       "</table>\n",
       "</div>"
      ],
      "text/plain": [
       "             week    order_ID      amount  price_unit  price_total  \\\n",
       "count  266.000000  266.000000  266.000000  266.000000   266.000000   \n",
       "mean     4.706767    9.112782    1.338346    2.285553     2.645734   \n",
       "std      2.551454    5.116240    1.218643    2.672999     2.927494   \n",
       "min      1.000000    1.000000    1.000000    0.193120     0.193120   \n",
       "25%      2.000000    4.000000    1.000000    0.990000     1.190000   \n",
       "50%      5.000000   10.000000    1.000000    1.655000     1.890000   \n",
       "75%      7.000000   12.000000    1.000000    2.592940     2.990000   \n",
       "max      8.000000   18.000000   12.000000   29.950000    29.950000   \n",
       "\n",
       "          item_id     type_id  order_amount  order_price     day_num  \\\n",
       "count  266.000000  266.000000    266.000000   266.000000  266.000000   \n",
       "mean   108.661654   52.203008     36.093985    68.665751    3.319549   \n",
       "std     64.043368   33.553733     16.295462    29.704535    1.645851   \n",
       "min      0.000000    0.000000      2.000000     4.000000    0.000000   \n",
       "25%     54.250000   20.250000     24.000000    57.440000    1.000000   \n",
       "50%    109.500000   55.000000     44.000000    78.075170    4.000000   \n",
       "75%    163.750000   80.000000     46.000000    82.691596    5.000000   \n",
       "max    218.000000  102.000000     54.000000   118.655430    5.000000   \n",
       "\n",
       "       storetype_num  storename_num     cat_num    time_num   promo_num  \\\n",
       "count     266.000000     266.000000  266.000000  266.000000  266.000000   \n",
       "mean        1.860902       2.266917    7.657895    0.800752    0.018797   \n",
       "std         0.490873       1.713486    4.764598    0.690747    0.136063   \n",
       "min         0.000000       0.000000    0.000000    0.000000    0.000000   \n",
       "25%         2.000000       1.000000    4.000000    0.000000    0.000000   \n",
       "50%         2.000000       2.000000    9.000000    1.000000    0.000000   \n",
       "75%         2.000000       2.000000   11.000000    1.000000    0.000000   \n",
       "max         2.000000       9.000000   14.000000    3.000000    1.000000   \n",
       "\n",
       "          timestamp    times_min    dates_days  \n",
       "count  2.660000e+02   266.000000  2.660000e+02  \n",
       "mean   1.641034e+18  1744.428571  2.021637e+07  \n",
       "std    2.401568e+15   165.970686  4.437701e+03  \n",
       "min    1.637693e+18  1146.000000  2.021112e+07  \n",
       "25%    1.638385e+18  1658.000000  2.021120e+07  \n",
       "50%    1.641840e+18  1810.000000  2.022011e+07  \n",
       "75%    1.643216e+18  1841.000000  2.022013e+07  \n",
       "max    1.644151e+18  1900.000000  2.022021e+07  "
      ]
     },
     "execution_count": 3,
     "metadata": {},
     "output_type": "execute_result"
    }
   ],
   "source": [
    "df.describe()"
   ]
  },
  {
   "cell_type": "code",
   "execution_count": 4,
   "id": "d57ac0d4",
   "metadata": {},
   "outputs": [],
   "source": [
    "df_orders = df[['order_ID', 'week', 'store_name', 'storename_num', 'store_type','day', 'time', 'times', 'dates', 'order_amount', 'order_price']]\n",
    "df_orders = df_orders.drop_duplicates()"
   ]
  },
  {
   "cell_type": "markdown",
   "id": "d7a7ddde",
   "metadata": {},
   "source": [
    "# Maximums per week"
   ]
  },
  {
   "cell_type": "code",
   "execution_count": 5,
   "id": "d5c1bdc8",
   "metadata": {},
   "outputs": [],
   "source": [
    "def CountTotalVisits():\n",
    "    Count = df.groupby(['week'])['order_ID'].nunique()\n",
    "    Count = pd.DataFrame (Count)\n",
    "    Count = Count.reset_index()\n",
    "\n",
    "    min = Count.min(axis=0,numeric_only=True)['order_ID']\n",
    "    max = Count.max(axis=0,numeric_only=True)['order_ID']\n",
    "    return min, max"
   ]
  },
  {
   "cell_type": "code",
   "execution_count": 6,
   "id": "89e15060",
   "metadata": {},
   "outputs": [
    {
     "data": {
      "text/plain": [
       "(1, 4)"
      ]
     },
     "execution_count": 6,
     "metadata": {},
     "output_type": "execute_result"
    }
   ],
   "source": [
    "CountTotalVisits()"
   ]
  },
  {
   "cell_type": "code",
   "execution_count": 7,
   "id": "718a3556",
   "metadata": {},
   "outputs": [],
   "source": [
    "def CountTotalDays():\n",
    "    Count = df_orders.groupby(['week'])['day'].nunique()\n",
    "    Count = pd.DataFrame (Count)\n",
    "    Count = Count.reset_index()\n",
    "\n",
    "    min = Count.min(axis=0,numeric_only=True)['day']\n",
    "    max = Count.max(axis=0,numeric_only=True)['day']\n",
    "    return min, max"
   ]
  },
  {
   "cell_type": "code",
   "execution_count": 8,
   "id": "3d86be8b",
   "metadata": {},
   "outputs": [
    {
     "data": {
      "text/plain": [
       "(1, 3)"
      ]
     },
     "execution_count": 8,
     "metadata": {},
     "output_type": "execute_result"
    }
   ],
   "source": [
    "CountTotalDays()"
   ]
  },
  {
   "cell_type": "code",
   "execution_count": 9,
   "id": "4489fbbb",
   "metadata": {},
   "outputs": [],
   "source": [
    "def CountTotalPerday():\n",
    "    Count = df_orders.groupby(['week', 'day'])['order_ID'].count()\n",
    "    Count = pd.DataFrame (Count)\n",
    "    Count = Count.reset_index()\n",
    "\n",
    "    min = Count.min(axis=0,numeric_only=True)['order_ID']\n",
    "    max = Count.max(axis=0,numeric_only=True)['order_ID']\n",
    "    return min, max"
   ]
  },
  {
   "cell_type": "code",
   "execution_count": 10,
   "id": "21383b33",
   "metadata": {},
   "outputs": [
    {
     "data": {
      "text/plain": [
       "(1, 2)"
      ]
     },
     "execution_count": 10,
     "metadata": {},
     "output_type": "execute_result"
    }
   ],
   "source": [
    "CountTotalPerday()"
   ]
  },
  {
   "cell_type": "code",
   "execution_count": 11,
   "id": "f562414c",
   "metadata": {},
   "outputs": [],
   "source": [
    "days = ['Monday', 'Tuesday', 'Wednesday', 'Thursday', 'Friday', 'Saturday', 'Sunday']\n",
    "df_orders.loc[:, ('day')] = pd.Categorical(df_orders.loc[:, ('day')], categories=days)"
   ]
  },
  {
   "cell_type": "code",
   "execution_count": 12,
   "id": "55ddf726",
   "metadata": {},
   "outputs": [],
   "source": [
    "weeks = [1,2,3,4,5,6,7,8]\n",
    "df_orders.loc[:, ('week')] = pd.Categorical(df_orders.loc[:, ('week')], categories=weeks)"
   ]
  },
  {
   "cell_type": "code",
   "execution_count": 13,
   "id": "9b64de72",
   "metadata": {},
   "outputs": [],
   "source": [
    "def CountVisitsPerDay(day):\n",
    "    df_count = df_orders[df_orders['day']== day]\n",
    "\n",
    "    Count = df_count.sort_values(by=['week'])\n",
    "    Count = Count.groupby(['week'])['order_ID'].nunique()\n",
    "    Count = pd.DataFrame (Count)\n",
    "    Count = Count.reset_index()\n",
    "\n",
    "    min = Count.min(axis=0,numeric_only=True)['order_ID']\n",
    "    max = Count.max(axis=0,numeric_only=True)['order_ID']\n",
    "    return min, max"
   ]
  },
  {
   "cell_type": "code",
   "execution_count": 14,
   "id": "58ac456b",
   "metadata": {},
   "outputs": [
    {
     "data": {
      "text/plain": [
       "(0, 1)"
      ]
     },
     "execution_count": 14,
     "metadata": {},
     "output_type": "execute_result"
    }
   ],
   "source": [
    "CountVisitsPerDay('Sunday')"
   ]
  },
  {
   "cell_type": "code",
   "execution_count": 15,
   "id": "53f1679c",
   "metadata": {},
   "outputs": [],
   "source": [
    "def CountStoreName(store):\n",
    "    df_count = df_orders[df_orders['store_name']== store]\n",
    "\n",
    "    Count = df_count.sort_values(by=['week'])\n",
    "    Count = Count.groupby(['week'])['order_ID'].nunique()\n",
    "    Count = pd.DataFrame (Count)\n",
    "    Count = Count.reset_index()\n",
    "\n",
    "    min = Count.min(axis=0,numeric_only=True)['order_ID']\n",
    "    max = Count.max(axis=0,numeric_only=True)['order_ID']\n",
    "    return min, max"
   ]
  },
  {
   "cell_type": "code",
   "execution_count": 16,
   "id": "1af0cb8f",
   "metadata": {},
   "outputs": [
    {
     "data": {
      "text/plain": [
       "(0, 1)"
      ]
     },
     "execution_count": 16,
     "metadata": {},
     "output_type": "execute_result"
    }
   ],
   "source": [
    "CountStoreName('Aldi')"
   ]
  },
  {
   "cell_type": "code",
   "execution_count": 17,
   "id": "21e28fd5",
   "metadata": {},
   "outputs": [],
   "source": [
    "def CountStoreType(store):\n",
    "    df_count = df_orders[df_orders['store_type']== store]\n",
    "\n",
    "    Count = df_count.sort_values(by=['week'])\n",
    "    Count = Count.groupby(['week'])['order_ID'].nunique()\n",
    "    Count = pd.DataFrame (Count)\n",
    "    Count = Count.reset_index()\n",
    "\n",
    "    min = Count.min(axis=0,numeric_only=True)['order_ID']\n",
    "    max = Count.max(axis=0,numeric_only=True)['order_ID']\n",
    "    return min, max"
   ]
  },
  {
   "cell_type": "code",
   "execution_count": 18,
   "id": "17ae666b",
   "metadata": {},
   "outputs": [
    {
     "data": {
      "text/plain": [
       "(1, 2)"
      ]
     },
     "execution_count": 18,
     "metadata": {},
     "output_type": "execute_result"
    }
   ],
   "source": [
    "CountStoreType('supermarket')"
   ]
  },
  {
   "cell_type": "code",
   "execution_count": 19,
   "id": "0bfa268b",
   "metadata": {},
   "outputs": [],
   "source": [
    "def CountTimePerDay(day):\n",
    "    df_count = df_orders[df_orders['day']== day]\n",
    "\n",
    "    Count = df_count.sort_values(by=['week'])\n",
    "    Count = Count.groupby(['week'])['order_ID'].nunique()\n",
    "    Count = pd.DataFrame (Count)\n",
    "    Count = Count.reset_index()\n",
    "\n",
    "    min = Count.min(axis=0,numeric_only=True)['order_ID']\n",
    "    max = Count.max(axis=0,numeric_only=True)['order_ID']\n",
    "    return min, max"
   ]
  },
  {
   "cell_type": "code",
   "execution_count": 20,
   "id": "d6477e0d",
   "metadata": {},
   "outputs": [
    {
     "data": {
      "text/plain": [
       "(0, 1)"
      ]
     },
     "execution_count": 20,
     "metadata": {},
     "output_type": "execute_result"
    }
   ],
   "source": [
    "CountTimePerDay('Wednesday')"
   ]
  },
  {
   "cell_type": "code",
   "execution_count": 21,
   "id": "37fb82cb",
   "metadata": {},
   "outputs": [],
   "source": [
    "def CountTimingPerDay(time):\n",
    "    df_count = df_orders[df_orders['time']== time]\n",
    "    Count = df_count.groupby(['week', 'day'])['order_ID'].count()\n",
    "    Count = pd.DataFrame (Count)\n",
    "    Count = Count.reset_index()\n",
    "\n",
    "    min = Count.min(axis=0,numeric_only=True)['order_ID']\n",
    "    max = Count.max(axis=0,numeric_only=True)['order_ID']\n",
    "    return min, max"
   ]
  },
  {
   "cell_type": "code",
   "execution_count": 22,
   "id": "62241240",
   "metadata": {
    "scrolled": true
   },
   "outputs": [
    {
     "data": {
      "text/plain": [
       "(0, 1)"
      ]
     },
     "execution_count": 22,
     "metadata": {},
     "output_type": "execute_result"
    }
   ],
   "source": [
    "CountTimingPerDay('evening')"
   ]
  },
  {
   "cell_type": "code",
   "execution_count": 42,
   "id": "fb29e7c6",
   "metadata": {},
   "outputs": [],
   "source": [
    "def CountTypePerStore(itemtype, storetype):\n",
    "    df_type = df[df['store_type'] == storetype]\n",
    "    count = int(df['order_ID'].nunique())\n",
    "    data = {'order_ID': range(count)}\n",
    "    orderID = pd.DataFrame(data)\n",
    "    df_type = df_type[df_type['item_type'] == itemtype]\n",
    "    df_type = df_type.groupby(['order_ID'])['amount'].count()\n",
    "    df_type = pd.DataFrame (df_type)\n",
    "    df_type = df_type.reset_index() \n",
    "    df_type = orderID.merge(df_type, how='left').fillna(0)\n",
    "    min = df_type.min(axis=0)['amount']\n",
    "    max = df_type.max(axis=0)['amount']\n",
    "    return (min, max)"
   ]
  },
  {
   "cell_type": "code",
   "execution_count": 43,
   "id": "bdc28ecf",
   "metadata": {},
   "outputs": [
    {
     "data": {
      "text/plain": [
       "(0.0, 1.0)"
      ]
     },
     "execution_count": 43,
     "metadata": {},
     "output_type": "execute_result"
    }
   ],
   "source": [
    "CountTypePerStore('soft drink', 'supermarket')"
   ]
  }
 ],
 "metadata": {
  "kernelspec": {
   "display_name": "Python 3 (ipykernel)",
   "language": "python",
   "name": "python3"
  },
  "language_info": {
   "codemirror_mode": {
    "name": "ipython",
    "version": 3
   },
   "file_extension": ".py",
   "mimetype": "text/x-python",
   "name": "python",
   "nbconvert_exporter": "python",
   "pygments_lexer": "ipython3",
   "version": "3.9.7"
  },
  "widgets": {
   "application/vnd.jupyter.widget-state+json": {
    "state": {},
    "version_major": 2,
    "version_minor": 0
   }
  }
 },
 "nbformat": 4,
 "nbformat_minor": 5
}

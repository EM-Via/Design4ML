{
 "cells": [
  {
   "cell_type": "markdown",
   "id": "2cce2977",
   "metadata": {},
   "source": [
    "## 4: FOURTH ALGORITHM - FROM WHAT CATEGORIES?\n",
    "\n",
    "Outcome (example):\n",
    "1. input: DAY, TIME, STORE\n",
    "2. output: CATEGORIES"
   ]
  },
  {
   "cell_type": "markdown",
   "id": "87a037df",
   "metadata": {},
   "source": [
    "### Import libraries "
   ]
  },
  {
   "cell_type": "code",
   "execution_count": 1,
   "id": "419cb39a",
   "metadata": {},
   "outputs": [],
   "source": [
    "%matplotlib inline\n",
    "import pandas as pd\n",
    "import numpy as np\n",
    "from random import sample\n",
    "import random\n",
    "class bcolors:\n",
    "    WARNING = '\\033[91m'\n",
    "    BOLD = '\\033[1m'"
   ]
  },
  {
   "cell_type": "code",
   "execution_count": 2,
   "id": "a7d0071b",
   "metadata": {},
   "outputs": [],
   "source": [
    "    # Function to generate #visits per day of the week\n",
    "from AlgorithmDAYS_HH3 import weekdays, dayofweek\n",
    "    \n",
    "    # Function to generate #visits per time\n",
    "from AlgorithmTIMES_HH3 import Monday, Tuesday, Wednesday, Thursday, Friday, Sunday, timeperday\n",
    "\n",
    "    # Function to generate #visits per time\n",
    "from AlgorithmSTOREday_HH3 import MondayStore, TuesdayStore, WednesdayStore, ThursdayStore, FridayStore, SundayStore, storeperday"
   ]
  },
  {
   "cell_type": "markdown",
   "id": "f10011bb",
   "metadata": {},
   "source": [
    "### Load and view data "
   ]
  },
  {
   "cell_type": "code",
   "execution_count": 3,
   "id": "afcb2111",
   "metadata": {},
   "outputs": [],
   "source": [
    "df = pd.read_csv (r\"C:\\Users\\20204113\\OneDrive - TU Eindhoven\\2_Research\\1_Groceries\\DATA\\9th week - narrative (3rd attempt)\\HH3\\df\\df_HH3.csv\")"
   ]
  },
  {
   "cell_type": "code",
   "execution_count": 4,
   "id": "d07f6ca2",
   "metadata": {},
   "outputs": [],
   "source": [
    "df_orders = df[['order_ID', 'week', 'store_name', 'storename_num', 'store_type', 'storetype_num','day', 'day_num', 'time', 'time_num', 'timestamp', 'times', 'dates', 'times_min', 'dates_days', 'order_amount', 'order_price']]\n",
    "df_orders = df_orders.drop_duplicates()"
   ]
  },
  {
   "cell_type": "markdown",
   "id": "d8c213c3",
   "metadata": {},
   "source": [
    "# Function (store as option)"
   ]
  },
  {
   "cell_type": "code",
   "execution_count": 5,
   "id": "6eaaea10",
   "metadata": {},
   "outputs": [],
   "source": [
    "def StoreAmount(storename):\n",
    "    df_store = df[df['store_name'] == storename]\n",
    "    df_store = df_store.groupby(['order_ID'])['amount'].sum()\n",
    "    df_store = pd.DataFrame (df_store)\n",
    "    df_store = df_store.reset_index()        \n",
    "    min = df_store.min(axis=0)['amount']\n",
    "    max = df_store.max(axis=0)['amount']\n",
    "    return random.randint(min, max)"
   ]
  },
  {
   "cell_type": "code",
   "execution_count": 6,
   "id": "00bafbce",
   "metadata": {},
   "outputs": [],
   "source": [
    "def StoreCount(storename):\n",
    "    df_store = df[df['store_name'] == storename]\n",
    "    df_store = df_store.groupby(['order_ID'])['amount'].count()\n",
    "    df_store = pd.DataFrame (df_store)\n",
    "    df_store = df_store.reset_index()        \n",
    "    min = df_store.min(axis=0)['amount']\n",
    "    max = df_store.max(axis=0)['amount']\n",
    "    return random.randint(min, max)"
   ]
  },
  {
   "cell_type": "markdown",
   "id": "baa8e38b",
   "metadata": {},
   "source": [
    "# For the entire week"
   ]
  },
  {
   "cell_type": "code",
   "execution_count": 7,
   "id": "ff827efc",
   "metadata": {},
   "outputs": [],
   "source": [
    "def WeekAmount():\n",
    "    df_amount = df_orders.groupby(['week'])['order_amount'].sum()\n",
    "    df_amount = pd.DataFrame (df_amount)\n",
    "    df_amount = df_amount.reset_index()\n",
    "\n",
    "    min = df_amount.min(axis=0)['order_amount']\n",
    "    max = df_amount.max(axis=0)['order_amount']\n",
    "    return (min,max)"
   ]
  },
  {
   "cell_type": "code",
   "execution_count": 8,
   "id": "77209f80",
   "metadata": {},
   "outputs": [
    {
     "data": {
      "text/plain": [
       "(8, 69)"
      ]
     },
     "execution_count": 8,
     "metadata": {},
     "output_type": "execute_result"
    }
   ],
   "source": [
    "WeekAmount()"
   ]
  },
  {
   "cell_type": "code",
   "execution_count": 9,
   "id": "39154068",
   "metadata": {},
   "outputs": [],
   "source": [
    "def WeekCount():\n",
    "    df_count = df.groupby(['week'])['amount'].count()\n",
    "    df_count = pd.DataFrame (df_count)\n",
    "    df_count = df_count.reset_index()\n",
    "\n",
    "    min = df_count.min(axis=0)['amount']\n",
    "    max = df_count.max(axis=0)['amount']\n",
    "    return (min,max)"
   ]
  },
  {
   "cell_type": "code",
   "execution_count": 10,
   "id": "b5a43697",
   "metadata": {
    "scrolled": true
   },
   "outputs": [
    {
     "data": {
      "text/plain": [
       "(8, 46)"
      ]
     },
     "execution_count": 10,
     "metadata": {},
     "output_type": "execute_result"
    }
   ],
   "source": [
    "WeekCount()"
   ]
  },
  {
   "cell_type": "markdown",
   "id": "3d04d3e3",
   "metadata": {},
   "source": [
    "# Per category"
   ]
  },
  {
   "cell_type": "code",
   "execution_count": 10,
   "id": "4691ee9e",
   "metadata": {},
   "outputs": [],
   "source": [
    "def CatCount():\n",
    "    df_count = df.groupby(['week'])['category'].nunique()\n",
    "    df_count = pd.DataFrame (df_count)\n",
    "    df_count = df_count.reset_index()\n",
    "\n",
    "    min = df_count.min(axis=0)['category']\n",
    "    max = df_count.max(axis=0)['category']\n",
    "    return (min,max)"
   ]
  },
  {
   "cell_type": "code",
   "execution_count": 11,
   "id": "94884cc7",
   "metadata": {},
   "outputs": [
    {
     "data": {
      "text/plain": [
       "(4, 12)"
      ]
     },
     "execution_count": 11,
     "metadata": {},
     "output_type": "execute_result"
    }
   ],
   "source": [
    "CatCount()"
   ]
  },
  {
   "cell_type": "markdown",
   "id": "63aac843",
   "metadata": {},
   "source": [
    "### Check the counts for each category"
   ]
  },
  {
   "cell_type": "markdown",
   "id": "5fdea5b9",
   "metadata": {},
   "source": [
    " The sign. limits differed in the two periods, split the df up:"
   ]
  },
  {
   "cell_type": "code",
   "execution_count": 12,
   "id": "85428cbf",
   "metadata": {},
   "outputs": [],
   "source": [
    "# for entire period\n",
    "def PerCatCount(category):\n",
    "    data = {'week': [1,2,3,4,5,6,7,8]}\n",
    "    weeks = pd.DataFrame(data)\n",
    "    df_cat = df[df['category'] == category]\n",
    "    df_cat = df_cat.groupby(['week'])['amount'].count()\n",
    "    df_cat = pd.DataFrame (df_cat)\n",
    "    df_cat = df_cat.reset_index() \n",
    "    df_cat = weeks.merge(df_cat, how='left').fillna(0)\n",
    "    min = df_cat.min(axis=0)['amount']\n",
    "    max = df_cat.max(axis=0)['amount']\n",
    "    return (min, max)"
   ]
  },
  {
   "cell_type": "code",
   "execution_count": 13,
   "id": "d4de57ea",
   "metadata": {},
   "outputs": [
    {
     "data": {
      "text/plain": [
       "(0.0, 3.0)"
      ]
     },
     "execution_count": 13,
     "metadata": {},
     "output_type": "execute_result"
    }
   ],
   "source": [
    "PerCatCount('non-food')"
   ]
  },
  {
   "cell_type": "markdown",
   "id": "b2f8aa0a",
   "metadata": {},
   "source": [
    "# Itemcounts per store name"
   ]
  },
  {
   "cell_type": "code",
   "execution_count": 85,
   "id": "d3645992",
   "metadata": {},
   "outputs": [
    {
     "data": {
      "text/html": [
       "<div>\n",
       "<style scoped>\n",
       "    .dataframe tbody tr th:only-of-type {\n",
       "        vertical-align: middle;\n",
       "    }\n",
       "\n",
       "    .dataframe tbody tr th {\n",
       "        vertical-align: top;\n",
       "    }\n",
       "\n",
       "    .dataframe thead th {\n",
       "        text-align: right;\n",
       "    }\n",
       "</style>\n",
       "<table border=\"1\" class=\"dataframe\">\n",
       "  <thead>\n",
       "    <tr style=\"text-align: right;\">\n",
       "      <th></th>\n",
       "      <th>store_name</th>\n",
       "      <th>store_type</th>\n",
       "      <th>day</th>\n",
       "      <th>time</th>\n",
       "    </tr>\n",
       "  </thead>\n",
       "  <tbody>\n",
       "    <tr>\n",
       "      <th>0</th>\n",
       "      <td>Colruyt</td>\n",
       "      <td>supermarket</td>\n",
       "      <td>Wednesday</td>\n",
       "      <td>evening</td>\n",
       "    </tr>\n",
       "    <tr>\n",
       "      <th>1</th>\n",
       "      <td>Wouters</td>\n",
       "      <td>bakery</td>\n",
       "      <td>Sunday</td>\n",
       "      <td>noon</td>\n",
       "    </tr>\n",
       "  </tbody>\n",
       "</table>\n",
       "</div>"
      ],
      "text/plain": [
       "  store_name   store_type        day     time\n",
       "0    Colruyt  supermarket  Wednesday  evening\n",
       "1    Wouters       bakery     Sunday     noon"
      ]
     },
     "execution_count": 85,
     "metadata": {},
     "output_type": "execute_result"
    }
   ],
   "source": [
    "df1 = dayofweek()\n",
    "df2 = timeperday(df1)\n",
    "df3 = storeperday(df1,df2)\n",
    "df3"
   ]
  },
  {
   "cell_type": "code",
   "execution_count": 83,
   "id": "37095aff",
   "metadata": {},
   "outputs": [],
   "source": [
    "def countsperstore(dataframes):\n",
    "    storetime = dataframes[['store_name','time']]\n",
    "    \n",
    "    restart = True \n",
    "    while restart:\n",
    "        storecounts = []\n",
    "\n",
    "        for store, time in storetime.itertuples(index=False):\n",
    "            storecounts.append(StoreCount(store))\n",
    "\n",
    "        dataframes['counts'] = storecounts\n",
    "\n",
    "        # Check if the total STORES VISITED PER DAY are within the normal range\n",
    "        for items in df['item_type']:\n",
    "            week9count = dataframes['counts'].sum()\n",
    "            NormWeekCount = WeekCount()\n",
    "            minWeekCount = NormWeekCount[0]\n",
    "            maxWeekCount = NormWeekCount[1]\n",
    "            if week9count < minWeekCount:\n",
    "                print(f\"{bcolors.WARNING}{bcolors.BOLD} RERUN - Too few items:\", week9count)\n",
    "                restart = True\n",
    "                break # force restart\n",
    "            elif maxWeekCount < week9count:\n",
    "                print(f\"{bcolors.WARNING}{bcolors.BOLD} RERUN - Too many items:\", week9count)\n",
    "                restart = True\n",
    "                break # force restart\n",
    "            else:\n",
    "                restart = False\n",
    "                return dataframes\n",
    "                break"
   ]
  },
  {
   "cell_type": "code",
   "execution_count": 86,
   "id": "2351864c",
   "metadata": {},
   "outputs": [
    {
     "data": {
      "text/html": [
       "<div>\n",
       "<style scoped>\n",
       "    .dataframe tbody tr th:only-of-type {\n",
       "        vertical-align: middle;\n",
       "    }\n",
       "\n",
       "    .dataframe tbody tr th {\n",
       "        vertical-align: top;\n",
       "    }\n",
       "\n",
       "    .dataframe thead th {\n",
       "        text-align: right;\n",
       "    }\n",
       "</style>\n",
       "<table border=\"1\" class=\"dataframe\">\n",
       "  <thead>\n",
       "    <tr style=\"text-align: right;\">\n",
       "      <th></th>\n",
       "      <th>store_name</th>\n",
       "      <th>store_type</th>\n",
       "      <th>day</th>\n",
       "      <th>time</th>\n",
       "      <th>counts</th>\n",
       "    </tr>\n",
       "  </thead>\n",
       "  <tbody>\n",
       "    <tr>\n",
       "      <th>0</th>\n",
       "      <td>Colruyt</td>\n",
       "      <td>supermarket</td>\n",
       "      <td>Wednesday</td>\n",
       "      <td>evening</td>\n",
       "      <td>26</td>\n",
       "    </tr>\n",
       "    <tr>\n",
       "      <th>1</th>\n",
       "      <td>Wouters</td>\n",
       "      <td>bakery</td>\n",
       "      <td>Sunday</td>\n",
       "      <td>noon</td>\n",
       "      <td>3</td>\n",
       "    </tr>\n",
       "  </tbody>\n",
       "</table>\n",
       "</div>"
      ],
      "text/plain": [
       "  store_name   store_type        day     time  counts\n",
       "0    Colruyt  supermarket  Wednesday  evening      26\n",
       "1    Wouters       bakery     Sunday     noon       3"
      ]
     },
     "execution_count": 86,
     "metadata": {},
     "output_type": "execute_result"
    }
   ],
   "source": [
    "countsperstore(df3)"
   ]
  }
 ],
 "metadata": {
  "kernelspec": {
   "display_name": "Python 3 (ipykernel)",
   "language": "python",
   "name": "python3"
  },
  "language_info": {
   "codemirror_mode": {
    "name": "ipython",
    "version": 3
   },
   "file_extension": ".py",
   "mimetype": "text/x-python",
   "name": "python",
   "nbconvert_exporter": "python",
   "pygments_lexer": "ipython3",
   "version": "3.9.7"
  },
  "widgets": {
   "application/vnd.jupyter.widget-state+json": {
    "state": {},
    "version_major": 2,
    "version_minor": 0
   }
  }
 },
 "nbformat": 4,
 "nbformat_minor": 5
}

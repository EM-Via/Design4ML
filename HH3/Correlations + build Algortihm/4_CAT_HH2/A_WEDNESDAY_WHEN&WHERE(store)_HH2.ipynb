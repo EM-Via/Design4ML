{
 "cells": [
  {
   "cell_type": "markdown",
   "id": "2cce2977",
   "metadata": {},
   "source": [
    "## 3: WEDNESDAY - WHEN WILL THEY SHOP?\n",
    "\n",
    "\n",
    "1. build grid: when do/dont they shop, how many times, on which day...\n",
    "2. define priliminaries for algorithm\n",
    "3. define filters for algorithm\n",
    "4. RUN algorithm \n",
    "\n",
    "\n",
    "----\n",
    "\n",
    "\n",
    "Outcome (example):\n",
    "1. input: Wednesday\n",
    "2. output: TRUE, 1x\n",
    "\n",
    "Outcome pt. 2 (example):\n",
    "1. input: 12:45 (time)\n",
    "2. output: noon, TRUE\n",
    "\n",
    "or\n",
    "\n",
    "1. input: 19:34 (time)\n",
    "2. output: evening, FALSE"
   ]
  },
  {
   "cell_type": "markdown",
   "id": "87a037df",
   "metadata": {},
   "source": [
    "### Import libraries "
   ]
  },
  {
   "cell_type": "code",
   "execution_count": 2,
   "id": "419cb39a",
   "metadata": {},
   "outputs": [],
   "source": [
    "# %matplotlib notebook\n",
    "%matplotlib inline\n",
    "#Pandas is a software library written for the Python programming language for data manipulation and analysis.\n",
    "import pandas as pd\n",
    "#NumPy is a library for the Python programming language, adding support for large, multi-dimensional arrays and matrices, along with a large collection of high-level mathematical functions to operate on these arrays\n",
    "import numpy as np\n",
    "# Matplotlib is a plotting library for python and pyplot gives us a MatLab like plotting framework. We will use this in our plotter function to plot data.\n",
    "import matplotlib.pyplot as plt\n",
    "#Seaborn is a Python data visualization library based on matplotlib. It provides a high-level interface for drawing attractive and informative statistical graphics\n",
    "import seaborn as sns\n",
    "import dataframe_image as dfi\n",
    "from datetime import time\n",
    "import matplotlib.dates as mdates\n",
    "from matplotlib.ticker import StrMethodFormatter\n",
    "from matplotlib.pyplot import figure\n",
    "\n",
    "\n",
    "\n",
    "from sklearn.cluster import KMeans\n",
    "from sklearn.datasets import make_blobs\n",
    "from sklearn.ensemble import RandomForestClassifier\n",
    "from sklearn.linear_model import LinearRegression\n",
    "from sklearn.metrics import mean_absolute_error, mean_squared_error\n",
    "from sklearn.tree import DecisionTreeClassifier, export_graphviz, plot_tree"
   ]
  },
  {
   "cell_type": "code",
   "execution_count": 3,
   "id": "bd644e3a",
   "metadata": {},
   "outputs": [],
   "source": [
    "# importing the required function\n",
    "from scipy.stats import chi2_contingency"
   ]
  },
  {
   "cell_type": "markdown",
   "id": "f10011bb",
   "metadata": {},
   "source": [
    "### Load and view data "
   ]
  },
  {
   "cell_type": "code",
   "execution_count": 4,
   "id": "f90057bd",
   "metadata": {},
   "outputs": [],
   "source": [
    "df = pd.read_csv (r\"C:\\Users\\20204113\\OneDrive - TU Eindhoven\\2_Research\\1_Groceries\\DATA\\9th week - narrative (3rd attempt)\\HH2\\df_HH2.csv\")\n",
    "\n",
    "# del df[\"HH\"]\n",
    "# df.describe(include='all')"
   ]
  },
  {
   "cell_type": "code",
   "execution_count": 13,
   "id": "7265384b",
   "metadata": {},
   "outputs": [],
   "source": [
    "df = pd.read_csv (r\"C:\\Users\\20204113\\OneDrive - TU Eindhoven\\2_Research\\1_Groceries\\DATA\\9th week - narrative (3rd attempt)\\HH2\\df_HH2.csv\")\n",
    "\n",
    "df_orders = df[['order_ID', 'store_name', 'storename_num', 'store_type', 'storetype_num','day', 'day_num', 'time', 'time_num', 'timestamp', 'times', 'dates', 'times_min', 'dates_days', 'order_amount', 'order_price']]\n",
    "df_orders = df_orders.drop_duplicates()"
   ]
  },
  {
   "cell_type": "markdown",
   "id": "d1dd54c1",
   "metadata": {},
   "source": [
    "-\n",
    "# 1. Where? (store type/name)"
   ]
  },
  {
   "cell_type": "code",
   "execution_count": 17,
   "id": "917bd540",
   "metadata": {
    "collapsed": true
   },
   "outputs": [
    {
     "data": {
      "text/html": [
       "<div>\n",
       "<style scoped>\n",
       "    .dataframe tbody tr th:only-of-type {\n",
       "        vertical-align: middle;\n",
       "    }\n",
       "\n",
       "    .dataframe tbody tr th {\n",
       "        vertical-align: top;\n",
       "    }\n",
       "\n",
       "    .dataframe thead th {\n",
       "        text-align: right;\n",
       "    }\n",
       "</style>\n",
       "<table border=\"1\" class=\"dataframe\">\n",
       "  <thead>\n",
       "    <tr style=\"text-align: right;\">\n",
       "      <th></th>\n",
       "      <th>store_name</th>\n",
       "      <th>order_ID</th>\n",
       "    </tr>\n",
       "  </thead>\n",
       "  <tbody>\n",
       "    <tr>\n",
       "      <th>0</th>\n",
       "      <td>Albert Heijn</td>\n",
       "      <td>4</td>\n",
       "    </tr>\n",
       "    <tr>\n",
       "      <th>1</th>\n",
       "      <td>Sys</td>\n",
       "      <td>1</td>\n",
       "    </tr>\n",
       "  </tbody>\n",
       "</table>\n",
       "</div>"
      ],
      "text/plain": [
       "     store_name  order_ID\n",
       "0  Albert Heijn         4\n",
       "1           Sys         1"
      ]
     },
     "execution_count": 17,
     "metadata": {},
     "output_type": "execute_result"
    }
   ],
   "source": [
    "# to select only one day\n",
    "day = 'Wednesday'\n",
    "df_day = df[df[\"day\"] == day]\n",
    "\n",
    "# check if you selected correctly\n",
    "df_day.head()\n",
    "\n",
    "# grouping the variables based of unique order id count\n",
    "df_nunique = df_day.groupby(['store_name'])['order_ID'].nunique()\n",
    "df_nunique = pd.DataFrame (df_nunique)\n",
    "df_nunique = df_nunique.reset_index()"
   ]
  },
  {
   "cell_type": "code",
   "execution_count": 18,
   "id": "379b18e7",
   "metadata": {},
   "outputs": [
    {
     "data": {
      "text/plain": [
       "<AxesSubplot:xlabel='store_name', ylabel='order_ID'>"
      ]
     },
     "execution_count": 18,
     "metadata": {},
     "output_type": "execute_result"
    },
    {
     "data": {
      "image/png": "[encoded data removed]",
      "text/plain": [
       "<Figure size 720x504 with 1 Axes>"
      ]
     },
     "metadata": {
      "needs_background": "light"
     },
     "output_type": "display_data"
    }
   ],
   "source": [
    "storename = df_nunique['store_name']\n",
    "order_ID = df_nunique['order_ID']\n",
    "cols = ['salmon', 'lightblue']\n",
    "# barplot for store name on this day\n",
    "\n",
    "# I want to count the unique order id's = the amount of times they went\n",
    "plt.figure(figsize=(10,7))\n",
    "sns.barplot(x=storename, y= order_ID, data=df_nunique, palette=cols)"
   ]
  },
  {
   "cell_type": "markdown",
   "id": "0cc07b0e",
   "metadata": {},
   "source": [
    "-\n",
    "\n",
    "# 2. At what time?"
   ]
  },
  {
   "cell_type": "markdown",
   "id": "97ed79b4",
   "metadata": {},
   "source": [
    "### 2.1  DAY VS TIME"
   ]
  },
  {
   "cell_type": "code",
   "execution_count": 19,
   "id": "ee84fe32",
   "metadata": {},
   "outputs": [],
   "source": [
    "#Let's try afternoon and evening as one group\n",
    "df_orders['time'] = df_orders['time'].replace(['afternoon', 'evening'], 'afternoon')"
   ]
  },
  {
   "cell_type": "code",
   "execution_count": 31,
   "id": "5878a19c",
   "metadata": {},
   "outputs": [],
   "source": [
    "# to select only one day & store\n",
    "day = 'Wednesday'\n",
    "df_day = df_orders[df_orders[\"day\"] == day]\n",
    "\n",
    "store = 'Albert Heijn'\n",
    "df_day = df_day[df_day[\"store_name\"] == store]\n",
    "\n",
    "# check if you selected correctly\n",
    "# df_day.head()\n",
    "\n",
    "# grouping the variables based of unique order id count\n",
    "df_nunique = df_day.groupby(['time'])['order_ID'].nunique()\n",
    "df_nunique = pd.DataFrame (df_nunique)\n",
    "df_nunique = df_nunique.reset_index()"
   ]
  },
  {
   "cell_type": "code",
   "execution_count": 30,
   "id": "b3c92cbd",
   "metadata": {
    "scrolled": false
   },
   "outputs": [
    {
     "data": {
      "text/plain": [
       "<AxesSubplot:xlabel='time', ylabel='order_ID'>"
      ]
     },
     "execution_count": 30,
     "metadata": {},
     "output_type": "execute_result"
    },
    {
     "data": {
      "image/png": "[encoded data removed]",
      "text/plain": [
       "<Figure size 720x504 with 1 Axes>"
      ]
     },
     "metadata": {
      "needs_background": "light"
     },
     "output_type": "display_data"
    }
   ],
   "source": [
    "time = df_nunique['time']\n",
    "order_ID = df_nunique['order_ID']\n",
    "cols = ['sandybrown', 'lightgreen']\n",
    "\n",
    "# barplot for store name on this day\n",
    "\n",
    "# I want to count the unique order id's = the amount of times they went\n",
    "plt.figure(figsize=(10,7))\n",
    "sns.barplot(x=time, y= order_ID, data=df_nunique, palette=cols)"
   ]
  }
 ],
 "metadata": {
  "kernelspec": {
   "display_name": "Python 3 (ipykernel)",
   "language": "python",
   "name": "python3"
  },
  "language_info": {
   "codemirror_mode": {
    "name": "ipython",
    "version": 3
   },
   "file_extension": ".py",
   "mimetype": "text/x-python",
   "name": "python",
   "nbconvert_exporter": "python",
   "pygments_lexer": "ipython3",
   "version": "3.9.7"
  }
 },
 "nbformat": 4,
 "nbformat_minor": 5
}

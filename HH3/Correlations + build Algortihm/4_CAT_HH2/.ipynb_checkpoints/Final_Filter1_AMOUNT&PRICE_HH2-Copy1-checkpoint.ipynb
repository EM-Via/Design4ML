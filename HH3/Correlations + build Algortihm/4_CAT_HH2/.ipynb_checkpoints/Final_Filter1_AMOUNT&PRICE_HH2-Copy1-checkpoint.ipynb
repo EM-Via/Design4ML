{
 "cells": [
  {
   "cell_type": "markdown",
   "id": "2cce2977",
   "metadata": {},
   "source": [
    "## 5: FILTER - amount/price per order\n"
   ]
  },
  {
   "cell_type": "markdown",
   "id": "87a037df",
   "metadata": {},
   "source": [
    "### Import libraries "
   ]
  },
  {
   "cell_type": "code",
   "execution_count": 24,
   "id": "419cb39a",
   "metadata": {},
   "outputs": [],
   "source": [
    "#Pandas is a software library written for the Python programming language for data manipulation and analysis.\n",
    "import pandas as pd\n",
    "#NumPy is a library for the Python programming language, adding support for large, multi-dimensional arrays and matrices, along with a large collection of high-level mathematical functions to operate on these arrays\n",
    "import numpy as np\n",
    "# Matplotlib is a plotting library for python and pyplot gives us a MatLab like plotting framework. We will use this in our plotter function to plot data.\n",
    "import matplotlib.pyplot as plt\n",
    "from matplotlib.pyplot import figure\n",
    "from matplotlib.ticker import StrMethodFormatter\n",
    "#Seaborn is a Python data visualization library based on matplotlib. It provides a high-level interface for drawing attractive and informative statistical graphics\n",
    "import seaborn as sns\n",
    "import dataframe_image as dfi\n",
    "from scipy.stats import f_oneway"
   ]
  },
  {
   "cell_type": "markdown",
   "id": "f10011bb",
   "metadata": {},
   "source": [
    "### Load and view data "
   ]
  },
  {
   "cell_type": "code",
   "execution_count": 25,
   "id": "f90057bd",
   "metadata": {
    "collapsed": true
   },
   "outputs": [
    {
     "data": {
      "text/html": [
       "<div>\n",
       "<style scoped>\n",
       "    .dataframe tbody tr th:only-of-type {\n",
       "        vertical-align: middle;\n",
       "    }\n",
       "\n",
       "    .dataframe tbody tr th {\n",
       "        vertical-align: top;\n",
       "    }\n",
       "\n",
       "    .dataframe thead th {\n",
       "        text-align: right;\n",
       "    }\n",
       "</style>\n",
       "<table border=\"1\" class=\"dataframe\">\n",
       "  <thead>\n",
       "    <tr style=\"text-align: right;\">\n",
       "      <th></th>\n",
       "      <th>week</th>\n",
       "      <th>order_ID</th>\n",
       "      <th>item_name</th>\n",
       "      <th>amount</th>\n",
       "      <th>price_unit</th>\n",
       "      <th>price_total</th>\n",
       "      <th>item_type</th>\n",
       "      <th>category</th>\n",
       "      <th>day</th>\n",
       "      <th>time</th>\n",
       "      <th>...</th>\n",
       "      <th>storetype_num</th>\n",
       "      <th>storename_num</th>\n",
       "      <th>cat_num</th>\n",
       "      <th>time_num</th>\n",
       "      <th>datetime</th>\n",
       "      <th>timestamp</th>\n",
       "      <th>dates</th>\n",
       "      <th>times</th>\n",
       "      <th>times_min</th>\n",
       "      <th>dates_days</th>\n",
       "    </tr>\n",
       "  </thead>\n",
       "  <tbody>\n",
       "    <tr>\n",
       "      <th>count</th>\n",
       "      <td>372.000000</td>\n",
       "      <td>372.000000</td>\n",
       "      <td>372</td>\n",
       "      <td>372.000000</td>\n",
       "      <td>372.000000</td>\n",
       "      <td>372.000000</td>\n",
       "      <td>372</td>\n",
       "      <td>372</td>\n",
       "      <td>372</td>\n",
       "      <td>372</td>\n",
       "      <td>...</td>\n",
       "      <td>372.000000</td>\n",
       "      <td>372.000000</td>\n",
       "      <td>372.000000</td>\n",
       "      <td>372.000000</td>\n",
       "      <td>372</td>\n",
       "      <td>3.720000e+02</td>\n",
       "      <td>372</td>\n",
       "      <td>372</td>\n",
       "      <td>372.000000</td>\n",
       "      <td>3.720000e+02</td>\n",
       "    </tr>\n",
       "    <tr>\n",
       "      <th>unique</th>\n",
       "      <td>NaN</td>\n",
       "      <td>NaN</td>\n",
       "      <td>314</td>\n",
       "      <td>NaN</td>\n",
       "      <td>NaN</td>\n",
       "      <td>NaN</td>\n",
       "      <td>139</td>\n",
       "      <td>16</td>\n",
       "      <td>7</td>\n",
       "      <td>4</td>\n",
       "      <td>...</td>\n",
       "      <td>NaN</td>\n",
       "      <td>NaN</td>\n",
       "      <td>NaN</td>\n",
       "      <td>NaN</td>\n",
       "      <td>40</td>\n",
       "      <td>NaN</td>\n",
       "      <td>26</td>\n",
       "      <td>35</td>\n",
       "      <td>NaN</td>\n",
       "      <td>NaN</td>\n",
       "    </tr>\n",
       "    <tr>\n",
       "      <th>top</th>\n",
       "      <td>NaN</td>\n",
       "      <td>NaN</td>\n",
       "      <td>GROF BROOD GESN.</td>\n",
       "      <td>NaN</td>\n",
       "      <td>NaN</td>\n",
       "      <td>NaN</td>\n",
       "      <td>charcuterie</td>\n",
       "      <td>fruit &amp; vegetables</td>\n",
       "      <td>Saturday</td>\n",
       "      <td>morning</td>\n",
       "      <td>...</td>\n",
       "      <td>NaN</td>\n",
       "      <td>NaN</td>\n",
       "      <td>NaN</td>\n",
       "      <td>NaN</td>\n",
       "      <td>2021-11-26 17:25:00</td>\n",
       "      <td>NaN</td>\n",
       "      <td>2022-01-08</td>\n",
       "      <td>17:25:00</td>\n",
       "      <td>NaN</td>\n",
       "      <td>NaN</td>\n",
       "    </tr>\n",
       "    <tr>\n",
       "      <th>freq</th>\n",
       "      <td>NaN</td>\n",
       "      <td>NaN</td>\n",
       "      <td>6</td>\n",
       "      <td>NaN</td>\n",
       "      <td>NaN</td>\n",
       "      <td>NaN</td>\n",
       "      <td>25</td>\n",
       "      <td>103</td>\n",
       "      <td>87</td>\n",
       "      <td>186</td>\n",
       "      <td>...</td>\n",
       "      <td>NaN</td>\n",
       "      <td>NaN</td>\n",
       "      <td>NaN</td>\n",
       "      <td>NaN</td>\n",
       "      <td>44</td>\n",
       "      <td>NaN</td>\n",
       "      <td>45</td>\n",
       "      <td>44</td>\n",
       "      <td>NaN</td>\n",
       "      <td>NaN</td>\n",
       "    </tr>\n",
       "    <tr>\n",
       "      <th>mean</th>\n",
       "      <td>4.043011</td>\n",
       "      <td>18.881720</td>\n",
       "      <td>NaN</td>\n",
       "      <td>1.274194</td>\n",
       "      <td>2.602328</td>\n",
       "      <td>2.867247</td>\n",
       "      <td>NaN</td>\n",
       "      <td>NaN</td>\n",
       "      <td>NaN</td>\n",
       "      <td>NaN</td>\n",
       "      <td>...</td>\n",
       "      <td>3.392473</td>\n",
       "      <td>4.212366</td>\n",
       "      <td>7.462366</td>\n",
       "      <td>1.387097</td>\n",
       "      <td>NaN</td>\n",
       "      <td>1.639888e+18</td>\n",
       "      <td>NaN</td>\n",
       "      <td>NaN</td>\n",
       "      <td>1353.930108</td>\n",
       "      <td>2.021425e+07</td>\n",
       "    </tr>\n",
       "    <tr>\n",
       "      <th>std</th>\n",
       "      <td>2.478648</td>\n",
       "      <td>10.908193</td>\n",
       "      <td>NaN</td>\n",
       "      <td>1.103819</td>\n",
       "      <td>1.947725</td>\n",
       "      <td>2.019200</td>\n",
       "      <td>NaN</td>\n",
       "      <td>NaN</td>\n",
       "      <td>NaN</td>\n",
       "      <td>NaN</td>\n",
       "      <td>...</td>\n",
       "      <td>1.344550</td>\n",
       "      <td>2.396214</td>\n",
       "      <td>4.079557</td>\n",
       "      <td>0.896621</td>\n",
       "      <td>NaN</td>\n",
       "      <td>1.924092e+15</td>\n",
       "      <td>NaN</td>\n",
       "      <td>NaN</td>\n",
       "      <td>371.187009</td>\n",
       "      <td>4.252837e+03</td>\n",
       "    </tr>\n",
       "    <tr>\n",
       "      <th>min</th>\n",
       "      <td>1.000000</td>\n",
       "      <td>1.000000</td>\n",
       "      <td>NaN</td>\n",
       "      <td>1.000000</td>\n",
       "      <td>0.064680</td>\n",
       "      <td>0.064680</td>\n",
       "      <td>NaN</td>\n",
       "      <td>NaN</td>\n",
       "      <td>NaN</td>\n",
       "      <td>NaN</td>\n",
       "      <td>...</td>\n",
       "      <td>0.000000</td>\n",
       "      <td>0.000000</td>\n",
       "      <td>0.000000</td>\n",
       "      <td>0.000000</td>\n",
       "      <td>NaN</td>\n",
       "      <td>1.637435e+18</td>\n",
       "      <td>NaN</td>\n",
       "      <td>NaN</td>\n",
       "      <td>802.000000</td>\n",
       "      <td>2.021112e+07</td>\n",
       "    </tr>\n",
       "    <tr>\n",
       "      <th>25%</th>\n",
       "      <td>1.000000</td>\n",
       "      <td>8.000000</td>\n",
       "      <td>NaN</td>\n",
       "      <td>1.000000</td>\n",
       "      <td>1.300000</td>\n",
       "      <td>1.543970</td>\n",
       "      <td>NaN</td>\n",
       "      <td>NaN</td>\n",
       "      <td>NaN</td>\n",
       "      <td>NaN</td>\n",
       "      <td>...</td>\n",
       "      <td>4.000000</td>\n",
       "      <td>3.000000</td>\n",
       "      <td>6.000000</td>\n",
       "      <td>1.000000</td>\n",
       "      <td>NaN</td>\n",
       "      <td>1.637948e+18</td>\n",
       "      <td>NaN</td>\n",
       "      <td>NaN</td>\n",
       "      <td>1055.000000</td>\n",
       "      <td>2.021113e+07</td>\n",
       "    </tr>\n",
       "    <tr>\n",
       "      <th>50%</th>\n",
       "      <td>4.000000</td>\n",
       "      <td>20.000000</td>\n",
       "      <td>NaN</td>\n",
       "      <td>1.000000</td>\n",
       "      <td>2.240250</td>\n",
       "      <td>2.462860</td>\n",
       "      <td>NaN</td>\n",
       "      <td>NaN</td>\n",
       "      <td>NaN</td>\n",
       "      <td>NaN</td>\n",
       "      <td>...</td>\n",
       "      <td>4.000000</td>\n",
       "      <td>4.000000</td>\n",
       "      <td>9.000000</td>\n",
       "      <td>2.000000</td>\n",
       "      <td>NaN</td>\n",
       "      <td>1.639306e+18</td>\n",
       "      <td>NaN</td>\n",
       "      <td>NaN</td>\n",
       "      <td>1179.500000</td>\n",
       "      <td>2.021121e+07</td>\n",
       "    </tr>\n",
       "    <tr>\n",
       "      <th>75%</th>\n",
       "      <td>6.000000</td>\n",
       "      <td>26.250000</td>\n",
       "      <td>NaN</td>\n",
       "      <td>1.000000</td>\n",
       "      <td>3.290000</td>\n",
       "      <td>3.875000</td>\n",
       "      <td>NaN</td>\n",
       "      <td>NaN</td>\n",
       "      <td>NaN</td>\n",
       "      <td>NaN</td>\n",
       "      <td>...</td>\n",
       "      <td>4.000000</td>\n",
       "      <td>6.000000</td>\n",
       "      <td>11.000000</td>\n",
       "      <td>2.000000</td>\n",
       "      <td>NaN</td>\n",
       "      <td>1.641640e+18</td>\n",
       "      <td>NaN</td>\n",
       "      <td>NaN</td>\n",
       "      <td>1725.000000</td>\n",
       "      <td>2.022011e+07</td>\n",
       "    </tr>\n",
       "    <tr>\n",
       "      <th>max</th>\n",
       "      <td>8.000000</td>\n",
       "      <td>39.000000</td>\n",
       "      <td>NaN</td>\n",
       "      <td>15.000000</td>\n",
       "      <td>15.610000</td>\n",
       "      <td>15.610000</td>\n",
       "      <td>NaN</td>\n",
       "      <td>NaN</td>\n",
       "      <td>NaN</td>\n",
       "      <td>NaN</td>\n",
       "      <td>...</td>\n",
       "      <td>4.000000</td>\n",
       "      <td>8.000000</td>\n",
       "      <td>15.000000</td>\n",
       "      <td>3.000000</td>\n",
       "      <td>NaN</td>\n",
       "      <td>1.643286e+18</td>\n",
       "      <td>NaN</td>\n",
       "      <td>NaN</td>\n",
       "      <td>1858.000000</td>\n",
       "      <td>2.022013e+07</td>\n",
       "    </tr>\n",
       "  </tbody>\n",
       "</table>\n",
       "<p>11 rows × 29 columns</p>\n",
       "</div>"
      ],
      "text/plain": [
       "              week    order_ID         item_name      amount  price_unit  \\\n",
       "count   372.000000  372.000000               372  372.000000  372.000000   \n",
       "unique         NaN         NaN               314         NaN         NaN   \n",
       "top            NaN         NaN  GROF BROOD GESN.         NaN         NaN   \n",
       "freq           NaN         NaN                 6         NaN         NaN   \n",
       "mean      4.043011   18.881720               NaN    1.274194    2.602328   \n",
       "std       2.478648   10.908193               NaN    1.103819    1.947725   \n",
       "min       1.000000    1.000000               NaN    1.000000    0.064680   \n",
       "25%       1.000000    8.000000               NaN    1.000000    1.300000   \n",
       "50%       4.000000   20.000000               NaN    1.000000    2.240250   \n",
       "75%       6.000000   26.250000               NaN    1.000000    3.290000   \n",
       "max       8.000000   39.000000               NaN   15.000000   15.610000   \n",
       "\n",
       "        price_total    item_type            category       day     time  ...  \\\n",
       "count    372.000000          372                 372       372      372  ...   \n",
       "unique          NaN          139                  16         7        4  ...   \n",
       "top             NaN  charcuterie  fruit & vegetables  Saturday  morning  ...   \n",
       "freq            NaN           25                 103        87      186  ...   \n",
       "mean       2.867247          NaN                 NaN       NaN      NaN  ...   \n",
       "std        2.019200          NaN                 NaN       NaN      NaN  ...   \n",
       "min        0.064680          NaN                 NaN       NaN      NaN  ...   \n",
       "25%        1.543970          NaN                 NaN       NaN      NaN  ...   \n",
       "50%        2.462860          NaN                 NaN       NaN      NaN  ...   \n",
       "75%        3.875000          NaN                 NaN       NaN      NaN  ...   \n",
       "max       15.610000          NaN                 NaN       NaN      NaN  ...   \n",
       "\n",
       "       storetype_num storename_num     cat_num    time_num  \\\n",
       "count     372.000000    372.000000  372.000000  372.000000   \n",
       "unique           NaN           NaN         NaN         NaN   \n",
       "top              NaN           NaN         NaN         NaN   \n",
       "freq             NaN           NaN         NaN         NaN   \n",
       "mean        3.392473      4.212366    7.462366    1.387097   \n",
       "std         1.344550      2.396214    4.079557    0.896621   \n",
       "min         0.000000      0.000000    0.000000    0.000000   \n",
       "25%         4.000000      3.000000    6.000000    1.000000   \n",
       "50%         4.000000      4.000000    9.000000    2.000000   \n",
       "75%         4.000000      6.000000   11.000000    2.000000   \n",
       "max         4.000000      8.000000   15.000000    3.000000   \n",
       "\n",
       "                   datetime     timestamp       dates     times    times_min  \\\n",
       "count                   372  3.720000e+02         372       372   372.000000   \n",
       "unique                   40           NaN          26        35          NaN   \n",
       "top     2021-11-26 17:25:00           NaN  2022-01-08  17:25:00          NaN   \n",
       "freq                     44           NaN          45        44          NaN   \n",
       "mean                    NaN  1.639888e+18         NaN       NaN  1353.930108   \n",
       "std                     NaN  1.924092e+15         NaN       NaN   371.187009   \n",
       "min                     NaN  1.637435e+18         NaN       NaN   802.000000   \n",
       "25%                     NaN  1.637948e+18         NaN       NaN  1055.000000   \n",
       "50%                     NaN  1.639306e+18         NaN       NaN  1179.500000   \n",
       "75%                     NaN  1.641640e+18         NaN       NaN  1725.000000   \n",
       "max                     NaN  1.643286e+18         NaN       NaN  1858.000000   \n",
       "\n",
       "          dates_days  \n",
       "count   3.720000e+02  \n",
       "unique           NaN  \n",
       "top              NaN  \n",
       "freq             NaN  \n",
       "mean    2.021425e+07  \n",
       "std     4.252837e+03  \n",
       "min     2.021112e+07  \n",
       "25%     2.021113e+07  \n",
       "50%     2.021121e+07  \n",
       "75%     2.022011e+07  \n",
       "max     2.022013e+07  \n",
       "\n",
       "[11 rows x 29 columns]"
      ]
     },
     "execution_count": 25,
     "metadata": {},
     "output_type": "execute_result"
    }
   ],
   "source": [
    "df = pd.read_csv (r\"C:\\Users\\20204113\\OneDrive - TU Eindhoven\\2_Research\\1_Groceries\\DATA\\9th week - narrative (3rd attempt)\\HH2\\df\\df_HH2.csv\")\n",
    "\n",
    "# del df[\"HH\"]\n",
    "df.describe(include='all')"
   ]
  },
  {
   "cell_type": "code",
   "execution_count": 38,
   "id": "152a2394",
   "metadata": {},
   "outputs": [],
   "source": [
    "df_orders = df[['order_ID', 'store_name', 'storename_num', 'store_type', 'storetype_num','day', 'day_num', 'time', 'time_num', 'timestamp', 'times', 'dates', 'times_min', 'dates_days', 'order_amount', 'order_price']]\n",
    "df_orders = df_orders.drop_duplicates()"
   ]
  },
  {
   "cell_type": "markdown",
   "id": "7bb487c3",
   "metadata": {},
   "source": [
    "# ORDER AMOUNT - Check the correlations"
   ]
  },
  {
   "cell_type": "markdown",
   "id": "8c2713c3",
   "metadata": {},
   "source": [
    "## General correlations"
   ]
  },
  {
   "cell_type": "code",
   "execution_count": 74,
   "id": "82903177",
   "metadata": {},
   "outputs": [
    {
     "name": "stdout",
     "output_type": "stream",
     "text": [
      "store_type\n",
      "bakery                         [4, 2, 7, 9, 2, 5, 2, 8, 2, 6, 6, 13]\n",
      "butcher                                                 [7, 6, 6, 7]\n",
      "drugstore                                                        [3]\n",
      "furniture store                                                  [2]\n",
      "supermarket        [31, 9, 2, 50, 1, 36, 2, 38, 34, 1, 53, 38, 34...\n",
      "Name: order_amount, dtype: object\n",
      "P-Value for Anova is:  0.1717502636546628\n"
     ]
    }
   ],
   "source": [
    "# f_oneway() function takes the group data as input and returns F-statistic and P-value\n",
    " \n",
    "# Assumption(H0) is that amount and storeTYPE  are NOT correlated\n",
    " \n",
    "# Finds out the Prices data for each FuelType as a list\n",
    "CategoryGroupLists=df_orders.groupby('store_type')['order_amount'].apply(list)\n",
    "print(CategoryGroupLists)\n",
    "\n",
    "# Performing the ANOVA test\n",
    "# We accept the Assumption(H0) only when P-Value &gt; 0.05\n",
    "AnovaResults = f_oneway(*CategoryGroupLists)\n",
    "print('P-Value for Anova is: ', AnovaResults[1])"
   ]
  },
  {
   "cell_type": "code",
   "execution_count": 75,
   "id": "c7d44476",
   "metadata": {},
   "outputs": [
    {
     "name": "stdout",
     "output_type": "stream",
     "text": [
      "store_name\n",
      "Albert Heijn        [2, 1, 2, 1, 2, 2, 3, 2, 26, 2, 3, 1]\n",
      "Brabo                                                 [6]\n",
      "Carrefour                                            [31]\n",
      "Delhaize                                     [50, 34, 34]\n",
      "Ikea                                                  [2]\n",
      "Kruidvat                                              [3]\n",
      "Okay                               [9, 36, 38, 53, 38, 9]\n",
      "Sys                 [4, 2, 7, 9, 2, 5, 2, 8, 2, 6, 6, 13]\n",
      "Versavel Poelman                                [7, 6, 7]\n",
      "Name: order_amount, dtype: object\n",
      "P-Value for Anova is:  8.857540093528802e-07\n"
     ]
    }
   ],
   "source": [
    "# f_oneway() function takes the group data as input and returns F-statistic and P-value\n",
    " \n",
    "# Assumption(H0) is that amount and storeNAME  are NOT correlated\n",
    " \n",
    "# Finds out the Prices data for each FuelType as a list\n",
    "CategoryGroupLists=df_orders.groupby('store_name')['order_amount'].apply(list)\n",
    "print(CategoryGroupLists)\n",
    "\n",
    "# Performing the ANOVA test\n",
    "# We accept the Assumption(H0) only when P-Value &gt; 0.05\n",
    "AnovaResults = f_oneway(*CategoryGroupLists)\n",
    "print('P-Value for Anova is: ', AnovaResults[1])"
   ]
  },
  {
   "cell_type": "code",
   "execution_count": 77,
   "id": "9c621a10",
   "metadata": {},
   "outputs": [
    {
     "name": "stdout",
     "output_type": "stream",
     "text": [
      "time\n",
      "afternoon                        [31, 50, 36, 6, 38, 3, 9, 26]\n",
      "morning      [4, 7, 2, 1, 9, 2, 2, 5, 2, 2, 8, 34, 6, 2, 53...\n",
      "noon                            [9, 7, 2, 1, 2, 2, 3, 2, 2, 1]\n",
      "Name: order_amount, dtype: object\n",
      "P-Value for Anova is:  0.005352426314790171\n"
     ]
    }
   ],
   "source": [
    "# aggregate afternoon and evening\n",
    "df_orders['time'] = df_orders['time'].replace(['afternoon', 'evening'], 'afternoon')\n",
    "\n",
    "# f_oneway() function takes the group data as input and returns F-statistic and P-value\n",
    " \n",
    "# Assumption(H0) is that amount and TIME  are NOT correlated\n",
    " \n",
    "# Finds out the Prices data for each FuelType as a list\n",
    "CategoryGroupLists=df_orders.groupby('time')['order_amount'].apply(list)\n",
    "print(CategoryGroupLists)\n",
    "\n",
    "# Performing the ANOVA test\n",
    "# We accept the Assumption(H0) only when P-Value &gt; 0.05\n",
    "AnovaResults = f_oneway(*CategoryGroupLists)\n",
    "print('P-Value for Anova is: ', AnovaResults[1])"
   ]
  },
  {
   "cell_type": "code",
   "execution_count": 63,
   "id": "c50f6b89",
   "metadata": {},
   "outputs": [
    {
     "name": "stdout",
     "output_type": "stream",
     "text": [
      "P-Value for Anova is:  0.6673667978222161\n"
     ]
    }
   ],
   "source": [
    "# f_oneway() function takes the group data as input and returns F-statistic and P-value\n",
    " \n",
    "# Assumption(H0) is that amount and DAY  are NOT correlated\n",
    " \n",
    "# Finds out the Prices data for each FuelType as a list\n",
    "CategoryGroupLists=df_orders.groupby('day')['order_amount'].apply(list)\n",
    "CategoryGroupLists\n",
    "\n",
    "# Performing the ANOVA test\n",
    "# We accept the Assumption(H0) only when P-Value &gt; 0.05\n",
    "AnovaResults = f_oneway(*CategoryGroupLists)\n",
    "print('P-Value for Anova is: ', AnovaResults[1])"
   ]
  },
  {
   "cell_type": "markdown",
   "id": "4bb8a584",
   "metadata": {},
   "source": [
    "## Narrowed down correlations - AMOUNT VS. STORE NAME"
   ]
  },
  {
   "cell_type": "markdown",
   "id": "88520b80",
   "metadata": {},
   "source": [
    "### Per DAY"
   ]
  },
  {
   "cell_type": "code",
   "execution_count": 52,
   "id": "601eec12",
   "metadata": {},
   "outputs": [],
   "source": [
    "# define data\n",
    "Monday = 'Monday'\n",
    "Tuesday = 'Tuesday'\n",
    "Wednesday = 'Wednesday'\n",
    "Thursday = 'Thursday'\n",
    "Friday = 'Friday'\n",
    "Saturday = 'Saturday'\n",
    "Sunday = 'Sunday'\n",
    "\n",
    "# select only these data (for day, store, store name)\n",
    "df_Monday = df_orders[df_orders[\"day\"] == Monday]\n",
    "df_Tuesday = df_orders[df_orders[\"day\"] == Tuesday]\n",
    "df_Wednesday = df_orders[df_orders[\"day\"] == Wednesday]\n",
    "df_Thursday = df_orders[df_orders[\"day\"] == Thursday]\n",
    "df_Friday = df_orders[df_orders[\"day\"] == Friday]\n",
    "df_Saturday = df_orders[df_orders[\"day\"] == Saturday]\n",
    "df_Sunday = df_orders[df_orders[\"day\"] == Sunday]"
   ]
  },
  {
   "cell_type": "code",
   "execution_count": 53,
   "id": "76c9be7b",
   "metadata": {},
   "outputs": [
    {
     "name": "stdout",
     "output_type": "stream",
     "text": [
      "P-Value for Anova is:  0.9061568277130009\n",
      "P-Value for Anova is:  0.548042100497963\n",
      "P-Value for Anova is:  0.001369331236881077\n",
      "P-Value for Anova is:  0.0015211439002129601\n",
      "P-Value for Anova is:  nan\n",
      "P-Value for Anova is:  0.40319288121673885\n",
      "P-Value for Anova is:  8.292449947419124e-05\n"
     ]
    }
   ],
   "source": [
    "# f_oneway() function takes the group data as input and returns F-statistic and P-value\n",
    "  \n",
    "# Finds out the Prices data for each FuelType as a list\n",
    "CategoryGroupLists1=df_Monday.groupby('store_name')['order_amount'].apply(list)\n",
    "CategoryGroupLists2=df_Tuesday.groupby('store_name')['order_amount'].apply(list)\n",
    "CategoryGroupLists3=df_Wednesday.groupby('store_name')['order_amount'].apply(list)\n",
    "CategoryGroupLists4=df_Thursday.groupby('store_name')['order_amount'].apply(list)\n",
    "CategoryGroupLists5=df_Friday.groupby('store_name')['order_amount'].apply(list)\n",
    "CategoryGroupLists6=df_Saturday.groupby('store_name')['order_amount'].apply(list)\n",
    "CategoryGroupLists7=df_Sunday.groupby('store_name')['order_amount'].apply(list)\n",
    "\n",
    "# Performing the ANOVA test\n",
    "# We accept the Assumption(H0) only when P-Value &gt; 0.05\n",
    "AnovaResults = f_oneway(*CategoryGroupLists1)\n",
    "print('P-Value for Anova is: ', AnovaResults[1])\n",
    "AnovaResults = f_oneway(*CategoryGroupLists2)\n",
    "print('P-Value for Anova is: ', AnovaResults[1])\n",
    "AnovaResults = f_oneway(*CategoryGroupLists3)\n",
    "print('P-Value for Anova is: ', AnovaResults[1])\n",
    "AnovaResults = f_oneway(*CategoryGroupLists4)\n",
    "print('P-Value for Anova is: ', AnovaResults[1])\n",
    "AnovaResults = f_oneway(*CategoryGroupLists5)\n",
    "print('P-Value for Anova is: ', AnovaResults[1])\n",
    "AnovaResults = f_oneway(*CategoryGroupLists6)\n",
    "print('P-Value for Anova is: ', AnovaResults[1])\n",
    "AnovaResults = f_oneway(*CategoryGroupLists7)\n",
    "print('P-Value for Anova is: ', AnovaResults[1])"
   ]
  },
  {
   "cell_type": "markdown",
   "id": "b3b293fb",
   "metadata": {},
   "source": [
    "### Per TIME"
   ]
  },
  {
   "cell_type": "code",
   "execution_count": 78,
   "id": "a35cab26",
   "metadata": {},
   "outputs": [],
   "source": [
    "# define data\n",
    "morning = 'morning'\n",
    "noon = 'noon'\n",
    "afternoon = 'afternoon'\n",
    "\n",
    "# select only these data (for time)\n",
    "df_morning = df_orders[df_orders[\"time\"] == morning]\n",
    "df_noon = df_orders[df_orders[\"time\"] == noon]\n",
    "df_afternoon = df_orders[df_orders[\"time\"] == afternoon]"
   ]
  },
  {
   "cell_type": "code",
   "execution_count": 79,
   "id": "e7abb3d3",
   "metadata": {
    "scrolled": true
   },
   "outputs": [
    {
     "name": "stdout",
     "output_type": "stream",
     "text": [
      "P-Value for Anova is:  1.599904285295541e-09\n",
      "P-Value for Anova is:  1.8296837575860288e-05\n",
      "P-Value for Anova is:  0.5218654310214677\n"
     ]
    }
   ],
   "source": [
    "# f_oneway() function takes the group data as input and returns F-statistic and P-value\n",
    "  \n",
    "# Finds out the Prices data for each FuelType as a list\n",
    "CategoryGroupLists1=df_morning.groupby('store_name')['order_amount'].apply(list)\n",
    "CategoryGroupLists2=df_noon.groupby('store_name')['order_amount'].apply(list)\n",
    "CategoryGroupLists3=df_afternoon.groupby('store_name')['order_amount'].apply(list)\n",
    "\n",
    "# Performing the ANOVA test\n",
    "# We accept the Assumption(H0) only when P-Value &gt; 0.05\n",
    "AnovaResults = f_oneway(*CategoryGroupLists1)\n",
    "print('P-Value for Anova is: ', AnovaResults[1])\n",
    "AnovaResults = f_oneway(*CategoryGroupLists2)\n",
    "print('P-Value for Anova is: ', AnovaResults[1])\n",
    "AnovaResults = f_oneway(*CategoryGroupLists3)\n",
    "print('P-Value for Anova is: ', AnovaResults[1])"
   ]
  },
  {
   "cell_type": "markdown",
   "id": "20618b7b",
   "metadata": {},
   "source": [
    "## Narrowed down correlations - AMOUNT VS. TIME"
   ]
  },
  {
   "cell_type": "markdown",
   "id": "2a5ec326",
   "metadata": {},
   "source": [
    "### Per DAY"
   ]
  },
  {
   "cell_type": "code",
   "execution_count": 66,
   "id": "e87a3201",
   "metadata": {},
   "outputs": [],
   "source": [
    "# define data\n",
    "Monday = 'Monday'\n",
    "Tuesday = 'Tuesday'\n",
    "Wednesday = 'Wednesday'\n",
    "Thursday = 'Thursday'\n",
    "Friday = 'Friday'\n",
    "Saturday = 'Saturday'\n",
    "Sunday = 'Sunday'\n",
    "\n",
    "# select only these data (for day, store, store name)\n",
    "df_Monday = df_orders[df_orders[\"day\"] == Monday]\n",
    "df_Tuesday = df_orders[df_orders[\"day\"] == Tuesday]\n",
    "df_Wednesday = df_orders[df_orders[\"day\"] == Wednesday]\n",
    "df_Thursday = df_orders[df_orders[\"day\"] == Thursday]\n",
    "df_Friday = df_orders[df_orders[\"day\"] == Friday]\n",
    "df_Saturday = df_orders[df_orders[\"day\"] == Saturday]\n",
    "df_Sunday = df_orders[df_orders[\"day\"] == Sunday]"
   ]
  },
  {
   "cell_type": "code",
   "execution_count": 70,
   "id": "f4c2a310",
   "metadata": {
    "scrolled": true
   },
   "outputs": [
    {
     "name": "stdout",
     "output_type": "stream",
     "text": [
      "P-Value for Anova is:  0.0022835615790493206\n",
      "P-Value for Anova is:  0.6261317338162065\n",
      "P-Value for Anova is:  0.3492404263034027\n",
      "P-Value for Anova is:  0.4887942399350979\n",
      "P-Value for Anova is:  nan\n",
      "P-Value for Anova is:  0.6028941230718149\n"
     ]
    }
   ],
   "source": [
    "# f_oneway() function takes the group data as input and returns F-statistic and P-value\n",
    "  \n",
    "# Finds out the Prices data for each FuelType as a list\n",
    "CategoryGroupLists1=df_Monday.groupby('time')['order_amount'].apply(list)\n",
    "CategoryGroupLists2=df_Tuesday.groupby('time')['order_amount'].apply(list)\n",
    "CategoryGroupLists3=df_Wednesday.groupby('time')['order_amount'].apply(list)\n",
    "CategoryGroupLists4=df_Thursday.groupby('time')['order_amount'].apply(list)\n",
    "CategoryGroupLists5=df_Friday.groupby('time')['order_amount'].apply(list)\n",
    "CategoryGroupLists6=df_Saturday.groupby('time')['order_amount'].apply(list)\n",
    "CategoryGroupLists7=df_Sunday.groupby('time')['order_amount'].apply(list)\n",
    "\n",
    "# Performing the ANOVA test\n",
    "# We accept the Assumption(H0) only when P-Value &gt; 0.05\n",
    "AnovaResults = f_oneway(*CategoryGroupLists1)\n",
    "print('P-Value for Anova is: ', AnovaResults[1])\n",
    "AnovaResults = f_oneway(*CategoryGroupLists2)\n",
    "print('P-Value for Anova is: ', AnovaResults[1])\n",
    "AnovaResults = f_oneway(*CategoryGroupLists3)\n",
    "print('P-Value for Anova is: ', AnovaResults[1])\n",
    "AnovaResults = f_oneway(*CategoryGroupLists4)\n",
    "print('P-Value for Anova is: ', AnovaResults[1])\n",
    "AnovaResults = f_oneway(*CategoryGroupLists5)\n",
    "print('P-Value for Anova is: ', AnovaResults[1])\n",
    "AnovaResults = f_oneway(*CategoryGroupLists6)\n",
    "print('P-Value for Anova is: ', AnovaResults[1])\n",
    "# AnovaResults = f_oneway(*CategoryGroupLists7)\n",
    "# print('P-Value for Anova is: ', AnovaResults[1])"
   ]
  },
  {
   "cell_type": "markdown",
   "id": "b3b8284a",
   "metadata": {},
   "source": [
    "### Per STORE TYPE"
   ]
  },
  {
   "cell_type": "code",
   "execution_count": 103,
   "id": "392d09d8",
   "metadata": {},
   "outputs": [],
   "source": [
    "# to select only one\n",
    "storet1 = 'supermarket'\n",
    "storet2 = 'butcher'\n",
    "storet3 = 'bakery'\n",
    "storet4 = 'drugstore'\n",
    "storet5 = 'furniture store'\n",
    "\n",
    "# select only these data for the df\n",
    "df_storet1 = df_orders[df_orders['store_type'] == storet1]\n",
    "df_storet2 = df_orders[df_orders['store_type'] == storet2]\n",
    "df_storet3 = df_orders[df_orders['store_type'] == storet3]\n",
    "df_storet4 = df_orders[df_orders['store_type'] == storet4]\n",
    "df_storet5 = df_orders[df_orders['store_type'] == storet5]"
   ]
  },
  {
   "cell_type": "code",
   "execution_count": 104,
   "id": "83fbbd9b",
   "metadata": {},
   "outputs": [
    {
     "name": "stdout",
     "output_type": "stream",
     "text": [
      "SUPERMARKET P-Value for Anova is:  0.0018880151092093545\n",
      "BUTCHER P-Value for Anova is:  0.42264973081037427\n",
      "BAKERY P-Value for Anova is:  0.6690039160048643\n",
      "time\n",
      "afternoon    [3]\n",
      "Name: order_amount, dtype: object\n",
      "time\n",
      "morning    [2]\n",
      "Name: order_amount, dtype: object\n"
     ]
    }
   ],
   "source": [
    "# f_oneway() function takes the group data as input and returns F-statistic and P-value\n",
    "  \n",
    "# Finds out the Prices data for each FuelType as a list\n",
    "CategoryGroupLists1=df_storet1.groupby('time')['order_amount'].apply(list)\n",
    "CategoryGroupLists2=df_storet2.groupby('time')['order_amount'].apply(list)\n",
    "CategoryGroupLists3=df_storet3.groupby('time')['order_amount'].apply(list)\n",
    "CategoryGroupLists4=df_storet4.groupby('time')['order_amount'].apply(list)\n",
    "CategoryGroupLists5=df_storet5.groupby('time')['order_amount'].apply(list)\n",
    "\n",
    "\n",
    "# Performing the ANOVA test\n",
    "# We accept the Assumption(H0) only when P-Value &gt; 0.05\n",
    "AnovaResults = f_oneway(*CategoryGroupLists1)\n",
    "print('SUPERMARKET P-Value for Anova is: ', AnovaResults[1])\n",
    "AnovaResults = f_oneway(*CategoryGroupLists2)\n",
    "print('BUTCHER P-Value for Anova is: ', AnovaResults[1])\n",
    "AnovaResults = f_oneway(*CategoryGroupLists3)\n",
    "print('BAKERY P-Value for Anova is: ', AnovaResults[1])\n",
    "# AnovaResults = f_oneway(*CategoryGroupLists4)\n",
    "# print('DRUGSTORE P-Value for Anova is: ', AnovaResults[1])\n",
    "print(CategoryGroupLists4)\n",
    "# AnovaResults = f_oneway(*CategoryGroupLists5)\n",
    "# print('DRUGSTORE P-Value for Anova is: ', AnovaResults[1])\n",
    "print(CategoryGroupLists5)"
   ]
  },
  {
   "cell_type": "markdown",
   "id": "a13e2174",
   "metadata": {},
   "source": [
    "### Per STORE NAME"
   ]
  },
  {
   "cell_type": "code",
   "execution_count": 80,
   "id": "c711fca7",
   "metadata": {},
   "outputs": [],
   "source": [
    "# to select only one\n",
    "store1 = 'Albert Heijn'\n",
    "store2 = 'Sys'\n",
    "store3 = 'Okay'\n",
    "store4 = 'Delhaize'\n",
    "store5 = 'Versavel Poelman'\n",
    "store6 = 'Kruidvat'\n",
    "store7 = 'Brabo'\n",
    "store8 = 'Ikea'\n",
    "store9 = 'Carrefour'\n",
    "\n",
    "# select only these data for the df\n",
    "df_store1 = df_orders[df_orders['store_name'] == store1]\n",
    "df_store2 = df_orders[df_orders['store_name'] == store2]\n",
    "df_store3 = df_orders[df_orders['store_name'] == store3]\n",
    "df_store4 = df_orders[df_orders['store_name'] == store4]\n",
    "df_store5 = df_orders[df_orders['store_name'] == store5]\n",
    "df_store6 = df_orders[df_orders['store_name'] == store6]\n",
    "df_store7 = df_orders[df_orders['store_name'] == store7]\n",
    "df_store8 = df_orders[df_orders['store_name'] == store8]\n",
    "df_store9 = df_orders[df_orders['store_name'] == store9]"
   ]
  },
  {
   "cell_type": "code",
   "execution_count": 95,
   "id": "f2ecb831",
   "metadata": {},
   "outputs": [
    {
     "name": "stdout",
     "output_type": "stream",
     "text": [
      "AH P-Value for Anova is:  6.475969673425588e-10\n",
      "SYS P-Value for Anova is:  0.6690039160048643\n",
      "OKAY P-Value for Anova is:  0.2576792516738969\n",
      "DELHAIZE P-Value for Anova is:  0.0\n",
      "time\n",
      "morning    [7, 6, 7]\n",
      "Name: order_amount, dtype: object\n",
      "time\n",
      "afternoon    [3]\n",
      "Name: order_amount, dtype: object\n",
      "time\n",
      "afternoon    [6]\n",
      "Name: order_amount, dtype: object\n",
      "time\n",
      "morning    [2]\n",
      "Name: order_amount, dtype: object\n",
      "time\n",
      "afternoon    [31]\n",
      "Name: order_amount, dtype: object\n"
     ]
    }
   ],
   "source": [
    "# f_oneway() function takes the group data as input and returns F-statistic and P-value\n",
    "  \n",
    "# Finds out the Prices data for each FuelType as a list\n",
    "CategoryGroupLists1=df_store1.groupby('time')['order_amount'].apply(list)\n",
    "CategoryGroupLists2=df_store2.groupby('time')['order_amount'].apply(list)\n",
    "CategoryGroupLists3=df_store3.groupby('time')['order_amount'].apply(list)\n",
    "CategoryGroupLists4=df_store4.groupby('time')['order_amount'].apply(list)\n",
    "CategoryGroupLists5=df_store5.groupby('time')['order_amount'].apply(list)\n",
    "CategoryGroupLists6=df_store6.groupby('time')['order_amount'].apply(list)\n",
    "CategoryGroupLists7=df_store7.groupby('time')['order_amount'].apply(list)\n",
    "CategoryGroupLists8=df_store8.groupby('time')['order_amount'].apply(list)\n",
    "CategoryGroupLists9=df_store9.groupby('time')['order_amount'].apply(list)\n",
    "\n",
    "\n",
    "# Performing the ANOVA test\n",
    "# We accept the Assumption(H0) only when P-Value &gt; 0.05\n",
    "AnovaResults = f_oneway(*CategoryGroupLists1)\n",
    "print('AH P-Value for Anova is: ', AnovaResults[1])\n",
    "AnovaResults = f_oneway(*CategoryGroupLists2)\n",
    "print('SYS P-Value for Anova is: ', AnovaResults[1])\n",
    "AnovaResults = f_oneway(*CategoryGroupLists3)\n",
    "print('OKAY P-Value for Anova is: ', AnovaResults[1])\n",
    "AnovaResults = f_oneway(*CategoryGroupLists4)\n",
    "print('DELHAIZE P-Value for Anova is: ', AnovaResults[1])\n",
    "# AnovaResults = f_oneway(*CategoryGroupLists5)\n",
    "# print('VERSAVEL P-Value for Anova is: ', AnovaResults[1])\n",
    "print(CategoryGroupLists5)\n",
    "# AnovaResults = f_oneway(*CategoryGroupLists6)\n",
    "# print('KRUIDVAT P-Value for Anova is: ', AnovaResults[1])\n",
    "print(CategoryGroupLists6)\n",
    "# AnovaResults = f_oneway(*CategoryGroupLists7)\n",
    "# print('BRABO P-Value for Anova is: ', AnovaResults[1])\n",
    "print(CategoryGroupLists7)\n",
    "# AnovaResults = f_oneway(*CategoryGroupLists8)\n",
    "# print('IKEA P-Value for Anova is: ', AnovaResults[1])\n",
    "print(CategoryGroupLists8)\n",
    "# AnovaResults = f_oneway(*CategoryGroupLists9)\n",
    "# print('CARREFOUR P-Value for Anova is: ', AnovaResults[1])\n",
    "print(CategoryGroupLists9)"
   ]
  },
  {
   "cell_type": "markdown",
   "id": "9cd5b1bc",
   "metadata": {},
   "source": [
    "### Conclusion: order amount vs. store name (--vs. time)"
   ]
  },
  {
   "cell_type": "markdown",
   "id": "620f6088",
   "metadata": {},
   "source": [
    "- Can only be used for Albert Heijn\n",
    "\n",
    "Filter all others on store name - filter AH on store name & time"
   ]
  },
  {
   "cell_type": "markdown",
   "id": "5638e74d",
   "metadata": {},
   "source": [
    "# ORDER PRICE - Check the correlations"
   ]
  },
  {
   "cell_type": "markdown",
   "id": "37b8606b",
   "metadata": {},
   "source": [
    "## General correlations"
   ]
  },
  {
   "cell_type": "code",
   "execution_count": 105,
   "id": "d5a9508a",
   "metadata": {},
   "outputs": [
    {
     "name": "stdout",
     "output_type": "stream",
     "text": [
      "store_type\n",
      "bakery             [7.7, 5.272, 6.1, 7.7, 5.0, 4.9, 5.0, 11.9, 5....\n",
      "butcher                           [16.165, 20.0445, 15.414, 25.5715]\n",
      "drugstore                                                    [18.13]\n",
      "furniture store                                               [4.25]\n",
      "supermarket        [68.31142, 16.77, 6.99, 103.32998, 3.99, 62.86...\n",
      "Name: order_price, dtype: object\n",
      "P-Value for Anova is:  0.08955120505938295\n"
     ]
    }
   ],
   "source": [
    "# f_oneway() function takes the group data as input and returns F-statistic and P-value\n",
    " \n",
    "# Assumption(H0) is that amount and storeTYPE  are NOT correlated\n",
    " \n",
    "# Finds out the Prices data for each FuelType as a list\n",
    "CategoryGroupLists=df_orders.groupby('store_type')['order_price'].apply(list)\n",
    "print(CategoryGroupLists)\n",
    "\n",
    "# Performing the ANOVA test\n",
    "# We accept the Assumption(H0) only when P-Value &gt; 0.05\n",
    "AnovaResults = f_oneway(*CategoryGroupLists)\n",
    "print('P-Value for Anova is: ', AnovaResults[1])"
   ]
  },
  {
   "cell_type": "code",
   "execution_count": 106,
   "id": "de9e56fc",
   "metadata": {},
   "outputs": [
    {
     "name": "stdout",
     "output_type": "stream",
     "text": [
      "store_name\n",
      "Albert Heijn        [6.99, 3.99, 6.08, 5.49, 8.08, 8.08, 8.98, 7.3...\n",
      "Brabo                                                       [20.0445]\n",
      "Carrefour                                                  [68.31142]\n",
      "Delhaize                                [103.32998, 114.87834, 90.16]\n",
      "Ikea                                                           [4.25]\n",
      "Kruidvat                                                      [18.13]\n",
      "Okay                [16.77, 62.863083, 72.487014, 104.36096, 96.78...\n",
      "Sys                 [7.7, 5.272, 6.1, 7.7, 5.0, 4.9, 5.0, 11.9, 5....\n",
      "Versavel Poelman                            [16.165, 15.414, 25.5715]\n",
      "Name: order_price, dtype: object\n",
      "P-Value for Anova is:  9.226064091536042e-08\n"
     ]
    }
   ],
   "source": [
    "# f_oneway() function takes the group data as input and returns F-statistic and P-value\n",
    " \n",
    "# Assumption(H0) is that amount and storeNAME  are NOT correlated\n",
    " \n",
    "# Finds out the Prices data for each FuelType as a list\n",
    "CategoryGroupLists=df_orders.groupby('store_name')['order_price'].apply(list)\n",
    "print(CategoryGroupLists)\n",
    "\n",
    "# Performing the ANOVA test\n",
    "# We accept the Assumption(H0) only when P-Value &gt; 0.05\n",
    "AnovaResults = f_oneway(*CategoryGroupLists)\n",
    "print('P-Value for Anova is: ', AnovaResults[1])"
   ]
  },
  {
   "cell_type": "code",
   "execution_count": 107,
   "id": "69be0a04",
   "metadata": {},
   "outputs": [
    {
     "name": "stdout",
     "output_type": "stream",
     "text": [
      "time\n",
      "afternoon    [68.31142, 103.32998, 62.863083, 20.0445, 72.4...\n",
      "morning      [7.7, 16.165, 5.272, 3.99, 7.7, 5.0, 6.08, 4.9...\n",
      "noon         [16.77, 6.1, 6.99, 5.49, 8.08, 8.08, 8.98, 7.3...\n",
      "Name: order_price, dtype: object\n",
      "P-Value for Anova is:  0.01610355895308624\n"
     ]
    }
   ],
   "source": [
    "# aggregate afternoon and evening\n",
    "df_orders['time'] = df_orders['time'].replace(['afternoon', 'evening'], 'afternoon')\n",
    "\n",
    "# f_oneway() function takes the group data as input and returns F-statistic and P-value\n",
    " \n",
    "# Assumption(H0) is that amount and TIME  are NOT correlated\n",
    " \n",
    "# Finds out the Prices data for each FuelType as a list\n",
    "CategoryGroupLists=df_orders.groupby('time')['order_price'].apply(list)\n",
    "print(CategoryGroupLists)\n",
    "\n",
    "# Performing the ANOVA test\n",
    "# We accept the Assumption(H0) only when P-Value &gt; 0.05\n",
    "AnovaResults = f_oneway(*CategoryGroupLists)\n",
    "print('P-Value for Anova is: ', AnovaResults[1])"
   ]
  },
  {
   "cell_type": "code",
   "execution_count": 108,
   "id": "bced760c",
   "metadata": {},
   "outputs": [
    {
     "name": "stdout",
     "output_type": "stream",
     "text": [
      "P-Value for Anova is:  0.7949830606132088\n"
     ]
    }
   ],
   "source": [
    "# f_oneway() function takes the group data as input and returns F-statistic and P-value\n",
    " \n",
    "# Assumption(H0) is that amount and DAY  are NOT correlated\n",
    " \n",
    "# Finds out the Prices data for each FuelType as a list\n",
    "CategoryGroupLists=df_orders.groupby('day')['order_price'].apply(list)\n",
    "CategoryGroupLists\n",
    "\n",
    "# Performing the ANOVA test\n",
    "# We accept the Assumption(H0) only when P-Value &gt; 0.05\n",
    "AnovaResults = f_oneway(*CategoryGroupLists)\n",
    "print('P-Value for Anova is: ', AnovaResults[1])"
   ]
  },
  {
   "cell_type": "markdown",
   "id": "3ad38acc",
   "metadata": {},
   "source": [
    "## Narrowed down correlations - ORDER PRICE VS. TIME"
   ]
  },
  {
   "cell_type": "markdown",
   "id": "ab2f180a",
   "metadata": {},
   "source": [
    "### Per DAY"
   ]
  },
  {
   "cell_type": "code",
   "execution_count": 109,
   "id": "dfb0a7e7",
   "metadata": {},
   "outputs": [],
   "source": [
    "# define data\n",
    "Monday = 'Monday'\n",
    "Tuesday = 'Tuesday'\n",
    "Wednesday = 'Wednesday'\n",
    "Thursday = 'Thursday'\n",
    "Friday = 'Friday'\n",
    "Saturday = 'Saturday'\n",
    "Sunday = 'Sunday'\n",
    "\n",
    "# select only these data (for day, store, store name)\n",
    "df_Monday = df_orders[df_orders[\"day\"] == Monday]\n",
    "df_Tuesday = df_orders[df_orders[\"day\"] == Tuesday]\n",
    "df_Wednesday = df_orders[df_orders[\"day\"] == Wednesday]\n",
    "df_Thursday = df_orders[df_orders[\"day\"] == Thursday]\n",
    "df_Friday = df_orders[df_orders[\"day\"] == Friday]\n",
    "df_Saturday = df_orders[df_orders[\"day\"] == Saturday]\n",
    "df_Sunday = df_orders[df_orders[\"day\"] == Sunday]"
   ]
  },
  {
   "cell_type": "code",
   "execution_count": 110,
   "id": "c293970e",
   "metadata": {
    "scrolled": true
   },
   "outputs": [
    {
     "name": "stdout",
     "output_type": "stream",
     "text": [
      "P-Value for Anova is:  0.0036450956682666184\n",
      "P-Value for Anova is:  0.7216357606528963\n",
      "P-Value for Anova is:  0.7700264877157602\n",
      "P-Value for Anova is:  0.42647922284650996\n",
      "P-Value for Anova is:  nan\n",
      "P-Value for Anova is:  0.7577250982197045\n"
     ]
    }
   ],
   "source": [
    "# f_oneway() function takes the group data as input and returns F-statistic and P-value\n",
    "  \n",
    "# Finds out the Prices data for each FuelType as a list\n",
    "CategoryGroupLists1=df_Monday.groupby('time')['order_price'].apply(list)\n",
    "CategoryGroupLists2=df_Tuesday.groupby('time')['order_price'].apply(list)\n",
    "CategoryGroupLists3=df_Wednesday.groupby('time')['order_price'].apply(list)\n",
    "CategoryGroupLists4=df_Thursday.groupby('time')['order_price'].apply(list)\n",
    "CategoryGroupLists5=df_Friday.groupby('time')['order_price'].apply(list)\n",
    "CategoryGroupLists6=df_Saturday.groupby('time')['order_price'].apply(list)\n",
    "CategoryGroupLists7=df_Sunday.groupby('time')['order_price'].apply(list)\n",
    "\n",
    "# Performing the ANOVA test\n",
    "# We accept the Assumption(H0) only when P-Value &gt; 0.05\n",
    "AnovaResults = f_oneway(*CategoryGroupLists1)\n",
    "print('P-Value for Anova is: ', AnovaResults[1])\n",
    "AnovaResults = f_oneway(*CategoryGroupLists2)\n",
    "print('P-Value for Anova is: ', AnovaResults[1])\n",
    "AnovaResults = f_oneway(*CategoryGroupLists3)\n",
    "print('P-Value for Anova is: ', AnovaResults[1])\n",
    "AnovaResults = f_oneway(*CategoryGroupLists4)\n",
    "print('P-Value for Anova is: ', AnovaResults[1])\n",
    "AnovaResults = f_oneway(*CategoryGroupLists5)\n",
    "print('P-Value for Anova is: ', AnovaResults[1])\n",
    "AnovaResults = f_oneway(*CategoryGroupLists6)\n",
    "print('P-Value for Anova is: ', AnovaResults[1])\n",
    "# AnovaResults = f_oneway(*CategoryGroupLists7)\n",
    "# print('P-Value for Anova is: ', AnovaResults[1])"
   ]
  },
  {
   "cell_type": "markdown",
   "id": "64b38b98",
   "metadata": {},
   "source": [
    "### Per STORE TYPE"
   ]
  },
  {
   "cell_type": "code",
   "execution_count": 111,
   "id": "a91e6ae5",
   "metadata": {},
   "outputs": [],
   "source": [
    "# to select only one\n",
    "storet1 = 'supermarket'\n",
    "storet2 = 'butcher'\n",
    "storet3 = 'bakery'\n",
    "storet4 = 'drugstore'\n",
    "storet5 = 'furniture store'\n",
    "\n",
    "# select only these data for the df\n",
    "df_storet1 = df_orders[df_orders['store_type'] == storet1]\n",
    "df_storet2 = df_orders[df_orders['store_type'] == storet2]\n",
    "df_storet3 = df_orders[df_orders['store_type'] == storet3]\n",
    "df_storet4 = df_orders[df_orders['store_type'] == storet4]\n",
    "df_storet5 = df_orders[df_orders['store_type'] == storet5]"
   ]
  },
  {
   "cell_type": "code",
   "execution_count": 115,
   "id": "0f1fcbb3",
   "metadata": {},
   "outputs": [
    {
     "name": "stdout",
     "output_type": "stream",
     "text": [
      "SUPERMARKET P-Value for Anova is:  0.003798864978949632\n",
      "BUTCHER P-Value for Anova is:  0.8930393155583669\n",
      "BAKERY P-Value for Anova is:  0.7657211895158796\n",
      "time\n",
      "afternoon    [18.13]\n",
      "Name: order_price, dtype: object\n",
      "time\n",
      "morning    [4.25]\n",
      "Name: order_price, dtype: object\n"
     ]
    }
   ],
   "source": [
    "# f_oneway() function takes the group data as input and returns F-statistic and P-value\n",
    "  \n",
    "# Finds out the Prices data for each FuelType as a list\n",
    "CategoryGroupLists1=df_storet1.groupby('time')['order_price'].apply(list)\n",
    "CategoryGroupLists2=df_storet2.groupby('time')['order_price'].apply(list)\n",
    "CategoryGroupLists3=df_storet3.groupby('time')['order_price'].apply(list)\n",
    "CategoryGroupLists4=df_storet4.groupby('time')['order_price'].apply(list)\n",
    "CategoryGroupLists5=df_storet5.groupby('time')['order_price'].apply(list)\n",
    "\n",
    "\n",
    "# Performing the ANOVA test\n",
    "# We accept the Assumption(H0) only when P-Value &gt; 0.05\n",
    "AnovaResults = f_oneway(*CategoryGroupLists1)\n",
    "print('SUPERMARKET P-Value for Anova is: ', AnovaResults[1])\n",
    "AnovaResults = f_oneway(*CategoryGroupLists2)\n",
    "print('BUTCHER P-Value for Anova is: ', AnovaResults[1])\n",
    "AnovaResults = f_oneway(*CategoryGroupLists3)\n",
    "print('BAKERY P-Value for Anova is: ', AnovaResults[1])\n",
    "# AnovaResults = f_oneway(*CategoryGroupLists4)\n",
    "# print('DRUGSTORE P-Value for Anova is: ', AnovaResults[1])\n",
    "print(CategoryGroupLists4)\n",
    "# AnovaResults = f_oneway(*CategoryGroupLists5)\n",
    "# print('DRUGSTORE P-Value for Anova is: ', AnovaResults[1])\n",
    "print(CategoryGroupLists5)"
   ]
  },
  {
   "cell_type": "markdown",
   "id": "a9c92fe0",
   "metadata": {},
   "source": [
    "### Per STORE NAME"
   ]
  },
  {
   "cell_type": "code",
   "execution_count": 116,
   "id": "7709e48a",
   "metadata": {},
   "outputs": [],
   "source": [
    "# to select only one\n",
    "store1 = 'Albert Heijn'\n",
    "store2 = 'Sys'\n",
    "store3 = 'Okay'\n",
    "store4 = 'Delhaize'\n",
    "store5 = 'Versavel Poelman'\n",
    "store6 = 'Kruidvat'\n",
    "store7 = 'Brabo'\n",
    "store8 = 'Ikea'\n",
    "store9 = 'Carrefour'\n",
    "\n",
    "# select only these data for the df\n",
    "df_store1 = df_orders[df_orders['store_name'] == store1]\n",
    "df_store2 = df_orders[df_orders['store_name'] == store2]\n",
    "df_store3 = df_orders[df_orders['store_name'] == store3]\n",
    "df_store4 = df_orders[df_orders['store_name'] == store4]\n",
    "df_store5 = df_orders[df_orders['store_name'] == store5]\n",
    "df_store6 = df_orders[df_orders['store_name'] == store6]\n",
    "df_store7 = df_orders[df_orders['store_name'] == store7]\n",
    "df_store8 = df_orders[df_orders['store_name'] == store8]\n",
    "df_store9 = df_orders[df_orders['store_name'] == store9]"
   ]
  },
  {
   "cell_type": "code",
   "execution_count": 117,
   "id": "1ca94378",
   "metadata": {
    "scrolled": true
   },
   "outputs": [
    {
     "name": "stdout",
     "output_type": "stream",
     "text": [
      "AH P-Value for Anova is:  1.8167502542833585e-08\n",
      "SYS P-Value for Anova is:  0.7657211895158796\n",
      "OKAY P-Value for Anova is:  0.13084685615955635\n",
      "DELHAIZE P-Value for Anova is:  0.9758986299006994\n",
      "time\n",
      "morning    [16.165, 15.414, 25.5715]\n",
      "Name: order_price, dtype: object\n",
      "time\n",
      "afternoon    [18.13]\n",
      "Name: order_price, dtype: object\n",
      "time\n",
      "afternoon    [20.0445]\n",
      "Name: order_price, dtype: object\n",
      "time\n",
      "morning    [4.25]\n",
      "Name: order_price, dtype: object\n",
      "time\n",
      "afternoon    [68.31142]\n",
      "Name: order_price, dtype: object\n"
     ]
    }
   ],
   "source": [
    "# f_oneway() function takes the group data as input and returns F-statistic and P-value\n",
    "  \n",
    "# Finds out the Prices data for each FuelType as a list\n",
    "CategoryGroupLists1=df_store1.groupby('time')['order_price'].apply(list)\n",
    "CategoryGroupLists2=df_store2.groupby('time')['order_price'].apply(list)\n",
    "CategoryGroupLists3=df_store3.groupby('time')['order_price'].apply(list)\n",
    "CategoryGroupLists4=df_store4.groupby('time')['order_price'].apply(list)\n",
    "CategoryGroupLists5=df_store5.groupby('time')['order_price'].apply(list)\n",
    "CategoryGroupLists6=df_store6.groupby('time')['order_price'].apply(list)\n",
    "CategoryGroupLists7=df_store7.groupby('time')['order_price'].apply(list)\n",
    "CategoryGroupLists8=df_store8.groupby('time')['order_price'].apply(list)\n",
    "CategoryGroupLists9=df_store9.groupby('time')['order_price'].apply(list)\n",
    "\n",
    "\n",
    "# Performing the ANOVA test\n",
    "# We accept the Assumption(H0) only when P-Value &gt; 0.05\n",
    "AnovaResults = f_oneway(*CategoryGroupLists1)\n",
    "print('AH P-Value for Anova is: ', AnovaResults[1])\n",
    "AnovaResults = f_oneway(*CategoryGroupLists2)\n",
    "print('SYS P-Value for Anova is: ', AnovaResults[1])\n",
    "AnovaResults = f_oneway(*CategoryGroupLists3)\n",
    "print('OKAY P-Value for Anova is: ', AnovaResults[1])\n",
    "AnovaResults = f_oneway(*CategoryGroupLists4)\n",
    "print('DELHAIZE P-Value for Anova is: ', AnovaResults[1])\n",
    "# AnovaResults = f_oneway(*CategoryGroupLists5)\n",
    "# print('VERSAVEL P-Value for Anova is: ', AnovaResults[1])\n",
    "print(CategoryGroupLists5)\n",
    "# AnovaResults = f_oneway(*CategoryGroupLists6)\n",
    "# print('KRUIDVAT P-Value for Anova is: ', AnovaResults[1])\n",
    "print(CategoryGroupLists6)\n",
    "# AnovaResults = f_oneway(*CategoryGroupLists7)\n",
    "# print('BRABO P-Value for Anova is: ', AnovaResults[1])\n",
    "print(CategoryGroupLists7)\n",
    "# AnovaResults = f_oneway(*CategoryGroupLists8)\n",
    "# print('IKEA P-Value for Anova is: ', AnovaResults[1])\n",
    "print(CategoryGroupLists8)\n",
    "# AnovaResults = f_oneway(*CategoryGroupLists9)\n",
    "# print('CARREFOUR P-Value for Anova is: ', AnovaResults[1])\n",
    "print(CategoryGroupLists9)"
   ]
  },
  {
   "cell_type": "markdown",
   "id": "164ad5aa",
   "metadata": {},
   "source": [
    "### Conclusion: order price vs. store name (--vs. time)"
   ]
  },
  {
   "cell_type": "markdown",
   "id": "d79316b2",
   "metadata": {},
   "source": [
    "- Can only be used for Albert Heijn\n",
    "\n",
    "Filter all others on store name - filter AH on store name & time"
   ]
  }
 ],
 "metadata": {
  "kernelspec": {
   "display_name": "Python 3 (ipykernel)",
   "language": "python",
   "name": "python3"
  },
  "language_info": {
   "codemirror_mode": {
    "name": "ipython",
    "version": 3
   },
   "file_extension": ".py",
   "mimetype": "text/x-python",
   "name": "python",
   "nbconvert_exporter": "python",
   "pygments_lexer": "ipython3",
   "version": "3.9.7"
  }
 },
 "nbformat": 4,
 "nbformat_minor": 5
}

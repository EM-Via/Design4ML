{
 "cells": [
  {
   "cell_type": "markdown",
   "id": "2cce2977",
   "metadata": {},
   "source": [
    "# X.2: FILTER - HOW MUCH WILL THEY SHOP?"
   ]
  },
  {
   "cell_type": "markdown",
   "id": "87a037df",
   "metadata": {},
   "source": [
    "### Import libraries "
   ]
  },
  {
   "cell_type": "code",
   "execution_count": 5,
   "id": "419cb39a",
   "metadata": {},
   "outputs": [],
   "source": [
    "# %matplotlib notebook\n",
    "%matplotlib inline\n",
    "#Pandas is a software library written for the Python programming language for data manipulation and analysis.\n",
    "import pandas as pd\n",
    "#NumPy is a library for the Python programming language, adding support for large, multi-dimensional arrays and matrices, along with a large collection of high-level mathematical functions to operate on these arrays\n",
    "import numpy as np\n",
    "# Matplotlib is a plotting library for python and pyplot gives us a MatLab like plotting framework. We will use this in our plotter function to plot data.\n",
    "import matplotlib.pyplot as plt\n",
    "#Seaborn is a Python data visualization library based on matplotlib. It provides a high-level interface for drawing attractive and informative statistical graphics\n",
    "import seaborn as sns\n",
    "import dataframe_image as dfi\n",
    "from datetime import time\n",
    "import matplotlib.dates as mdates\n",
    "from matplotlib.ticker import StrMethodFormatter\n",
    "from matplotlib.pyplot import figure\n",
    "\n",
    "\n",
    "\n",
    "from sklearn.cluster import KMeans\n",
    "from sklearn.datasets import make_blobs\n",
    "from sklearn.ensemble import RandomForestClassifier\n",
    "from sklearn.linear_model import LinearRegression\n",
    "from sklearn.metrics import mean_absolute_error, mean_squared_error\n",
    "from sklearn.tree import DecisionTreeClassifier, export_graphviz, plot_tree\n",
    "\n",
    "# importing the required function\n",
    "from scipy.stats import chi2_contingency"
   ]
  },
  {
   "cell_type": "markdown",
   "id": "f10011bb",
   "metadata": {},
   "source": [
    "### Load and view data "
   ]
  },
  {
   "cell_type": "code",
   "execution_count": 6,
   "id": "f90057bd",
   "metadata": {},
   "outputs": [
    {
     "data": {
      "text/html": [
       "<div>\n",
       "<style scoped>\n",
       "    .dataframe tbody tr th:only-of-type {\n",
       "        vertical-align: middle;\n",
       "    }\n",
       "\n",
       "    .dataframe tbody tr th {\n",
       "        vertical-align: top;\n",
       "    }\n",
       "\n",
       "    .dataframe thead th {\n",
       "        text-align: right;\n",
       "    }\n",
       "</style>\n",
       "<table border=\"1\" class=\"dataframe\">\n",
       "  <thead>\n",
       "    <tr style=\"text-align: right;\">\n",
       "      <th></th>\n",
       "      <th>week</th>\n",
       "      <th>order_ID</th>\n",
       "      <th>item_name</th>\n",
       "      <th>amount</th>\n",
       "      <th>price_unit</th>\n",
       "      <th>price_total</th>\n",
       "      <th>item_type</th>\n",
       "      <th>category</th>\n",
       "      <th>day</th>\n",
       "      <th>time</th>\n",
       "      <th>...</th>\n",
       "      <th>storename_num</th>\n",
       "      <th>cat_num</th>\n",
       "      <th>time_num</th>\n",
       "      <th>promo_num</th>\n",
       "      <th>datetime</th>\n",
       "      <th>timestamp</th>\n",
       "      <th>dates</th>\n",
       "      <th>times</th>\n",
       "      <th>times_min</th>\n",
       "      <th>dates_days</th>\n",
       "    </tr>\n",
       "  </thead>\n",
       "  <tbody>\n",
       "    <tr>\n",
       "      <th>count</th>\n",
       "      <td>266.000000</td>\n",
       "      <td>266.000000</td>\n",
       "      <td>266</td>\n",
       "      <td>266.000000</td>\n",
       "      <td>266.000000</td>\n",
       "      <td>266.000000</td>\n",
       "      <td>266</td>\n",
       "      <td>266</td>\n",
       "      <td>266</td>\n",
       "      <td>266</td>\n",
       "      <td>...</td>\n",
       "      <td>266.000000</td>\n",
       "      <td>266.000000</td>\n",
       "      <td>266.000000</td>\n",
       "      <td>266.000000</td>\n",
       "      <td>266</td>\n",
       "      <td>2.660000e+02</td>\n",
       "      <td>266</td>\n",
       "      <td>266</td>\n",
       "      <td>266.000000</td>\n",
       "      <td>2.660000e+02</td>\n",
       "    </tr>\n",
       "    <tr>\n",
       "      <th>unique</th>\n",
       "      <td>NaN</td>\n",
       "      <td>NaN</td>\n",
       "      <td>219</td>\n",
       "      <td>NaN</td>\n",
       "      <td>NaN</td>\n",
       "      <td>NaN</td>\n",
       "      <td>103</td>\n",
       "      <td>15</td>\n",
       "      <td>6</td>\n",
       "      <td>3</td>\n",
       "      <td>...</td>\n",
       "      <td>NaN</td>\n",
       "      <td>NaN</td>\n",
       "      <td>NaN</td>\n",
       "      <td>NaN</td>\n",
       "      <td>18</td>\n",
       "      <td>NaN</td>\n",
       "      <td>16</td>\n",
       "      <td>18</td>\n",
       "      <td>NaN</td>\n",
       "      <td>NaN</td>\n",
       "    </tr>\n",
       "    <tr>\n",
       "      <th>top</th>\n",
       "      <td>NaN</td>\n",
       "      <td>NaN</td>\n",
       "      <td>BONI brood keizer 6x50g</td>\n",
       "      <td>NaN</td>\n",
       "      <td>NaN</td>\n",
       "      <td>NaN</td>\n",
       "      <td>sandwiches</td>\n",
       "      <td>bakery</td>\n",
       "      <td>Wednesday</td>\n",
       "      <td>evening</td>\n",
       "      <td>...</td>\n",
       "      <td>NaN</td>\n",
       "      <td>NaN</td>\n",
       "      <td>NaN</td>\n",
       "      <td>NaN</td>\n",
       "      <td>2021-11-23 18:41:00</td>\n",
       "      <td>NaN</td>\n",
       "      <td>2021-11-23</td>\n",
       "      <td>18:41:00</td>\n",
       "      <td>NaN</td>\n",
       "      <td>NaN</td>\n",
       "    </tr>\n",
       "    <tr>\n",
       "      <th>freq</th>\n",
       "      <td>NaN</td>\n",
       "      <td>NaN</td>\n",
       "      <td>5</td>\n",
       "      <td>NaN</td>\n",
       "      <td>NaN</td>\n",
       "      <td>NaN</td>\n",
       "      <td>17</td>\n",
       "      <td>42</td>\n",
       "      <td>91</td>\n",
       "      <td>168</td>\n",
       "      <td>...</td>\n",
       "      <td>NaN</td>\n",
       "      <td>NaN</td>\n",
       "      <td>NaN</td>\n",
       "      <td>NaN</td>\n",
       "      <td>39</td>\n",
       "      <td>NaN</td>\n",
       "      <td>39</td>\n",
       "      <td>39</td>\n",
       "      <td>NaN</td>\n",
       "      <td>NaN</td>\n",
       "    </tr>\n",
       "    <tr>\n",
       "      <th>mean</th>\n",
       "      <td>4.706767</td>\n",
       "      <td>9.112782</td>\n",
       "      <td>NaN</td>\n",
       "      <td>1.338346</td>\n",
       "      <td>2.285553</td>\n",
       "      <td>2.645734</td>\n",
       "      <td>NaN</td>\n",
       "      <td>NaN</td>\n",
       "      <td>NaN</td>\n",
       "      <td>NaN</td>\n",
       "      <td>...</td>\n",
       "      <td>2.266917</td>\n",
       "      <td>7.657895</td>\n",
       "      <td>0.800752</td>\n",
       "      <td>0.018797</td>\n",
       "      <td>NaN</td>\n",
       "      <td>1.641034e+18</td>\n",
       "      <td>NaN</td>\n",
       "      <td>NaN</td>\n",
       "      <td>1744.428571</td>\n",
       "      <td>2.021637e+07</td>\n",
       "    </tr>\n",
       "    <tr>\n",
       "      <th>std</th>\n",
       "      <td>2.551454</td>\n",
       "      <td>5.116240</td>\n",
       "      <td>NaN</td>\n",
       "      <td>1.218643</td>\n",
       "      <td>2.672999</td>\n",
       "      <td>2.927494</td>\n",
       "      <td>NaN</td>\n",
       "      <td>NaN</td>\n",
       "      <td>NaN</td>\n",
       "      <td>NaN</td>\n",
       "      <td>...</td>\n",
       "      <td>1.713486</td>\n",
       "      <td>4.764598</td>\n",
       "      <td>0.690747</td>\n",
       "      <td>0.136063</td>\n",
       "      <td>NaN</td>\n",
       "      <td>2.401568e+15</td>\n",
       "      <td>NaN</td>\n",
       "      <td>NaN</td>\n",
       "      <td>165.970686</td>\n",
       "      <td>4.437701e+03</td>\n",
       "    </tr>\n",
       "    <tr>\n",
       "      <th>min</th>\n",
       "      <td>1.000000</td>\n",
       "      <td>1.000000</td>\n",
       "      <td>NaN</td>\n",
       "      <td>1.000000</td>\n",
       "      <td>0.193120</td>\n",
       "      <td>0.193120</td>\n",
       "      <td>NaN</td>\n",
       "      <td>NaN</td>\n",
       "      <td>NaN</td>\n",
       "      <td>NaN</td>\n",
       "      <td>...</td>\n",
       "      <td>0.000000</td>\n",
       "      <td>0.000000</td>\n",
       "      <td>0.000000</td>\n",
       "      <td>0.000000</td>\n",
       "      <td>NaN</td>\n",
       "      <td>1.637693e+18</td>\n",
       "      <td>NaN</td>\n",
       "      <td>NaN</td>\n",
       "      <td>1146.000000</td>\n",
       "      <td>2.021112e+07</td>\n",
       "    </tr>\n",
       "    <tr>\n",
       "      <th>25%</th>\n",
       "      <td>2.000000</td>\n",
       "      <td>4.000000</td>\n",
       "      <td>NaN</td>\n",
       "      <td>1.000000</td>\n",
       "      <td>0.990000</td>\n",
       "      <td>1.190000</td>\n",
       "      <td>NaN</td>\n",
       "      <td>NaN</td>\n",
       "      <td>NaN</td>\n",
       "      <td>NaN</td>\n",
       "      <td>...</td>\n",
       "      <td>1.000000</td>\n",
       "      <td>4.000000</td>\n",
       "      <td>0.000000</td>\n",
       "      <td>0.000000</td>\n",
       "      <td>NaN</td>\n",
       "      <td>1.638385e+18</td>\n",
       "      <td>NaN</td>\n",
       "      <td>NaN</td>\n",
       "      <td>1658.000000</td>\n",
       "      <td>2.021120e+07</td>\n",
       "    </tr>\n",
       "    <tr>\n",
       "      <th>50%</th>\n",
       "      <td>5.000000</td>\n",
       "      <td>10.000000</td>\n",
       "      <td>NaN</td>\n",
       "      <td>1.000000</td>\n",
       "      <td>1.655000</td>\n",
       "      <td>1.890000</td>\n",
       "      <td>NaN</td>\n",
       "      <td>NaN</td>\n",
       "      <td>NaN</td>\n",
       "      <td>NaN</td>\n",
       "      <td>...</td>\n",
       "      <td>2.000000</td>\n",
       "      <td>9.000000</td>\n",
       "      <td>1.000000</td>\n",
       "      <td>0.000000</td>\n",
       "      <td>NaN</td>\n",
       "      <td>1.641840e+18</td>\n",
       "      <td>NaN</td>\n",
       "      <td>NaN</td>\n",
       "      <td>1810.000000</td>\n",
       "      <td>2.022011e+07</td>\n",
       "    </tr>\n",
       "    <tr>\n",
       "      <th>75%</th>\n",
       "      <td>7.000000</td>\n",
       "      <td>12.000000</td>\n",
       "      <td>NaN</td>\n",
       "      <td>1.000000</td>\n",
       "      <td>2.592940</td>\n",
       "      <td>2.990000</td>\n",
       "      <td>NaN</td>\n",
       "      <td>NaN</td>\n",
       "      <td>NaN</td>\n",
       "      <td>NaN</td>\n",
       "      <td>...</td>\n",
       "      <td>2.000000</td>\n",
       "      <td>11.000000</td>\n",
       "      <td>1.000000</td>\n",
       "      <td>0.000000</td>\n",
       "      <td>NaN</td>\n",
       "      <td>1.643216e+18</td>\n",
       "      <td>NaN</td>\n",
       "      <td>NaN</td>\n",
       "      <td>1841.000000</td>\n",
       "      <td>2.022013e+07</td>\n",
       "    </tr>\n",
       "    <tr>\n",
       "      <th>max</th>\n",
       "      <td>8.000000</td>\n",
       "      <td>18.000000</td>\n",
       "      <td>NaN</td>\n",
       "      <td>12.000000</td>\n",
       "      <td>29.950000</td>\n",
       "      <td>29.950000</td>\n",
       "      <td>NaN</td>\n",
       "      <td>NaN</td>\n",
       "      <td>NaN</td>\n",
       "      <td>NaN</td>\n",
       "      <td>...</td>\n",
       "      <td>9.000000</td>\n",
       "      <td>14.000000</td>\n",
       "      <td>3.000000</td>\n",
       "      <td>1.000000</td>\n",
       "      <td>NaN</td>\n",
       "      <td>1.644151e+18</td>\n",
       "      <td>NaN</td>\n",
       "      <td>NaN</td>\n",
       "      <td>1900.000000</td>\n",
       "      <td>2.022021e+07</td>\n",
       "    </tr>\n",
       "  </tbody>\n",
       "</table>\n",
       "<p>11 rows × 30 columns</p>\n",
       "</div>"
      ],
      "text/plain": [
       "              week    order_ID                item_name      amount  \\\n",
       "count   266.000000  266.000000                      266  266.000000   \n",
       "unique         NaN         NaN                      219         NaN   \n",
       "top            NaN         NaN  BONI brood keizer 6x50g         NaN   \n",
       "freq           NaN         NaN                        5         NaN   \n",
       "mean      4.706767    9.112782                      NaN    1.338346   \n",
       "std       2.551454    5.116240                      NaN    1.218643   \n",
       "min       1.000000    1.000000                      NaN    1.000000   \n",
       "25%       2.000000    4.000000                      NaN    1.000000   \n",
       "50%       5.000000   10.000000                      NaN    1.000000   \n",
       "75%       7.000000   12.000000                      NaN    1.000000   \n",
       "max       8.000000   18.000000                      NaN   12.000000   \n",
       "\n",
       "        price_unit  price_total   item_type category        day     time  ...  \\\n",
       "count   266.000000   266.000000         266      266        266      266  ...   \n",
       "unique         NaN          NaN         103       15          6        3  ...   \n",
       "top            NaN          NaN  sandwiches   bakery  Wednesday  evening  ...   \n",
       "freq           NaN          NaN          17       42         91      168  ...   \n",
       "mean      2.285553     2.645734         NaN      NaN        NaN      NaN  ...   \n",
       "std       2.672999     2.927494         NaN      NaN        NaN      NaN  ...   \n",
       "min       0.193120     0.193120         NaN      NaN        NaN      NaN  ...   \n",
       "25%       0.990000     1.190000         NaN      NaN        NaN      NaN  ...   \n",
       "50%       1.655000     1.890000         NaN      NaN        NaN      NaN  ...   \n",
       "75%       2.592940     2.990000         NaN      NaN        NaN      NaN  ...   \n",
       "max      29.950000    29.950000         NaN      NaN        NaN      NaN  ...   \n",
       "\n",
       "       storename_num     cat_num    time_num   promo_num             datetime  \\\n",
       "count     266.000000  266.000000  266.000000  266.000000                  266   \n",
       "unique           NaN         NaN         NaN         NaN                   18   \n",
       "top              NaN         NaN         NaN         NaN  2021-11-23 18:41:00   \n",
       "freq             NaN         NaN         NaN         NaN                   39   \n",
       "mean        2.266917    7.657895    0.800752    0.018797                  NaN   \n",
       "std         1.713486    4.764598    0.690747    0.136063                  NaN   \n",
       "min         0.000000    0.000000    0.000000    0.000000                  NaN   \n",
       "25%         1.000000    4.000000    0.000000    0.000000                  NaN   \n",
       "50%         2.000000    9.000000    1.000000    0.000000                  NaN   \n",
       "75%         2.000000   11.000000    1.000000    0.000000                  NaN   \n",
       "max         9.000000   14.000000    3.000000    1.000000                  NaN   \n",
       "\n",
       "           timestamp       dates     times    times_min    dates_days  \n",
       "count   2.660000e+02         266       266   266.000000  2.660000e+02  \n",
       "unique           NaN          16        18          NaN           NaN  \n",
       "top              NaN  2021-11-23  18:41:00          NaN           NaN  \n",
       "freq             NaN          39        39          NaN           NaN  \n",
       "mean    1.641034e+18         NaN       NaN  1744.428571  2.021637e+07  \n",
       "std     2.401568e+15         NaN       NaN   165.970686  4.437701e+03  \n",
       "min     1.637693e+18         NaN       NaN  1146.000000  2.021112e+07  \n",
       "25%     1.638385e+18         NaN       NaN  1658.000000  2.021120e+07  \n",
       "50%     1.641840e+18         NaN       NaN  1810.000000  2.022011e+07  \n",
       "75%     1.643216e+18         NaN       NaN  1841.000000  2.022013e+07  \n",
       "max     1.644151e+18         NaN       NaN  1900.000000  2.022021e+07  \n",
       "\n",
       "[11 rows x 30 columns]"
      ]
     },
     "execution_count": 6,
     "metadata": {},
     "output_type": "execute_result"
    }
   ],
   "source": [
    "df = pd.read_csv (r\"C:\\Users\\20204113\\OneDrive - TU Eindhoven\\2_Research\\1_Groceries\\DATA\\9th week - narrative (3rd attempt)\\HH3\\df\\df_HH3.csv\")\n",
    "\n",
    "# del df[\"HH\"]\n",
    "df.describe(include='all')"
   ]
  },
  {
   "cell_type": "code",
   "execution_count": 7,
   "id": "2750f198",
   "metadata": {},
   "outputs": [],
   "source": [
    "# use the corr function to display the correlation between all the features\n",
    "data_corr = df.corr()\n",
    "# data_corr"
   ]
  },
  {
   "cell_type": "code",
   "execution_count": 8,
   "id": "52e43b89",
   "metadata": {},
   "outputs": [],
   "source": [
    "# df_count = df[['order_ID','store_name', 'day']]\n",
    "# df_count = df_count.drop_duplicates()\n",
    "# df_count = df_count.drop(columns=['order_ID'])\n",
    "# df_count.head()"
   ]
  },
  {
   "cell_type": "code",
   "execution_count": 9,
   "id": "04b6a807",
   "metadata": {},
   "outputs": [],
   "source": [
    "df_orders = df[['week','order_ID', 'store_name', 'storename_num', 'store_type', 'storetype_num','day', 'day_num', 'time', 'time_num', 'timestamp', 'times', 'dates', 'times_min', 'dates_days', 'order_amount', 'order_price']]\n",
    "df_orders = df_orders.drop_duplicates()"
   ]
  },
  {
   "cell_type": "code",
   "execution_count": 10,
   "id": "23c2cf83",
   "metadata": {},
   "outputs": [],
   "source": [
    "#Let's try afternoon and evening as one group\n",
    "df_orders['time'] = df_orders['time'].replace(['afternoon', 'evening'], 'afternoon')"
   ]
  },
  {
   "cell_type": "markdown",
   "id": "ad58df95",
   "metadata": {},
   "source": [
    "# GENERAL CORRELATIONS"
   ]
  },
  {
   "cell_type": "markdown",
   "id": "31a64028",
   "metadata": {},
   "source": [
    "## 1.1 AMOUNT vs DAY (all orders)"
   ]
  },
  {
   "cell_type": "code",
   "execution_count": 17,
   "id": "ab70bb4c",
   "metadata": {},
   "outputs": [
    {
     "name": "stdout",
     "output_type": "stream",
     "text": [
      "P-Value for Anova is:  0.06710202965416219\n"
     ]
    }
   ],
   "source": [
    "# f_oneway() function takes the group data as input and \n",
    "# returns F-statistic and P-value\n",
    "from scipy.stats import f_oneway\n",
    " \n",
    "# Assumption(H0) is that day and times are NOT correlated\n",
    " \n",
    "# Finds out the Prices data for each FuelType as a list\n",
    "CategoryGroupLists=df_orders.groupby('day')['order_amount'].apply(list)\n",
    " \n",
    "# Performing the ANOVA test\n",
    "# We reject the Assumption(H0) only when P-Value < 0.05\n",
    "AnovaResults = f_oneway(*CategoryGroupLists)\n",
    "print('P-Value for Anova is: ', AnovaResults[1])"
   ]
  },
  {
   "cell_type": "code",
   "execution_count": 18,
   "id": "c75283d2",
   "metadata": {},
   "outputs": [
    {
     "data": {
      "image/png": "[encoded data removed]",
      "text/plain": [
       "<Figure size 1200x160 with 1 Axes>"
      ]
     },
     "metadata": {
      "needs_background": "light"
     },
     "output_type": "display_data"
    }
   ],
   "source": [
    "figure(figsize=(17, 2), dpi=80)\n",
    "plt.xticks(rotation=45, ha='right')\n",
    "\n",
    "sns.scatterplot(data=df_orders, x='order_amount', y='day')\n",
    "\n",
    "# get the Pearson correlation between both variables\n",
    "current_corr = round(AnovaResults[1], 2)\n",
    "\n",
    "# give the graph a title and labels\n",
    "plt.title(f\"The Anova P-value between day & amount = (r={current_corr})\")\n",
    "\n",
    "# call the graph (show function)\n",
    "plt.grid(False)\n",
    "plt.show()"
   ]
  },
  {
   "cell_type": "markdown",
   "id": "8e2fccc3",
   "metadata": {},
   "source": [
    "## 1.2 AMOUNT vs TIME (all orders)"
   ]
  },
  {
   "cell_type": "code",
   "execution_count": 19,
   "id": "054a3b24",
   "metadata": {},
   "outputs": [
    {
     "name": "stdout",
     "output_type": "stream",
     "text": [
      "P-Value for Anova is:  0.06641048468644299\n"
     ]
    }
   ],
   "source": [
    "# f_oneway() function takes the group data as input and \n",
    "# returns F-statistic and P-value\n",
    "from scipy.stats import f_oneway\n",
    " \n",
    "# Assumption(H0) is that day and times are NOT correlated\n",
    " \n",
    "# Finds out the Prices data for each FuelType as a list\n",
    "CategoryGroupLists=df_orders.groupby('time')['order_amount'].apply(list)\n",
    " \n",
    "# Performing the ANOVA test\n",
    "# We reject the Assumption(H0) only when P-Value < 0.05\n",
    "AnovaResults = f_oneway(*CategoryGroupLists)\n",
    "print('P-Value for Anova is: ', AnovaResults[1])"
   ]
  },
  {
   "cell_type": "code",
   "execution_count": 20,
   "id": "70f26c08",
   "metadata": {},
   "outputs": [
    {
     "data": {
      "image/png": "[encoded data removed]",
      "text/plain": [
       "<Figure size 1200x160 with 1 Axes>"
      ]
     },
     "metadata": {
      "needs_background": "light"
     },
     "output_type": "display_data"
    }
   ],
   "source": [
    "figure(figsize=(15, 2), dpi=80)\n",
    "plt.xticks(rotation=45, ha='right')\n",
    "\n",
    "sns.scatterplot(data=df_orders, x='order_amount', y='time')\n",
    "\n",
    "# get the Pearson correlation between both variables\n",
    "current_corr = round(AnovaResults[1], 2)\n",
    "\n",
    "# give the graph a title and labels\n",
    "plt.title(f\"The Anova P-value between amount & time = (r={current_corr})\")\n",
    "\n",
    "# call the graph (show function)\n",
    "plt.grid(False)\n",
    "plt.show()"
   ]
  },
  {
   "cell_type": "markdown",
   "id": "4d4d7699",
   "metadata": {},
   "source": [
    "## 1.3 AMOUNT vs STORE (all orders)"
   ]
  },
  {
   "cell_type": "markdown",
   "id": "486b15df",
   "metadata": {},
   "source": [
    "### Store NAME"
   ]
  },
  {
   "cell_type": "code",
   "execution_count": 23,
   "id": "c509a307",
   "metadata": {},
   "outputs": [
    {
     "name": "stdout",
     "output_type": "stream",
     "text": [
      "P-Value for Anova is:  0.05361786313705605\n"
     ]
    }
   ],
   "source": [
    "# f_oneway() function takes the group data as input and \n",
    "# returns F-statistic and P-value\n",
    "from scipy.stats import f_oneway\n",
    " \n",
    "# Assumption(H0) is that day and times are NOT correlated\n",
    " \n",
    "# Finds out the Prices data for each FuelType as a list\n",
    "CategoryGroupLists=df_orders.groupby('store_name')['order_amount'].apply(list)\n",
    " \n",
    "# Performing the ANOVA test\n",
    "# We reject the Assumption(H0) only when P-Value < 0.05\n",
    "AnovaResults = f_oneway(*CategoryGroupLists)\n",
    "print('P-Value for Anova is: ', AnovaResults[1])"
   ]
  },
  {
   "cell_type": "code",
   "execution_count": 24,
   "id": "c6ec4060",
   "metadata": {
    "scrolled": true
   },
   "outputs": [
    {
     "data": {
      "image/png": "[encoded data removed]",
      "text/plain": [
       "<Figure size 1200x320 with 1 Axes>"
      ]
     },
     "metadata": {
      "needs_background": "light"
     },
     "output_type": "display_data"
    }
   ],
   "source": [
    "figure(figsize=(15, 4), dpi=80)\n",
    "plt.xticks(rotation=45, ha='right')\n",
    "\n",
    "sns.scatterplot(data=df_orders, x='order_amount', y='store_name')\n",
    "\n",
    "# get the Pearson correlation between both variables\n",
    "current_corr = round(AnovaResults[1], 2)\n",
    "\n",
    "# give the graph a title and labels\n",
    "plt.title(f\"The Anova P-value between amount & store name = (r={current_corr})\")\n",
    "\n",
    "# call the graph (show function)\n",
    "plt.grid(False)\n",
    "plt.show()"
   ]
  },
  {
   "cell_type": "markdown",
   "id": "17e5f8f1",
   "metadata": {},
   "source": [
    "### Store TYPE"
   ]
  },
  {
   "cell_type": "code",
   "execution_count": 21,
   "id": "69c2ca36",
   "metadata": {},
   "outputs": [
    {
     "name": "stdout",
     "output_type": "stream",
     "text": [
      "P-Value for Anova is:  0.0255199585699541\n"
     ]
    }
   ],
   "source": [
    "# f_oneway() function takes the group data as input and \n",
    "# returns F-statistic and P-value\n",
    "from scipy.stats import f_oneway\n",
    " \n",
    "# Assumption(H0) is that day and times are NOT correlated\n",
    " \n",
    "# Finds out the Prices data for each FuelType as a list\n",
    "CategoryGroupLists=df_orders.groupby('store_type')['order_amount'].apply(list)\n",
    " \n",
    "# Performing the ANOVA test\n",
    "# We reject the Assumption(H0) only when P-Value < 0.05\n",
    "AnovaResults = f_oneway(*CategoryGroupLists)\n",
    "print('P-Value for Anova is: ', AnovaResults[1])"
   ]
  },
  {
   "cell_type": "code",
   "execution_count": 22,
   "id": "14fe3f0f",
   "metadata": {},
   "outputs": [
    {
     "data": {
      "image/png": "[encoded data removed]",
      "text/plain": [
       "<Figure size 1200x160 with 1 Axes>"
      ]
     },
     "metadata": {
      "needs_background": "light"
     },
     "output_type": "display_data"
    }
   ],
   "source": [
    "figure(figsize=(15, 2), dpi=80)\n",
    "plt.xticks(rotation=45, ha='right')\n",
    "\n",
    "sns.scatterplot(data=df_orders, x='order_amount', y='store_type')\n",
    "\n",
    "# get the Pearson correlation between both variables\n",
    "current_corr = round(AnovaResults[1], 2)\n",
    "\n",
    "# give the graph a title and labels\n",
    "plt.title(f\"The Anova P-value between amount & store type = (r={current_corr})\")\n",
    "\n",
    "# call the graph (show function)\n",
    "plt.grid(False)\n",
    "plt.show()"
   ]
  },
  {
   "cell_type": "code",
   "execution_count": 22,
   "id": "fb9fa71c",
   "metadata": {},
   "outputs": [
    {
     "name": "stdout",
     "output_type": "stream",
     "text": [
      "P-Value for Anova is:  0.12421712633874211\n"
     ]
    }
   ],
   "source": [
    "# to select only supermarkets\n",
    "storet1 = 'supermarket'\n",
    "\n",
    "# select only these data for the df\n",
    "df_storet1 = df_orders[df_orders['store_type'] == storet1]\n",
    "\n",
    "# Finds out the Prices data for each FuelType as a list\n",
    "CategoryGroupLists=df_storet1.groupby('store_name')['order_amount'].apply(list)\n",
    " \n",
    "# Performing the ANOVA test\n",
    "# We reject the Assumption(H0) only when P-Value < 0.05\n",
    "AnovaResults = f_oneway(*CategoryGroupLists)\n",
    "print('P-Value for Anova is: ', AnovaResults[1])"
   ]
  },
  {
   "cell_type": "code",
   "execution_count": 21,
   "id": "461e84c6",
   "metadata": {},
   "outputs": [
    {
     "data": {
      "image/png": "[encoded data removed]",
      "text/plain": [
       "<Figure size 1200x160 with 1 Axes>"
      ]
     },
     "metadata": {
      "needs_background": "light"
     },
     "output_type": "display_data"
    }
   ],
   "source": [
    "# scatter plot for the Anova results\n",
    "figure(figsize=(15, 2), dpi=80)\n",
    "plt.xticks(rotation=45, ha='right')\n",
    "sns.scatterplot(data=df_storet1, x='order_amount', y='store_name')\n",
    "\n",
    "# get the Pearson correlation between both variables\n",
    "current_corr = round(AnovaResults[1], 2)\n",
    "\n",
    "# give the graph a title and labels\n",
    "plt.title(f\"The Anova P-value between amount & store name for supermarkets = (r={current_corr})\")\n",
    "\n",
    "# call the graph (show function)\n",
    "plt.grid(False)\n",
    "plt.show()"
   ]
  },
  {
   "cell_type": "markdown",
   "id": "91f354c7",
   "metadata": {},
   "source": [
    "## 1.4 AMOUNT vs WEEK (all orders)"
   ]
  },
  {
   "cell_type": "code",
   "execution_count": 11,
   "id": "5b0d0201",
   "metadata": {},
   "outputs": [
    {
     "name": "stdout",
     "output_type": "stream",
     "text": [
      "P-Value for Anova is:  0.6505619593888955\n"
     ]
    }
   ],
   "source": [
    "# f_oneway() function takes the group data as input and \n",
    "# returns F-statistic and P-value\n",
    "from scipy.stats import f_oneway\n",
    " \n",
    "# Assumption(H0) is that day and times are NOT correlated\n",
    " \n",
    "# Finds out the Prices data for each FuelType as a list\n",
    "CategoryGroupLists=df_orders.groupby('week')['order_amount'].apply(list)\n",
    " \n",
    "# Performing the ANOVA test\n",
    "# We reject the Assumption(H0) only when P-Value < 0.05\n",
    "AnovaResults = f_oneway(*CategoryGroupLists)\n",
    "print('P-Value for Anova is: ', AnovaResults[1])"
   ]
  },
  {
   "cell_type": "code",
   "execution_count": 15,
   "id": "914e31de",
   "metadata": {
    "scrolled": true
   },
   "outputs": [
    {
     "data": {
      "image/png": "[encoded data removed]",
      "text/plain": [
       "<Figure size 1200x320 with 1 Axes>"
      ]
     },
     "metadata": {
      "needs_background": "light"
     },
     "output_type": "display_data"
    }
   ],
   "source": [
    "figure(figsize=(15, 4), dpi=80)\n",
    "plt.xticks(rotation=45, ha='right')\n",
    "\n",
    "sns.scatterplot(data=df_orders, x='order_amount', y='week')\n",
    "\n",
    "# get the Pearson correlation between both variables\n",
    "current_corr = round(AnovaResults[1], 2)\n",
    "\n",
    "# give the graph a title and labels\n",
    "plt.title(f\"The Anova P-value between amount & time = (r={current_corr})\")\n",
    "\n",
    "# call the graph (show function)\n",
    "plt.grid(False)\n",
    "plt.show()"
   ]
  },
  {
   "cell_type": "markdown",
   "id": "ec0b7b9a",
   "metadata": {},
   "source": [
    "Not significant, amount thus presumably fluctuates around the same number each week"
   ]
  }
 ],
 "metadata": {
  "kernelspec": {
   "display_name": "Python 3 (ipykernel)",
   "language": "python",
   "name": "python3"
  },
  "language_info": {
   "codemirror_mode": {
    "name": "ipython",
    "version": 3
   },
   "file_extension": ".py",
   "mimetype": "text/x-python",
   "name": "python",
   "nbconvert_exporter": "python",
   "pygments_lexer": "ipython3",
   "version": "3.9.7"
  }
 },
 "nbformat": 4,
 "nbformat_minor": 5
}

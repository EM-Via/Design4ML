{
 "cells": [
  {
   "cell_type": "markdown",
   "id": "2cce2977",
   "metadata": {},
   "source": [
    "## 5.2: what promo items per day/store/time?"
   ]
  },
  {
   "cell_type": "markdown",
   "id": "87a037df",
   "metadata": {},
   "source": [
    "### Import libraries "
   ]
  },
  {
   "cell_type": "code",
   "execution_count": 1,
   "id": "419cb39a",
   "metadata": {},
   "outputs": [],
   "source": [
    "#Pandas is a software library written for the Python programming language for data manipulation and analysis.\n",
    "import pandas as pd\n",
    "#NumPy is a library for the Python programming language, adding support for large, multi-dimensional arrays and matrices, along with a large collection of high-level mathematical functions to operate on these arrays\n",
    "import numpy as np\n",
    "# Matplotlib is a plotting library for python and pyplot gives us a MatLab like plotting framework. We will use this in our plotter function to plot data.\n",
    "import matplotlib.pyplot as plt\n",
    "#Seaborn is a Python data visualization library based on matplotlib. It provides a high-level interface for drawing attractive and informative statistical graphics\n",
    "import seaborn as sns\n",
    "import dataframe_image as dfi\n",
    "\n",
    "from matplotlib.ticker import StrMethodFormatter\n",
    "\n",
    "# importing the required function for correlations\n",
    "from scipy.stats import chi2_contingency"
   ]
  },
  {
   "cell_type": "markdown",
   "id": "f10011bb",
   "metadata": {},
   "source": [
    "### Load and view data "
   ]
  },
  {
   "cell_type": "code",
   "execution_count": 2,
   "id": "f90057bd",
   "metadata": {},
   "outputs": [],
   "source": [
    "df = pd.read_csv (r\"C:\\Users\\20204113\\OneDrive - TU Eindhoven\\2_Research\\1_Groceries\\DATA\\9th week - narrative (3rd attempt)\\HH2\\df\\df_HH2.csv\")\n",
    "# df.describe(include='all')"
   ]
  },
  {
   "cell_type": "code",
   "execution_count": 3,
   "id": "d427e56e",
   "metadata": {},
   "outputs": [],
   "source": [
    "# use the corr function to display the correlation between all the features\n",
    "data_corr = df.corr()\n",
    "# data_corr"
   ]
  },
  {
   "cell_type": "code",
   "execution_count": 4,
   "id": "e052d2e7",
   "metadata": {},
   "outputs": [],
   "source": [
    "# aggregate afternoon and evening\n",
    "df['time'] = df['time'].replace(['afternoon', 'evening'], 'afternoon')"
   ]
  },
  {
   "cell_type": "markdown",
   "id": "88927639",
   "metadata": {},
   "source": [
    "# 1.1. item type vs promo"
   ]
  },
  {
   "cell_type": "code",
   "execution_count": 5,
   "id": "d305453e",
   "metadata": {},
   "outputs": [
    {
     "data": {
      "text/html": [
       "<div>\n",
       "<style scoped>\n",
       "    .dataframe tbody tr th:only-of-type {\n",
       "        vertical-align: middle;\n",
       "    }\n",
       "\n",
       "    .dataframe tbody tr th {\n",
       "        vertical-align: top;\n",
       "    }\n",
       "\n",
       "    .dataframe thead th {\n",
       "        text-align: right;\n",
       "    }\n",
       "</style>\n",
       "<table border=\"1\" class=\"dataframe\">\n",
       "  <thead>\n",
       "    <tr style=\"text-align: right;\">\n",
       "      <th>promo_num</th>\n",
       "      <th>0</th>\n",
       "      <th>1</th>\n",
       "    </tr>\n",
       "    <tr>\n",
       "      <th>item_type</th>\n",
       "      <th></th>\n",
       "      <th></th>\n",
       "    </tr>\n",
       "  </thead>\n",
       "  <tbody>\n",
       "    <tr>\n",
       "      <th>alcoholic drinks</th>\n",
       "      <td>1</td>\n",
       "      <td>0</td>\n",
       "    </tr>\n",
       "    <tr>\n",
       "      <th>almond milk</th>\n",
       "      <td>1</td>\n",
       "      <td>0</td>\n",
       "    </tr>\n",
       "    <tr>\n",
       "      <th>andalouse sauce</th>\n",
       "      <td>1</td>\n",
       "      <td>0</td>\n",
       "    </tr>\n",
       "    <tr>\n",
       "      <th>apple sauce</th>\n",
       "      <td>4</td>\n",
       "      <td>0</td>\n",
       "    </tr>\n",
       "    <tr>\n",
       "      <th>apples</th>\n",
       "      <td>2</td>\n",
       "      <td>0</td>\n",
       "    </tr>\n",
       "    <tr>\n",
       "      <th>...</th>\n",
       "      <td>...</td>\n",
       "      <td>...</td>\n",
       "    </tr>\n",
       "    <tr>\n",
       "      <th>veal</th>\n",
       "      <td>1</td>\n",
       "      <td>0</td>\n",
       "    </tr>\n",
       "    <tr>\n",
       "      <th>vegetable box</th>\n",
       "      <td>0</td>\n",
       "      <td>2</td>\n",
       "    </tr>\n",
       "    <tr>\n",
       "      <th>vegetable mix</th>\n",
       "      <td>1</td>\n",
       "      <td>2</td>\n",
       "    </tr>\n",
       "    <tr>\n",
       "      <th>yoghurt</th>\n",
       "      <td>7</td>\n",
       "      <td>1</td>\n",
       "    </tr>\n",
       "    <tr>\n",
       "      <th>zucchini</th>\n",
       "      <td>2</td>\n",
       "      <td>0</td>\n",
       "    </tr>\n",
       "  </tbody>\n",
       "</table>\n",
       "<p>139 rows × 2 columns</p>\n",
       "</div>"
      ],
      "text/plain": [
       "promo_num         0  1\n",
       "item_type             \n",
       "alcoholic drinks  1  0\n",
       "almond milk       1  0\n",
       "andalouse sauce   1  0\n",
       "apple sauce       4  0\n",
       "apples            2  0\n",
       "...              .. ..\n",
       "veal              1  0\n",
       "vegetable box     0  2\n",
       "vegetable mix     1  2\n",
       "yoghurt           7  1\n",
       "zucchini          2  0\n",
       "\n",
       "[139 rows x 2 columns]"
      ]
     },
     "execution_count": 5,
     "metadata": {},
     "output_type": "execute_result"
    }
   ],
   "source": [
    "# Cross tabulation between category and store type\n",
    "CrosstabResult =pd.crosstab(index=df['item_type'],columns=df['promo_num'])\n",
    "\n",
    "CrosstabResult"
   ]
  },
  {
   "cell_type": "code",
   "execution_count": 6,
   "id": "57892ad9",
   "metadata": {},
   "outputs": [
    {
     "name": "stdout",
     "output_type": "stream",
     "text": [
      "The P-Value of the ChiSq Test is: 0.0003625346131603951\n"
     ]
    }
   ],
   "source": [
    "# Performing Chi-sq test\n",
    "ChiSqResult = chi2_contingency(CrosstabResult)\n",
    "\n",
    "\n",
    "# P-Value is the Probability of H0 being True\n",
    "# If P-Value > 0.05 then only we Accept the assumption(H0)\n",
    "\n",
    "print('The P-Value of the ChiSq Test is:', ChiSqResult[1])"
   ]
  },
  {
   "cell_type": "markdown",
   "id": "46c2b12a",
   "metadata": {},
   "source": [
    "We could separate items that are more often bought in promo and exclude them from regular groceries\n",
    "\n",
    "#### (if for promo #1>#0)"
   ]
  },
  {
   "cell_type": "code",
   "execution_count": 7,
   "id": "b2652b2c",
   "metadata": {
    "scrolled": true
   },
   "outputs": [
    {
     "data": {
      "text/html": [
       "<div>\n",
       "<style scoped>\n",
       "    .dataframe tbody tr th:only-of-type {\n",
       "        vertical-align: middle;\n",
       "    }\n",
       "\n",
       "    .dataframe tbody tr th {\n",
       "        vertical-align: top;\n",
       "    }\n",
       "\n",
       "    .dataframe thead th {\n",
       "        text-align: right;\n",
       "    }\n",
       "</style>\n",
       "<table border=\"1\" class=\"dataframe\">\n",
       "  <thead>\n",
       "    <tr style=\"text-align: right;\">\n",
       "      <th>promo_num</th>\n",
       "      <th>item_type</th>\n",
       "      <th>0</th>\n",
       "      <th>1</th>\n",
       "    </tr>\n",
       "  </thead>\n",
       "  <tbody>\n",
       "    <tr>\n",
       "      <th>0</th>\n",
       "      <td>beef</td>\n",
       "      <td>1</td>\n",
       "      <td>2</td>\n",
       "    </tr>\n",
       "    <tr>\n",
       "      <th>1</th>\n",
       "      <td>blueberries</td>\n",
       "      <td>0</td>\n",
       "      <td>2</td>\n",
       "    </tr>\n",
       "    <tr>\n",
       "      <th>2</th>\n",
       "      <td>chicken wrap</td>\n",
       "      <td>0</td>\n",
       "      <td>1</td>\n",
       "    </tr>\n",
       "    <tr>\n",
       "      <th>3</th>\n",
       "      <td>chocolates</td>\n",
       "      <td>0</td>\n",
       "      <td>1</td>\n",
       "    </tr>\n",
       "    <tr>\n",
       "      <th>4</th>\n",
       "      <td>egg wrap</td>\n",
       "      <td>0</td>\n",
       "      <td>1</td>\n",
       "    </tr>\n",
       "    <tr>\n",
       "      <th>5</th>\n",
       "      <td>fish</td>\n",
       "      <td>1</td>\n",
       "      <td>2</td>\n",
       "    </tr>\n",
       "    <tr>\n",
       "      <th>6</th>\n",
       "      <td>fruit salad</td>\n",
       "      <td>0</td>\n",
       "      <td>1</td>\n",
       "    </tr>\n",
       "    <tr>\n",
       "      <th>7</th>\n",
       "      <td>lunch</td>\n",
       "      <td>0</td>\n",
       "      <td>1</td>\n",
       "    </tr>\n",
       "    <tr>\n",
       "      <th>8</th>\n",
       "      <td>pork/veal</td>\n",
       "      <td>0</td>\n",
       "      <td>1</td>\n",
       "    </tr>\n",
       "    <tr>\n",
       "      <th>9</th>\n",
       "      <td>vegetable box</td>\n",
       "      <td>0</td>\n",
       "      <td>2</td>\n",
       "    </tr>\n",
       "    <tr>\n",
       "      <th>10</th>\n",
       "      <td>vegetable mix</td>\n",
       "      <td>1</td>\n",
       "      <td>2</td>\n",
       "    </tr>\n",
       "  </tbody>\n",
       "</table>\n",
       "</div>"
      ],
      "text/plain": [
       "promo_num      item_type  0  1\n",
       "0                   beef  1  2\n",
       "1            blueberries  0  2\n",
       "2           chicken wrap  0  1\n",
       "3             chocolates  0  1\n",
       "4               egg wrap  0  1\n",
       "5                   fish  1  2\n",
       "6            fruit salad  0  1\n",
       "7                  lunch  0  1\n",
       "8              pork/veal  0  1\n",
       "9          vegetable box  0  2\n",
       "10         vegetable mix  1  2"
      ]
     },
     "execution_count": 7,
     "metadata": {},
     "output_type": "execute_result"
    }
   ],
   "source": [
    "CrosstabResult.drop(CrosstabResult[CrosstabResult[1] <= CrosstabResult[0]].index, inplace = True)\n",
    "\n",
    "CrosstabResult = CrosstabResult.reset_index()\n",
    "CrosstabResult"
   ]
  },
  {
   "cell_type": "code",
   "execution_count": 8,
   "id": "8edfd935",
   "metadata": {},
   "outputs": [],
   "source": [
    "options = CrosstabResult.item_type.values.tolist()"
   ]
  },
  {
   "cell_type": "code",
   "execution_count": 9,
   "id": "fc4c2c11",
   "metadata": {},
   "outputs": [
    {
     "data": {
      "text/plain": [
       "['beef',\n",
       " 'blueberries',\n",
       " 'chicken wrap',\n",
       " 'chocolates',\n",
       " 'egg wrap',\n",
       " 'fish',\n",
       " 'fruit salad',\n",
       " 'lunch',\n",
       " 'pork/veal',\n",
       " 'vegetable box',\n",
       " 'vegetable mix']"
      ]
     },
     "execution_count": 9,
     "metadata": {},
     "output_type": "execute_result"
    }
   ],
   "source": [
    "options"
   ]
  },
  {
   "cell_type": "code",
   "execution_count": 10,
   "id": "e8b96b32",
   "metadata": {},
   "outputs": [],
   "source": [
    "# df with only the promo items\n",
    "df_promo = df[df['item_type'].isin(options)]\n",
    "\n",
    "# Now to delete these item types from the current dataframe\n",
    "df = df[-df['item_type'].isin(options)]"
   ]
  },
  {
   "cell_type": "markdown",
   "id": "eda8a44c",
   "metadata": {},
   "source": [
    "# 1. GENERAL CORRELATIONS: FOR PROMO ITEMS"
   ]
  },
  {
   "cell_type": "markdown",
   "id": "51e0bd55",
   "metadata": {},
   "source": [
    "## 1.1. CORRELATION 1: item type vs day"
   ]
  },
  {
   "cell_type": "code",
   "execution_count": 11,
   "id": "ebb7e9dd",
   "metadata": {},
   "outputs": [
    {
     "data": {
      "text/html": [
       "<div>\n",
       "<style scoped>\n",
       "    .dataframe tbody tr th:only-of-type {\n",
       "        vertical-align: middle;\n",
       "    }\n",
       "\n",
       "    .dataframe tbody tr th {\n",
       "        vertical-align: top;\n",
       "    }\n",
       "\n",
       "    .dataframe thead th {\n",
       "        text-align: right;\n",
       "    }\n",
       "</style>\n",
       "<table border=\"1\" class=\"dataframe\">\n",
       "  <thead>\n",
       "    <tr style=\"text-align: right;\">\n",
       "      <th>day</th>\n",
       "      <th>Friday</th>\n",
       "      <th>Monday</th>\n",
       "      <th>Saturday</th>\n",
       "      <th>Sunday</th>\n",
       "      <th>Thursday</th>\n",
       "      <th>Wednesday</th>\n",
       "    </tr>\n",
       "    <tr>\n",
       "      <th>item_type</th>\n",
       "      <th></th>\n",
       "      <th></th>\n",
       "      <th></th>\n",
       "      <th></th>\n",
       "      <th></th>\n",
       "      <th></th>\n",
       "    </tr>\n",
       "  </thead>\n",
       "  <tbody>\n",
       "    <tr>\n",
       "      <th>beef</th>\n",
       "      <td>0</td>\n",
       "      <td>1</td>\n",
       "      <td>0</td>\n",
       "      <td>2</td>\n",
       "      <td>0</td>\n",
       "      <td>0</td>\n",
       "    </tr>\n",
       "    <tr>\n",
       "      <th>blueberries</th>\n",
       "      <td>1</td>\n",
       "      <td>0</td>\n",
       "      <td>0</td>\n",
       "      <td>1</td>\n",
       "      <td>0</td>\n",
       "      <td>0</td>\n",
       "    </tr>\n",
       "    <tr>\n",
       "      <th>chicken wrap</th>\n",
       "      <td>0</td>\n",
       "      <td>0</td>\n",
       "      <td>0</td>\n",
       "      <td>0</td>\n",
       "      <td>0</td>\n",
       "      <td>1</td>\n",
       "    </tr>\n",
       "    <tr>\n",
       "      <th>chocolates</th>\n",
       "      <td>0</td>\n",
       "      <td>0</td>\n",
       "      <td>1</td>\n",
       "      <td>0</td>\n",
       "      <td>0</td>\n",
       "      <td>0</td>\n",
       "    </tr>\n",
       "    <tr>\n",
       "      <th>egg wrap</th>\n",
       "      <td>0</td>\n",
       "      <td>0</td>\n",
       "      <td>0</td>\n",
       "      <td>0</td>\n",
       "      <td>0</td>\n",
       "      <td>1</td>\n",
       "    </tr>\n",
       "    <tr>\n",
       "      <th>fish</th>\n",
       "      <td>0</td>\n",
       "      <td>0</td>\n",
       "      <td>1</td>\n",
       "      <td>2</td>\n",
       "      <td>0</td>\n",
       "      <td>0</td>\n",
       "    </tr>\n",
       "    <tr>\n",
       "      <th>fruit salad</th>\n",
       "      <td>0</td>\n",
       "      <td>0</td>\n",
       "      <td>0</td>\n",
       "      <td>0</td>\n",
       "      <td>1</td>\n",
       "      <td>0</td>\n",
       "    </tr>\n",
       "    <tr>\n",
       "      <th>lunch</th>\n",
       "      <td>0</td>\n",
       "      <td>1</td>\n",
       "      <td>0</td>\n",
       "      <td>0</td>\n",
       "      <td>0</td>\n",
       "      <td>0</td>\n",
       "    </tr>\n",
       "    <tr>\n",
       "      <th>pork/veal</th>\n",
       "      <td>0</td>\n",
       "      <td>0</td>\n",
       "      <td>1</td>\n",
       "      <td>0</td>\n",
       "      <td>0</td>\n",
       "      <td>0</td>\n",
       "    </tr>\n",
       "    <tr>\n",
       "      <th>vegetable box</th>\n",
       "      <td>0</td>\n",
       "      <td>2</td>\n",
       "      <td>0</td>\n",
       "      <td>0</td>\n",
       "      <td>0</td>\n",
       "      <td>0</td>\n",
       "    </tr>\n",
       "    <tr>\n",
       "      <th>vegetable mix</th>\n",
       "      <td>0</td>\n",
       "      <td>0</td>\n",
       "      <td>0</td>\n",
       "      <td>0</td>\n",
       "      <td>3</td>\n",
       "      <td>0</td>\n",
       "    </tr>\n",
       "  </tbody>\n",
       "</table>\n",
       "</div>"
      ],
      "text/plain": [
       "day            Friday  Monday  Saturday  Sunday  Thursday  Wednesday\n",
       "item_type                                                           \n",
       "beef                0       1         0       2         0          0\n",
       "blueberries         1       0         0       1         0          0\n",
       "chicken wrap        0       0         0       0         0          1\n",
       "chocolates          0       0         1       0         0          0\n",
       "egg wrap            0       0         0       0         0          1\n",
       "fish                0       0         1       2         0          0\n",
       "fruit salad         0       0         0       0         1          0\n",
       "lunch               0       1         0       0         0          0\n",
       "pork/veal           0       0         1       0         0          0\n",
       "vegetable box       0       2         0       0         0          0\n",
       "vegetable mix       0       0         0       0         3          0"
      ]
     },
     "execution_count": 11,
     "metadata": {},
     "output_type": "execute_result"
    }
   ],
   "source": [
    "# Cross tabulation between category and store type\n",
    "CrosstabResult =pd.crosstab(index=df_promo['item_type'],columns=df_promo['day'])\n",
    "\n",
    "CrosstabResult"
   ]
  },
  {
   "cell_type": "code",
   "execution_count": 12,
   "id": "b66a140a",
   "metadata": {},
   "outputs": [
    {
     "name": "stdout",
     "output_type": "stream",
     "text": [
      "The P-Value of the ChiSq Test is: 0.026302854895702676\n"
     ]
    }
   ],
   "source": [
    "# Performing Chi-sq test\n",
    "ChiSqResult = chi2_contingency(CrosstabResult)\n",
    "\n",
    "\n",
    "# P-Value is the Probability of H0 being True\n",
    "# If P-Value > 0.05 then only we Accept the assumption(H0)\n",
    "\n",
    "print('The P-Value of the ChiSq Test is:', ChiSqResult[1])"
   ]
  },
  {
   "cell_type": "markdown",
   "id": "08eb40cf",
   "metadata": {},
   "source": [
    "Significant (strong), we could limit options to what's bought per day:\n",
    "> 1. Certain cat. are bought on specific days only/mostly\n",
    "2. Could be by chance, but could be on purpose for some categories (e.g. bakery)\n",
    "3. >  Let's check if this is also true for only the supermarket/times..."
   ]
  },
  {
   "cell_type": "markdown",
   "id": "1f7f8540",
   "metadata": {},
   "source": [
    "## 1.2. CORRELATION 2: item type vs time"
   ]
  },
  {
   "cell_type": "code",
   "execution_count": 13,
   "id": "654460c8",
   "metadata": {},
   "outputs": [
    {
     "data": {
      "text/html": [
       "<div>\n",
       "<style scoped>\n",
       "    .dataframe tbody tr th:only-of-type {\n",
       "        vertical-align: middle;\n",
       "    }\n",
       "\n",
       "    .dataframe tbody tr th {\n",
       "        vertical-align: top;\n",
       "    }\n",
       "\n",
       "    .dataframe thead th {\n",
       "        text-align: right;\n",
       "    }\n",
       "</style>\n",
       "<table border=\"1\" class=\"dataframe\">\n",
       "  <thead>\n",
       "    <tr style=\"text-align: right;\">\n",
       "      <th>time</th>\n",
       "      <th>afternoon</th>\n",
       "      <th>morning</th>\n",
       "      <th>noon</th>\n",
       "    </tr>\n",
       "    <tr>\n",
       "      <th>item_type</th>\n",
       "      <th></th>\n",
       "      <th></th>\n",
       "      <th></th>\n",
       "    </tr>\n",
       "  </thead>\n",
       "  <tbody>\n",
       "    <tr>\n",
       "      <th>beef</th>\n",
       "      <td>1</td>\n",
       "      <td>2</td>\n",
       "      <td>0</td>\n",
       "    </tr>\n",
       "    <tr>\n",
       "      <th>blueberries</th>\n",
       "      <td>1</td>\n",
       "      <td>1</td>\n",
       "      <td>0</td>\n",
       "    </tr>\n",
       "    <tr>\n",
       "      <th>chicken wrap</th>\n",
       "      <td>0</td>\n",
       "      <td>0</td>\n",
       "      <td>1</td>\n",
       "    </tr>\n",
       "    <tr>\n",
       "      <th>chocolates</th>\n",
       "      <td>1</td>\n",
       "      <td>0</td>\n",
       "      <td>0</td>\n",
       "    </tr>\n",
       "    <tr>\n",
       "      <th>egg wrap</th>\n",
       "      <td>0</td>\n",
       "      <td>0</td>\n",
       "      <td>1</td>\n",
       "    </tr>\n",
       "    <tr>\n",
       "      <th>fish</th>\n",
       "      <td>1</td>\n",
       "      <td>2</td>\n",
       "      <td>0</td>\n",
       "    </tr>\n",
       "    <tr>\n",
       "      <th>fruit salad</th>\n",
       "      <td>0</td>\n",
       "      <td>0</td>\n",
       "      <td>1</td>\n",
       "    </tr>\n",
       "    <tr>\n",
       "      <th>lunch</th>\n",
       "      <td>0</td>\n",
       "      <td>0</td>\n",
       "      <td>1</td>\n",
       "    </tr>\n",
       "    <tr>\n",
       "      <th>pork/veal</th>\n",
       "      <td>0</td>\n",
       "      <td>1</td>\n",
       "      <td>0</td>\n",
       "    </tr>\n",
       "    <tr>\n",
       "      <th>vegetable box</th>\n",
       "      <td>2</td>\n",
       "      <td>0</td>\n",
       "      <td>0</td>\n",
       "    </tr>\n",
       "    <tr>\n",
       "      <th>vegetable mix</th>\n",
       "      <td>3</td>\n",
       "      <td>0</td>\n",
       "      <td>0</td>\n",
       "    </tr>\n",
       "  </tbody>\n",
       "</table>\n",
       "</div>"
      ],
      "text/plain": [
       "time           afternoon  morning  noon\n",
       "item_type                              \n",
       "beef                   1        2     0\n",
       "blueberries            1        1     0\n",
       "chicken wrap           0        0     1\n",
       "chocolates             1        0     0\n",
       "egg wrap               0        0     1\n",
       "fish                   1        2     0\n",
       "fruit salad            0        0     1\n",
       "lunch                  0        0     1\n",
       "pork/veal              0        1     0\n",
       "vegetable box          2        0     0\n",
       "vegetable mix          3        0     0"
      ]
     },
     "execution_count": 13,
     "metadata": {},
     "output_type": "execute_result"
    }
   ],
   "source": [
    "# Cross tabulation between category and store type\n",
    "CrosstabResult =pd.crosstab(index=df_promo['item_type'],columns=df_promo['time'])\n",
    "\n",
    "CrosstabResult"
   ]
  },
  {
   "cell_type": "code",
   "execution_count": 14,
   "id": "62d3355c",
   "metadata": {},
   "outputs": [
    {
     "name": "stdout",
     "output_type": "stream",
     "text": [
      "The P-Value of the ChiSq Test is: 0.10194708324604537\n"
     ]
    }
   ],
   "source": [
    "# Performing Chi-sq test\n",
    "ChiSqResult = chi2_contingency(CrosstabResult)\n",
    "\n",
    "\n",
    "# P-Value is the Probability of H0 being True\n",
    "# If P-Value > 0.05 then only we Accept the assumption(H0)\n",
    "\n",
    "print('The P-Value of the ChiSq Test is:', ChiSqResult[1])"
   ]
  },
  {
   "cell_type": "markdown",
   "id": "876ae3f7",
   "metadata": {},
   "source": [
    "No correlation between time and promo item"
   ]
  },
  {
   "cell_type": "markdown",
   "id": "38661f76",
   "metadata": {},
   "source": [
    "## 1.3.1 CORRELATION 3: item type vs store"
   ]
  },
  {
   "cell_type": "markdown",
   "id": "d04a0488",
   "metadata": {},
   "source": [
    "### 1.3.1 item type vs store type"
   ]
  },
  {
   "cell_type": "code",
   "execution_count": 15,
   "id": "82ad13d5",
   "metadata": {},
   "outputs": [
    {
     "data": {
      "text/html": [
       "<div>\n",
       "<style scoped>\n",
       "    .dataframe tbody tr th:only-of-type {\n",
       "        vertical-align: middle;\n",
       "    }\n",
       "\n",
       "    .dataframe tbody tr th {\n",
       "        vertical-align: top;\n",
       "    }\n",
       "\n",
       "    .dataframe thead th {\n",
       "        text-align: right;\n",
       "    }\n",
       "</style>\n",
       "<table border=\"1\" class=\"dataframe\">\n",
       "  <thead>\n",
       "    <tr style=\"text-align: right;\">\n",
       "      <th>store_type</th>\n",
       "      <th>supermarket</th>\n",
       "    </tr>\n",
       "    <tr>\n",
       "      <th>item_type</th>\n",
       "      <th></th>\n",
       "    </tr>\n",
       "  </thead>\n",
       "  <tbody>\n",
       "    <tr>\n",
       "      <th>beef</th>\n",
       "      <td>3</td>\n",
       "    </tr>\n",
       "    <tr>\n",
       "      <th>blueberries</th>\n",
       "      <td>2</td>\n",
       "    </tr>\n",
       "    <tr>\n",
       "      <th>chicken wrap</th>\n",
       "      <td>1</td>\n",
       "    </tr>\n",
       "    <tr>\n",
       "      <th>chocolates</th>\n",
       "      <td>1</td>\n",
       "    </tr>\n",
       "    <tr>\n",
       "      <th>egg wrap</th>\n",
       "      <td>1</td>\n",
       "    </tr>\n",
       "    <tr>\n",
       "      <th>fish</th>\n",
       "      <td>3</td>\n",
       "    </tr>\n",
       "    <tr>\n",
       "      <th>fruit salad</th>\n",
       "      <td>1</td>\n",
       "    </tr>\n",
       "    <tr>\n",
       "      <th>lunch</th>\n",
       "      <td>1</td>\n",
       "    </tr>\n",
       "    <tr>\n",
       "      <th>pork/veal</th>\n",
       "      <td>1</td>\n",
       "    </tr>\n",
       "    <tr>\n",
       "      <th>vegetable box</th>\n",
       "      <td>2</td>\n",
       "    </tr>\n",
       "    <tr>\n",
       "      <th>vegetable mix</th>\n",
       "      <td>3</td>\n",
       "    </tr>\n",
       "  </tbody>\n",
       "</table>\n",
       "</div>"
      ],
      "text/plain": [
       "store_type     supermarket\n",
       "item_type                 \n",
       "beef                     3\n",
       "blueberries              2\n",
       "chicken wrap             1\n",
       "chocolates               1\n",
       "egg wrap                 1\n",
       "fish                     3\n",
       "fruit salad              1\n",
       "lunch                    1\n",
       "pork/veal                1\n",
       "vegetable box            2\n",
       "vegetable mix            3"
      ]
     },
     "execution_count": 15,
     "metadata": {},
     "output_type": "execute_result"
    }
   ],
   "source": [
    "# Cross tabulation between category and store type\n",
    "CrosstabResult =pd.crosstab(index=df_promo['item_type'],columns=df_promo['store_type'])\n",
    "\n",
    "CrosstabResult"
   ]
  },
  {
   "cell_type": "code",
   "execution_count": 16,
   "id": "905bb46f",
   "metadata": {
    "scrolled": true
   },
   "outputs": [
    {
     "name": "stdout",
     "output_type": "stream",
     "text": [
      "The P-Value of the ChiSq Test is: 1.0\n"
     ]
    }
   ],
   "source": [
    "# Performing Chi-sq test\n",
    "ChiSqResult = chi2_contingency(CrosstabResult)\n",
    "\n",
    "\n",
    "# P-Value is the Probability of H0 being True\n",
    "# If P-Value > 0.05 then only we Accept the assumption(H0)\n",
    "\n",
    "print('The P-Value of the ChiSq Test is:', ChiSqResult[1])"
   ]
  },
  {
   "cell_type": "markdown",
   "id": "289f785e",
   "metadata": {},
   "source": [
    "No correlation between store type and promo item"
   ]
  },
  {
   "cell_type": "markdown",
   "id": "54963db9",
   "metadata": {},
   "source": [
    "### 1.3.2. item type vs store name"
   ]
  },
  {
   "cell_type": "code",
   "execution_count": 17,
   "id": "cc65fd41",
   "metadata": {},
   "outputs": [
    {
     "data": {
      "text/html": [
       "<div>\n",
       "<style scoped>\n",
       "    .dataframe tbody tr th:only-of-type {\n",
       "        vertical-align: middle;\n",
       "    }\n",
       "\n",
       "    .dataframe tbody tr th {\n",
       "        vertical-align: top;\n",
       "    }\n",
       "\n",
       "    .dataframe thead th {\n",
       "        text-align: right;\n",
       "    }\n",
       "</style>\n",
       "<table border=\"1\" class=\"dataframe\">\n",
       "  <thead>\n",
       "    <tr style=\"text-align: right;\">\n",
       "      <th>store_name</th>\n",
       "      <th>Albert Heijn</th>\n",
       "      <th>Carrefour</th>\n",
       "      <th>Delhaize</th>\n",
       "      <th>Okay</th>\n",
       "    </tr>\n",
       "    <tr>\n",
       "      <th>item_type</th>\n",
       "      <th></th>\n",
       "      <th></th>\n",
       "      <th></th>\n",
       "      <th></th>\n",
       "    </tr>\n",
       "  </thead>\n",
       "  <tbody>\n",
       "    <tr>\n",
       "      <th>beef</th>\n",
       "      <td>1</td>\n",
       "      <td>0</td>\n",
       "      <td>2</td>\n",
       "      <td>0</td>\n",
       "    </tr>\n",
       "    <tr>\n",
       "      <th>blueberries</th>\n",
       "      <td>0</td>\n",
       "      <td>0</td>\n",
       "      <td>2</td>\n",
       "      <td>0</td>\n",
       "    </tr>\n",
       "    <tr>\n",
       "      <th>chicken wrap</th>\n",
       "      <td>1</td>\n",
       "      <td>0</td>\n",
       "      <td>0</td>\n",
       "      <td>0</td>\n",
       "    </tr>\n",
       "    <tr>\n",
       "      <th>chocolates</th>\n",
       "      <td>0</td>\n",
       "      <td>1</td>\n",
       "      <td>0</td>\n",
       "      <td>0</td>\n",
       "    </tr>\n",
       "    <tr>\n",
       "      <th>egg wrap</th>\n",
       "      <td>1</td>\n",
       "      <td>0</td>\n",
       "      <td>0</td>\n",
       "      <td>0</td>\n",
       "    </tr>\n",
       "    <tr>\n",
       "      <th>fish</th>\n",
       "      <td>0</td>\n",
       "      <td>1</td>\n",
       "      <td>2</td>\n",
       "      <td>0</td>\n",
       "    </tr>\n",
       "    <tr>\n",
       "      <th>fruit salad</th>\n",
       "      <td>1</td>\n",
       "      <td>0</td>\n",
       "      <td>0</td>\n",
       "      <td>0</td>\n",
       "    </tr>\n",
       "    <tr>\n",
       "      <th>lunch</th>\n",
       "      <td>1</td>\n",
       "      <td>0</td>\n",
       "      <td>0</td>\n",
       "      <td>0</td>\n",
       "    </tr>\n",
       "    <tr>\n",
       "      <th>pork/veal</th>\n",
       "      <td>0</td>\n",
       "      <td>0</td>\n",
       "      <td>0</td>\n",
       "      <td>1</td>\n",
       "    </tr>\n",
       "    <tr>\n",
       "      <th>vegetable box</th>\n",
       "      <td>2</td>\n",
       "      <td>0</td>\n",
       "      <td>0</td>\n",
       "      <td>0</td>\n",
       "    </tr>\n",
       "    <tr>\n",
       "      <th>vegetable mix</th>\n",
       "      <td>0</td>\n",
       "      <td>0</td>\n",
       "      <td>0</td>\n",
       "      <td>3</td>\n",
       "    </tr>\n",
       "  </tbody>\n",
       "</table>\n",
       "</div>"
      ],
      "text/plain": [
       "store_name     Albert Heijn  Carrefour  Delhaize  Okay\n",
       "item_type                                             \n",
       "beef                      1          0         2     0\n",
       "blueberries               0          0         2     0\n",
       "chicken wrap              1          0         0     0\n",
       "chocolates                0          1         0     0\n",
       "egg wrap                  1          0         0     0\n",
       "fish                      0          1         2     0\n",
       "fruit salad               1          0         0     0\n",
       "lunch                     1          0         0     0\n",
       "pork/veal                 0          0         0     1\n",
       "vegetable box             2          0         0     0\n",
       "vegetable mix             0          0         0     3"
      ]
     },
     "execution_count": 17,
     "metadata": {},
     "output_type": "execute_result"
    }
   ],
   "source": [
    "# Cross tabulation between category and store type\n",
    "CrosstabResult =pd.crosstab(index=df_promo['item_type'],columns=df_promo['store_name'])\n",
    "\n",
    "CrosstabResult"
   ]
  },
  {
   "cell_type": "code",
   "execution_count": 18,
   "id": "0f1a5da2",
   "metadata": {},
   "outputs": [
    {
     "name": "stdout",
     "output_type": "stream",
     "text": [
      "The P-Value of the ChiSq Test is: 0.041726906528480184\n"
     ]
    }
   ],
   "source": [
    "# Performing Chi-sq test\n",
    "ChiSqResult = chi2_contingency(CrosstabResult)\n",
    "\n",
    "\n",
    "# P-Value is the Probability of H0 being True\n",
    "# If P-Value > 0.05 then only we Accept the assumption(H0)\n",
    "\n",
    "print('The P-Value of the ChiSq Test is:', ChiSqResult[1])"
   ]
  },
  {
   "cell_type": "markdown",
   "id": "c7d4823c",
   "metadata": {},
   "source": [
    "Correlation between store NAME and promo item"
   ]
  },
  {
   "cell_type": "markdown",
   "id": "545fd297",
   "metadata": {},
   "source": [
    "# 2. Narrow down dataframe"
   ]
  },
  {
   "cell_type": "markdown",
   "id": "b4467e1c",
   "metadata": {},
   "source": [
    "## 2.1 Per DAY"
   ]
  },
  {
   "cell_type": "code",
   "execution_count": 19,
   "id": "e2d7dd72",
   "metadata": {},
   "outputs": [],
   "source": [
    "# define data\n",
    "Monday = 'Monday'\n",
    "Tuesday = 'Tuesday'\n",
    "Wednesday = 'Wednesday'\n",
    "Thursday = 'Thursday'\n",
    "Friday = 'Friday'\n",
    "Saturday = 'Saturday'\n",
    "Sunday = 'Sunday'\n",
    "\n",
    "# select only these data (for day, store, store name)\n",
    "df_Monday = df_promo[df_promo[\"day\"] == Monday]\n",
    "df_Tuesday = df_promo[df_promo[\"day\"] == Tuesday]\n",
    "df_Wednesday = df_promo[df_promo[\"day\"] == Wednesday]\n",
    "df_Thursday = df_promo[df_promo[\"day\"] == Thursday]\n",
    "df_Friday = df_promo[df_promo[\"day\"] == Friday]\n",
    "df_Saturday = df_promo[df_promo[\"day\"] == Saturday]\n",
    "df_Sunday = df_promo[df_promo[\"day\"] == Sunday]"
   ]
  },
  {
   "cell_type": "code",
   "execution_count": 20,
   "id": "cd61e555",
   "metadata": {},
   "outputs": [
    {
     "name": "stdout",
     "output_type": "stream",
     "text": [
      "The P-Value of the ChiSq Test is, for Mondays: 0.13533528323661273\n",
      "The P-Value of the ChiSq Test is, for Tuesdays: u\n",
      "The P-Value of the ChiSq Test is, for Wednesdays: 1.0\n",
      "The P-Value of the ChiSq Test is, for Thursdays: 0.5049850750938457\n",
      "The P-Value of the ChiSq Test is, for Fridays: 1.0\n",
      "The P-Value of the ChiSq Test is, for Saturdays: 0.22313016014842982\n",
      "The P-Value of the ChiSq Test is, for Sundays: 1.0\n"
     ]
    }
   ],
   "source": [
    "# Cross tabulation between category and store type\n",
    "CrosstabResult_Monday =pd.crosstab(index=df_Monday['item_type'],columns=df_Monday['time'], dropna=False)\n",
    "CrosstabResult_Tuesday =pd.crosstab(index=df_Tuesday['item_type'],columns=df_Tuesday['time'], dropna=False)\n",
    "CrosstabResult_Wednesday =pd.crosstab(index=df_Wednesday['item_type'],columns=df_Wednesday['time'], dropna=False)\n",
    "CrosstabResult_Thursday =pd.crosstab(index=df_Thursday['item_type'],columns=df_Thursday['time'], dropna=False)\n",
    "CrosstabResult_Friday =pd.crosstab(index=df_Friday['item_type'],columns=df_Friday['time'], dropna=False)\n",
    "CrosstabResult_Saturday =pd.crosstab(index=df_Saturday['item_type'],columns=df_Saturday['time'], dropna=False)\n",
    "CrosstabResult_Sunday =pd.crosstab(index=df_Sunday['item_type'],columns=df_Sunday['time'], dropna=False)\n",
    "\n",
    "# Performing Chi-sq test\n",
    "Monday = chi2_contingency(CrosstabResult_Monday)\n",
    "# Tuesday = chi2_contingency(CrosstabResult_Tuesday)\n",
    "Wednesday = chi2_contingency(CrosstabResult_Wednesday)\n",
    "Thursday = chi2_contingency(CrosstabResult_Thursday)\n",
    "Friday = chi2_contingency(CrosstabResult_Friday)\n",
    "Saturday = chi2_contingency(CrosstabResult_Saturday)\n",
    "Sunday = chi2_contingency(CrosstabResult_Sunday)\n",
    "\n",
    "# P-Value is the Probability of H0 being True\n",
    "# If P-Value > 0.05 then only we Accept the assumption(H0)\n",
    "\n",
    "print('The P-Value of the ChiSq Test is, for Mondays:', Monday[1])\n",
    "print('The P-Value of the ChiSq Test is, for Tuesdays:', Tuesday[1])\n",
    "print('The P-Value of the ChiSq Test is, for Wednesdays:', Wednesday[1])\n",
    "print('The P-Value of the ChiSq Test is, for Thursdays:', Thursday[1])\n",
    "print('The P-Value of the ChiSq Test is, for Fridays:', Friday[1])\n",
    "print('The P-Value of the ChiSq Test is, for Saturdays:', Saturday[1])\n",
    "print('The P-Value of the ChiSq Test is, for Sundays:', Sunday[1])"
   ]
  },
  {
   "cell_type": "code",
   "execution_count": 21,
   "id": "f6686cc9",
   "metadata": {},
   "outputs": [
    {
     "name": "stdout",
     "output_type": "stream",
     "text": [
      "The P-Value of the ChiSq Test is, for Mondays: 1.0\n",
      "The P-Value of the ChiSq Test is, for Tuesdays: u\n",
      "The P-Value of the ChiSq Test is, for Wednesdays: 1.0\n",
      "The P-Value of the ChiSq Test is, for Thursdays: 1.0\n",
      "The P-Value of the ChiSq Test is, for Fridays: 1.0\n",
      "The P-Value of the ChiSq Test is, for Saturdays: 1.0\n",
      "The P-Value of the ChiSq Test is, for Sundays: 1.0\n"
     ]
    }
   ],
   "source": [
    "# Cross tabulation between category and store type\n",
    "CrosstabResult_Monday =pd.crosstab(index=df_Monday['item_type'],columns=df_Monday['store_type'], dropna=False)\n",
    "CrosstabResult_Tuesday =pd.crosstab(index=df_Tuesday['item_type'],columns=df_Tuesday['store_type'], dropna=False)\n",
    "CrosstabResult_Wednesday =pd.crosstab(index=df_Wednesday['item_type'],columns=df_Wednesday['store_type'], dropna=False)\n",
    "CrosstabResult_Thursday =pd.crosstab(index=df_Thursday['item_type'],columns=df_Thursday['store_type'], dropna=False)\n",
    "CrosstabResult_Friday =pd.crosstab(index=df_Friday['item_type'],columns=df_Friday['store_type'], dropna=False)\n",
    "CrosstabResult_Saturday =pd.crosstab(index=df_Saturday['item_type'],columns=df_Saturday['store_type'], dropna=False)\n",
    "CrosstabResult_Sunday =pd.crosstab(index=df_Sunday['item_type'],columns=df_Sunday['store_type'], dropna=False)\n",
    "\n",
    "# Performing Chi-sq test\n",
    "Monday = chi2_contingency(CrosstabResult_Monday)\n",
    "# Tuesday = chi2_contingency(CrosstabResult_Tuesday)\n",
    "Wednesday = chi2_contingency(CrosstabResult_Wednesday)\n",
    "Thursday = chi2_contingency(CrosstabResult_Thursday)\n",
    "Friday = chi2_contingency(CrosstabResult_Friday)\n",
    "Saturday = chi2_contingency(CrosstabResult_Saturday)\n",
    "Sunday = chi2_contingency(CrosstabResult_Sunday)\n",
    "\n",
    "# P-Value is the Probability of H0 being True\n",
    "# If P-Value > 0.05 then only we Accept the assumption(H0)\n",
    "\n",
    "print('The P-Value of the ChiSq Test is, for Mondays:', Monday[1])\n",
    "print('The P-Value of the ChiSq Test is, for Tuesdays:', Tuesday[1])\n",
    "print('The P-Value of the ChiSq Test is, for Wednesdays:', Wednesday[1])\n",
    "print('The P-Value of the ChiSq Test is, for Thursdays:', Thursday[1])\n",
    "print('The P-Value of the ChiSq Test is, for Fridays:', Friday[1])\n",
    "print('The P-Value of the ChiSq Test is, for Saturdays:', Saturday[1])\n",
    "print('The P-Value of the ChiSq Test is, for Sundays:', Sunday[1])"
   ]
  },
  {
   "cell_type": "code",
   "execution_count": 22,
   "id": "728f72e8",
   "metadata": {},
   "outputs": [
    {
     "name": "stdout",
     "output_type": "stream",
     "text": [
      "The P-Value of the ChiSq Test is, for Mondays: 1.0\n",
      "The P-Value of the ChiSq Test is, for Tuesdays: u\n",
      "The P-Value of the ChiSq Test is, for Wednesdays: 1.0\n",
      "The P-Value of the ChiSq Test is, for Thursdays: 0.5049850750938457\n",
      "The P-Value of the ChiSq Test is, for Fridays: 1.0\n",
      "The P-Value of the ChiSq Test is, for Saturdays: 0.22313016014842982\n",
      "The P-Value of the ChiSq Test is, for Sundays: 1.0\n"
     ]
    }
   ],
   "source": [
    "# Cross tabulation between category and store type\n",
    "CrosstabResult_Monday =pd.crosstab(index=df_Monday['item_type'],columns=df_Monday['store_name'], dropna=False)\n",
    "CrosstabResult_Tuesday =pd.crosstab(index=df_Tuesday['item_type'],columns=df_Tuesday['store_name'], dropna=False)\n",
    "CrosstabResult_Wednesday =pd.crosstab(index=df_Wednesday['item_type'],columns=df_Wednesday['store_name'], dropna=False)\n",
    "CrosstabResult_Thursday =pd.crosstab(index=df_Thursday['item_type'],columns=df_Thursday['store_name'], dropna=False)\n",
    "CrosstabResult_Friday =pd.crosstab(index=df_Friday['item_type'],columns=df_Friday['store_name'], dropna=False)\n",
    "CrosstabResult_Saturday =pd.crosstab(index=df_Saturday['item_type'],columns=df_Saturday['store_name'], dropna=False)\n",
    "CrosstabResult_Sunday =pd.crosstab(index=df_Sunday['item_type'],columns=df_Sunday['store_name'], dropna=False)\n",
    "\n",
    "# Performing Chi-sq test\n",
    "Monday = chi2_contingency(CrosstabResult_Monday)\n",
    "# Tuesday = chi2_contingency(CrosstabResult_Tuesday)\n",
    "Wednesday = chi2_contingency(CrosstabResult_Wednesday)\n",
    "Thursday = chi2_contingency(CrosstabResult_Thursday)\n",
    "Friday = chi2_contingency(CrosstabResult_Friday)\n",
    "Saturday = chi2_contingency(CrosstabResult_Saturday)\n",
    "Sunday = chi2_contingency(CrosstabResult_Sunday)\n",
    "\n",
    "# P-Value is the Probability of H0 being True\n",
    "# If P-Value > 0.05 then only we Accept the assumption(H0)\n",
    "\n",
    "print('The P-Value of the ChiSq Test is, for Mondays:', Monday[1])\n",
    "print('The P-Value of the ChiSq Test is, for Tuesdays:', Tuesday[1])\n",
    "print('The P-Value of the ChiSq Test is, for Wednesdays:', Wednesday[1])\n",
    "print('The P-Value of the ChiSq Test is, for Thursdays:', Thursday[1])\n",
    "print('The P-Value of the ChiSq Test is, for Fridays:', Friday[1])\n",
    "print('The P-Value of the ChiSq Test is, for Saturdays:', Saturday[1])\n",
    "print('The P-Value of the ChiSq Test is, for Sundays:', Sunday[1])"
   ]
  },
  {
   "cell_type": "markdown",
   "id": "bba20b72",
   "metadata": {},
   "source": [
    "## 2.4 Per STORE NAME"
   ]
  },
  {
   "cell_type": "code",
   "execution_count": 23,
   "id": "9e5e1a52",
   "metadata": {},
   "outputs": [],
   "source": [
    "# define data\n",
    "store1 = 'Albert Heijn'\n",
    "store2 = 'Carrefour'\n",
    "store3 = 'Okay'\n",
    "store4 = 'Delhaize'\n",
    "store5 = 'Versavel Poelman'\n",
    "store6 = 'Kruidvat'\n",
    "store7 = 'Brabo'\n",
    "store8 = 'Ikea'\n",
    "store9 = 'Sys'\n",
    "\n",
    "# select only these data for the df\n",
    "df_store1 = df_promo[df_promo['store_name'] == store1]\n",
    "df_store2 = df_promo[df_promo['store_name'] == store2]\n",
    "df_store3 = df_promo[df_promo['store_name'] == store3]\n",
    "df_store4 = df_promo[df_promo['store_name'] == store4]\n",
    "df_store5 = df_promo[df_promo['store_name'] == store5]\n",
    "df_store6 = df_promo[df_promo['store_name'] == store6]\n",
    "df_store7 = df_promo[df_promo['store_name'] == store7]\n",
    "df_store8 = df_promo[df_promo['store_name'] == store8]\n",
    "df_store9 = df_promo[df_promo['store_name'] == store9] "
   ]
  },
  {
   "cell_type": "code",
   "execution_count": 26,
   "id": "8979989b",
   "metadata": {},
   "outputs": [
    {
     "name": "stdout",
     "output_type": "stream",
     "text": [
      "The P-Value of the ChiSq Test AH is: 0.22064030793671066\n",
      "The P-Value of the ChiSq Test Carrefour is: 1.0\n",
      "The P-Value of the ChiSq Test Okay is: 0.5049850750938457\n",
      "The P-Value of the ChiSq Test Delhaize is: 0.3011942119122021\n"
     ]
    }
   ],
   "source": [
    "# Cross tabulation between category and day\n",
    "CrosstabResult1=pd.crosstab(index=df_store1['item_type'],columns=df_store1['time'])\n",
    "CrosstabResult2=pd.crosstab(index=df_store2['item_type'],columns=df_store2['time'])\n",
    "CrosstabResult3=pd.crosstab(index=df_store3['item_type'],columns=df_store3['time'])\n",
    "CrosstabResult4=pd.crosstab(index=df_store4['item_type'],columns=df_store4['time'])\n",
    "CrosstabResult5=pd.crosstab(index=df_store5['item_type'],columns=df_store5['time'])\n",
    "CrosstabResult6=pd.crosstab(index=df_store6['item_type'],columns=df_store6['time'])\n",
    "CrosstabResult7=pd.crosstab(index=df_store7['item_type'],columns=df_store7['time'])\n",
    "CrosstabResult8=pd.crosstab(index=df_store8['item_type'],columns=df_store8['time'])\n",
    "CrosstabResult9=pd.crosstab(index=df_store9['item_type'],columns=df_store9['time'])\n",
    "\n",
    "# Performing Chi-sq test\n",
    "ChiSqResult1 = chi2_contingency(CrosstabResult1)\n",
    "ChiSqResult2 = chi2_contingency(CrosstabResult2)\n",
    "ChiSqResult3 = chi2_contingency(CrosstabResult3)\n",
    "ChiSqResult4 = chi2_contingency(CrosstabResult4)\n",
    "# ChiSqResult5 = chi2_contingency(CrosstabResult5)\n",
    "# ChiSqResult6 = chi2_contingency(CrosstabResult6)\n",
    "# ChiSqResult7 = chi2_contingency(CrosstabResult7)\n",
    "# ChiSqResult8 = chi2_contingency(CrosstabResult8)\n",
    "# ChiSqResult9 = chi2_contingency(CrosstabResult9)\n",
    "\n",
    "# P-Value is the Probability of H0 being True\n",
    "# If P-Value > 0.05 then only we Accept the assumption(H0)\n",
    "\n",
    "print('The P-Value of the ChiSq Test AH is:', ChiSqResult1[1])\n",
    "print('The P-Value of the ChiSq Test Carrefour is:', ChiSqResult2[1])\n",
    "print('The P-Value of the ChiSq Test Okay is:', ChiSqResult3[1])\n",
    "print('The P-Value of the ChiSq Test Delhaize is:', ChiSqResult4[1])\n",
    "# print('The P-Value of the ChiSq Test Versavel Poelman is:', ChiSqResult5[1])\n",
    "# print('The P-Value of the ChiSq Test Kruidvat is:', ChiSqResult6[1])\n",
    "# print('The P-Value of the ChiSq Test Brabo is:', ChiSqResult7[1])\n",
    "# print('The P-Value of the ChiSq Test Ikea is:', ChiSqResult8[1])\n",
    "# print('The P-Value of the ChiSq Test Sys is:', ChiSqResult9[1])"
   ]
  },
  {
   "cell_type": "code",
   "execution_count": 27,
   "id": "497d2bd4",
   "metadata": {},
   "outputs": [
    {
     "name": "stdout",
     "output_type": "stream",
     "text": [
      "The P-Value of the ChiSq Test AH is: 0.17299160788207146\n",
      "The P-Value of the ChiSq Test Carrefour is: 1.0\n",
      "The P-Value of the ChiSq Test Okay is: 0.5049850750938457\n",
      "The P-Value of the ChiSq Test Delhaize is: 0.3011942119122021\n"
     ]
    }
   ],
   "source": [
    "# Cross tabulation between category and day\n",
    "CrosstabResult1=pd.crosstab(index=df_store1['item_type'],columns=df_store1['day'])\n",
    "CrosstabResult2=pd.crosstab(index=df_store2['item_type'],columns=df_store2['day'])\n",
    "CrosstabResult3=pd.crosstab(index=df_store3['item_type'],columns=df_store3['day'])\n",
    "CrosstabResult4=pd.crosstab(index=df_store4['item_type'],columns=df_store4['day'])\n",
    "CrosstabResult5=pd.crosstab(index=df_store5['item_type'],columns=df_store5['day'])\n",
    "CrosstabResult6=pd.crosstab(index=df_store6['item_type'],columns=df_store6['day'])\n",
    "CrosstabResult7=pd.crosstab(index=df_store7['item_type'],columns=df_store7['day'])\n",
    "CrosstabResult8=pd.crosstab(index=df_store8['item_type'],columns=df_store8['day'])\n",
    "CrosstabResult9=pd.crosstab(index=df_store9['item_type'],columns=df_store9['day'])\n",
    "\n",
    "# Performing Chi-sq test\n",
    "ChiSqResult1 = chi2_contingency(CrosstabResult1)\n",
    "ChiSqResult2 = chi2_contingency(CrosstabResult2)\n",
    "ChiSqResult3 = chi2_contingency(CrosstabResult3)\n",
    "ChiSqResult4 = chi2_contingency(CrosstabResult4)\n",
    "# ChiSqResult5 = chi2_contingency(CrosstabResult5)\n",
    "# ChiSqResult6 = chi2_contingency(CrosstabResult6)\n",
    "# ChiSqResult7 = chi2_contingency(CrosstabResult7)\n",
    "# ChiSqResult8 = chi2_contingency(CrosstabResult8)\n",
    "# ChiSqResult9 = chi2_contingency(CrosstabResult9)\n",
    "\n",
    "# P-Value is the Probability of H0 being True\n",
    "# If P-Value > 0.05 then only we Accept the assumption(H0)\n",
    "\n",
    "print('The P-Value of the ChiSq Test AH is:', ChiSqResult1[1])\n",
    "print('The P-Value of the ChiSq Test Carrefour is:', ChiSqResult2[1])\n",
    "print('The P-Value of the ChiSq Test Okay is:', ChiSqResult3[1])\n",
    "print('The P-Value of the ChiSq Test Delhaize is:', ChiSqResult4[1])\n",
    "# print('The P-Value of the ChiSq Test Versavel Poelman is:', ChiSqResult5[1])\n",
    "# print('The P-Value of the ChiSq Test Kruidvat is:', ChiSqResult6[1])\n",
    "# print('The P-Value of the ChiSq Test Brabo is:', ChiSqResult7[1])\n",
    "# print('The P-Value of the ChiSq Test Ikea is:', ChiSqResult8[1])\n",
    "# print('The P-Value of the ChiSq Test Sys is:', ChiSqResult9[1])"
   ]
  }
 ],
 "metadata": {
  "kernelspec": {
   "display_name": "Python 3 (ipykernel)",
   "language": "python",
   "name": "python3"
  },
  "language_info": {
   "codemirror_mode": {
    "name": "ipython",
    "version": 3
   },
   "file_extension": ".py",
   "mimetype": "text/x-python",
   "name": "python",
   "nbconvert_exporter": "python",
   "pygments_lexer": "ipython3",
   "version": "3.9.7"
  }
 },
 "nbformat": 4,
 "nbformat_minor": 5
}

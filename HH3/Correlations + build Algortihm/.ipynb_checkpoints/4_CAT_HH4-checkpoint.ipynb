{
 "cells": [
  {
   "cell_type": "markdown",
   "id": "2cce2977",
   "metadata": {},
   "source": [
    "## 4: CORRELATIONS - FROM WHAT CATEGORIES?\n",
    "\n",
    "1. Correlations types-categories?\n",
    "2. Most bought categories?\n",
    "3. Aggregate categories - regroup\n",
    "\n",
    "\n",
    "1. Top 10 products & other graphs\n",
    "2. Filters -- per day, per store..."
   ]
  },
  {
   "cell_type": "markdown",
   "id": "87a037df",
   "metadata": {},
   "source": [
    "### Import libraries "
   ]
  },
  {
   "cell_type": "code",
   "execution_count": 58,
   "id": "419cb39a",
   "metadata": {},
   "outputs": [],
   "source": [
    "#Pandas is a software library written for the Python programming language for data manipulation and analysis.\n",
    "import pandas as pd\n",
    "#NumPy is a library for the Python programming language, adding support for large, multi-dimensional arrays and matrices, along with a large collection of high-level mathematical functions to operate on these arrays\n",
    "import numpy as np\n",
    "# Matplotlib is a plotting library for python and pyplot gives us a MatLab like plotting framework. We will use this in our plotter function to plot data.\n",
    "import matplotlib.pyplot as plt\n",
    "#Seaborn is a Python data visualization library based on matplotlib. It provides a high-level interface for drawing attractive and informative statistical graphics\n",
    "import seaborn as sns\n",
    "import dataframe_image as dfi\n",
    "\n",
    "from matplotlib.ticker import StrMethodFormatter\n",
    "\n",
    "# importing the required function for correlations\n",
    "from scipy.stats import chi2_contingency"
   ]
  },
  {
   "cell_type": "markdown",
   "id": "f10011bb",
   "metadata": {},
   "source": [
    "### Load and view data "
   ]
  },
  {
   "cell_type": "code",
   "execution_count": 59,
   "id": "f90057bd",
   "metadata": {},
   "outputs": [
    {
     "data": {
      "text/html": [
       "<div>\n",
       "<style scoped>\n",
       "    .dataframe tbody tr th:only-of-type {\n",
       "        vertical-align: middle;\n",
       "    }\n",
       "\n",
       "    .dataframe tbody tr th {\n",
       "        vertical-align: top;\n",
       "    }\n",
       "\n",
       "    .dataframe thead th {\n",
       "        text-align: right;\n",
       "    }\n",
       "</style>\n",
       "<table border=\"1\" class=\"dataframe\">\n",
       "  <thead>\n",
       "    <tr style=\"text-align: right;\">\n",
       "      <th></th>\n",
       "      <th>week</th>\n",
       "      <th>order_ID</th>\n",
       "      <th>amount</th>\n",
       "      <th>price_unit</th>\n",
       "      <th>price_total</th>\n",
       "      <th>item_id</th>\n",
       "      <th>type_id</th>\n",
       "      <th>order_amount</th>\n",
       "      <th>order_price</th>\n",
       "      <th>day_num</th>\n",
       "      <th>storetype_num</th>\n",
       "      <th>storename_num</th>\n",
       "      <th>cat_num</th>\n",
       "      <th>time_num</th>\n",
       "      <th>promo_num</th>\n",
       "      <th>timestamp</th>\n",
       "      <th>times_min</th>\n",
       "      <th>dates_days</th>\n",
       "    </tr>\n",
       "  </thead>\n",
       "  <tbody>\n",
       "    <tr>\n",
       "      <th>count</th>\n",
       "      <td>648.000000</td>\n",
       "      <td>648.000000</td>\n",
       "      <td>648.000000</td>\n",
       "      <td>648.000000</td>\n",
       "      <td>648.000000</td>\n",
       "      <td>648.000000</td>\n",
       "      <td>648.000000</td>\n",
       "      <td>648.000000</td>\n",
       "      <td>648.000000</td>\n",
       "      <td>648.000000</td>\n",
       "      <td>648.000000</td>\n",
       "      <td>648.000000</td>\n",
       "      <td>648.000000</td>\n",
       "      <td>648.000000</td>\n",
       "      <td>648.000000</td>\n",
       "      <td>6.480000e+02</td>\n",
       "      <td>648.000000</td>\n",
       "      <td>6.480000e+02</td>\n",
       "    </tr>\n",
       "    <tr>\n",
       "      <th>mean</th>\n",
       "      <td>4.662037</td>\n",
       "      <td>39.641975</td>\n",
       "      <td>1.103395</td>\n",
       "      <td>2.087888</td>\n",
       "      <td>2.314648</td>\n",
       "      <td>179.472222</td>\n",
       "      <td>58.462963</td>\n",
       "      <td>11.552469</td>\n",
       "      <td>24.003141</td>\n",
       "      <td>2.983025</td>\n",
       "      <td>0.925926</td>\n",
       "      <td>1.873457</td>\n",
       "      <td>7.839506</td>\n",
       "      <td>0.780864</td>\n",
       "      <td>0.038580</td>\n",
       "      <td>1.641216e+18</td>\n",
       "      <td>1610.188272</td>\n",
       "      <td>2.021588e+07</td>\n",
       "    </tr>\n",
       "    <tr>\n",
       "      <th>std</th>\n",
       "      <td>2.299448</td>\n",
       "      <td>21.818449</td>\n",
       "      <td>0.419893</td>\n",
       "      <td>1.322498</td>\n",
       "      <td>1.976697</td>\n",
       "      <td>119.802694</td>\n",
       "      <td>53.138516</td>\n",
       "      <td>4.508658</td>\n",
       "      <td>11.114235</td>\n",
       "      <td>1.855196</td>\n",
       "      <td>0.262094</td>\n",
       "      <td>0.404043</td>\n",
       "      <td>4.414622</td>\n",
       "      <td>1.152165</td>\n",
       "      <td>0.192741</td>\n",
       "      <td>2.264996e+15</td>\n",
       "      <td>252.240976</td>\n",
       "      <td>4.476960e+03</td>\n",
       "    </tr>\n",
       "    <tr>\n",
       "      <th>min</th>\n",
       "      <td>1.000000</td>\n",
       "      <td>1.000000</td>\n",
       "      <td>1.000000</td>\n",
       "      <td>0.180320</td>\n",
       "      <td>0.180320</td>\n",
       "      <td>0.000000</td>\n",
       "      <td>0.000000</td>\n",
       "      <td>1.000000</td>\n",
       "      <td>1.520000</td>\n",
       "      <td>0.000000</td>\n",
       "      <td>0.000000</td>\n",
       "      <td>0.000000</td>\n",
       "      <td>0.000000</td>\n",
       "      <td>0.000000</td>\n",
       "      <td>0.000000</td>\n",
       "      <td>1.637776e+18</td>\n",
       "      <td>810.000000</td>\n",
       "      <td>2.021112e+07</td>\n",
       "    </tr>\n",
       "    <tr>\n",
       "      <th>25%</th>\n",
       "      <td>3.000000</td>\n",
       "      <td>21.000000</td>\n",
       "      <td>1.000000</td>\n",
       "      <td>1.190000</td>\n",
       "      <td>1.210000</td>\n",
       "      <td>78.000000</td>\n",
       "      <td>13.000000</td>\n",
       "      <td>8.000000</td>\n",
       "      <td>15.800000</td>\n",
       "      <td>2.000000</td>\n",
       "      <td>1.000000</td>\n",
       "      <td>2.000000</td>\n",
       "      <td>4.000000</td>\n",
       "      <td>0.000000</td>\n",
       "      <td>0.000000</td>\n",
       "      <td>1.639073e+18</td>\n",
       "      <td>1517.000000</td>\n",
       "      <td>2.021121e+07</td>\n",
       "    </tr>\n",
       "    <tr>\n",
       "      <th>50%</th>\n",
       "      <td>5.000000</td>\n",
       "      <td>41.000000</td>\n",
       "      <td>1.000000</td>\n",
       "      <td>1.695000</td>\n",
       "      <td>1.810000</td>\n",
       "      <td>174.500000</td>\n",
       "      <td>41.000000</td>\n",
       "      <td>12.000000</td>\n",
       "      <td>22.520000</td>\n",
       "      <td>3.000000</td>\n",
       "      <td>1.000000</td>\n",
       "      <td>2.000000</td>\n",
       "      <td>8.000000</td>\n",
       "      <td>0.000000</td>\n",
       "      <td>0.000000</td>\n",
       "      <td>1.642176e+18</td>\n",
       "      <td>1738.000000</td>\n",
       "      <td>2.022011e+07</td>\n",
       "    </tr>\n",
       "    <tr>\n",
       "      <th>75%</th>\n",
       "      <td>7.000000</td>\n",
       "      <td>58.000000</td>\n",
       "      <td>1.000000</td>\n",
       "      <td>2.790000</td>\n",
       "      <td>2.910000</td>\n",
       "      <td>272.250000</td>\n",
       "      <td>94.250000</td>\n",
       "      <td>15.000000</td>\n",
       "      <td>28.673560</td>\n",
       "      <td>5.000000</td>\n",
       "      <td>1.000000</td>\n",
       "      <td>2.000000</td>\n",
       "      <td>10.000000</td>\n",
       "      <td>1.000000</td>\n",
       "      <td>0.000000</td>\n",
       "      <td>1.643372e+18</td>\n",
       "      <td>1755.000000</td>\n",
       "      <td>2.022013e+07</td>\n",
       "    </tr>\n",
       "    <tr>\n",
       "      <th>max</th>\n",
       "      <td>8.000000</td>\n",
       "      <td>76.000000</td>\n",
       "      <td>7.000000</td>\n",
       "      <td>7.890000</td>\n",
       "      <td>24.430000</td>\n",
       "      <td>416.000000</td>\n",
       "      <td>187.000000</td>\n",
       "      <td>24.000000</td>\n",
       "      <td>62.190000</td>\n",
       "      <td>6.000000</td>\n",
       "      <td>1.000000</td>\n",
       "      <td>2.000000</td>\n",
       "      <td>16.000000</td>\n",
       "      <td>3.000000</td>\n",
       "      <td>1.000000</td>\n",
       "      <td>1.644341e+18</td>\n",
       "      <td>1935.000000</td>\n",
       "      <td>2.022021e+07</td>\n",
       "    </tr>\n",
       "  </tbody>\n",
       "</table>\n",
       "</div>"
      ],
      "text/plain": [
       "             week    order_ID      amount  price_unit  price_total  \\\n",
       "count  648.000000  648.000000  648.000000  648.000000   648.000000   \n",
       "mean     4.662037   39.641975    1.103395    2.087888     2.314648   \n",
       "std      2.299448   21.818449    0.419893    1.322498     1.976697   \n",
       "min      1.000000    1.000000    1.000000    0.180320     0.180320   \n",
       "25%      3.000000   21.000000    1.000000    1.190000     1.210000   \n",
       "50%      5.000000   41.000000    1.000000    1.695000     1.810000   \n",
       "75%      7.000000   58.000000    1.000000    2.790000     2.910000   \n",
       "max      8.000000   76.000000    7.000000    7.890000    24.430000   \n",
       "\n",
       "          item_id     type_id  order_amount  order_price     day_num  \\\n",
       "count  648.000000  648.000000    648.000000   648.000000  648.000000   \n",
       "mean   179.472222   58.462963     11.552469    24.003141    2.983025   \n",
       "std    119.802694   53.138516      4.508658    11.114235    1.855196   \n",
       "min      0.000000    0.000000      1.000000     1.520000    0.000000   \n",
       "25%     78.000000   13.000000      8.000000    15.800000    2.000000   \n",
       "50%    174.500000   41.000000     12.000000    22.520000    3.000000   \n",
       "75%    272.250000   94.250000     15.000000    28.673560    5.000000   \n",
       "max    416.000000  187.000000     24.000000    62.190000    6.000000   \n",
       "\n",
       "       storetype_num  storename_num     cat_num    time_num   promo_num  \\\n",
       "count     648.000000     648.000000  648.000000  648.000000  648.000000   \n",
       "mean        0.925926       1.873457    7.839506    0.780864    0.038580   \n",
       "std         0.262094       0.404043    4.414622    1.152165    0.192741   \n",
       "min         0.000000       0.000000    0.000000    0.000000    0.000000   \n",
       "25%         1.000000       2.000000    4.000000    0.000000    0.000000   \n",
       "50%         1.000000       2.000000    8.000000    0.000000    0.000000   \n",
       "75%         1.000000       2.000000   10.000000    1.000000    0.000000   \n",
       "max         1.000000       2.000000   16.000000    3.000000    1.000000   \n",
       "\n",
       "          timestamp    times_min    dates_days  \n",
       "count  6.480000e+02   648.000000  6.480000e+02  \n",
       "mean   1.641216e+18  1610.188272  2.021588e+07  \n",
       "std    2.264996e+15   252.240976  4.476960e+03  \n",
       "min    1.637776e+18   810.000000  2.021112e+07  \n",
       "25%    1.639073e+18  1517.000000  2.021121e+07  \n",
       "50%    1.642176e+18  1738.000000  2.022011e+07  \n",
       "75%    1.643372e+18  1755.000000  2.022013e+07  \n",
       "max    1.644341e+18  1935.000000  2.022021e+07  "
      ]
     },
     "execution_count": 59,
     "metadata": {},
     "output_type": "execute_result"
    }
   ],
   "source": [
    "df = pd.read_csv (r\"C:\\Users\\20204113\\OneDrive - TU Eindhoven\\2_Research\\1_Groceries\\DATA\\9th week - narrative (3rd attempt)\\HH4\\df\\df_HH4.csv\")\n",
    "df.describe()"
   ]
  },
  {
   "cell_type": "code",
   "execution_count": 60,
   "id": "d427e56e",
   "metadata": {},
   "outputs": [],
   "source": [
    "# use the corr function to display the correlation between all the features\n",
    "data_corr = df.corr()\n",
    "# data_corr"
   ]
  },
  {
   "cell_type": "markdown",
   "id": "eda8a44c",
   "metadata": {},
   "source": [
    "# 1. GENERAL CORRELATIONS: time/day/storetype-name"
   ]
  },
  {
   "cell_type": "markdown",
   "id": "592aaa2c",
   "metadata": {},
   "source": [
    "## 1.1. CORRELATION 1: categories vs time"
   ]
  },
  {
   "cell_type": "code",
   "execution_count": 61,
   "id": "69e03fc2",
   "metadata": {},
   "outputs": [
    {
     "name": "stdout",
     "output_type": "stream",
     "text": [
      "The P-Value of the ChiSq Test is: 1.6606583477408785e-07\n"
     ]
    }
   ],
   "source": [
    "# Cross tabulation between category and store type\n",
    "CrosstabResult =pd.crosstab(index=df['category'],columns=df['time'])\n",
    "\n",
    "CrosstabResult\n",
    "\n",
    "# Performing Chi-sq test\n",
    "ChiSqResult = chi2_contingency(CrosstabResult)\n",
    "\n",
    "\n",
    "# P-Value is the Probability of H0 being True\n",
    "# If P-Value > 0.05 then only we Accept the assumption(H0)\n",
    "\n",
    "print('The P-Value of the ChiSq Test is:', ChiSqResult[1])"
   ]
  },
  {
   "cell_type": "markdown",
   "id": "51e0bd55",
   "metadata": {},
   "source": [
    "## 1.2. CORRELATION 2: categories vs day"
   ]
  },
  {
   "cell_type": "code",
   "execution_count": 62,
   "id": "ebb7e9dd",
   "metadata": {
    "scrolled": true
   },
   "outputs": [
    {
     "name": "stdout",
     "output_type": "stream",
     "text": [
      "The P-Value of the ChiSq Test is: 0.3977471450109483\n"
     ]
    }
   ],
   "source": [
    "# Cross tabulation between category and store type\n",
    "CrosstabResult =pd.crosstab(index=df['category'],columns=df['day'])\n",
    "\n",
    "CrosstabResult\n",
    "\n",
    "# Performing Chi-sq test\n",
    "ChiSqResult = chi2_contingency(CrosstabResult)\n",
    "\n",
    "\n",
    "# P-Value is the Probability of H0 being True\n",
    "# If P-Value > 0.05 then only we Accept the assumption(H0)\n",
    "\n",
    "print('The P-Value of the ChiSq Test is:', ChiSqResult[1])"
   ]
  },
  {
   "cell_type": "markdown",
   "id": "38661f76",
   "metadata": {},
   "source": [
    "## 1.3.1 CORRELATION 3: categories vs store"
   ]
  },
  {
   "cell_type": "markdown",
   "id": "d04a0488",
   "metadata": {},
   "source": [
    "### 1.3.1 categories vs store type"
   ]
  },
  {
   "cell_type": "code",
   "execution_count": 63,
   "id": "82ad13d5",
   "metadata": {},
   "outputs": [
    {
     "name": "stdout",
     "output_type": "stream",
     "text": [
      "The P-Value of the ChiSq Test is: 2.2032493400142205e-21\n"
     ]
    }
   ],
   "source": [
    "# Cross tabulation between category and store type\n",
    "CrosstabResult =pd.crosstab(index=df['category'],columns=df['store_type'])\n",
    "\n",
    "CrosstabResult\n",
    "\n",
    "# Performing Chi-sq test\n",
    "ChiSqResult = chi2_contingency(CrosstabResult)\n",
    "\n",
    "\n",
    "# P-Value is the Probability of H0 being True\n",
    "# If P-Value > 0.05 then only we Accept the assumption(H0)\n",
    "\n",
    "print('The P-Value of the ChiSq Test is:', ChiSqResult[1])"
   ]
  },
  {
   "cell_type": "markdown",
   "id": "54963db9",
   "metadata": {},
   "source": [
    "### 1.3.2. categories vs store name"
   ]
  },
  {
   "cell_type": "code",
   "execution_count": 64,
   "id": "cc65fd41",
   "metadata": {
    "scrolled": true
   },
   "outputs": [
    {
     "name": "stdout",
     "output_type": "stream",
     "text": [
      "The P-Value of the ChiSq Test is: 3.564936767715989e-27\n"
     ]
    }
   ],
   "source": [
    "# Cross tabulation between category and store type\n",
    "CrosstabResult =pd.crosstab(index=df['category'],columns=df['store_name'])\n",
    "\n",
    "CrosstabResult\n",
    "\n",
    "# Performing Chi-sq test\n",
    "ChiSqResult = chi2_contingency(CrosstabResult)\n",
    "\n",
    "\n",
    "# P-Value is the Probability of H0 being True\n",
    "# If P-Value > 0.05 then only we Accept the assumption(H0)\n",
    "\n",
    "print('The P-Value of the ChiSq Test is:', ChiSqResult[1])"
   ]
  },
  {
   "cell_type": "markdown",
   "id": "ca5b8215",
   "metadata": {},
   "source": [
    "## 1.4. CORRELATION 2: categories vs week"
   ]
  },
  {
   "cell_type": "code",
   "execution_count": 65,
   "id": "4f3bccf8",
   "metadata": {},
   "outputs": [
    {
     "data": {
      "text/html": [
       "<div>\n",
       "<style scoped>\n",
       "    .dataframe tbody tr th:only-of-type {\n",
       "        vertical-align: middle;\n",
       "    }\n",
       "\n",
       "    .dataframe tbody tr th {\n",
       "        vertical-align: top;\n",
       "    }\n",
       "\n",
       "    .dataframe thead th {\n",
       "        text-align: right;\n",
       "    }\n",
       "</style>\n",
       "<table border=\"1\" class=\"dataframe\">\n",
       "  <thead>\n",
       "    <tr style=\"text-align: right;\">\n",
       "      <th>week</th>\n",
       "      <th>1</th>\n",
       "      <th>2</th>\n",
       "      <th>3</th>\n",
       "      <th>4</th>\n",
       "      <th>5</th>\n",
       "      <th>6</th>\n",
       "      <th>7</th>\n",
       "      <th>8</th>\n",
       "    </tr>\n",
       "    <tr>\n",
       "      <th>category</th>\n",
       "      <th></th>\n",
       "      <th></th>\n",
       "      <th></th>\n",
       "      <th></th>\n",
       "      <th></th>\n",
       "      <th></th>\n",
       "      <th></th>\n",
       "      <th></th>\n",
       "    </tr>\n",
       "  </thead>\n",
       "  <tbody>\n",
       "    <tr>\n",
       "      <th>bakery</th>\n",
       "      <td>8</td>\n",
       "      <td>6</td>\n",
       "      <td>6</td>\n",
       "      <td>5</td>\n",
       "      <td>11</td>\n",
       "      <td>11</td>\n",
       "      <td>16</td>\n",
       "      <td>5</td>\n",
       "    </tr>\n",
       "    <tr>\n",
       "      <th>bakery</th>\n",
       "      <td>0</td>\n",
       "      <td>0</td>\n",
       "      <td>0</td>\n",
       "      <td>1</td>\n",
       "      <td>0</td>\n",
       "      <td>0</td>\n",
       "      <td>0</td>\n",
       "      <td>0</td>\n",
       "    </tr>\n",
       "    <tr>\n",
       "      <th>beverages</th>\n",
       "      <td>5</td>\n",
       "      <td>5</td>\n",
       "      <td>11</td>\n",
       "      <td>8</td>\n",
       "      <td>3</td>\n",
       "      <td>4</td>\n",
       "      <td>11</td>\n",
       "      <td>7</td>\n",
       "    </tr>\n",
       "    <tr>\n",
       "      <th>breakfast &amp; spreads</th>\n",
       "      <td>4</td>\n",
       "      <td>0</td>\n",
       "      <td>1</td>\n",
       "      <td>1</td>\n",
       "      <td>6</td>\n",
       "      <td>1</td>\n",
       "      <td>3</td>\n",
       "      <td>3</td>\n",
       "    </tr>\n",
       "    <tr>\n",
       "      <th>canned foods</th>\n",
       "      <td>4</td>\n",
       "      <td>5</td>\n",
       "      <td>0</td>\n",
       "      <td>0</td>\n",
       "      <td>8</td>\n",
       "      <td>1</td>\n",
       "      <td>3</td>\n",
       "      <td>7</td>\n",
       "    </tr>\n",
       "    <tr>\n",
       "      <th>care &amp; hygiene</th>\n",
       "      <td>1</td>\n",
       "      <td>1</td>\n",
       "      <td>1</td>\n",
       "      <td>3</td>\n",
       "      <td>2</td>\n",
       "      <td>3</td>\n",
       "      <td>5</td>\n",
       "      <td>3</td>\n",
       "    </tr>\n",
       "    <tr>\n",
       "      <th>condiments</th>\n",
       "      <td>1</td>\n",
       "      <td>0</td>\n",
       "      <td>2</td>\n",
       "      <td>1</td>\n",
       "      <td>1</td>\n",
       "      <td>1</td>\n",
       "      <td>1</td>\n",
       "      <td>2</td>\n",
       "    </tr>\n",
       "    <tr>\n",
       "      <th>cooking aids</th>\n",
       "      <td>0</td>\n",
       "      <td>3</td>\n",
       "      <td>1</td>\n",
       "      <td>5</td>\n",
       "      <td>3</td>\n",
       "      <td>1</td>\n",
       "      <td>0</td>\n",
       "      <td>4</td>\n",
       "    </tr>\n",
       "    <tr>\n",
       "      <th>dairy &amp; plant based</th>\n",
       "      <td>14</td>\n",
       "      <td>15</td>\n",
       "      <td>18</td>\n",
       "      <td>15</td>\n",
       "      <td>18</td>\n",
       "      <td>14</td>\n",
       "      <td>18</td>\n",
       "      <td>17</td>\n",
       "    </tr>\n",
       "    <tr>\n",
       "      <th>frozen foods</th>\n",
       "      <td>1</td>\n",
       "      <td>2</td>\n",
       "      <td>2</td>\n",
       "      <td>3</td>\n",
       "      <td>2</td>\n",
       "      <td>0</td>\n",
       "      <td>1</td>\n",
       "      <td>2</td>\n",
       "    </tr>\n",
       "    <tr>\n",
       "      <th>fruit &amp; vegetables</th>\n",
       "      <td>16</td>\n",
       "      <td>21</td>\n",
       "      <td>17</td>\n",
       "      <td>21</td>\n",
       "      <td>13</td>\n",
       "      <td>14</td>\n",
       "      <td>26</td>\n",
       "      <td>23</td>\n",
       "    </tr>\n",
       "    <tr>\n",
       "      <th>household</th>\n",
       "      <td>1</td>\n",
       "      <td>4</td>\n",
       "      <td>2</td>\n",
       "      <td>1</td>\n",
       "      <td>0</td>\n",
       "      <td>1</td>\n",
       "      <td>1</td>\n",
       "      <td>3</td>\n",
       "    </tr>\n",
       "    <tr>\n",
       "      <th>meat, fish &amp; veggie</th>\n",
       "      <td>8</td>\n",
       "      <td>7</td>\n",
       "      <td>6</td>\n",
       "      <td>7</td>\n",
       "      <td>5</td>\n",
       "      <td>7</td>\n",
       "      <td>9</td>\n",
       "      <td>5</td>\n",
       "    </tr>\n",
       "    <tr>\n",
       "      <th>non-food</th>\n",
       "      <td>2</td>\n",
       "      <td>3</td>\n",
       "      <td>7</td>\n",
       "      <td>0</td>\n",
       "      <td>2</td>\n",
       "      <td>1</td>\n",
       "      <td>0</td>\n",
       "      <td>0</td>\n",
       "    </tr>\n",
       "    <tr>\n",
       "      <th>nuts, seeds &amp; dried fruit</th>\n",
       "      <td>1</td>\n",
       "      <td>1</td>\n",
       "      <td>3</td>\n",
       "      <td>1</td>\n",
       "      <td>1</td>\n",
       "      <td>3</td>\n",
       "      <td>3</td>\n",
       "      <td>4</td>\n",
       "    </tr>\n",
       "    <tr>\n",
       "      <th>pasta &amp; rice</th>\n",
       "      <td>1</td>\n",
       "      <td>0</td>\n",
       "      <td>4</td>\n",
       "      <td>0</td>\n",
       "      <td>0</td>\n",
       "      <td>0</td>\n",
       "      <td>0</td>\n",
       "      <td>0</td>\n",
       "    </tr>\n",
       "    <tr>\n",
       "      <th>snacks</th>\n",
       "      <td>1</td>\n",
       "      <td>6</td>\n",
       "      <td>4</td>\n",
       "      <td>5</td>\n",
       "      <td>8</td>\n",
       "      <td>3</td>\n",
       "      <td>4</td>\n",
       "      <td>5</td>\n",
       "    </tr>\n",
       "  </tbody>\n",
       "</table>\n",
       "</div>"
      ],
      "text/plain": [
       "week                        1   2   3   4   5   6   7   8\n",
       "category                                                 \n",
       "bakery                      8   6   6   5  11  11  16   5\n",
       "bakery                      0   0   0   1   0   0   0   0\n",
       "beverages                   5   5  11   8   3   4  11   7\n",
       "breakfast & spreads         4   0   1   1   6   1   3   3\n",
       "canned foods                4   5   0   0   8   1   3   7\n",
       "care & hygiene              1   1   1   3   2   3   5   3\n",
       "condiments                  1   0   2   1   1   1   1   2\n",
       "cooking aids                0   3   1   5   3   1   0   4\n",
       "dairy & plant based        14  15  18  15  18  14  18  17\n",
       "frozen foods                1   2   2   3   2   0   1   2\n",
       "fruit & vegetables         16  21  17  21  13  14  26  23\n",
       "household                   1   4   2   1   0   1   1   3\n",
       "meat, fish & veggie         8   7   6   7   5   7   9   5\n",
       "non-food                    2   3   7   0   2   1   0   0\n",
       "nuts, seeds & dried fruit   1   1   3   1   1   3   3   4\n",
       "pasta & rice                1   0   4   0   0   0   0   0\n",
       "snacks                      1   6   4   5   8   3   4   5"
      ]
     },
     "metadata": {},
     "output_type": "display_data"
    },
    {
     "name": "stdout",
     "output_type": "stream",
     "text": [
      "The P-Value of the ChiSq Test is: 0.02742817184825458\n"
     ]
    }
   ],
   "source": [
    "# Cross tabulation between category and store type\n",
    "CrosstabResult =pd.crosstab(index=df['category'],columns=df['week'])\n",
    "\n",
    "display(CrosstabResult)\n",
    "\n",
    "# Performing Chi-sq test\n",
    "ChiSqResult = chi2_contingency(CrosstabResult)\n",
    "\n",
    "# P-Value is the Probability of H0 being True\n",
    "# If P-Value > 0.05 then only we Accept the assumption(H0)\n",
    "\n",
    "print('The P-Value of the ChiSq Test is:', ChiSqResult[1])"
   ]
  },
  {
   "cell_type": "markdown",
   "id": "16041f21",
   "metadata": {},
   "source": [
    "Per week, the categories vary (they buy different things, thus we cannot use this as a steady limits variable)"
   ]
  },
  {
   "cell_type": "code",
   "execution_count": 66,
   "id": "d9dc9cdf",
   "metadata": {},
   "outputs": [],
   "source": [
    "# group per period 1 and 2\n",
    "df2 = df.copy()\n",
    "df2['week'] = df2['week'].replace([1, 2, 3, 4], 1)\n",
    "df2['week'] = df2['week'].replace([5, 6, 7, 8], 2)"
   ]
  },
  {
   "cell_type": "code",
   "execution_count": 67,
   "id": "9975dc38",
   "metadata": {},
   "outputs": [
    {
     "name": "stdout",
     "output_type": "stream",
     "text": [
      "The P-Value of the ChiSq Test is: 0.03523204079931992\n"
     ]
    }
   ],
   "source": [
    "# Cross tabulation between category and store type\n",
    "CrosstabResult =pd.crosstab(index=df2['category'],columns=df2['week'])\n",
    "\n",
    "# display(CrosstabResult)\n",
    "\n",
    "# Performing Chi-sq test\n",
    "ChiSqResult = chi2_contingency(CrosstabResult)\n",
    "\n",
    "# P-Value is the Probability of H0 being True\n",
    "# If P-Value > 0.05 then only we Accept the assumption(H0)\n",
    "\n",
    "print('The P-Value of the ChiSq Test is:', ChiSqResult[1])"
   ]
  },
  {
   "cell_type": "markdown",
   "id": "8572d838",
   "metadata": {},
   "source": [
    "#### Are they comparable per period (before and after NY)?"
   ]
  },
  {
   "cell_type": "markdown",
   "id": "7d512624",
   "metadata": {},
   "source": [
    "Before NY (first 4 weeks)"
   ]
  },
  {
   "cell_type": "code",
   "execution_count": 68,
   "id": "97d8043d",
   "metadata": {},
   "outputs": [],
   "source": [
    "# group per period 1 and 2\n",
    "df3 = df.copy()\n",
    "df3 = df3[df3['week'] < 5]"
   ]
  },
  {
   "cell_type": "code",
   "execution_count": 69,
   "id": "187fe821",
   "metadata": {
    "scrolled": true
   },
   "outputs": [
    {
     "name": "stdout",
     "output_type": "stream",
     "text": [
      "The P-Value of the ChiSq Test is: 0.12285752597388357\n"
     ]
    }
   ],
   "source": [
    "# Cross tabulation between category and store type\n",
    "CrosstabResult =pd.crosstab(index=df3['category'],columns=df3['week'])\n",
    "\n",
    "# display(CrosstabResult)\n",
    "\n",
    "# Performing Chi-sq test\n",
    "ChiSqResult = chi2_contingency(CrosstabResult)\n",
    "\n",
    "# P-Value is the Probability of H0 being True\n",
    "# If P-Value > 0.05 then only we Accept the assumption(H0)\n",
    "\n",
    "print('The P-Value of the ChiSq Test is:', ChiSqResult[1])"
   ]
  },
  {
   "cell_type": "markdown",
   "id": "b50476b1",
   "metadata": {},
   "source": [
    "After NY (last 4 weeks)"
   ]
  },
  {
   "cell_type": "code",
   "execution_count": 74,
   "id": "0a4b766e",
   "metadata": {},
   "outputs": [],
   "source": [
    "# group per period 1 and 2\n",
    "df4 = df.copy()\n",
    "df4 = df4[df4['week'] > 4]"
   ]
  },
  {
   "cell_type": "code",
   "execution_count": 75,
   "id": "f0f1600f",
   "metadata": {
    "scrolled": true
   },
   "outputs": [
    {
     "data": {
      "text/html": [
       "<div>\n",
       "<style scoped>\n",
       "    .dataframe tbody tr th:only-of-type {\n",
       "        vertical-align: middle;\n",
       "    }\n",
       "\n",
       "    .dataframe tbody tr th {\n",
       "        vertical-align: top;\n",
       "    }\n",
       "\n",
       "    .dataframe thead th {\n",
       "        text-align: right;\n",
       "    }\n",
       "</style>\n",
       "<table border=\"1\" class=\"dataframe\">\n",
       "  <thead>\n",
       "    <tr style=\"text-align: right;\">\n",
       "      <th>week</th>\n",
       "      <th>5</th>\n",
       "      <th>6</th>\n",
       "      <th>7</th>\n",
       "      <th>8</th>\n",
       "    </tr>\n",
       "    <tr>\n",
       "      <th>category</th>\n",
       "      <th></th>\n",
       "      <th></th>\n",
       "      <th></th>\n",
       "      <th></th>\n",
       "    </tr>\n",
       "  </thead>\n",
       "  <tbody>\n",
       "    <tr>\n",
       "      <th>bakery</th>\n",
       "      <td>11</td>\n",
       "      <td>11</td>\n",
       "      <td>16</td>\n",
       "      <td>5</td>\n",
       "    </tr>\n",
       "    <tr>\n",
       "      <th>beverages</th>\n",
       "      <td>3</td>\n",
       "      <td>4</td>\n",
       "      <td>11</td>\n",
       "      <td>7</td>\n",
       "    </tr>\n",
       "    <tr>\n",
       "      <th>breakfast &amp; spreads</th>\n",
       "      <td>6</td>\n",
       "      <td>1</td>\n",
       "      <td>3</td>\n",
       "      <td>3</td>\n",
       "    </tr>\n",
       "    <tr>\n",
       "      <th>canned foods</th>\n",
       "      <td>8</td>\n",
       "      <td>1</td>\n",
       "      <td>3</td>\n",
       "      <td>7</td>\n",
       "    </tr>\n",
       "    <tr>\n",
       "      <th>care &amp; hygiene</th>\n",
       "      <td>2</td>\n",
       "      <td>3</td>\n",
       "      <td>5</td>\n",
       "      <td>3</td>\n",
       "    </tr>\n",
       "    <tr>\n",
       "      <th>condiments</th>\n",
       "      <td>1</td>\n",
       "      <td>1</td>\n",
       "      <td>1</td>\n",
       "      <td>2</td>\n",
       "    </tr>\n",
       "    <tr>\n",
       "      <th>cooking aids</th>\n",
       "      <td>3</td>\n",
       "      <td>1</td>\n",
       "      <td>0</td>\n",
       "      <td>4</td>\n",
       "    </tr>\n",
       "    <tr>\n",
       "      <th>dairy &amp; plant based</th>\n",
       "      <td>18</td>\n",
       "      <td>14</td>\n",
       "      <td>18</td>\n",
       "      <td>17</td>\n",
       "    </tr>\n",
       "    <tr>\n",
       "      <th>frozen foods</th>\n",
       "      <td>2</td>\n",
       "      <td>0</td>\n",
       "      <td>1</td>\n",
       "      <td>2</td>\n",
       "    </tr>\n",
       "    <tr>\n",
       "      <th>fruit &amp; vegetables</th>\n",
       "      <td>13</td>\n",
       "      <td>14</td>\n",
       "      <td>26</td>\n",
       "      <td>23</td>\n",
       "    </tr>\n",
       "    <tr>\n",
       "      <th>household</th>\n",
       "      <td>0</td>\n",
       "      <td>1</td>\n",
       "      <td>1</td>\n",
       "      <td>3</td>\n",
       "    </tr>\n",
       "    <tr>\n",
       "      <th>meat, fish &amp; veggie</th>\n",
       "      <td>5</td>\n",
       "      <td>7</td>\n",
       "      <td>9</td>\n",
       "      <td>5</td>\n",
       "    </tr>\n",
       "    <tr>\n",
       "      <th>non-food</th>\n",
       "      <td>2</td>\n",
       "      <td>1</td>\n",
       "      <td>0</td>\n",
       "      <td>0</td>\n",
       "    </tr>\n",
       "    <tr>\n",
       "      <th>nuts, seeds &amp; dried fruit</th>\n",
       "      <td>1</td>\n",
       "      <td>3</td>\n",
       "      <td>3</td>\n",
       "      <td>4</td>\n",
       "    </tr>\n",
       "    <tr>\n",
       "      <th>snacks</th>\n",
       "      <td>8</td>\n",
       "      <td>3</td>\n",
       "      <td>4</td>\n",
       "      <td>5</td>\n",
       "    </tr>\n",
       "  </tbody>\n",
       "</table>\n",
       "</div>"
      ],
      "text/plain": [
       "week                        5   6   7   8\n",
       "category                                 \n",
       "bakery                     11  11  16   5\n",
       "beverages                   3   4  11   7\n",
       "breakfast & spreads         6   1   3   3\n",
       "canned foods                8   1   3   7\n",
       "care & hygiene              2   3   5   3\n",
       "condiments                  1   1   1   2\n",
       "cooking aids                3   1   0   4\n",
       "dairy & plant based        18  14  18  17\n",
       "frozen foods                2   0   1   2\n",
       "fruit & vegetables         13  14  26  23\n",
       "household                   0   1   1   3\n",
       "meat, fish & veggie         5   7   9   5\n",
       "non-food                    2   1   0   0\n",
       "nuts, seeds & dried fruit   1   3   3   4\n",
       "snacks                      8   3   4   5"
      ]
     },
     "metadata": {},
     "output_type": "display_data"
    },
    {
     "name": "stdout",
     "output_type": "stream",
     "text": [
      "The P-Value of the ChiSq Test is: 0.37719125194144143\n"
     ]
    }
   ],
   "source": [
    "# Cross tabulation between category and store type\n",
    "CrosstabResult =pd.crosstab(index=df4['category'],columns=df4['week'])\n",
    "\n",
    "display(CrosstabResult)\n",
    "\n",
    "# Performing Chi-sq test\n",
    "ChiSqResult = chi2_contingency(CrosstabResult)\n",
    "\n",
    "# P-Value is the Probability of H0 being True\n",
    "# If P-Value > 0.05 then only we Accept the assumption(H0)\n",
    "\n",
    "print('The P-Value of the ChiSq Test is:', ChiSqResult[1])"
   ]
  },
  {
   "cell_type": "markdown",
   "id": "fe90a52e",
   "metadata": {},
   "source": [
    "#### Yes, in the four weeks (split) they buy comparable categories (but not over the entire period, the two periods thus differ from each other)"
   ]
  },
  {
   "cell_type": "markdown",
   "id": "92c08a54",
   "metadata": {},
   "source": [
    "-\n",
    "# 2. SPECIFIC CORRELATIONS: introduce third variable (day/time/store/time)"
   ]
  },
  {
   "cell_type": "code",
   "execution_count": 18,
   "id": "b545c7b0",
   "metadata": {},
   "outputs": [],
   "source": [
    "# define data\n",
    "store1 = 'Albert Heijn'\n",
    "store2 = 'MCD'\n",
    "store3 = 'De Pers'\n",
    "\n",
    "# select only these data for the df\n",
    "df_store1 = df[df['store_name'] == store1]\n",
    "df_store2 = df[df['store_name'] == store2]\n",
    "df_store3 = df[df['store_name'] == store3]"
   ]
  },
  {
   "cell_type": "code",
   "execution_count": 19,
   "id": "6672927f",
   "metadata": {},
   "outputs": [],
   "source": [
    "# to select only one\n",
    "storet1 = 'supermarket'\n",
    "storet2 = 'minimarket'\n",
    "\n",
    "# select only these data for the df\n",
    "df_storet1 = df[df['store_type'] == storet1]\n",
    "df_storet2 = df[df['store_type'] == storet2]"
   ]
  },
  {
   "cell_type": "markdown",
   "id": "b566ed49",
   "metadata": {},
   "source": [
    "-\n",
    "## 2.1. SPEFICIC - PER STORE"
   ]
  },
  {
   "cell_type": "markdown",
   "id": "8569470e",
   "metadata": {},
   "source": [
    "#### 2.1.2.1. vs store name"
   ]
  },
  {
   "cell_type": "code",
   "execution_count": 21,
   "id": "6686e598",
   "metadata": {},
   "outputs": [
    {
     "name": "stdout",
     "output_type": "stream",
     "text": [
      "The P-Value of the ChiSq Test AH is: 0.20609789613646246\n",
      "The P-Value of the ChiSq Test MCD is: 7.594445170468476e-06\n",
      "The P-Value of the ChiSq Test De Pers is: 0.3132748993084858\n"
     ]
    }
   ],
   "source": [
    "# Cross tabulation between category and day\n",
    "CrosstabResult1=pd.crosstab(index=df_store1['category'],columns=df_store1['time'])\n",
    "CrosstabResult2=pd.crosstab(index=df_store2['category'],columns=df_store2['time'])\n",
    "CrosstabResult3=pd.crosstab(index=df_store3['category'],columns=df_store3['time'])\n",
    "CrosstabResult3\n",
    "\n",
    "# Performing Chi-sq test\n",
    "ChiSqResult1 = chi2_contingency(CrosstabResult1)\n",
    "ChiSqResult2 = chi2_contingency(CrosstabResult2)\n",
    "ChiSqResult3 = chi2_contingency(CrosstabResult3)\n",
    "# P-Value is the Probability of H0 being True\n",
    "# If P-Value > 0.05 then only we Accept the assumption(H0)\n",
    "\n",
    "print('The P-Value of the ChiSq Test AH is:', ChiSqResult1[1])\n",
    "print('The P-Value of the ChiSq Test MCD is:', ChiSqResult2[1])\n",
    "print('The P-Value of the ChiSq Test De Pers is:', ChiSqResult3[1])"
   ]
  },
  {
   "cell_type": "markdown",
   "id": "deba374c",
   "metadata": {},
   "source": [
    "- Time vs category would only matter for MCD"
   ]
  },
  {
   "cell_type": "code",
   "execution_count": 27,
   "id": "39e01020",
   "metadata": {},
   "outputs": [
    {
     "name": "stdout",
     "output_type": "stream",
     "text": [
      "The P-Value of the ChiSq Test AH is: 0.20609789613646246\n",
      "The P-Value of the ChiSq Test MCD is: 0.6647028222048248\n",
      "The P-Value of the ChiSq Test De Pers is: 0.2193240858385071\n"
     ]
    }
   ],
   "source": [
    "# Cross tabulation between category and day\n",
    "CrosstabResult1=pd.crosstab(index=df_store1['category'],columns=df_store1['day'])\n",
    "CrosstabResult2=pd.crosstab(index=df_store2['category'],columns=df_store2['day'])\n",
    "CrosstabResult3=pd.crosstab(index=df_store3['category'],columns=df_store3['day'])\n",
    "CrosstabResult3\n",
    "\n",
    "# Performing Chi-sq test\n",
    "ChiSqResult1 = chi2_contingency(CrosstabResult1)\n",
    "ChiSqResult2 = chi2_contingency(CrosstabResult2)\n",
    "ChiSqResult3 = chi2_contingency(CrosstabResult3)\n",
    "# P-Value is the Probability of H0 being True\n",
    "# If P-Value > 0.05 then only we Accept the assumption(H0)\n",
    "\n",
    "print('The P-Value of the ChiSq Test AH is:', ChiSqResult1[1])\n",
    "print('The P-Value of the ChiSq Test MCD is:', ChiSqResult2[1])\n",
    "print('The P-Value of the ChiSq Test De Pers is:', ChiSqResult3[1])"
   ]
  },
  {
   "cell_type": "code",
   "execution_count": 28,
   "id": "2e9176b3",
   "metadata": {},
   "outputs": [
    {
     "name": "stdout",
     "output_type": "stream",
     "text": [
      "The P-Value of the ChiSq Test AH is: 0.20609789613646246\n",
      "The P-Value of the ChiSq Test MCD is: 0.05909024545483596\n",
      "The P-Value of the ChiSq Test De Pers is: 0.581437394261722\n"
     ]
    }
   ],
   "source": [
    "# Cross tabulation between category and day\n",
    "CrosstabResult1=pd.crosstab(index=df_store1['category'],columns=df_store1['week'])\n",
    "CrosstabResult2=pd.crosstab(index=df_store2['category'],columns=df_store2['week'])\n",
    "CrosstabResult3=pd.crosstab(index=df_store3['category'],columns=df_store3['week'])\n",
    "CrosstabResult3\n",
    "\n",
    "# Performing Chi-sq test\n",
    "ChiSqResult1 = chi2_contingency(CrosstabResult1)\n",
    "ChiSqResult2 = chi2_contingency(CrosstabResult2)\n",
    "ChiSqResult3 = chi2_contingency(CrosstabResult3)\n",
    "# P-Value is the Probability of H0 being True\n",
    "# If P-Value > 0.05 then only we Accept the assumption(H0)\n",
    "\n",
    "print('The P-Value of the ChiSq Test AH is:', ChiSqResult1[1])\n",
    "print('The P-Value of the ChiSq Test MCD is:', ChiSqResult2[1])\n",
    "print('The P-Value of the ChiSq Test De Pers is:', ChiSqResult3[1])"
   ]
  },
  {
   "cell_type": "code",
   "execution_count": 28,
   "id": "731d28ce",
   "metadata": {},
   "outputs": [
    {
     "name": "stdout",
     "output_type": "stream",
     "text": [
      "The P-Value of the ChiSq Test AH is: 0.20609789613646246\n",
      "The P-Value of the ChiSq Test MCD is: 0.05909024545483596\n",
      "The P-Value of the ChiSq Test De Pers is: 0.581437394261722\n"
     ]
    }
   ],
   "source": [
    "# Cross tabulation between category and day\n",
    "CrosstabResult1=pd.crosstab(index=df_store1['category'],columns=df_store1['week'])\n",
    "CrosstabResult2=pd.crosstab(index=df_store2['category'],columns=df_store2['week'])\n",
    "CrosstabResult3=pd.crosstab(index=df_store3['category'],columns=df_store3['week'])\n",
    "CrosstabResult3\n",
    "\n",
    "# Performing Chi-sq test\n",
    "ChiSqResult1 = chi2_contingency(CrosstabResult1)\n",
    "ChiSqResult2 = chi2_contingency(CrosstabResult2)\n",
    "ChiSqResult3 = chi2_contingency(CrosstabResult3)\n",
    "# P-Value is the Probability of H0 being True\n",
    "# If P-Value > 0.05 then only we Accept the assumption(H0)\n",
    "\n",
    "print('The P-Value of the ChiSq Test AH is:', ChiSqResult1[1])\n",
    "print('The P-Value of the ChiSq Test MCD is:', ChiSqResult2[1])\n",
    "print('The P-Value of the ChiSq Test De Pers is:', ChiSqResult3[1])"
   ]
  },
  {
   "cell_type": "markdown",
   "id": "e1eac7e6",
   "metadata": {},
   "source": [
    "#### 2.1.2.2 vs store type"
   ]
  },
  {
   "cell_type": "code",
   "execution_count": 22,
   "id": "00c71d7f",
   "metadata": {},
   "outputs": [
    {
     "name": "stdout",
     "output_type": "stream",
     "text": [
      "The P-Value of the ChiSq Test supermarket is: 3.211920981470685e-08\n",
      "The P-Value of the ChiSq Test minimarket is: 0.3132748993084858\n"
     ]
    }
   ],
   "source": [
    "# Cross tabulation between DAY and TIME\n",
    "CrosstabResult1=pd.crosstab(index=df_storet1['category'],columns=df_storet1['time'])\n",
    "CrosstabResult2=pd.crosstab(index=df_storet2['category'],columns=df_storet2['time'])\n",
    "\n",
    "# Performing Chi-sq test\n",
    "ChiSqResult1 = chi2_contingency(CrosstabResult1)\n",
    "ChiSqResult2 = chi2_contingency(CrosstabResult2)\n",
    "\n",
    "# P-Value is the Probability of H0 being True\n",
    "# If P-Value > 0.05 then only we Accept the assumption(H0)\n",
    "\n",
    "print('The P-Value of the ChiSq Test supermarket is:', ChiSqResult1[1])\n",
    "print('The P-Value of the ChiSq Test minimarket is:', ChiSqResult2[1])"
   ]
  },
  {
   "cell_type": "markdown",
   "id": "43fe2947",
   "metadata": {},
   "source": [
    "- Time vs category only matters for supermarkets"
   ]
  },
  {
   "cell_type": "markdown",
   "id": "e5642d1b",
   "metadata": {},
   "source": [
    "-\n",
    "# New dataframes per store name & time"
   ]
  },
  {
   "cell_type": "code",
   "execution_count": 169,
   "id": "c244e0c4",
   "metadata": {},
   "outputs": [],
   "source": [
    "# to select only one\n",
    "store1 = 'Albert Heijn'\n",
    "store2 = 'Sys'\n",
    "store3 = 'Okay'\n",
    "store4 = 'Delhaize'\n",
    "store5 = 'Versavel Poelman'\n",
    "store6 = 'Kruidvat'\n",
    "store7 = 'Brabo'\n",
    "store8 = 'Ikea'\n",
    "store9 = 'Carrefour'\n",
    "\n",
    "# select only these data for the df\n",
    "df_AH = df[df['store_name'] == store1]\n",
    "df_SYS = df[df['store_name'] == store2]\n",
    "df_OKAY = df[df['store_name'] == store3]\n",
    "df_DELHAIZE = df[df['store_name'] == store4]\n",
    "df_VERSAVEL = df[df['store_name'] == store5]\n",
    "df_KRUIDVAT = df[df['store_name'] == store6]\n",
    "df_BRABO = df[df['store_name'] == store7]\n",
    "df_IKEA = df[df['store_name'] == store8]\n",
    "df_CARREFOUR = df[df['store_name'] == store9]"
   ]
  },
  {
   "cell_type": "markdown",
   "id": "4adca203",
   "metadata": {},
   "source": [
    "## Time dataframes for ALBERT HEIJN"
   ]
  },
  {
   "cell_type": "code",
   "execution_count": 170,
   "id": "abc10fda",
   "metadata": {},
   "outputs": [],
   "source": [
    "# select only these time data for the df_AH\n",
    "df_mornings = df_AH[df_AH['time'] == 'morning']\n",
    "df_noons = df_AH[df_AH['time'] == 'noon']\n",
    "df_afternoons = df_AH[df_AH['time'] == 'afternoon']"
   ]
  },
  {
   "cell_type": "code",
   "execution_count": 171,
   "id": "727f9898",
   "metadata": {},
   "outputs": [],
   "source": [
    "df_morning = df_mornings.groupby(['category'])['order_ID'].nunique()\n",
    "df_morning = pd.DataFrame (df_morning)\n",
    "df_morning = df_morning.reset_index()"
   ]
  },
  {
   "cell_type": "code",
   "execution_count": 172,
   "id": "597d0767",
   "metadata": {},
   "outputs": [],
   "source": [
    "df_morning = df_mornings.groupby(['category'])['order_ID'].nunique()\n",
    "df_morning = pd.DataFrame (df_morning)\n",
    "df_morning = df_morning.reset_index()\n",
    "df_morning = df_morning.loc[~(df_morning==0).any(axis=1)]\n",
    "df_morning = df_morning.rename(columns={\"order_ID\": \"weight\"})\n",
    "\n",
    "df_noon = df_noons.groupby(['category'])['order_ID'].nunique()\n",
    "df_noon = pd.DataFrame (df_noon)\n",
    "df_noon = df_noon.reset_index()\n",
    "df_noon = df_noon.loc[~(df_noon==0).any(axis=1)]\n",
    "df_noon = df_noon.rename(columns={\"order_ID\": \"weight\"})\n",
    "\n",
    "df_afternoon = df_afternoons.groupby(['category'])['order_ID'].nunique()\n",
    "df_afternoon = pd.DataFrame (df_afternoon)\n",
    "df_afternoon = df_afternoon.reset_index()\n",
    "df_afternoon = df_afternoon.loc[~(df_afternoon==0).any(axis=1)]\n",
    "df_afternoon = df_afternoon.rename(columns={\"order_ID\": \"weight\"})"
   ]
  },
  {
   "cell_type": "code",
   "execution_count": 173,
   "id": "71c396c2",
   "metadata": {},
   "outputs": [
    {
     "data": {
      "text/html": [
       "<div>\n",
       "<style scoped>\n",
       "    .dataframe tbody tr th:only-of-type {\n",
       "        vertical-align: middle;\n",
       "    }\n",
       "\n",
       "    .dataframe tbody tr th {\n",
       "        vertical-align: top;\n",
       "    }\n",
       "\n",
       "    .dataframe thead th {\n",
       "        text-align: right;\n",
       "    }\n",
       "</style>\n",
       "<table border=\"1\" class=\"dataframe\">\n",
       "  <thead>\n",
       "    <tr style=\"text-align: right;\">\n",
       "      <th></th>\n",
       "      <th>category</th>\n",
       "      <th>weight</th>\n",
       "    </tr>\n",
       "  </thead>\n",
       "  <tbody>\n",
       "    <tr>\n",
       "      <th>0</th>\n",
       "      <td>bakery</td>\n",
       "      <td>1</td>\n",
       "    </tr>\n",
       "    <tr>\n",
       "      <th>1</th>\n",
       "      <td>fruit &amp; vegetables</td>\n",
       "      <td>6</td>\n",
       "    </tr>\n",
       "    <tr>\n",
       "      <th>2</th>\n",
       "      <td>meat, fish &amp; veggie</td>\n",
       "      <td>1</td>\n",
       "    </tr>\n",
       "    <tr>\n",
       "      <th>3</th>\n",
       "      <td>snacks</td>\n",
       "      <td>1</td>\n",
       "    </tr>\n",
       "  </tbody>\n",
       "</table>\n",
       "</div>"
      ],
      "text/plain": [
       "              category  weight\n",
       "0               bakery       1\n",
       "1   fruit & vegetables       6\n",
       "2  meat, fish & veggie       1\n",
       "3               snacks       1"
      ]
     },
     "execution_count": 173,
     "metadata": {},
     "output_type": "execute_result"
    }
   ],
   "source": [
    "df_noon"
   ]
  },
  {
   "cell_type": "code",
   "execution_count": 174,
   "id": "119a266f",
   "metadata": {},
   "outputs": [],
   "source": [
    "df_morning.to_csv (r\"C:\\Users\\20204113\\OneDrive - TU Eindhoven\\2_Research\\1_Groceries\\DATA\\9th week - narrative (3rd attempt)\\HH2\\df\\df_HH2_AHmornCAT.csv\", index = None, header=True)\n",
    "df_noon.to_csv (r\"C:\\Users\\20204113\\OneDrive - TU Eindhoven\\2_Research\\1_Groceries\\DATA\\9th week - narrative (3rd attempt)\\HH2\\df\\df_HH2_AHnoonCAT.csv\", index = None, header=True)\n",
    "df_afternoon.to_csv (r\"C:\\Users\\20204113\\OneDrive - TU Eindhoven\\2_Research\\1_Groceries\\DATA\\9th week - narrative (3rd attempt)\\HH2\\df\\df_HH2_AHafterCAT.csv\", index = None, header=True)"
   ]
  },
  {
   "cell_type": "code",
   "execution_count": 175,
   "id": "821d7e5c",
   "metadata": {},
   "outputs": [],
   "source": [
    "df_mornings.to_csv (r\"C:\\Users\\20204113\\OneDrive - TU Eindhoven\\2_Research\\1_Groceries\\DATA\\9th week - narrative (3rd attempt)\\HH2\\df\\df_HH2_AHmorn=.csv\", index = None, header=True)\n",
    "df_noons.to_csv (r\"C:\\Users\\20204113\\OneDrive - TU Eindhoven\\2_Research\\1_Groceries\\DATA\\9th week - narrative (3rd attempt)\\HH2\\df\\df_HH2_AHnoon.csv\", index = None, header=True)\n",
    "df_afternoons.to_csv (r\"C:\\Users\\20204113\\OneDrive - TU Eindhoven\\2_Research\\1_Groceries\\DATA\\9th week - narrative (3rd attempt)\\HH2\\df\\df_HH2_AHafter.csv\", index = None, header=True)"
   ]
  },
  {
   "cell_type": "markdown",
   "id": "28f7a221",
   "metadata": {},
   "source": [
    "## Time dataframes for SYS"
   ]
  },
  {
   "cell_type": "code",
   "execution_count": 176,
   "id": "652e0499",
   "metadata": {},
   "outputs": [],
   "source": [
    "# select only these time data for the df_AH\n",
    "df_mornings = df_SYS[df_SYS['time'] == 'morning']\n",
    "df_noons = df_SYS[df_SYS['time'] == 'noon']\n",
    "df_afternoons = df_SYS[df_SYS['time'] == 'afternoon']"
   ]
  },
  {
   "cell_type": "code",
   "execution_count": 177,
   "id": "08f75897",
   "metadata": {},
   "outputs": [],
   "source": [
    "df_morning = df_mornings.groupby(['category'])['order_ID'].nunique()\n",
    "df_morning = pd.DataFrame (df_morning)\n",
    "df_morning = df_morning.reset_index()\n",
    "df_morning = df_morning.loc[~(df_morning==0).any(axis=1)]\n",
    "df_morning = df_morning.rename(columns={\"order_ID\": \"weight\"})\n",
    "\n",
    "df_noon = df_noons.groupby(['category'])['order_ID'].nunique()\n",
    "df_noon = pd.DataFrame (df_noon)\n",
    "df_noon = df_noon.reset_index()\n",
    "df_noon = df_noon.loc[~(df_noon==0).any(axis=1)]\n",
    "df_noon = df_noon.rename(columns={\"order_ID\": \"weight\"})\n",
    "\n",
    "df_afternoon = df_afternoons.groupby(['category'])['order_ID'].nunique()\n",
    "df_afternoon = pd.DataFrame (df_afternoon)\n",
    "df_afternoon = df_afternoon.reset_index()\n",
    "df_afternoon = df_afternoon.loc[~(df_afternoon==0).any(axis=1)]\n",
    "df_afternoon = df_afternoon.rename(columns={\"order_ID\": \"weight\"})"
   ]
  },
  {
   "cell_type": "code",
   "execution_count": 178,
   "id": "b71c2dee",
   "metadata": {},
   "outputs": [
    {
     "data": {
      "text/html": [
       "<div>\n",
       "<style scoped>\n",
       "    .dataframe tbody tr th:only-of-type {\n",
       "        vertical-align: middle;\n",
       "    }\n",
       "\n",
       "    .dataframe tbody tr th {\n",
       "        vertical-align: top;\n",
       "    }\n",
       "\n",
       "    .dataframe thead th {\n",
       "        text-align: right;\n",
       "    }\n",
       "</style>\n",
       "<table border=\"1\" class=\"dataframe\">\n",
       "  <thead>\n",
       "    <tr style=\"text-align: right;\">\n",
       "      <th></th>\n",
       "      <th>category</th>\n",
       "      <th>weight</th>\n",
       "    </tr>\n",
       "  </thead>\n",
       "  <tbody>\n",
       "    <tr>\n",
       "      <th>0</th>\n",
       "      <td>bakery</td>\n",
       "      <td>1</td>\n",
       "    </tr>\n",
       "  </tbody>\n",
       "</table>\n",
       "</div>"
      ],
      "text/plain": [
       "  category  weight\n",
       "0   bakery       1"
      ]
     },
     "execution_count": 178,
     "metadata": {},
     "output_type": "execute_result"
    }
   ],
   "source": [
    "df_noon"
   ]
  },
  {
   "cell_type": "code",
   "execution_count": 179,
   "id": "0e7b8238",
   "metadata": {},
   "outputs": [],
   "source": [
    "df_morning.to_csv (r\"C:\\Users\\20204113\\OneDrive - TU Eindhoven\\2_Research\\1_Groceries\\DATA\\9th week - narrative (3rd attempt)\\HH2\\df\\df_HH2_SYSmornCAT.csv\", index = None, header=True)\n",
    "df_noon.to_csv (r\"C:\\Users\\20204113\\OneDrive - TU Eindhoven\\2_Research\\1_Groceries\\DATA\\9th week - narrative (3rd attempt)\\HH2\\df\\df_HH2_SYSnoonCAT.csv\", index = None, header=True)\n",
    "df_afternoon.to_csv (r\"C:\\Users\\20204113\\OneDrive - TU Eindhoven\\2_Research\\1_Groceries\\DATA\\9th week - narrative (3rd attempt)\\HH2\\df\\df_HH2_SYSafterCAT.csv\", index = None, header=True)"
   ]
  },
  {
   "cell_type": "code",
   "execution_count": 180,
   "id": "80245038",
   "metadata": {},
   "outputs": [],
   "source": [
    "df_mornings.to_csv (r\"C:\\Users\\20204113\\OneDrive - TU Eindhoven\\2_Research\\1_Groceries\\DATA\\9th week - narrative (3rd attempt)\\HH2\\df\\df_HH2_SYSmorn.csv\", index = None, header=True)\n",
    "df_noons.to_csv (r\"C:\\Users\\20204113\\OneDrive - TU Eindhoven\\2_Research\\1_Groceries\\DATA\\9th week - narrative (3rd attempt)\\HH2\\df\\df_HH2_SYSnoon.csv\", index = None, header=True)\n",
    "df_afternoons.to_csv (r\"C:\\Users\\20204113\\OneDrive - TU Eindhoven\\2_Research\\1_Groceries\\DATA\\9th week - narrative (3rd attempt)\\HH2\\df\\df_HH2_SYSafter.csv\", index = None, header=True)"
   ]
  },
  {
   "cell_type": "markdown",
   "id": "54852329",
   "metadata": {},
   "source": [
    "## Time dataframes for OKAY"
   ]
  },
  {
   "cell_type": "code",
   "execution_count": 95,
   "id": "3b536056",
   "metadata": {},
   "outputs": [],
   "source": [
    "# select only these time data for the df_AH\n",
    "df_mornings = df_OKAY[df_OKAY['time'] == 'morning']\n",
    "df_noons = df_OKAY[df_OKAY['time'] == 'noon']\n",
    "df_afternoons = df_OKAY[df_OKAY['time'] == 'afternoon']"
   ]
  },
  {
   "cell_type": "code",
   "execution_count": 96,
   "id": "888eb724",
   "metadata": {},
   "outputs": [],
   "source": [
    "df_morning = df_mornings.groupby(['category'])['order_ID'].nunique()\n",
    "df_morning = pd.DataFrame (df_morning)\n",
    "df_morning = df_morning.reset_index()\n",
    "df_morning = df_morning.loc[~(df_morning==0).any(axis=1)]\n",
    "df_morning = df_morning.rename(columns={\"order_ID\": \"weight\"})\n",
    "\n",
    "df_noon = df_noons.groupby(['category'])['order_ID'].nunique()\n",
    "df_noon = pd.DataFrame (df_noon)\n",
    "df_noon = df_noon.reset_index()\n",
    "df_noon = df_noon.loc[~(df_noon==0).any(axis=1)]\n",
    "df_noon = df_noon.rename(columns={\"order_ID\": \"weight\"})\n",
    "\n",
    "df_afternoon = df_afternoons.groupby(['category'])['order_ID'].nunique()\n",
    "df_afternoon = pd.DataFrame (df_afternoon)\n",
    "df_afternoon = df_afternoon.reset_index()\n",
    "df_afternoon = df_afternoon.loc[~(df_afternoon==0).any(axis=1)]\n",
    "df_afternoon = df_afternoon.rename(columns={\"order_ID\": \"weight\"})"
   ]
  },
  {
   "cell_type": "code",
   "execution_count": 97,
   "id": "9d35f0ce",
   "metadata": {},
   "outputs": [
    {
     "data": {
      "text/html": [
       "<div>\n",
       "<style scoped>\n",
       "    .dataframe tbody tr th:only-of-type {\n",
       "        vertical-align: middle;\n",
       "    }\n",
       "\n",
       "    .dataframe tbody tr th {\n",
       "        vertical-align: top;\n",
       "    }\n",
       "\n",
       "    .dataframe thead th {\n",
       "        text-align: right;\n",
       "    }\n",
       "</style>\n",
       "<table border=\"1\" class=\"dataframe\">\n",
       "  <thead>\n",
       "    <tr style=\"text-align: right;\">\n",
       "      <th></th>\n",
       "      <th>category</th>\n",
       "      <th>weight</th>\n",
       "    </tr>\n",
       "  </thead>\n",
       "  <tbody>\n",
       "    <tr>\n",
       "      <th>0</th>\n",
       "      <td>breakfast &amp; spreads</td>\n",
       "      <td>1</td>\n",
       "    </tr>\n",
       "    <tr>\n",
       "      <th>1</th>\n",
       "      <td>canned foods</td>\n",
       "      <td>1</td>\n",
       "    </tr>\n",
       "    <tr>\n",
       "      <th>2</th>\n",
       "      <td>dairy &amp; plant based</td>\n",
       "      <td>1</td>\n",
       "    </tr>\n",
       "  </tbody>\n",
       "</table>\n",
       "</div>"
      ],
      "text/plain": [
       "              category  weight\n",
       "0  breakfast & spreads       1\n",
       "1         canned foods       1\n",
       "2  dairy & plant based       1"
      ]
     },
     "execution_count": 97,
     "metadata": {},
     "output_type": "execute_result"
    }
   ],
   "source": [
    "df_noon"
   ]
  },
  {
   "cell_type": "code",
   "execution_count": 98,
   "id": "d08184e1",
   "metadata": {},
   "outputs": [],
   "source": [
    "df_morning.to_csv (r\"C:\\Users\\20204113\\OneDrive - TU Eindhoven\\2_Research\\1_Groceries\\DATA\\9th week - narrative (3rd attempt)\\HH2\\df\\df_HH2_OKAYmornCAT.csv\", index = None, header=True)\n",
    "df_noon.to_csv (r\"C:\\Users\\20204113\\OneDrive - TU Eindhoven\\2_Research\\1_Groceries\\DATA\\9th week - narrative (3rd attempt)\\HH2\\df\\df_HH2_OKAYnoonCAT.csv\", index = None, header=True)\n",
    "df_afternoon.to_csv (r\"C:\\Users\\20204113\\OneDrive - TU Eindhoven\\2_Research\\1_Groceries\\DATA\\9th week - narrative (3rd attempt)\\HH2\\df\\df_HH2_OKAYafterCAT.csv\", index = None, header=True)"
   ]
  },
  {
   "cell_type": "code",
   "execution_count": 99,
   "id": "7df7e7dd",
   "metadata": {},
   "outputs": [],
   "source": [
    "df_mornings.to_csv (r\"C:\\Users\\20204113\\OneDrive - TU Eindhoven\\2_Research\\1_Groceries\\DATA\\9th week - narrative (3rd attempt)\\HH2\\df\\df_HH2_OKAYmorn.csv\", index = None, header=True)\n",
    "df_noons.to_csv (r\"C:\\Users\\20204113\\OneDrive - TU Eindhoven\\2_Research\\1_Groceries\\DATA\\9th week - narrative (3rd attempt)\\HH2\\df\\df_HH2_OKAYnoon.csv\", index = None, header=True)\n",
    "df_afternoons.to_csv (r\"C:\\Users\\20204113\\OneDrive - TU Eindhoven\\2_Research\\1_Groceries\\DATA\\9th week - narrative (3rd attempt)\\HH2\\df\\df_HH2_OKAYafter.csv\", index = None, header=True)"
   ]
  },
  {
   "cell_type": "markdown",
   "id": "d5f63204",
   "metadata": {},
   "source": [
    "## Time dataframes for DELHAIZE"
   ]
  },
  {
   "cell_type": "code",
   "execution_count": 100,
   "id": "9055434e",
   "metadata": {},
   "outputs": [],
   "source": [
    "# select only these time data for the df_AH\n",
    "df_mornings = df_DELHAIZE[df_DELHAIZE['time'] == 'morning']\n",
    "df_noons = df_DELHAIZE[df_DELHAIZE['time'] == 'noon']\n",
    "df_afternoons = df_DELHAIZE[df_DELHAIZE['time'] == 'afternoon']"
   ]
  },
  {
   "cell_type": "code",
   "execution_count": 101,
   "id": "c649b6ed",
   "metadata": {},
   "outputs": [],
   "source": [
    "df_morning = df_mornings.groupby(['category'])['order_ID'].nunique()\n",
    "df_morning = pd.DataFrame (df_morning)\n",
    "df_morning = df_morning.reset_index()\n",
    "df_morning = df_morning.loc[~(df_morning==0).any(axis=1)]\n",
    "df_morning = df_morning.rename(columns={\"order_ID\": \"weight\"})\n",
    "\n",
    "df_noon = df_noons.groupby(['category'])['order_ID'].nunique()\n",
    "df_noon = pd.DataFrame (df_noon)\n",
    "df_noon = df_noon.reset_index()\n",
    "df_noon = df_noon.loc[~(df_noon==0).any(axis=1)]\n",
    "df_noon = df_noon.rename(columns={\"order_ID\": \"weight\"})\n",
    "\n",
    "df_afternoon = df_afternoons.groupby(['category'])['order_ID'].nunique()\n",
    "df_afternoon = pd.DataFrame (df_afternoon)\n",
    "df_afternoon = df_afternoon.reset_index()\n",
    "df_afternoon = df_afternoon.loc[~(df_afternoon==0).any(axis=1)]\n",
    "df_afternoon = df_afternoon.rename(columns={\"order_ID\": \"weight\"})"
   ]
  },
  {
   "cell_type": "code",
   "execution_count": 102,
   "id": "3d8e0828",
   "metadata": {},
   "outputs": [
    {
     "data": {
      "text/html": [
       "<div>\n",
       "<style scoped>\n",
       "    .dataframe tbody tr th:only-of-type {\n",
       "        vertical-align: middle;\n",
       "    }\n",
       "\n",
       "    .dataframe tbody tr th {\n",
       "        vertical-align: top;\n",
       "    }\n",
       "\n",
       "    .dataframe thead th {\n",
       "        text-align: right;\n",
       "    }\n",
       "</style>\n",
       "<table border=\"1\" class=\"dataframe\">\n",
       "  <thead>\n",
       "    <tr style=\"text-align: right;\">\n",
       "      <th></th>\n",
       "      <th>category</th>\n",
       "      <th>weight</th>\n",
       "    </tr>\n",
       "  </thead>\n",
       "  <tbody>\n",
       "    <tr>\n",
       "      <th>0</th>\n",
       "      <td>bakery</td>\n",
       "      <td>1</td>\n",
       "    </tr>\n",
       "    <tr>\n",
       "      <th>1</th>\n",
       "      <td>beverages</td>\n",
       "      <td>2</td>\n",
       "    </tr>\n",
       "    <tr>\n",
       "      <th>2</th>\n",
       "      <td>breakfast &amp; spreads</td>\n",
       "      <td>1</td>\n",
       "    </tr>\n",
       "    <tr>\n",
       "      <th>3</th>\n",
       "      <td>condiments</td>\n",
       "      <td>1</td>\n",
       "    </tr>\n",
       "    <tr>\n",
       "      <th>4</th>\n",
       "      <td>dairy &amp; plant based</td>\n",
       "      <td>2</td>\n",
       "    </tr>\n",
       "    <tr>\n",
       "      <th>5</th>\n",
       "      <td>frozen foods</td>\n",
       "      <td>1</td>\n",
       "    </tr>\n",
       "    <tr>\n",
       "      <th>6</th>\n",
       "      <td>fruit &amp; vegetables</td>\n",
       "      <td>2</td>\n",
       "    </tr>\n",
       "    <tr>\n",
       "      <th>7</th>\n",
       "      <td>meat, fish &amp; veggie</td>\n",
       "      <td>2</td>\n",
       "    </tr>\n",
       "    <tr>\n",
       "      <th>8</th>\n",
       "      <td>snacks</td>\n",
       "      <td>2</td>\n",
       "    </tr>\n",
       "  </tbody>\n",
       "</table>\n",
       "</div>"
      ],
      "text/plain": [
       "              category  weight\n",
       "0               bakery       1\n",
       "1            beverages       2\n",
       "2  breakfast & spreads       1\n",
       "3           condiments       1\n",
       "4  dairy & plant based       2\n",
       "5         frozen foods       1\n",
       "6   fruit & vegetables       2\n",
       "7  meat, fish & veggie       2\n",
       "8               snacks       2"
      ]
     },
     "execution_count": 102,
     "metadata": {},
     "output_type": "execute_result"
    }
   ],
   "source": [
    "df_morning"
   ]
  },
  {
   "cell_type": "code",
   "execution_count": 103,
   "id": "7338c8df",
   "metadata": {},
   "outputs": [],
   "source": [
    "df_morning.to_csv (r\"C:\\Users\\20204113\\OneDrive - TU Eindhoven\\2_Research\\1_Groceries\\DATA\\9th week - narrative (3rd attempt)\\HH2\\df\\df_HH2_DELHmornCAT.csv\", index = None, header=True)\n",
    "df_noon.to_csv (r\"C:\\Users\\20204113\\OneDrive - TU Eindhoven\\2_Research\\1_Groceries\\DATA\\9th week - narrative (3rd attempt)\\HH2\\df\\df_HH2_DELHnoonCAT.csv\", index = None, header=True)\n",
    "df_afternoon.to_csv (r\"C:\\Users\\20204113\\OneDrive - TU Eindhoven\\2_Research\\1_Groceries\\DATA\\9th week - narrative (3rd attempt)\\HH2\\df\\df_HH2_DELHafterCAT.csv\", index = None, header=True)"
   ]
  },
  {
   "cell_type": "code",
   "execution_count": 104,
   "id": "ecde16ba",
   "metadata": {},
   "outputs": [],
   "source": [
    "df_mornings.to_csv (r\"C:\\Users\\20204113\\OneDrive - TU Eindhoven\\2_Research\\1_Groceries\\DATA\\9th week - narrative (3rd attempt)\\HH2\\df\\df_HH2_DELHmorn.csv\", index = None, header=True)\n",
    "df_noons.to_csv (r\"C:\\Users\\20204113\\OneDrive - TU Eindhoven\\2_Research\\1_Groceries\\DATA\\9th week - narrative (3rd attempt)\\HH2\\df\\df_HH2_DELHnoon.csv\", index = None, header=True)\n",
    "df_afternoons.to_csv (r\"C:\\Users\\20204113\\OneDrive - TU Eindhoven\\2_Research\\1_Groceries\\DATA\\9th week - narrative (3rd attempt)\\HH2\\df\\df_HH2_DELHafter.csv\", index = None, header=True)"
   ]
  },
  {
   "cell_type": "markdown",
   "id": "cb98fead",
   "metadata": {},
   "source": [
    "## Time dataframes for VERSAVEL POELMAN"
   ]
  },
  {
   "cell_type": "code",
   "execution_count": 105,
   "id": "a65fbc88",
   "metadata": {},
   "outputs": [],
   "source": [
    "# select only these time data for the df_AH\n",
    "df_mornings = df_VERSAVEL[df_VERSAVEL['time'] == 'morning']\n",
    "df_noons = df_VERSAVEL[df_VERSAVEL['time'] == 'noon']\n",
    "df_afternoons = df_VERSAVEL[df_VERSAVEL['time'] == 'afternoon']"
   ]
  },
  {
   "cell_type": "code",
   "execution_count": 106,
   "id": "b811b966",
   "metadata": {},
   "outputs": [],
   "source": [
    "df_morning = df_mornings.groupby(['category'])['order_ID'].nunique()\n",
    "df_morning = pd.DataFrame (df_morning)\n",
    "df_morning = df_morning.reset_index()\n",
    "df_morning = df_morning.loc[~(df_morning==0).any(axis=1)]\n",
    "df_morning = df_morning.rename(columns={\"order_ID\": \"weight\"})\n",
    "\n",
    "df_noon = df_noons.groupby(['category'])['order_ID'].nunique()\n",
    "df_noon = pd.DataFrame (df_noon)\n",
    "df_noon = df_noon.reset_index()\n",
    "df_noon = df_noon.loc[~(df_noon==0).any(axis=1)]\n",
    "df_noon = df_noon.rename(columns={\"order_ID\": \"weight\"})\n",
    "\n",
    "df_afternoon = df_afternoons.groupby(['category'])['order_ID'].nunique()\n",
    "df_afternoon = pd.DataFrame (df_afternoon)\n",
    "df_afternoon = df_afternoon.reset_index()\n",
    "df_afternoon = df_afternoon.loc[~(df_afternoon==0).any(axis=1)]\n",
    "df_afternoon = df_afternoon.rename(columns={\"order_ID\": \"weight\"})"
   ]
  },
  {
   "cell_type": "code",
   "execution_count": 107,
   "id": "99113b0a",
   "metadata": {},
   "outputs": [
    {
     "data": {
      "text/html": [
       "<div>\n",
       "<style scoped>\n",
       "    .dataframe tbody tr th:only-of-type {\n",
       "        vertical-align: middle;\n",
       "    }\n",
       "\n",
       "    .dataframe tbody tr th {\n",
       "        vertical-align: top;\n",
       "    }\n",
       "\n",
       "    .dataframe thead th {\n",
       "        text-align: right;\n",
       "    }\n",
       "</style>\n",
       "<table border=\"1\" class=\"dataframe\">\n",
       "  <thead>\n",
       "    <tr style=\"text-align: right;\">\n",
       "      <th></th>\n",
       "      <th>category</th>\n",
       "      <th>weight</th>\n",
       "    </tr>\n",
       "  </thead>\n",
       "  <tbody>\n",
       "    <tr>\n",
       "      <th>0</th>\n",
       "      <td>dairy &amp; plant based</td>\n",
       "      <td>1</td>\n",
       "    </tr>\n",
       "    <tr>\n",
       "      <th>1</th>\n",
       "      <td>meat, fish &amp; veggie</td>\n",
       "      <td>3</td>\n",
       "    </tr>\n",
       "  </tbody>\n",
       "</table>\n",
       "</div>"
      ],
      "text/plain": [
       "              category  weight\n",
       "0  dairy & plant based       1\n",
       "1  meat, fish & veggie       3"
      ]
     },
     "execution_count": 107,
     "metadata": {},
     "output_type": "execute_result"
    }
   ],
   "source": [
    "df_morning"
   ]
  },
  {
   "cell_type": "code",
   "execution_count": 108,
   "id": "72624415",
   "metadata": {},
   "outputs": [],
   "source": [
    "df_morning.to_csv (r\"C:\\Users\\20204113\\OneDrive - TU Eindhoven\\2_Research\\1_Groceries\\DATA\\9th week - narrative (3rd attempt)\\HH2\\df\\df_HH2_VERSmornCAT.csv\", index = None, header=True)\n",
    "df_noon.to_csv (r\"C:\\Users\\20204113\\OneDrive - TU Eindhoven\\2_Research\\1_Groceries\\DATA\\9th week - narrative (3rd attempt)\\HH2\\df\\df_HH2_VERSnoonCAT.csv\", index = None, header=True)\n",
    "df_afternoon.to_csv (r\"C:\\Users\\20204113\\OneDrive - TU Eindhoven\\2_Research\\1_Groceries\\DATA\\9th week - narrative (3rd attempt)\\HH2\\df\\df_HH2_VERSafterCAT.csv\", index = None, header=True)"
   ]
  },
  {
   "cell_type": "code",
   "execution_count": 109,
   "id": "fe7e25c2",
   "metadata": {},
   "outputs": [],
   "source": [
    "df_mornings.to_csv (r\"C:\\Users\\20204113\\OneDrive - TU Eindhoven\\2_Research\\1_Groceries\\DATA\\9th week - narrative (3rd attempt)\\HH2\\df\\df_HH2_VERSmorn.csv\", index = None, header=True)\n",
    "df_noons.to_csv (r\"C:\\Users\\20204113\\OneDrive - TU Eindhoven\\2_Research\\1_Groceries\\DATA\\9th week - narrative (3rd attempt)\\HH2\\df\\df_HH2_VERSnoon.csv\", index = None, header=True)\n",
    "df_afternoons.to_csv (r\"C:\\Users\\20204113\\OneDrive - TU Eindhoven\\2_Research\\1_Groceries\\DATA\\9th week - narrative (3rd attempt)\\HH2\\df\\df_HH2_VERSafter.csv\", index = None, header=True)"
   ]
  },
  {
   "cell_type": "markdown",
   "id": "99688db2",
   "metadata": {},
   "source": [
    "## Time dataframes for KRUIDVAT"
   ]
  },
  {
   "cell_type": "code",
   "execution_count": 110,
   "id": "4dc77045",
   "metadata": {},
   "outputs": [],
   "source": [
    "# select only these time data for the df_AH\n",
    "df_mornings = df_KRUIDVAT[df_KRUIDVAT['time'] == 'morning']\n",
    "df_noons = df_KRUIDVAT[df_KRUIDVAT['time'] == 'noon']\n",
    "df_afternoons = df_KRUIDVAT[df_KRUIDVAT['time'] == 'afternoon']"
   ]
  },
  {
   "cell_type": "code",
   "execution_count": 111,
   "id": "33899af6",
   "metadata": {},
   "outputs": [],
   "source": [
    "df_morning = df_mornings.groupby(['category'])['order_ID'].nunique()\n",
    "df_morning = pd.DataFrame (df_morning)\n",
    "df_morning = df_morning.reset_index()\n",
    "df_morning = df_morning.loc[~(df_morning==0).any(axis=1)]\n",
    "df_morning = df_morning.rename(columns={\"order_ID\": \"weight\"})\n",
    "\n",
    "df_noon = df_noons.groupby(['category'])['order_ID'].nunique()\n",
    "df_noon = pd.DataFrame (df_noon)\n",
    "df_noon = df_noon.reset_index()\n",
    "df_noon = df_noon.loc[~(df_noon==0).any(axis=1)]\n",
    "df_noon = df_noon.rename(columns={\"order_ID\": \"weight\"})\n",
    "\n",
    "df_afternoon = df_afternoons.groupby(['category'])['order_ID'].nunique()\n",
    "df_afternoon = pd.DataFrame (df_afternoon)\n",
    "df_afternoon = df_afternoon.reset_index()\n",
    "df_afternoon = df_afternoon.loc[~(df_afternoon==0).any(axis=1)]\n",
    "df_afternoon = df_afternoon.rename(columns={\"order_ID\": \"weight\"})"
   ]
  },
  {
   "cell_type": "code",
   "execution_count": 112,
   "id": "39de4494",
   "metadata": {},
   "outputs": [
    {
     "data": {
      "text/html": [
       "<div>\n",
       "<style scoped>\n",
       "    .dataframe tbody tr th:only-of-type {\n",
       "        vertical-align: middle;\n",
       "    }\n",
       "\n",
       "    .dataframe tbody tr th {\n",
       "        vertical-align: top;\n",
       "    }\n",
       "\n",
       "    .dataframe thead th {\n",
       "        text-align: right;\n",
       "    }\n",
       "</style>\n",
       "<table border=\"1\" class=\"dataframe\">\n",
       "  <thead>\n",
       "    <tr style=\"text-align: right;\">\n",
       "      <th></th>\n",
       "      <th>category</th>\n",
       "      <th>weight</th>\n",
       "    </tr>\n",
       "  </thead>\n",
       "  <tbody>\n",
       "    <tr>\n",
       "      <th>0</th>\n",
       "      <td>beverages</td>\n",
       "      <td>1</td>\n",
       "    </tr>\n",
       "    <tr>\n",
       "      <th>1</th>\n",
       "      <td>care &amp; hyygiene</td>\n",
       "      <td>1</td>\n",
       "    </tr>\n",
       "    <tr>\n",
       "      <th>2</th>\n",
       "      <td>snacks</td>\n",
       "      <td>1</td>\n",
       "    </tr>\n",
       "  </tbody>\n",
       "</table>\n",
       "</div>"
      ],
      "text/plain": [
       "          category  weight\n",
       "0        beverages       1\n",
       "1  care & hyygiene       1\n",
       "2           snacks       1"
      ]
     },
     "execution_count": 112,
     "metadata": {},
     "output_type": "execute_result"
    }
   ],
   "source": [
    "df_afternoon"
   ]
  },
  {
   "cell_type": "code",
   "execution_count": 113,
   "id": "317d185b",
   "metadata": {},
   "outputs": [],
   "source": [
    "df_morning.to_csv (r\"C:\\Users\\20204113\\OneDrive - TU Eindhoven\\2_Research\\1_Groceries\\DATA\\9th week - narrative (3rd attempt)\\HH2\\df\\df_HH2_KRUIDmornCAT.csv\", index = None, header=True)\n",
    "df_noon.to_csv (r\"C:\\Users\\20204113\\OneDrive - TU Eindhoven\\2_Research\\1_Groceries\\DATA\\9th week - narrative (3rd attempt)\\HH2\\df\\df_HH2_KRUIDnoonCAT.csv\", index = None, header=True)\n",
    "df_afternoon.to_csv (r\"C:\\Users\\20204113\\OneDrive - TU Eindhoven\\2_Research\\1_Groceries\\DATA\\9th week - narrative (3rd attempt)\\HH2\\df\\df_HH2_KRUIDafterCAT.csv\", index = None, header=True)"
   ]
  },
  {
   "cell_type": "code",
   "execution_count": 114,
   "id": "030136b9",
   "metadata": {},
   "outputs": [],
   "source": [
    "df_mornings.to_csv (r\"C:\\Users\\20204113\\OneDrive - TU Eindhoven\\2_Research\\1_Groceries\\DATA\\9th week - narrative (3rd attempt)\\HH2\\df\\df_HH2_KRUIDmorn.csv\", index = None, header=True)\n",
    "df_noons.to_csv (r\"C:\\Users\\20204113\\OneDrive - TU Eindhoven\\2_Research\\1_Groceries\\DATA\\9th week - narrative (3rd attempt)\\HH2\\df\\df_HH2_KRUIDnoon.csv\", index = None, header=True)\n",
    "df_afternoons.to_csv (r\"C:\\Users\\20204113\\OneDrive - TU Eindhoven\\2_Research\\1_Groceries\\DATA\\9th week - narrative (3rd attempt)\\HH2\\df\\df_HH2_KRUIDafter.csv\", index = None, header=True)"
   ]
  },
  {
   "cell_type": "markdown",
   "id": "30d0f5b2",
   "metadata": {},
   "source": [
    "## Time dataframes for BRABO"
   ]
  },
  {
   "cell_type": "code",
   "execution_count": 115,
   "id": "92d157ef",
   "metadata": {},
   "outputs": [],
   "source": [
    "# select only these time data for the df_AH\n",
    "df_mornings = df_BRABO[df_BRABO['time'] == 'morning']\n",
    "df_noons = df_BRABO[df_BRABO['time'] == 'noon']\n",
    "df_afternoons = df_BRABO[df_BRABO['time'] == 'afternoon']"
   ]
  },
  {
   "cell_type": "code",
   "execution_count": 116,
   "id": "1c1c5432",
   "metadata": {},
   "outputs": [],
   "source": [
    "df_morning = df_mornings.groupby(['category'])['order_ID'].nunique()\n",
    "df_morning = pd.DataFrame (df_morning)\n",
    "df_morning = df_morning.reset_index()\n",
    "df_morning = df_morning.loc[~(df_morning==0).any(axis=1)]\n",
    "df_morning = df_morning.rename(columns={\"order_ID\": \"weight\"})\n",
    "\n",
    "df_noon = df_noons.groupby(['category'])['order_ID'].nunique()\n",
    "df_noon = pd.DataFrame (df_noon)\n",
    "df_noon = df_noon.reset_index()\n",
    "df_noon = df_noon.loc[~(df_noon==0).any(axis=1)]\n",
    "df_noon = df_noon.rename(columns={\"order_ID\": \"weight\"})\n",
    "\n",
    "df_afternoon = df_afternoons.groupby(['category'])['order_ID'].nunique()\n",
    "df_afternoon = pd.DataFrame (df_afternoon)\n",
    "df_afternoon = df_afternoon.reset_index()\n",
    "df_afternoon = df_afternoon.loc[~(df_afternoon==0).any(axis=1)]\n",
    "df_afternoon = df_afternoon.rename(columns={\"order_ID\": \"weight\"})"
   ]
  },
  {
   "cell_type": "code",
   "execution_count": 117,
   "id": "995379d2",
   "metadata": {},
   "outputs": [
    {
     "data": {
      "text/html": [
       "<div>\n",
       "<style scoped>\n",
       "    .dataframe tbody tr th:only-of-type {\n",
       "        vertical-align: middle;\n",
       "    }\n",
       "\n",
       "    .dataframe tbody tr th {\n",
       "        vertical-align: top;\n",
       "    }\n",
       "\n",
       "    .dataframe thead th {\n",
       "        text-align: right;\n",
       "    }\n",
       "</style>\n",
       "<table border=\"1\" class=\"dataframe\">\n",
       "  <thead>\n",
       "    <tr style=\"text-align: right;\">\n",
       "      <th></th>\n",
       "      <th>category</th>\n",
       "      <th>weight</th>\n",
       "    </tr>\n",
       "  </thead>\n",
       "  <tbody>\n",
       "    <tr>\n",
       "      <th>0</th>\n",
       "      <td>meat, fish &amp; veggie</td>\n",
       "      <td>1</td>\n",
       "    </tr>\n",
       "  </tbody>\n",
       "</table>\n",
       "</div>"
      ],
      "text/plain": [
       "              category  weight\n",
       "0  meat, fish & veggie       1"
      ]
     },
     "execution_count": 117,
     "metadata": {},
     "output_type": "execute_result"
    }
   ],
   "source": [
    "df_afternoon"
   ]
  },
  {
   "cell_type": "code",
   "execution_count": 118,
   "id": "ea6172a4",
   "metadata": {},
   "outputs": [],
   "source": [
    "df_morning.to_csv (r\"C:\\Users\\20204113\\OneDrive - TU Eindhoven\\2_Research\\1_Groceries\\DATA\\9th week - narrative (3rd attempt)\\HH2\\df\\df_HH2_BRAmornCAT.csv\", index = None, header=True)\n",
    "df_noon.to_csv (r\"C:\\Users\\20204113\\OneDrive - TU Eindhoven\\2_Research\\1_Groceries\\DATA\\9th week - narrative (3rd attempt)\\HH2\\df\\df_HH2_BRAnoonCAT.csv\", index = None, header=True)\n",
    "df_afternoon.to_csv (r\"C:\\Users\\20204113\\OneDrive - TU Eindhoven\\2_Research\\1_Groceries\\DATA\\9th week - narrative (3rd attempt)\\HH2\\df\\df_HH2_BRAafterCAT.csv\", index = None, header=True)"
   ]
  },
  {
   "cell_type": "code",
   "execution_count": 119,
   "id": "93a39fce",
   "metadata": {},
   "outputs": [],
   "source": [
    "df_mornings.to_csv (r\"C:\\Users\\20204113\\OneDrive - TU Eindhoven\\2_Research\\1_Groceries\\DATA\\9th week - narrative (3rd attempt)\\HH2\\df\\df_HH2_BRAmorn.csv\", index = None, header=True)\n",
    "df_noons.to_csv (r\"C:\\Users\\20204113\\OneDrive - TU Eindhoven\\2_Research\\1_Groceries\\DATA\\9th week - narrative (3rd attempt)\\HH2\\df\\df_HH2_BRAnoon.csv\", index = None, header=True)\n",
    "df_afternoons.to_csv (r\"C:\\Users\\20204113\\OneDrive - TU Eindhoven\\2_Research\\1_Groceries\\DATA\\9th week - narrative (3rd attempt)\\HH2\\df\\df_HH2_BRAafter.csv\", index = None, header=True)"
   ]
  },
  {
   "cell_type": "markdown",
   "id": "9255a46d",
   "metadata": {},
   "source": [
    "## Time dataframes for IKEA"
   ]
  },
  {
   "cell_type": "code",
   "execution_count": 120,
   "id": "56249729",
   "metadata": {},
   "outputs": [],
   "source": [
    "# select only these time data for the df_AH\n",
    "df_mornings = df_IKEA[df_IKEA['time'] == 'morning']\n",
    "df_noons = df_IKEA[df_IKEA['time'] == 'noon']\n",
    "df_afternoons = df_IKEA[df_IKEA['time'] == 'afternoon']"
   ]
  },
  {
   "cell_type": "code",
   "execution_count": 121,
   "id": "88c6ea72",
   "metadata": {},
   "outputs": [],
   "source": [
    "df_morning = df_mornings.groupby(['category'])['order_ID'].nunique()\n",
    "df_morning = pd.DataFrame (df_morning)\n",
    "df_morning = df_morning.reset_index()\n",
    "df_morning = df_morning.loc[~(df_morning==0).any(axis=1)]\n",
    "df_morning = df_morning.rename(columns={\"order_ID\": \"weight\"})\n",
    "\n",
    "df_noon = df_noons.groupby(['category'])['order_ID'].nunique()\n",
    "df_noon = pd.DataFrame (df_noon)\n",
    "df_noon = df_noon.reset_index()\n",
    "df_noon = df_noon.loc[~(df_noon==0).any(axis=1)]\n",
    "df_noon = df_noon.rename(columns={\"order_ID\": \"weight\"})\n",
    "\n",
    "df_afternoon = df_afternoons.groupby(['category'])['order_ID'].nunique()\n",
    "df_afternoon = pd.DataFrame (df_afternoon)\n",
    "df_afternoon = df_afternoon.reset_index()\n",
    "df_afternoon = df_afternoon.loc[~(df_afternoon==0).any(axis=1)]\n",
    "df_afternoon = df_afternoon.rename(columns={\"order_ID\": \"weight\"})"
   ]
  },
  {
   "cell_type": "code",
   "execution_count": 122,
   "id": "1816fda9",
   "metadata": {},
   "outputs": [
    {
     "data": {
      "text/html": [
       "<div>\n",
       "<style scoped>\n",
       "    .dataframe tbody tr th:only-of-type {\n",
       "        vertical-align: middle;\n",
       "    }\n",
       "\n",
       "    .dataframe tbody tr th {\n",
       "        vertical-align: top;\n",
       "    }\n",
       "\n",
       "    .dataframe thead th {\n",
       "        text-align: right;\n",
       "    }\n",
       "</style>\n",
       "<table border=\"1\" class=\"dataframe\">\n",
       "  <thead>\n",
       "    <tr style=\"text-align: right;\">\n",
       "      <th></th>\n",
       "      <th>category</th>\n",
       "      <th>weight</th>\n",
       "    </tr>\n",
       "  </thead>\n",
       "  <tbody>\n",
       "    <tr>\n",
       "      <th>0</th>\n",
       "      <td>beverages</td>\n",
       "      <td>1</td>\n",
       "    </tr>\n",
       "  </tbody>\n",
       "</table>\n",
       "</div>"
      ],
      "text/plain": [
       "    category  weight\n",
       "0  beverages       1"
      ]
     },
     "execution_count": 122,
     "metadata": {},
     "output_type": "execute_result"
    }
   ],
   "source": [
    "df_morning"
   ]
  },
  {
   "cell_type": "code",
   "execution_count": 123,
   "id": "0fb3a8b2",
   "metadata": {},
   "outputs": [],
   "source": [
    "df_morning.to_csv (r\"C:\\Users\\20204113\\OneDrive - TU Eindhoven\\2_Research\\1_Groceries\\DATA\\9th week - narrative (3rd attempt)\\HH2\\df\\df_HH2_IKEAmornCAT.csv\", index = None, header=True)\n",
    "df_noon.to_csv (r\"C:\\Users\\20204113\\OneDrive - TU Eindhoven\\2_Research\\1_Groceries\\DATA\\9th week - narrative (3rd attempt)\\HH2\\df\\df_HH2_IKEAnoonCAT.csv\", index = None, header=True)\n",
    "df_afternoon.to_csv (r\"C:\\Users\\20204113\\OneDrive - TU Eindhoven\\2_Research\\1_Groceries\\DATA\\9th week - narrative (3rd attempt)\\HH2\\df\\df_HH2_IKEAafterCAT.csv\", index = None, header=True)"
   ]
  },
  {
   "cell_type": "code",
   "execution_count": 124,
   "id": "bfc779ba",
   "metadata": {},
   "outputs": [],
   "source": [
    "df_mornings.to_csv (r\"C:\\Users\\20204113\\OneDrive - TU Eindhoven\\2_Research\\1_Groceries\\DATA\\9th week - narrative (3rd attempt)\\HH2\\df\\df_HH2_IKEAmorn.csv\", index = None, header=True)\n",
    "df_noons.to_csv (r\"C:\\Users\\20204113\\OneDrive - TU Eindhoven\\2_Research\\1_Groceries\\DATA\\9th week - narrative (3rd attempt)\\HH2\\df\\df_HH2_IKEAnoon.csv\", index = None, header=True)\n",
    "df_afternoons.to_csv (r\"C:\\Users\\20204113\\OneDrive - TU Eindhoven\\2_Research\\1_Groceries\\DATA\\9th week - narrative (3rd attempt)\\HH2\\df\\df_HH2_IKEAafter.csv\", index = None, header=True)"
   ]
  },
  {
   "cell_type": "markdown",
   "id": "78703017",
   "metadata": {},
   "source": [
    "## Time dataframes for CARREFOUR"
   ]
  },
  {
   "cell_type": "code",
   "execution_count": 125,
   "id": "3fe65eed",
   "metadata": {},
   "outputs": [],
   "source": [
    "# select only these time data for the df_AH\n",
    "df_mornings = df_CARREFOUR[df_CARREFOUR['time'] == 'morning']\n",
    "df_noons = df_CARREFOUR[df_CARREFOUR['time'] == 'noon']\n",
    "df_afternoons = df_CARREFOUR[df_CARREFOUR['time'] == 'afternoon']"
   ]
  },
  {
   "cell_type": "code",
   "execution_count": 126,
   "id": "5ea7dbff",
   "metadata": {},
   "outputs": [],
   "source": [
    "df_morning = df_mornings.groupby(['category'])['order_ID'].nunique()\n",
    "df_morning = pd.DataFrame (df_morning)\n",
    "df_morning = df_morning.reset_index()\n",
    "df_morning = df_morning.loc[~(df_morning==0).any(axis=1)]\n",
    "df_morning = df_morning.rename(columns={\"order_ID\": \"weight\"})\n",
    "\n",
    "df_noon = df_noons.groupby(['category'])['order_ID'].nunique()\n",
    "df_noon = pd.DataFrame (df_noon)\n",
    "df_noon = df_noon.reset_index()\n",
    "df_noon = df_noon.loc[~(df_noon==0).any(axis=1)]\n",
    "df_noon = df_noon.rename(columns={\"order_ID\": \"weight\"})\n",
    "\n",
    "df_afternoon = df_afternoons.groupby(['category'])['order_ID'].nunique()\n",
    "df_afternoon = pd.DataFrame (df_afternoon)\n",
    "df_afternoon = df_afternoon.reset_index()\n",
    "df_afternoon = df_afternoon.loc[~(df_afternoon==0).any(axis=1)]\n",
    "df_afternoon = df_afternoon.rename(columns={\"order_ID\": \"weight\"})"
   ]
  },
  {
   "cell_type": "code",
   "execution_count": 127,
   "id": "22d17845",
   "metadata": {},
   "outputs": [
    {
     "data": {
      "text/html": [
       "<div>\n",
       "<style scoped>\n",
       "    .dataframe tbody tr th:only-of-type {\n",
       "        vertical-align: middle;\n",
       "    }\n",
       "\n",
       "    .dataframe tbody tr th {\n",
       "        vertical-align: top;\n",
       "    }\n",
       "\n",
       "    .dataframe thead th {\n",
       "        text-align: right;\n",
       "    }\n",
       "</style>\n",
       "<table border=\"1\" class=\"dataframe\">\n",
       "  <thead>\n",
       "    <tr style=\"text-align: right;\">\n",
       "      <th></th>\n",
       "      <th>category</th>\n",
       "      <th>weight</th>\n",
       "    </tr>\n",
       "  </thead>\n",
       "  <tbody>\n",
       "    <tr>\n",
       "      <th>0</th>\n",
       "      <td>breakfast &amp; spreads</td>\n",
       "      <td>1</td>\n",
       "    </tr>\n",
       "    <tr>\n",
       "      <th>1</th>\n",
       "      <td>canned foods</td>\n",
       "      <td>1</td>\n",
       "    </tr>\n",
       "    <tr>\n",
       "      <th>2</th>\n",
       "      <td>condiments</td>\n",
       "      <td>1</td>\n",
       "    </tr>\n",
       "    <tr>\n",
       "      <th>3</th>\n",
       "      <td>dairy &amp; plant based</td>\n",
       "      <td>1</td>\n",
       "    </tr>\n",
       "    <tr>\n",
       "      <th>4</th>\n",
       "      <td>fruit &amp; vegetables</td>\n",
       "      <td>1</td>\n",
       "    </tr>\n",
       "    <tr>\n",
       "      <th>5</th>\n",
       "      <td>meat, fish &amp; veggie</td>\n",
       "      <td>1</td>\n",
       "    </tr>\n",
       "    <tr>\n",
       "      <th>6</th>\n",
       "      <td>snacks</td>\n",
       "      <td>1</td>\n",
       "    </tr>\n",
       "  </tbody>\n",
       "</table>\n",
       "</div>"
      ],
      "text/plain": [
       "              category  weight\n",
       "0  breakfast & spreads       1\n",
       "1         canned foods       1\n",
       "2           condiments       1\n",
       "3  dairy & plant based       1\n",
       "4   fruit & vegetables       1\n",
       "5  meat, fish & veggie       1\n",
       "6               snacks       1"
      ]
     },
     "execution_count": 127,
     "metadata": {},
     "output_type": "execute_result"
    }
   ],
   "source": [
    "df_afternoon"
   ]
  },
  {
   "cell_type": "code",
   "execution_count": 128,
   "id": "422a0dd2",
   "metadata": {},
   "outputs": [],
   "source": [
    "df_morning.to_csv (r\"C:\\Users\\20204113\\OneDrive - TU Eindhoven\\2_Research\\1_Groceries\\DATA\\9th week - narrative (3rd attempt)\\HH2\\df\\df_HH2_CATmornCAT.csv\", index = None, header=True)\n",
    "df_noon.to_csv (r\"C:\\Users\\20204113\\OneDrive - TU Eindhoven\\2_Research\\1_Groceries\\DATA\\9th week - narrative (3rd attempt)\\HH2\\df\\df_HH2_CATnoonCAT.csv\", index = None, header=True)\n",
    "df_afternoon.to_csv (r\"C:\\Users\\20204113\\OneDrive - TU Eindhoven\\2_Research\\1_Groceries\\DATA\\9th week - narrative (3rd attempt)\\HH2\\df\\df_HH2_CARafterCAT.csv\", index = None, header=True)"
   ]
  },
  {
   "cell_type": "code",
   "execution_count": 129,
   "id": "f78606bb",
   "metadata": {},
   "outputs": [],
   "source": [
    "df_mornings.to_csv (r\"C:\\Users\\20204113\\OneDrive - TU Eindhoven\\2_Research\\1_Groceries\\DATA\\9th week - narrative (3rd attempt)\\HH2\\df\\df_HH2_CATmorn.csv\", index = None, header=True)\n",
    "df_noons.to_csv (r\"C:\\Users\\20204113\\OneDrive - TU Eindhoven\\2_Research\\1_Groceries\\DATA\\9th week - narrative (3rd attempt)\\HH2\\df\\df_HH2_CATnoon.csv\", index = None, header=True)\n",
    "df_afternoons.to_csv (r\"C:\\Users\\20204113\\OneDrive - TU Eindhoven\\2_Research\\1_Groceries\\DATA\\9th week - narrative (3rd attempt)\\HH2\\df\\df_HH2_CARafter.csv\", index = None, header=True)"
   ]
  }
 ],
 "metadata": {
  "kernelspec": {
   "display_name": "Python 3 (ipykernel)",
   "language": "python",
   "name": "python3"
  },
  "language_info": {
   "codemirror_mode": {
    "name": "ipython",
    "version": 3
   },
   "file_extension": ".py",
   "mimetype": "text/x-python",
   "name": "python",
   "nbconvert_exporter": "python",
   "pygments_lexer": "ipython3",
   "version": "3.9.7"
  }
 },
 "nbformat": 4,
 "nbformat_minor": 5
}

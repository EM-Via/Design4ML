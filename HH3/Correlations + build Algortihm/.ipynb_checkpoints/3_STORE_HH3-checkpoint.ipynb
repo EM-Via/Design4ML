{
 "cells": [
  {
   "cell_type": "markdown",
   "id": "2cce2977",
   "metadata": {},
   "source": [
    "## 3: CORRELATIONS -WHERE WILL THEY SHOP?"
   ]
  },
  {
   "cell_type": "markdown",
   "id": "87a037df",
   "metadata": {},
   "source": [
    "### Import libraries "
   ]
  },
  {
   "cell_type": "code",
   "execution_count": 2,
   "id": "419cb39a",
   "metadata": {},
   "outputs": [],
   "source": [
    "# %matplotlib notebook\n",
    "%matplotlib inline\n",
    "#Pandas is a software library written for the Python programming language for data manipulation and analysis.\n",
    "import pandas as pd\n",
    "#NumPy is a library for the Python programming language, adding support for large, multi-dimensional arrays and matrices, along with a large collection of high-level mathematical functions to operate on these arrays\n",
    "import numpy as np\n",
    "# Matplotlib is a plotting library for python and pyplot gives us a MatLab like plotting framework. We will use this in our plotter function to plot data.\n",
    "import matplotlib.pyplot as plt\n",
    "#Seaborn is a Python data visualization library based on matplotlib. It provides a high-level interface for drawing attractive and informative statistical graphics\n",
    "import seaborn as sns\n",
    "import dataframe_image as dfi\n",
    "from datetime import time\n",
    "import matplotlib.dates as mdates\n",
    "from matplotlib.ticker import StrMethodFormatter\n",
    "from matplotlib.pyplot import figure\n",
    "\n",
    "\n",
    "\n",
    "from sklearn.cluster import KMeans\n",
    "from sklearn.datasets import make_blobs\n",
    "from sklearn.ensemble import RandomForestClassifier\n",
    "from sklearn.linear_model import LinearRegression\n",
    "from sklearn.metrics import mean_absolute_error, mean_squared_error\n",
    "from sklearn.tree import DecisionTreeClassifier, export_graphviz, plot_tree"
   ]
  },
  {
   "cell_type": "code",
   "execution_count": 3,
   "id": "bd644e3a",
   "metadata": {},
   "outputs": [],
   "source": [
    "# importing the required function\n",
    "from scipy.stats import chi2_contingency"
   ]
  },
  {
   "cell_type": "markdown",
   "id": "f10011bb",
   "metadata": {},
   "source": [
    "### Load and view data "
   ]
  },
  {
   "cell_type": "code",
   "execution_count": 4,
   "id": "f90057bd",
   "metadata": {},
   "outputs": [],
   "source": [
    "df = pd.read_csv (r\"C:\\Users\\20204113\\OneDrive - TU Eindhoven\\2_Research\\1_Groceries\\DATA\\9th week - narrative (3rd attempt)\\HH4\\df\\df_HH4.csv\")\n",
    "\n",
    "# del df[\"HH\"]\n",
    "# df.describe(include='all')"
   ]
  },
  {
   "cell_type": "code",
   "execution_count": 5,
   "id": "2750f198",
   "metadata": {},
   "outputs": [],
   "source": [
    "# use the corr function to display the correlation between all the features\n",
    "data_corr = df.corr()\n",
    "# data_corr"
   ]
  },
  {
   "cell_type": "code",
   "execution_count": 6,
   "id": "52e43b89",
   "metadata": {},
   "outputs": [],
   "source": [
    "# df_count = df[['order_ID','store_name', 'day']]\n",
    "# df_count = df_count.drop_duplicates()\n",
    "# df_count = df_count.drop(columns=['order_ID'])\n",
    "# df_count.head()"
   ]
  },
  {
   "cell_type": "markdown",
   "id": "d1dd54c1",
   "metadata": {},
   "source": [
    "-\n",
    "# 1. Where?"
   ]
  },
  {
   "cell_type": "markdown",
   "id": "f4633980",
   "metadata": {},
   "source": [
    "## ALL ORDERS"
   ]
  },
  {
   "cell_type": "markdown",
   "id": "6bff361d",
   "metadata": {},
   "source": [
    "### check correlation per store TYPE"
   ]
  },
  {
   "cell_type": "code",
   "execution_count": 7,
   "id": "9b3af1d6",
   "metadata": {},
   "outputs": [],
   "source": [
    "df_orders = df[['order_ID', 'store_name', 'storename_num', 'store_type', 'storetype_num','day', 'day_num', 'time', 'time_num', 'timestamp', 'times', 'dates', 'times_min', 'dates_days', 'order_amount', 'order_price']]\n",
    "df_orders = df_orders.drop_duplicates()"
   ]
  },
  {
   "cell_type": "code",
   "execution_count": 8,
   "id": "bea9c5ff",
   "metadata": {
    "scrolled": false
   },
   "outputs": [
    {
     "data": {
      "text/html": [
       "<div>\n",
       "<style scoped>\n",
       "    .dataframe tbody tr th:only-of-type {\n",
       "        vertical-align: middle;\n",
       "    }\n",
       "\n",
       "    .dataframe tbody tr th {\n",
       "        vertical-align: top;\n",
       "    }\n",
       "\n",
       "    .dataframe thead th {\n",
       "        text-align: right;\n",
       "    }\n",
       "</style>\n",
       "<table border=\"1\" class=\"dataframe\">\n",
       "  <thead>\n",
       "    <tr style=\"text-align: right;\">\n",
       "      <th>day</th>\n",
       "      <th>Friday</th>\n",
       "      <th>Monday</th>\n",
       "      <th>Saturday</th>\n",
       "      <th>Sunday</th>\n",
       "      <th>Thursday</th>\n",
       "      <th>Tuesday</th>\n",
       "      <th>Wednesday</th>\n",
       "    </tr>\n",
       "    <tr>\n",
       "      <th>store_type</th>\n",
       "      <th></th>\n",
       "      <th></th>\n",
       "      <th></th>\n",
       "      <th></th>\n",
       "      <th></th>\n",
       "      <th></th>\n",
       "      <th></th>\n",
       "    </tr>\n",
       "  </thead>\n",
       "  <tbody>\n",
       "    <tr>\n",
       "      <th>minimarket</th>\n",
       "      <td>1</td>\n",
       "      <td>2</td>\n",
       "      <td>3</td>\n",
       "      <td>1</td>\n",
       "      <td>1</td>\n",
       "      <td>2</td>\n",
       "      <td>0</td>\n",
       "    </tr>\n",
       "    <tr>\n",
       "      <th>supermarket</th>\n",
       "      <td>7</td>\n",
       "      <td>9</td>\n",
       "      <td>13</td>\n",
       "      <td>13</td>\n",
       "      <td>6</td>\n",
       "      <td>11</td>\n",
       "      <td>8</td>\n",
       "    </tr>\n",
       "  </tbody>\n",
       "</table>\n",
       "</div>"
      ],
      "text/plain": [
       "day          Friday  Monday  Saturday  Sunday  Thursday  Tuesday  Wednesday\n",
       "store_type                                                                 \n",
       "minimarket        1       2         3       1         1        2          0\n",
       "supermarket       7       9        13      13         6       11          8"
      ]
     },
     "execution_count": 8,
     "metadata": {},
     "output_type": "execute_result"
    }
   ],
   "source": [
    "# Cross tabulation between DAY and STORE TYPE\n",
    "CrosstabResult=pd.crosstab(index=df_orders['store_type'],columns=df_orders['day'])\n",
    "CrosstabResult"
   ]
  },
  {
   "cell_type": "code",
   "execution_count": 9,
   "id": "f448e8e0",
   "metadata": {
    "scrolled": true
   },
   "outputs": [
    {
     "name": "stdout",
     "output_type": "stream",
     "text": [
      "The P-Value of the ChiSq Test is: 0.8763985702567585\n"
     ]
    }
   ],
   "source": [
    "# Performing Chi-sq test\n",
    "ChiSqResult = chi2_contingency(CrosstabResult)\n",
    "\n",
    "# P-Value is the Probability of H0 being True\n",
    "# If P-Value > 0.05 then only we Accept the assumption(H0)\n",
    "\n",
    "print('The P-Value of the ChiSq Test is:', ChiSqResult[1])"
   ]
  },
  {
   "cell_type": "markdown",
   "id": "3104a231",
   "metadata": {},
   "source": [
    "Not significant, let's get more specific:"
   ]
  },
  {
   "cell_type": "markdown",
   "id": "5d739133",
   "metadata": {},
   "source": [
    "### check correlation per store NAME"
   ]
  },
  {
   "cell_type": "code",
   "execution_count": 10,
   "id": "cc4406b5",
   "metadata": {
    "scrolled": true
   },
   "outputs": [
    {
     "data": {
      "text/html": [
       "<div>\n",
       "<style scoped>\n",
       "    .dataframe tbody tr th:only-of-type {\n",
       "        vertical-align: middle;\n",
       "    }\n",
       "\n",
       "    .dataframe tbody tr th {\n",
       "        vertical-align: top;\n",
       "    }\n",
       "\n",
       "    .dataframe thead th {\n",
       "        text-align: right;\n",
       "    }\n",
       "</style>\n",
       "<table border=\"1\" class=\"dataframe\">\n",
       "  <thead>\n",
       "    <tr style=\"text-align: right;\">\n",
       "      <th>day</th>\n",
       "      <th>Friday</th>\n",
       "      <th>Monday</th>\n",
       "      <th>Saturday</th>\n",
       "      <th>Sunday</th>\n",
       "      <th>Thursday</th>\n",
       "      <th>Tuesday</th>\n",
       "      <th>Wednesday</th>\n",
       "    </tr>\n",
       "    <tr>\n",
       "      <th>store_name</th>\n",
       "      <th></th>\n",
       "      <th></th>\n",
       "      <th></th>\n",
       "      <th></th>\n",
       "      <th></th>\n",
       "      <th></th>\n",
       "      <th></th>\n",
       "    </tr>\n",
       "  </thead>\n",
       "  <tbody>\n",
       "    <tr>\n",
       "      <th>Albert Heijn</th>\n",
       "      <td>0</td>\n",
       "      <td>0</td>\n",
       "      <td>0</td>\n",
       "      <td>1</td>\n",
       "      <td>0</td>\n",
       "      <td>1</td>\n",
       "      <td>0</td>\n",
       "    </tr>\n",
       "    <tr>\n",
       "      <th>De Pers</th>\n",
       "      <td>1</td>\n",
       "      <td>2</td>\n",
       "      <td>3</td>\n",
       "      <td>1</td>\n",
       "      <td>1</td>\n",
       "      <td>2</td>\n",
       "      <td>0</td>\n",
       "    </tr>\n",
       "    <tr>\n",
       "      <th>MCD</th>\n",
       "      <td>7</td>\n",
       "      <td>9</td>\n",
       "      <td>13</td>\n",
       "      <td>12</td>\n",
       "      <td>6</td>\n",
       "      <td>10</td>\n",
       "      <td>8</td>\n",
       "    </tr>\n",
       "  </tbody>\n",
       "</table>\n",
       "</div>"
      ],
      "text/plain": [
       "day           Friday  Monday  Saturday  Sunday  Thursday  Tuesday  Wednesday\n",
       "store_name                                                                  \n",
       "Albert Heijn       0       0         0       1         0        1          0\n",
       "De Pers            1       2         3       1         1        2          0\n",
       "MCD                7       9        13      12         6       10          8"
      ]
     },
     "execution_count": 10,
     "metadata": {},
     "output_type": "execute_result"
    }
   ],
   "source": [
    "# Cross tabulation between DAY and STORE NAME\n",
    "CrosstabResult=pd.crosstab(index=df_orders['store_name'],columns=df_orders['day'])\n",
    "CrosstabResult"
   ]
  },
  {
   "cell_type": "code",
   "execution_count": 11,
   "id": "c9ebd5a7",
   "metadata": {
    "scrolled": true
   },
   "outputs": [
    {
     "name": "stdout",
     "output_type": "stream",
     "text": [
      "The P-Value of the ChiSq Test is: 0.9066234336505262\n"
     ]
    }
   ],
   "source": [
    "# Performing Chi-sq test\n",
    "ChiSqResult = chi2_contingency(CrosstabResult)\n",
    "\n",
    "# P-Value is the Probability of H0 being True\n",
    "# If P-Value > 0.05 then only we Accept the assumption(H0)\n",
    "\n",
    "print('The P-Value of the ChiSq Test is:', ChiSqResult[1])"
   ]
  },
  {
   "cell_type": "markdown",
   "id": "6c35fe86",
   "metadata": {},
   "source": [
    "Not significant.."
   ]
  },
  {
   "cell_type": "markdown",
   "id": "6361428f",
   "metadata": {},
   "source": [
    "### check correlation per TIME"
   ]
  },
  {
   "cell_type": "code",
   "execution_count": 12,
   "id": "8c6ccc25",
   "metadata": {
    "scrolled": true
   },
   "outputs": [
    {
     "data": {
      "text/html": [
       "<div>\n",
       "<style scoped>\n",
       "    .dataframe tbody tr th:only-of-type {\n",
       "        vertical-align: middle;\n",
       "    }\n",
       "\n",
       "    .dataframe tbody tr th {\n",
       "        vertical-align: top;\n",
       "    }\n",
       "\n",
       "    .dataframe thead th {\n",
       "        text-align: right;\n",
       "    }\n",
       "</style>\n",
       "<table border=\"1\" class=\"dataframe\">\n",
       "  <thead>\n",
       "    <tr style=\"text-align: right;\">\n",
       "      <th>time</th>\n",
       "      <th>afternoon</th>\n",
       "      <th>evening</th>\n",
       "      <th>morning</th>\n",
       "      <th>noon</th>\n",
       "    </tr>\n",
       "    <tr>\n",
       "      <th>store_name</th>\n",
       "      <th></th>\n",
       "      <th></th>\n",
       "      <th></th>\n",
       "      <th></th>\n",
       "    </tr>\n",
       "  </thead>\n",
       "  <tbody>\n",
       "    <tr>\n",
       "      <th>Albert Heijn</th>\n",
       "      <td>1</td>\n",
       "      <td>1</td>\n",
       "      <td>0</td>\n",
       "      <td>0</td>\n",
       "    </tr>\n",
       "    <tr>\n",
       "      <th>De Pers</th>\n",
       "      <td>2</td>\n",
       "      <td>5</td>\n",
       "      <td>2</td>\n",
       "      <td>1</td>\n",
       "    </tr>\n",
       "    <tr>\n",
       "      <th>MCD</th>\n",
       "      <td>9</td>\n",
       "      <td>43</td>\n",
       "      <td>3</td>\n",
       "      <td>10</td>\n",
       "    </tr>\n",
       "  </tbody>\n",
       "</table>\n",
       "</div>"
      ],
      "text/plain": [
       "time          afternoon  evening  morning  noon\n",
       "store_name                                     \n",
       "Albert Heijn          1        1        0     0\n",
       "De Pers               2        5        2     1\n",
       "MCD                   9       43        3    10"
      ]
     },
     "execution_count": 12,
     "metadata": {},
     "output_type": "execute_result"
    }
   ],
   "source": [
    "# Cross tabulation between DAY and STORE NAME\n",
    "CrosstabResult=pd.crosstab(index=df_orders['store_name'],columns=df_orders['time'])\n",
    "CrosstabResult"
   ]
  },
  {
   "cell_type": "code",
   "execution_count": 13,
   "id": "de77fb3d",
   "metadata": {
    "scrolled": true
   },
   "outputs": [
    {
     "name": "stdout",
     "output_type": "stream",
     "text": [
      "The P-Value of the ChiSq Test is: 0.4290316445323331\n"
     ]
    }
   ],
   "source": [
    "# Performing Chi-sq test\n",
    "ChiSqResult = chi2_contingency(CrosstabResult)\n",
    "\n",
    "# P-Value is the Probability of H0 being True\n",
    "# If P-Value > 0.05 then only we Accept the assumption(H0)\n",
    "\n",
    "print('The P-Value of the ChiSq Test is:', ChiSqResult[1])"
   ]
  },
  {
   "cell_type": "code",
   "execution_count": 14,
   "id": "41636dbf",
   "metadata": {
    "scrolled": true
   },
   "outputs": [
    {
     "data": {
      "text/html": [
       "<div>\n",
       "<style scoped>\n",
       "    .dataframe tbody tr th:only-of-type {\n",
       "        vertical-align: middle;\n",
       "    }\n",
       "\n",
       "    .dataframe tbody tr th {\n",
       "        vertical-align: top;\n",
       "    }\n",
       "\n",
       "    .dataframe thead th {\n",
       "        text-align: right;\n",
       "    }\n",
       "</style>\n",
       "<table border=\"1\" class=\"dataframe\">\n",
       "  <thead>\n",
       "    <tr style=\"text-align: right;\">\n",
       "      <th>time</th>\n",
       "      <th>afternoon</th>\n",
       "      <th>evening</th>\n",
       "      <th>morning</th>\n",
       "      <th>noon</th>\n",
       "    </tr>\n",
       "    <tr>\n",
       "      <th>store_type</th>\n",
       "      <th></th>\n",
       "      <th></th>\n",
       "      <th></th>\n",
       "      <th></th>\n",
       "    </tr>\n",
       "  </thead>\n",
       "  <tbody>\n",
       "    <tr>\n",
       "      <th>minimarket</th>\n",
       "      <td>2</td>\n",
       "      <td>5</td>\n",
       "      <td>2</td>\n",
       "      <td>1</td>\n",
       "    </tr>\n",
       "    <tr>\n",
       "      <th>supermarket</th>\n",
       "      <td>10</td>\n",
       "      <td>44</td>\n",
       "      <td>3</td>\n",
       "      <td>10</td>\n",
       "    </tr>\n",
       "  </tbody>\n",
       "</table>\n",
       "</div>"
      ],
      "text/plain": [
       "time         afternoon  evening  morning  noon\n",
       "store_type                                    \n",
       "minimarket           2        5        2     1\n",
       "supermarket         10       44        3    10"
      ]
     },
     "execution_count": 14,
     "metadata": {},
     "output_type": "execute_result"
    }
   ],
   "source": [
    "# Cross tabulation between DAY and STORE NAME\n",
    "CrosstabResult=pd.crosstab(index=df_orders['store_type'],columns=df_orders['time'])\n",
    "CrosstabResult"
   ]
  },
  {
   "cell_type": "code",
   "execution_count": 15,
   "id": "cc1371ab",
   "metadata": {
    "scrolled": true
   },
   "outputs": [
    {
     "name": "stdout",
     "output_type": "stream",
     "text": [
      "The P-Value of the ChiSq Test is: 0.27743697391080263\n"
     ]
    }
   ],
   "source": [
    "# Performing Chi-sq test\n",
    "ChiSqResult = chi2_contingency(CrosstabResult)\n",
    "\n",
    "# P-Value is the Probability of H0 being True\n",
    "# If P-Value > 0.05 then only we Accept the assumption(H0)\n",
    "\n",
    "print('The P-Value of the ChiSq Test is:', ChiSqResult[1])"
   ]
  },
  {
   "cell_type": "markdown",
   "id": "8f7482aa",
   "metadata": {},
   "source": [
    "Significant!\n",
    "> Once we know the time, we can derive the store type or vice-versa"
   ]
  },
  {
   "cell_type": "markdown",
   "id": "59738f16",
   "metadata": {},
   "source": [
    "### check correlation per TIME (continuous)"
   ]
  },
  {
   "cell_type": "code",
   "execution_count": 16,
   "id": "f74b1268",
   "metadata": {
    "scrolled": true
   },
   "outputs": [
    {
     "name": "stdout",
     "output_type": "stream",
     "text": [
      "P-Value for Anova is:  0.3773444234186668\n"
     ]
    },
    {
     "data": {
      "image/png": "[encoded data removed]",
      "text/plain": [
       "<Figure size 1200x160 with 1 Axes>"
      ]
     },
     "metadata": {
      "needs_background": "light"
     },
     "output_type": "display_data"
    }
   ],
   "source": [
    "# f_oneway() function takes the group data as input and \n",
    "# returns F-statistic and P-value\n",
    "from scipy.stats import f_oneway\n",
    " \n",
    "# Assumption(H0) is that day and times are NOT correlated\n",
    " \n",
    "# Finds out the Prices data for each FuelType as a list\n",
    "CategoryGroupLists=df_orders.groupby('store_type')['times_min'].apply(list)\n",
    " \n",
    "# Performing the ANOVA test\n",
    "# We reject the Assumption(H0) only when P-Value < 0.05\n",
    "AnovaResults = f_oneway(*CategoryGroupLists)\n",
    "print('P-Value for Anova is: ', AnovaResults[1])\n",
    "\n",
    "figure(figsize=(15, 2), dpi=80)\n",
    "plt.xticks(rotation=45, ha='right')\n",
    "\n",
    "sns.scatterplot(data=df_orders, x='times_min', y='store_type')\n",
    "\n",
    "# get the Pearson correlation between both variables\n",
    "current_corr = round(AnovaResults[1], 2)\n",
    "\n",
    "# give the graph a title and labels\n",
    "plt.title(f\"The Anova P-value between day & time = (r={current_corr})\")\n",
    "\n",
    "# call the graph (show function)\n",
    "plt.grid(False)\n",
    "plt.show()"
   ]
  },
  {
   "cell_type": "code",
   "execution_count": 17,
   "id": "8cd73bfb",
   "metadata": {
    "scrolled": true
   },
   "outputs": [
    {
     "name": "stdout",
     "output_type": "stream",
     "text": [
      "P-Value for Anova is:  0.6673078536434017\n"
     ]
    },
    {
     "data": {
      "image/png": "[encoded data removed]",
      "text/plain": [
       "<Figure size 1200x160 with 1 Axes>"
      ]
     },
     "metadata": {
      "needs_background": "light"
     },
     "output_type": "display_data"
    }
   ],
   "source": [
    "# f_oneway() function takes the group data as input and \n",
    "# returns F-statistic and P-value\n",
    "from scipy.stats import f_oneway\n",
    " \n",
    "# Assumption(H0) is that day and times are NOT correlated\n",
    " \n",
    "# Finds out the Prices data for each FuelType as a list\n",
    "CategoryGroupLists=df_orders.groupby('store_name')['times_min'].apply(list)\n",
    " \n",
    "# Performing the ANOVA test\n",
    "# We reject the Assumption(H0) only when P-Value < 0.05\n",
    "AnovaResults = f_oneway(*CategoryGroupLists)\n",
    "print('P-Value for Anova is: ', AnovaResults[1])\n",
    "\n",
    "figure(figsize=(15, 2), dpi=80)\n",
    "plt.xticks(rotation=45, ha='right')\n",
    "\n",
    "sns.scatterplot(data=df_orders, x='times_min', y='store_name')\n",
    "\n",
    "# get the Pearson correlation between both variables\n",
    "current_corr = round(AnovaResults[1], 2)\n",
    "\n",
    "# give the graph a title and labels\n",
    "plt.title(f\"The Anova P-value between day & time = (r={current_corr})\")\n",
    "\n",
    "# call the graph (show function)\n",
    "plt.grid(False)\n",
    "plt.show()"
   ]
  },
  {
   "cell_type": "markdown",
   "id": "f4b05d4a",
   "metadata": {},
   "source": [
    "## 1.2. SPECIFIC: STORE per TIME"
   ]
  },
  {
   "cell_type": "code",
   "execution_count": 18,
   "id": "d29d4fce",
   "metadata": {},
   "outputs": [],
   "source": [
    "# define data\n",
    "morning = 'morning'\n",
    "noon = 'noon'\n",
    "afternoon = 'afternoon'\n",
    "evening = 'evening'\n",
    "\n",
    "# select only these data (for time)\n",
    "df_morning = df[df[\"time\"] == morning]\n",
    "df_noon = df[df[\"time\"] == noon]\n",
    "df_afternoon = df[df[\"time\"] == afternoon]\n",
    "df_evening = df[df[\"time\"] == evening]"
   ]
  },
  {
   "cell_type": "code",
   "execution_count": 19,
   "id": "0d188088",
   "metadata": {},
   "outputs": [
    {
     "name": "stdout",
     "output_type": "stream",
     "text": [
      "The P-Value of the ChiSq Test is, for mornings: 5.602796437537256e-09\n",
      "The P-Value of the ChiSq Test is, for noons: 0.0006385761444983952\n",
      "The P-Value of the ChiSq Test is, for afternoons: 5.9367848043604e-07\n",
      "The P-Value of the ChiSq Test is, for evenings: 1.2619460881118016e-13\n"
     ]
    }
   ],
   "source": [
    "# Cross tabulation between category and store type\n",
    "CrosstabResult_morning =pd.crosstab(index=df_morning['store_name'],columns=df_morning['day'])\n",
    "CrosstabResult_noon =pd.crosstab(index=df_noon['store_name'],columns=df_noon['day'])\n",
    "CrosstabResult_afternoon =pd.crosstab(index=df_afternoon['store_name'],columns=df_afternoon['day'])\n",
    "CrosstabResult_evening =pd.crosstab(index=df_evening['store_name'],columns=df_evening['day'])\n",
    "\n",
    "# Performing Chi-sq test\n",
    "ChiSqResult_morning = chi2_contingency(CrosstabResult_morning)\n",
    "ChiSqResult_noon = chi2_contingency(CrosstabResult_noon)\n",
    "ChiSqResult_afternoon = chi2_contingency(CrosstabResult_afternoon)\n",
    "ChiSqResult_evening = chi2_contingency(CrosstabResult_evening)\n",
    "\n",
    "# P-Value is the Probability of H0 being True\n",
    "# If P-Value > 0.05 then only we Accept the assumption(H0)\n",
    "\n",
    "print('The P-Value of the ChiSq Test is, for mornings:', ChiSqResult_morning[1])\n",
    "print('The P-Value of the ChiSq Test is, for noons:', ChiSqResult_noon[1])\n",
    "print('The P-Value of the ChiSq Test is, for afternoons:', ChiSqResult_afternoon[1])\n",
    "print('The P-Value of the ChiSq Test is, for evenings:', ChiSqResult_evening[1])"
   ]
  },
  {
   "cell_type": "markdown",
   "id": "57a7a239",
   "metadata": {},
   "source": [
    "#### Significant! Once we know time and day, we can derive the store name [go to: 2.2. New Dataframes from TIME & DAY]"
   ]
  },
  {
   "cell_type": "markdown",
   "id": "eec4d97b",
   "metadata": {},
   "source": [
    "# 2.1 New Dataframes to 'randomize' stores (weighted)"
   ]
  },
  {
   "cell_type": "code",
   "execution_count": 20,
   "id": "154a3123",
   "metadata": {},
   "outputs": [],
   "source": [
    "df = pd.read_csv (r\"C:\\Users\\20204113\\OneDrive - TU Eindhoven\\2_Research\\1_Groceries\\DATA\\9th week - narrative (3rd attempt)\\HH4\\df\\df_HH4.csv\")"
   ]
  },
  {
   "cell_type": "code",
   "execution_count": 21,
   "id": "3b7e4dfc",
   "metadata": {},
   "outputs": [],
   "source": [
    "stores = ['MCD', 'De Pers', 'Albert Heijn']\n",
    "df['store_name'] = pd.Categorical(df['store_name'], categories=stores, ordered=True)\n",
    "df_storename = df.sort_values(by=['week','store_name'])\n",
    "\n",
    "# grouping the variables for week, store and unique order id's\n",
    "df_storename = df.groupby(['week', 'store_name'])['order_ID'].nunique()\n",
    "df_storename = pd.DataFrame (df_storename)\n",
    "df_storename.head()\n",
    "\n",
    "# make grid for stores vs. week\n",
    "df_storename1 = df_storename.groupby(['week', 'store_name'])['order_ID'].aggregate('first').unstack()\n",
    "df_storename1 = df_storename1.reset_index()\n",
    "df_storename1.replace(0, np.nan, inplace=True)\n",
    "df_storename1\n",
    "\n",
    "# second grid to generate extra variables\n",
    "df_storename2 = df_storename1.copy()\n",
    "del df_storename2[\"week\"]\n",
    "# column for total grocery visits\n",
    "df_storename1['sum'] = df_storename2.sum(axis=1)\n",
    "# column for total days shopped\n",
    "df_storename1['ndays'] = df_storename2.count(axis=1)\n",
    "# column for median visits/week\n",
    "df_storename1['med'] = df_storename2.median(numeric_only=True, axis=1)\n",
    "\n",
    "df_storename1 = df_storename1.round(0)\n",
    "del df_storename1[\"week\"]"
   ]
  },
  {
   "cell_type": "markdown",
   "id": "ff7df21f",
   "metadata": {},
   "source": [
    "#### Generate randomized weeks"
   ]
  },
  {
   "cell_type": "code",
   "execution_count": 22,
   "id": "2ced800f",
   "metadata": {},
   "outputs": [],
   "source": [
    "def storename():\n",
    "    # split up df to first and second period\n",
    "    df_storename = df_storename1\n",
    "\n",
    "    df_storename = df_storename. replace(np. nan,0)\n",
    "    \n",
    "    return df_storename"
   ]
  },
  {
   "cell_type": "markdown",
   "id": "a734428c",
   "metadata": {},
   "source": [
    "# 2.2. New Dataframes from TIME & DAY"
   ]
  },
  {
   "cell_type": "code",
   "execution_count": 23,
   "id": "808cd8ef",
   "metadata": {},
   "outputs": [],
   "source": [
    "df = pd.read_csv (r\"C:\\Users\\20204113\\OneDrive - TU Eindhoven\\2_Research\\1_Groceries\\DATA\\9th week - narrative (3rd attempt)\\HH4\\df\\df_HH4.csv\")"
   ]
  },
  {
   "cell_type": "code",
   "execution_count": 24,
   "id": "392d6f4c",
   "metadata": {},
   "outputs": [],
   "source": [
    "# Select only one day\n",
    "Monday = 'Monday'\n",
    "Tuesday = 'Tuesday'\n",
    "Wednesday = 'Wednesday'\n",
    "Thursday = 'Thursday'\n",
    "Friday = 'Friday'\n",
    "Saturday = 'Saturday'\n",
    "Sunday = 'Sunday'\n",
    "\n",
    "# select only these data for the df\n",
    "df_Monday = df[df['day'] == 'Monday']\n",
    "df_Tuesday = df[df['day'] == 'Tuesday']\n",
    "df_Wednesday = df[df['day'] == 'Wednesday']\n",
    "df_Thursday = df[df['day'] == 'Thursday']\n",
    "df_Friday = df[df['day'] == 'Friday']\n",
    "df_Saturday = df[df['day'] == 'Saturday']\n",
    "df_Sunday = df[df['day'] == 'Sunday']"
   ]
  },
  {
   "cell_type": "code",
   "execution_count": 25,
   "id": "5caad4bf",
   "metadata": {},
   "outputs": [],
   "source": [
    "# define data\n",
    "morning = 'morning'\n",
    "noon = 'noon'\n",
    "afternoon = 'afternoon'\n",
    "evening = 'evening'\n",
    "\n",
    "# select only these data (for time)\n",
    "df_morning = df[df[\"time\"] == morning]\n",
    "df_noon = df[df[\"time\"] == noon]\n",
    "df_afternoon = df[df[\"time\"] == afternoon]\n",
    "df_evening = df[df[\"time\"] == evening]"
   ]
  },
  {
   "cell_type": "code",
   "execution_count": 26,
   "id": "8409e83a",
   "metadata": {},
   "outputs": [],
   "source": [
    "df_Mo = df_Monday.groupby(['store_name', 'store_type', 'time', 'day'])['order_ID'].nunique()\n",
    "df_Mo = pd.DataFrame (df_Mo)\n",
    "df_Mo = df_Mo.reset_index()\n",
    "df_Mo = df_Mo.loc[~(df_Mo==0).any(axis=1)]\n",
    "df_Mo = df_Mo.rename(columns={\"order_ID\": \"weight\"})\n",
    "\n",
    "df_Tu = df_Tuesday.groupby(['store_name', 'store_type', 'time', 'day'])['order_ID'].nunique()\n",
    "df_Tu = pd.DataFrame (df_Tu)\n",
    "df_Tu = df_Tu.reset_index()\n",
    "df_Tu = df_Tu.loc[~(df_Tu==0).any(axis=1)]\n",
    "df_Tu = df_Tu.rename(columns={\"order_ID\": \"weight\"})\n",
    "\n",
    "df_We = df_Wednesday.groupby(['store_name', 'store_type', 'time', 'day'])['order_ID'].nunique()\n",
    "df_We = pd.DataFrame (df_We)\n",
    "df_We = df_We.reset_index()\n",
    "df_We = df_We.loc[~(df_We==0).any(axis=1)]\n",
    "df_We = df_We.rename(columns={\"order_ID\": \"weight\"})\n",
    "\n",
    "df_Th = df_Thursday.groupby(['store_name', 'store_type', 'time', 'day'])['order_ID'].nunique()\n",
    "df_Th = pd.DataFrame (df_Th)\n",
    "df_Th = df_Th.reset_index()\n",
    "df_Th = df_Th.loc[~(df_Th==0).any(axis=1)]\n",
    "df_Th = df_Th.rename(columns={\"order_ID\": \"weight\"})\n",
    "\n",
    "df_Fr = df_Friday.groupby(['store_name', 'store_type', 'time', 'day'])['order_ID'].nunique()\n",
    "df_Fr = pd.DataFrame (df_Fr)\n",
    "df_Fr = df_Fr.reset_index()\n",
    "df_Fr = df_Fr.loc[~(df_Fr==0).any(axis=1)]\n",
    "df_Fr = df_Fr.rename(columns={\"order_ID\": \"weight\"})\n",
    "\n",
    "df_Sa = df_Saturday.groupby(['store_name', 'store_type', 'time', 'day'])['order_ID'].nunique()\n",
    "df_Sa = pd.DataFrame (df_Sa)\n",
    "df_Sa = df_Sa.reset_index()\n",
    "df_Sa = df_Sa.loc[~(df_Sa==0).any(axis=1)]\n",
    "df_Sa = df_Sa.rename(columns={\"order_ID\": \"weight\"})\n",
    "\n",
    "df_Su = df_Sunday.groupby(['store_name', 'store_type', 'time', 'day'])['order_ID'].nunique()\n",
    "df_Su = pd.DataFrame (df_Su)\n",
    "df_Su = df_Su.reset_index()\n",
    "df_Su = df_Su.loc[~(df_Su==0).any(axis=1)]\n",
    "df_Su = df_Su.rename(columns={\"order_ID\": \"weight\"})"
   ]
  },
  {
   "cell_type": "code",
   "execution_count": 27,
   "id": "7a978bb5",
   "metadata": {},
   "outputs": [],
   "source": [
    "df_Mo.to_csv (r\"C:\\Users\\20204113\\OneDrive - TU Eindhoven\\2_Research\\1_Groceries\\DATA\\9th week - narrative (3rd attempt)\\HH4\\df\\df_HH4_Mo.csv\", index = None, header=True)\n",
    "df_Tu.to_csv (r\"C:\\Users\\20204113\\OneDrive - TU Eindhoven\\2_Research\\1_Groceries\\DATA\\9th week - narrative (3rd attempt)\\HH4\\df\\df_HH4_Tu.csv\", index = None, header=True)\n",
    "df_We.to_csv (r\"C:\\Users\\20204113\\OneDrive - TU Eindhoven\\2_Research\\1_Groceries\\DATA\\9th week - narrative (3rd attempt)\\HH4\\df\\df_HH4_We.csv\", index = None, header=True)\n",
    "df_Th.to_csv (r\"C:\\Users\\20204113\\OneDrive - TU Eindhoven\\2_Research\\1_Groceries\\DATA\\9th week - narrative (3rd attempt)\\HH4\\df\\df_HH4_Th.csv\", index = None, header=True)\n",
    "df_Fr.to_csv (r\"C:\\Users\\20204113\\OneDrive - TU Eindhoven\\2_Research\\1_Groceries\\DATA\\9th week - narrative (3rd attempt)\\HH4\\df\\df_HH4_Fr.csv\", index = None, header=True)\n",
    "df_Sa.to_csv (r\"C:\\Users\\20204113\\OneDrive - TU Eindhoven\\2_Research\\1_Groceries\\DATA\\9th week - narrative (3rd attempt)\\HH4\\df\\df_HH4_Sa.csv\", index = None, header=True)\n",
    "df_Su.to_csv (r\"C:\\Users\\20204113\\OneDrive - TU Eindhoven\\2_Research\\1_Groceries\\DATA\\9th week - narrative (3rd attempt)\\HH4\\df\\df_HH4_Su.csv\", index = None, header=True)"
   ]
  },
  {
   "cell_type": "markdown",
   "id": "95de5304",
   "metadata": {},
   "source": [
    "# CONCLUSION"
   ]
  },
  {
   "cell_type": "markdown",
   "id": "e07ae6e5",
   "metadata": {},
   "source": [
    "We now have our first THREE givens:\n",
    "> 1. It is <b>day X</b>\n",
    "> 2. It is <b>time X</b>\n",
    "3. The HH will shop at <b>store name X</b>"
   ]
  }
 ],
 "metadata": {
  "kernelspec": {
   "display_name": "Python 3 (ipykernel)",
   "language": "python",
   "name": "python3"
  },
  "language_info": {
   "codemirror_mode": {
    "name": "ipython",
    "version": 3
   },
   "file_extension": ".py",
   "mimetype": "text/x-python",
   "name": "python",
   "nbconvert_exporter": "python",
   "pygments_lexer": "ipython3",
   "version": "3.9.7"
  }
 },
 "nbformat": 4,
 "nbformat_minor": 5
}

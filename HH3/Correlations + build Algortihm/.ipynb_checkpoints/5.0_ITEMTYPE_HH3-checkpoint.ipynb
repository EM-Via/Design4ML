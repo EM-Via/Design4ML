{
 "cells": [
  {
   "cell_type": "markdown",
   "id": "2cce2977",
   "metadata": {},
   "source": [
    "## 5: CORRELATIONS - WHAT ITEM TYPES?"
   ]
  },
  {
   "cell_type": "markdown",
   "id": "87a037df",
   "metadata": {},
   "source": [
    "### Import libraries "
   ]
  },
  {
   "cell_type": "code",
   "execution_count": 1,
   "id": "419cb39a",
   "metadata": {},
   "outputs": [],
   "source": [
    "#Pandas is a software library written for the Python programming language for data manipulation and analysis.\n",
    "import pandas as pd\n",
    "#NumPy is a library for the Python programming language, adding support for large, multi-dimensional arrays and matrices, along with a large collection of high-level mathematical functions to operate on these arrays\n",
    "import numpy as np\n",
    "# Matplotlib is a plotting library for python and pyplot gives us a MatLab like plotting framework. We will use this in our plotter function to plot data.\n",
    "import matplotlib.pyplot as plt\n",
    "#Seaborn is a Python data visualization library based on matplotlib. It provides a high-level interface for drawing attractive and informative statistical graphics\n",
    "import seaborn as sns\n",
    "import dataframe_image as dfi\n",
    "\n",
    "from matplotlib.ticker import StrMethodFormatter\n",
    "\n",
    "# importing the required function for correlations\n",
    "from scipy.stats import chi2_contingency"
   ]
  },
  {
   "cell_type": "markdown",
   "id": "f10011bb",
   "metadata": {},
   "source": [
    "### Load and view data "
   ]
  },
  {
   "cell_type": "code",
   "execution_count": 2,
   "id": "f90057bd",
   "metadata": {},
   "outputs": [],
   "source": [
    "df = pd.read_csv (r\"C:\\Users\\20204113\\OneDrive - TU Eindhoven\\2_Research\\1_Groceries\\DATA\\9th week - narrative (3rd attempt)\\HH3\\df\\df_HH3.csv\")\n",
    "# df.describe(include='all')"
   ]
  },
  {
   "cell_type": "code",
   "execution_count": 3,
   "id": "d427e56e",
   "metadata": {},
   "outputs": [],
   "source": [
    "# use the corr function to display the correlation between all the features\n",
    "data_corr = df.corr()\n",
    "# data_corr"
   ]
  },
  {
   "cell_type": "markdown",
   "id": "eda8a44c",
   "metadata": {},
   "source": [
    "# 1. GENERAL CORRELATIONS: time/day/storetype-name"
   ]
  },
  {
   "cell_type": "markdown",
   "id": "51e0bd55",
   "metadata": {},
   "source": [
    "## 1.1. CORRELATION 1: item type vs day"
   ]
  },
  {
   "cell_type": "code",
   "execution_count": 4,
   "id": "b66a140a",
   "metadata": {},
   "outputs": [
    {
     "name": "stdout",
     "output_type": "stream",
     "text": [
      "The P-Value of the ChiSq Test is: 2.4437756405492703e-12\n"
     ]
    }
   ],
   "source": [
    "# Cross tabulation between category and store type\n",
    "CrosstabResult =pd.crosstab(index=df['item_type'],columns=df['day'])\n",
    "\n",
    "CrosstabResult\n",
    "\n",
    "# Performing Chi-sq test\n",
    "ChiSqResult = chi2_contingency(CrosstabResult)\n",
    "\n",
    "\n",
    "# P-Value is the Probability of H0 being True\n",
    "# If P-Value > 0.05 then only we Accept the assumption(H0)\n",
    "\n",
    "print('The P-Value of the ChiSq Test is:', ChiSqResult[1])"
   ]
  },
  {
   "cell_type": "markdown",
   "id": "1f7f8540",
   "metadata": {},
   "source": [
    "## 1.2. CORRELATION 2: item type vs time"
   ]
  },
  {
   "cell_type": "code",
   "execution_count": 5,
   "id": "654460c8",
   "metadata": {},
   "outputs": [
    {
     "data": {
      "text/html": [
       "<div>\n",
       "<style scoped>\n",
       "    .dataframe tbody tr th:only-of-type {\n",
       "        vertical-align: middle;\n",
       "    }\n",
       "\n",
       "    .dataframe tbody tr th {\n",
       "        vertical-align: top;\n",
       "    }\n",
       "\n",
       "    .dataframe thead th {\n",
       "        text-align: right;\n",
       "    }\n",
       "</style>\n",
       "<table border=\"1\" class=\"dataframe\">\n",
       "  <thead>\n",
       "    <tr style=\"text-align: right;\">\n",
       "      <th>time</th>\n",
       "      <th>afternoon</th>\n",
       "      <th>evening</th>\n",
       "      <th>noon</th>\n",
       "    </tr>\n",
       "    <tr>\n",
       "      <th>item_type</th>\n",
       "      <th></th>\n",
       "      <th></th>\n",
       "      <th></th>\n",
       "    </tr>\n",
       "  </thead>\n",
       "  <tbody>\n",
       "    <tr>\n",
       "      <th>5-spice powder</th>\n",
       "      <td>1</td>\n",
       "      <td>0</td>\n",
       "      <td>0</td>\n",
       "    </tr>\n",
       "    <tr>\n",
       "      <th>all-purpose cleaner</th>\n",
       "      <td>0</td>\n",
       "      <td>1</td>\n",
       "      <td>0</td>\n",
       "    </tr>\n",
       "    <tr>\n",
       "      <th>apple sauce</th>\n",
       "      <td>0</td>\n",
       "      <td>1</td>\n",
       "      <td>0</td>\n",
       "    </tr>\n",
       "    <tr>\n",
       "      <th>apples</th>\n",
       "      <td>2</td>\n",
       "      <td>3</td>\n",
       "      <td>0</td>\n",
       "    </tr>\n",
       "    <tr>\n",
       "      <th>bacon</th>\n",
       "      <td>0</td>\n",
       "      <td>3</td>\n",
       "      <td>0</td>\n",
       "    </tr>\n",
       "    <tr>\n",
       "      <th>...</th>\n",
       "      <td>...</td>\n",
       "      <td>...</td>\n",
       "      <td>...</td>\n",
       "    </tr>\n",
       "    <tr>\n",
       "      <th>toothbrush</th>\n",
       "      <td>1</td>\n",
       "      <td>1</td>\n",
       "      <td>0</td>\n",
       "    </tr>\n",
       "    <tr>\n",
       "      <th>vegetable mix</th>\n",
       "      <td>1</td>\n",
       "      <td>2</td>\n",
       "      <td>0</td>\n",
       "    </tr>\n",
       "    <tr>\n",
       "      <th>wasabi</th>\n",
       "      <td>1</td>\n",
       "      <td>0</td>\n",
       "      <td>0</td>\n",
       "    </tr>\n",
       "    <tr>\n",
       "      <th>water filters</th>\n",
       "      <td>1</td>\n",
       "      <td>1</td>\n",
       "      <td>0</td>\n",
       "    </tr>\n",
       "    <tr>\n",
       "      <th>wraps</th>\n",
       "      <td>0</td>\n",
       "      <td>1</td>\n",
       "      <td>0</td>\n",
       "    </tr>\n",
       "  </tbody>\n",
       "</table>\n",
       "<p>103 rows × 3 columns</p>\n",
       "</div>"
      ],
      "text/plain": [
       "time                 afternoon  evening  noon\n",
       "item_type                                    \n",
       "5-spice powder               1        0     0\n",
       "all-purpose cleaner          0        1     0\n",
       "apple sauce                  0        1     0\n",
       "apples                       2        3     0\n",
       "bacon                        0        3     0\n",
       "...                        ...      ...   ...\n",
       "toothbrush                   1        1     0\n",
       "vegetable mix                1        2     0\n",
       "wasabi                       1        0     0\n",
       "water filters                1        1     0\n",
       "wraps                        0        1     0\n",
       "\n",
       "[103 rows x 3 columns]"
      ]
     },
     "metadata": {},
     "output_type": "display_data"
    },
    {
     "name": "stdout",
     "output_type": "stream",
     "text": [
      "The P-Value of the ChiSq Test is: 0.00039157204398085\n"
     ]
    }
   ],
   "source": [
    "# Cross tabulation between category and store type\n",
    "CrosstabResult =pd.crosstab(index=df['item_type'],columns=df['time'])\n",
    "\n",
    "display(CrosstabResult)\n",
    "\n",
    "# Performing Chi-sq test\n",
    "ChiSqResult = chi2_contingency(CrosstabResult)\n",
    "\n",
    "\n",
    "# P-Value is the Probability of H0 being True\n",
    "# If P-Value > 0.05 then only we Accept the assumption(H0)\n",
    "\n",
    "print('The P-Value of the ChiSq Test is:', ChiSqResult[1])"
   ]
  },
  {
   "cell_type": "markdown",
   "id": "876ae3f7",
   "metadata": {},
   "source": [
    "Significant correlation, we could limit options to what's bought per time [in a supermarket]"
   ]
  },
  {
   "cell_type": "markdown",
   "id": "38661f76",
   "metadata": {},
   "source": [
    "## 1.3.1 CORRELATION 3: item type vs store"
   ]
  },
  {
   "cell_type": "markdown",
   "id": "d04a0488",
   "metadata": {},
   "source": [
    "### 1.3.1 item type vs store type"
   ]
  },
  {
   "cell_type": "code",
   "execution_count": 6,
   "id": "82ad13d5",
   "metadata": {},
   "outputs": [
    {
     "name": "stdout",
     "output_type": "stream",
     "text": [
      "The P-Value of the ChiSq Test is: 3.5776106579743055e-18\n"
     ]
    }
   ],
   "source": [
    "# Cross tabulation between category and store type\n",
    "CrosstabResult =pd.crosstab(index=df['item_type'],columns=df['store_type'])\n",
    "\n",
    "CrosstabResult\n",
    "\n",
    "# Performing Chi-sq test\n",
    "ChiSqResult = chi2_contingency(CrosstabResult)\n",
    "\n",
    "\n",
    "# P-Value is the Probability of H0 being True\n",
    "# If P-Value > 0.05 then only we Accept the assumption(H0)\n",
    "\n",
    "print('The P-Value of the ChiSq Test is:', ChiSqResult[1])"
   ]
  },
  {
   "cell_type": "markdown",
   "id": "54963db9",
   "metadata": {},
   "source": [
    "### 1.3.2. item type vs store name"
   ]
  },
  {
   "cell_type": "code",
   "execution_count": 7,
   "id": "cc65fd41",
   "metadata": {},
   "outputs": [
    {
     "name": "stdout",
     "output_type": "stream",
     "text": [
      "The P-Value of the ChiSq Test is: 1.2178092538093965e-14\n"
     ]
    }
   ],
   "source": [
    "# Cross tabulation between category and store type\n",
    "CrosstabResult =pd.crosstab(index=df['item_type'],columns=df['store_name'])\n",
    "\n",
    "CrosstabResult\n",
    "\n",
    "# Performing Chi-sq test\n",
    "ChiSqResult = chi2_contingency(CrosstabResult)\n",
    "\n",
    "\n",
    "# P-Value is the Probability of H0 being True\n",
    "# If P-Value > 0.05 then only we Accept the assumption(H0)\n",
    "\n",
    "print('The P-Value of the ChiSq Test is:', ChiSqResult[1])"
   ]
  },
  {
   "cell_type": "markdown",
   "id": "88927639",
   "metadata": {},
   "source": [
    "## 1.4. item type vs promo"
   ]
  },
  {
   "cell_type": "code",
   "execution_count": 8,
   "id": "d305453e",
   "metadata": {},
   "outputs": [
    {
     "name": "stdout",
     "output_type": "stream",
     "text": [
      "The P-Value of the ChiSq Test is: 3.7949776778212043e-06\n"
     ]
    }
   ],
   "source": [
    "# Cross tabulation between category and store type\n",
    "CrosstabResult =pd.crosstab(index=df['item_type'],columns=df['promo_num'])\n",
    "\n",
    "CrosstabResult\n",
    "\n",
    "# Performing Chi-sq test\n",
    "ChiSqResult = chi2_contingency(CrosstabResult)\n",
    "\n",
    "\n",
    "# P-Value is the Probability of H0 being True\n",
    "# If P-Value > 0.05 then only we Accept the assumption(H0)\n",
    "\n",
    "print('The P-Value of the ChiSq Test is:', ChiSqResult[1])"
   ]
  },
  {
   "cell_type": "markdown",
   "id": "46c2b12a",
   "metadata": {},
   "source": [
    "We could separate items that are more often bought in promo and exclude them from regular groceries\n",
    "\n",
    "#### (if for promo #1>#0)"
   ]
  },
  {
   "cell_type": "code",
   "execution_count": 9,
   "id": "04aa15f3",
   "metadata": {
    "scrolled": true
   },
   "outputs": [
    {
     "data": {
      "text/plain": [
       "['bag', 'pie', 'seseame oil']"
      ]
     },
     "execution_count": 9,
     "metadata": {},
     "output_type": "execute_result"
    }
   ],
   "source": [
    "CrosstabResult.drop(CrosstabResult[CrosstabResult[1] <= CrosstabResult[0]].index, inplace = True)\n",
    "\n",
    "CrosstabResult = CrosstabResult.reset_index()\n",
    "CrosstabResult\n",
    "\n",
    "options = CrosstabResult.item_type.values.tolist()\n",
    "\n",
    "options"
   ]
  },
  {
   "cell_type": "code",
   "execution_count": 10,
   "id": "7b8b80c5",
   "metadata": {},
   "outputs": [],
   "source": [
    "# df with only the promo items\n",
    "df_promo = df[df['item_type'].isin(options)]\n",
    "\n",
    "# Now to delete these item types from the current dataframe\n",
    "df = df[-df['item_type'].isin(options)]"
   ]
  },
  {
   "cell_type": "markdown",
   "id": "545fd297",
   "metadata": {},
   "source": [
    "# 2. Narrow down dataframe"
   ]
  },
  {
   "cell_type": "markdown",
   "id": "9e3e1f84",
   "metadata": {},
   "source": [
    "## 2.2 Per TIME"
   ]
  },
  {
   "cell_type": "markdown",
   "id": "78ec0d45",
   "metadata": {},
   "source": [
    "### Aggregate time"
   ]
  },
  {
   "cell_type": "code",
   "execution_count": 15,
   "id": "a17162e1",
   "metadata": {},
   "outputs": [
    {
     "name": "stdout",
     "output_type": "stream",
     "text": [
      "['evening' 'afternoon' 'noon']\n"
     ]
    }
   ],
   "source": [
    "# Find unique values for store names\n",
    "print(df['time'].unique())"
   ]
  },
  {
   "cell_type": "code",
   "execution_count": 17,
   "id": "fabafcae",
   "metadata": {},
   "outputs": [],
   "source": [
    "# define data\n",
    "noon = 'noon'\n",
    "afternoon = 'afternoon'\n",
    "evening = 'evening'\n",
    "\n",
    "# select only these data (for time)\n",
    "df_noon = df[df[\"time\"] == noon]\n",
    "df_afternoon = df[df[\"time\"] == afternoon]\n",
    "df_evening = df[df[\"time\"] == evening]"
   ]
  },
  {
   "cell_type": "code",
   "execution_count": 18,
   "id": "9a2c36db",
   "metadata": {},
   "outputs": [
    {
     "name": "stdout",
     "output_type": "stream",
     "text": [
      "The P-Value of the ChiSq Test is, for noons: 0.7667395507581166\n",
      "The P-Value of the ChiSq Test is, for afternoons: 0.16913332985620702\n",
      "The P-Value of the ChiSq Test is, for evening: 0.9183952937794617\n"
     ]
    }
   ],
   "source": [
    "# Cross tabulation between category and store type\n",
    "CrosstabResult_noon =pd.crosstab(index=df_noon['item_type'],columns=df_noon['day'])\n",
    "CrosstabResult_afternoon =pd.crosstab(index=df_afternoon['item_type'],columns=df_afternoon['day'])\n",
    "CrosstabResult_evening =pd.crosstab(index=df_evening['item_type'],columns=df_evening['day'])\n",
    "\n",
    "# Performing Chi-sq test\n",
    "ChiSqResult_noon = chi2_contingency(CrosstabResult_noon)\n",
    "ChiSqResult_afternoon = chi2_contingency(CrosstabResult_afternoon)\n",
    "ChiSqResult_evening = chi2_contingency(CrosstabResult_evening)\n",
    "\n",
    "# P-Value is the Probability of H0 being True\n",
    "# If P-Value > 0.05 then only we Accept the assumption(H0)\n",
    "\n",
    "print('The P-Value of the ChiSq Test is, for noons:', ChiSqResult_noon[1])\n",
    "print('The P-Value of the ChiSq Test is, for afternoons:', ChiSqResult_afternoon[1])\n",
    "print('The P-Value of the ChiSq Test is, for evening:', ChiSqResult_evening[1])"
   ]
  },
  {
   "cell_type": "code",
   "execution_count": 19,
   "id": "f00efe65",
   "metadata": {},
   "outputs": [
    {
     "name": "stdout",
     "output_type": "stream",
     "text": [
      "The P-Value of the ChiSq Test is, for noons: 1.0\n",
      "The P-Value of the ChiSq Test is, for afternoons: 0.012828542014759478\n",
      "The P-Value of the ChiSq Test is, for evening: 1.0\n"
     ]
    }
   ],
   "source": [
    "# Cross tabulation between category and store type\n",
    "CrosstabResult_noon =pd.crosstab(index=df_noon['item_type'],columns=df_noon['store_type'])\n",
    "CrosstabResult_afternoon =pd.crosstab(index=df_afternoon['item_type'],columns=df_afternoon['store_type'])\n",
    "CrosstabResult_evening =pd.crosstab(index=df_evening['item_type'],columns=df_evening['store_type'])\n",
    "\n",
    "# Performing Chi-sq test\n",
    "ChiSqResult_noon = chi2_contingency(CrosstabResult_noon)\n",
    "ChiSqResult_afternoon = chi2_contingency(CrosstabResult_afternoon)\n",
    "ChiSqResult_evening = chi2_contingency(CrosstabResult_evening)\n",
    "\n",
    "# P-Value is the Probability of H0 being True\n",
    "# If P-Value > 0.05 then only we Accept the assumption(H0)\n",
    "\n",
    "print('The P-Value of the ChiSq Test is, for noons:', ChiSqResult_noon[1])\n",
    "print('The P-Value of the ChiSq Test is, for afternoons:', ChiSqResult_afternoon[1])\n",
    "print('The P-Value of the ChiSq Test is, for evening:', ChiSqResult_evening[1])"
   ]
  },
  {
   "cell_type": "code",
   "execution_count": 20,
   "id": "e26214eb",
   "metadata": {},
   "outputs": [
    {
     "name": "stdout",
     "output_type": "stream",
     "text": [
      "The P-Value of the ChiSq Test is, for noons: 0.34978239680619466\n",
      "The P-Value of the ChiSq Test is, for afternoons: 0.0028453074454443715\n",
      "The P-Value of the ChiSq Test is, for evening: 0.6465053189668006\n"
     ]
    }
   ],
   "source": [
    "# Cross tabulation between category and store type\n",
    "CrosstabResult_noon =pd.crosstab(index=df_noon['item_type'],columns=df_noon['store_name'])\n",
    "CrosstabResult_afternoon =pd.crosstab(index=df_afternoon['item_type'],columns=df_afternoon['store_name'])\n",
    "CrosstabResult_evening =pd.crosstab(index=df_evening['item_type'],columns=df_evening['store_name'])\n",
    "\n",
    "# Performing Chi-sq test\n",
    "ChiSqResult_noon = chi2_contingency(CrosstabResult_noon)\n",
    "ChiSqResult_afternoon = chi2_contingency(CrosstabResult_afternoon)\n",
    "ChiSqResult_evening = chi2_contingency(CrosstabResult_evening)\n",
    "\n",
    "# P-Value is the Probability of H0 being True\n",
    "# If P-Value > 0.05 then only we Accept the assumption(H0)\n",
    "\n",
    "print('The P-Value of the ChiSq Test is, for noons:', ChiSqResult_noon[1])\n",
    "print('The P-Value of the ChiSq Test is, for afternoons:', ChiSqResult_afternoon[1])\n",
    "print('The P-Value of the ChiSq Test is, for evening:', ChiSqResult_evening[1])"
   ]
  },
  {
   "cell_type": "markdown",
   "id": "bba20b72",
   "metadata": {},
   "source": [
    "## 2.3 Per STORE TYPE"
   ]
  },
  {
   "cell_type": "code",
   "execution_count": 22,
   "id": "286fa282",
   "metadata": {},
   "outputs": [
    {
     "name": "stdout",
     "output_type": "stream",
     "text": [
      "The P-Value of the ChiSq Test supermarket is: 0.3378889070849209\n",
      "The P-Value of the ChiSq Test bakery is: 1.0\n",
      "The P-Value of the ChiSq Test pet supplies is: 1.0\n"
     ]
    }
   ],
   "source": [
    "# to select only one\n",
    "storet1 = 'supermarket'\n",
    "storet2 = 'bakery'\n",
    "storet3 = 'pet supplies'\n",
    "\n",
    "# select only these data for the df\n",
    "df_storet1 = df[df['store_type'] == storet1]\n",
    "df_storet2 = df[df['store_type'] == storet2]\n",
    "df_storet3 = df[df['store_type'] == storet3]\n",
    "\n",
    "# Cross tabulation between category and day\n",
    "CrosstabResult1=pd.crosstab(index=df_storet1['item_type'],columns=df_storet1['time'])\n",
    "CrosstabResult2=pd.crosstab(index=df_storet2['item_type'],columns=df_storet2['time'])\n",
    "CrosstabResult3=pd.crosstab(index=df_storet3['item_type'],columns=df_storet3['time'])\n",
    "\n",
    "# Performing Chi-sq test\n",
    "ChiSqResult1 = chi2_contingency(CrosstabResult1)\n",
    "ChiSqResult2 = chi2_contingency(CrosstabResult2)\n",
    "ChiSqResult3 = chi2_contingency(CrosstabResult3)\n",
    "\n",
    "# P-Value is the Probability of H0 being True\n",
    "# If P-Value > 0.05 then only we Accept the assumption(H0)\n",
    "\n",
    "print('The P-Value of the ChiSq Test supermarket is:', ChiSqResult1[1])\n",
    "print('The P-Value of the ChiSq Test bakery is:', ChiSqResult2[1])\n",
    "print('The P-Value of the ChiSq Test pet supplies is:', ChiSqResult3[1])"
   ]
  },
  {
   "cell_type": "code",
   "execution_count": 24,
   "id": "7d03ceb3",
   "metadata": {},
   "outputs": [
    {
     "name": "stdout",
     "output_type": "stream",
     "text": [
      "The P-Value of the ChiSq Test supermarket is: 0.0499483069585892\n",
      "The P-Value of the ChiSq Test bakery is: 0.7667395507581166\n",
      "The P-Value of the ChiSq Test pet supplies is: 0.2872974951836456\n"
     ]
    }
   ],
   "source": [
    "# Cross tabulation between category and day\n",
    "CrosstabResult1=pd.crosstab(index=df_storet1['item_type'],columns=df_storet1['day'])\n",
    "CrosstabResult2=pd.crosstab(index=df_storet2['item_type'],columns=df_storet2['day'])\n",
    "CrosstabResult3=pd.crosstab(index=df_storet3['item_type'],columns=df_storet3['day'])\n",
    "\n",
    "# Performing Chi-sq test\n",
    "ChiSqResult1 = chi2_contingency(CrosstabResult1)\n",
    "ChiSqResult2 = chi2_contingency(CrosstabResult2)\n",
    "ChiSqResult3 = chi2_contingency(CrosstabResult3)\n",
    "\n",
    "# P-Value is the Probability of H0 being True\n",
    "# If P-Value > 0.05 then only we Accept the assumption(H0)\n",
    "\n",
    "print('The P-Value of the ChiSq Test supermarket is:', ChiSqResult1[1])\n",
    "print('The P-Value of the ChiSq Test bakery is:', ChiSqResult2[1])\n",
    "print('The P-Value of the ChiSq Test pet supplies is:', ChiSqResult3[1])"
   ]
  },
  {
   "cell_type": "code",
   "execution_count": 25,
   "id": "a0c1a9cc",
   "metadata": {},
   "outputs": [
    {
     "name": "stdout",
     "output_type": "stream",
     "text": [
      "The P-Value of the ChiSq Test supermarket is: 4.678415181323773e-05\n",
      "The P-Value of the ChiSq Test bakery is: 0.34978239680619466\n",
      "The P-Value of the ChiSq Test pet supplies is: 0.2872974951836456\n"
     ]
    }
   ],
   "source": [
    "# Cross tabulation between category and day\n",
    "CrosstabResult1=pd.crosstab(index=df_storet1['item_type'],columns=df_storet1['store_name'])\n",
    "CrosstabResult2=pd.crosstab(index=df_storet2['item_type'],columns=df_storet2['store_name'])\n",
    "CrosstabResult3=pd.crosstab(index=df_storet3['item_type'],columns=df_storet3['store_name'])\n",
    "\n",
    "# Performing Chi-sq test\n",
    "ChiSqResult1 = chi2_contingency(CrosstabResult1)\n",
    "ChiSqResult2 = chi2_contingency(CrosstabResult2)\n",
    "ChiSqResult3 = chi2_contingency(CrosstabResult3)\n",
    "\n",
    "# P-Value is the Probability of H0 being True\n",
    "# If P-Value > 0.05 then only we Accept the assumption(H0)\n",
    "\n",
    "print('The P-Value of the ChiSq Test supermarket is:', ChiSqResult1[1])\n",
    "print('The P-Value of the ChiSq Test bakery is:', ChiSqResult2[1])\n",
    "print('The P-Value of the ChiSq Test pet supplies is:', ChiSqResult3[1])"
   ]
  },
  {
   "cell_type": "markdown",
   "id": "2e5ed5d6",
   "metadata": {},
   "source": [
    "## 2.4.  Per DAY"
   ]
  },
  {
   "cell_type": "code",
   "execution_count": 55,
   "id": "415ff4e8",
   "metadata": {},
   "outputs": [],
   "source": [
    "# define data\n",
    "Monday = 'Monday'\n",
    "Tuesday = 'Tuesday'\n",
    "Wednesday = 'Wednesday'\n",
    "Thursday = 'Thursday'\n",
    "Friday = 'Friday'\n",
    "Saturday = 'Saturday'\n",
    "Sunday = 'Sunday'\n",
    "\n",
    "# select only these data (for day, store, store name)\n",
    "df_Monday = df[df[\"day\"] == Monday]\n",
    "df_Tuesday = df[df[\"day\"] == Tuesday]\n",
    "df_Wednesday = df[df[\"day\"] == Wednesday]\n",
    "df_Thursday = df[df[\"day\"] == Thursday]\n",
    "df_Friday = df[df[\"day\"] == Friday]\n",
    "df_Saturday = df[df[\"day\"] == Saturday]\n",
    "df_Sunday = df[df[\"day\"] == Sunday]"
   ]
  },
  {
   "cell_type": "code",
   "execution_count": 63,
   "id": "0df3a451",
   "metadata": {},
   "outputs": [
    {
     "name": "stdout",
     "output_type": "stream",
     "text": [
      "The P-Value of the ChiSq Test is, for Mondays: 0.43133509838175615\n",
      "The P-Value of the ChiSq Test is, for Tuesdays: 0.012274396812279185\n",
      "The P-Value of the ChiSq Test is, for Wednesdays: 1.0\n",
      "The P-Value of the ChiSq Test is, for Thursdays: 0.23771371108535994\n",
      "The P-Value of the ChiSq Test is, for Fridays: 1.0\n",
      "The P-Value of the ChiSq Test is, for Sundays: 0.17553294879732945\n"
     ]
    }
   ],
   "source": [
    "# Cross tabulation between category and store type\n",
    "CrosstabResult_Monday =pd.crosstab(index=df_Monday['item_type'],columns=df_Monday['store_name'], dropna=False)\n",
    "CrosstabResult_Tuesday =pd.crosstab(index=df_Tuesday['item_type'],columns=df_Tuesday['store_name'], dropna=False)\n",
    "CrosstabResult_Wednesday =pd.crosstab(index=df_Wednesday['item_type'],columns=df_Wednesday['store_name'], dropna=False)\n",
    "CrosstabResult_Thursday =pd.crosstab(index=df_Thursday['item_type'],columns=df_Thursday['store_name'], dropna=False)\n",
    "CrosstabResult_Friday =pd.crosstab(index=df_Friday['item_type'],columns=df_Friday['store_name'], dropna=False)\n",
    "CrosstabResult_Saturday =pd.crosstab(index=df_Saturday['item_type'],columns=df_Saturday['store_name'], dropna=False)\n",
    "CrosstabResult_Sunday =pd.crosstab(index=df_Sunday['item_type'],columns=df_Sunday['store_name'], dropna=False)\n",
    "\n",
    "# Performing Chi-sq test\n",
    "Monday = chi2_contingency(CrosstabResult_Monday)\n",
    "Tuesday = chi2_contingency(CrosstabResult_Tuesday)\n",
    "Wednesday = chi2_contingency(CrosstabResult_Wednesday)\n",
    "Thursday = chi2_contingency(CrosstabResult_Thursday)\n",
    "Friday = chi2_contingency(CrosstabResult_Friday)\n",
    "# Saturday = chi2_contingency(CrosstabResult_Saturday)\n",
    "Sunday = chi2_contingency(CrosstabResult_Sunday)\n",
    "\n",
    "# P-Value is the Probability of H0 being True\n",
    "# If P-Value > 0.05 then only we Accept the assumption(H0)\n",
    "\n",
    "print('The P-Value of the ChiSq Test is, for Mondays:', Monday[1])\n",
    "print('The P-Value of the ChiSq Test is, for Tuesdays:', Tuesday[1])\n",
    "print('The P-Value of the ChiSq Test is, for Wednesdays:', Wednesday[1])\n",
    "print('The P-Value of the ChiSq Test is, for Thursdays:', Thursday[1])\n",
    "print('The P-Value of the ChiSq Test is, for Fridays:', Friday[1])\n",
    "# print('The P-Value of the ChiSq Test is, for Saturdays:', Saturday[1])\n",
    "print('The P-Value of the ChiSq Test is, for Sundays:', Sunday[1])"
   ]
  },
  {
   "cell_type": "code",
   "execution_count": 65,
   "id": "776ccb77",
   "metadata": {
    "collapsed": true
   },
   "outputs": [
    {
     "data": {
      "text/html": [
       "<div>\n",
       "<style scoped>\n",
       "    .dataframe tbody tr th:only-of-type {\n",
       "        vertical-align: middle;\n",
       "    }\n",
       "\n",
       "    .dataframe tbody tr th {\n",
       "        vertical-align: top;\n",
       "    }\n",
       "\n",
       "    .dataframe thead th {\n",
       "        text-align: right;\n",
       "    }\n",
       "</style>\n",
       "<table border=\"1\" class=\"dataframe\">\n",
       "  <thead>\n",
       "    <tr style=\"text-align: right;\">\n",
       "      <th>store_name</th>\n",
       "      <th>Aldi</th>\n",
       "      <th>Tine</th>\n",
       "    </tr>\n",
       "    <tr>\n",
       "      <th>item_type</th>\n",
       "      <th></th>\n",
       "      <th></th>\n",
       "    </tr>\n",
       "  </thead>\n",
       "  <tbody>\n",
       "    <tr>\n",
       "      <th>all-purpose cleaner</th>\n",
       "      <td>1</td>\n",
       "      <td>0</td>\n",
       "    </tr>\n",
       "    <tr>\n",
       "      <th>apples</th>\n",
       "      <td>1</td>\n",
       "      <td>0</td>\n",
       "    </tr>\n",
       "    <tr>\n",
       "      <th>bacon</th>\n",
       "      <td>1</td>\n",
       "      <td>0</td>\n",
       "    </tr>\n",
       "    <tr>\n",
       "      <th>basil</th>\n",
       "      <td>1</td>\n",
       "      <td>0</td>\n",
       "    </tr>\n",
       "    <tr>\n",
       "      <th>bell peppers</th>\n",
       "      <td>1</td>\n",
       "      <td>0</td>\n",
       "    </tr>\n",
       "    <tr>\n",
       "      <th>biscuits</th>\n",
       "      <td>1</td>\n",
       "      <td>0</td>\n",
       "    </tr>\n",
       "    <tr>\n",
       "      <th>bread</th>\n",
       "      <td>0</td>\n",
       "      <td>1</td>\n",
       "    </tr>\n",
       "    <tr>\n",
       "      <th>butter</th>\n",
       "      <td>1</td>\n",
       "      <td>0</td>\n",
       "    </tr>\n",
       "    <tr>\n",
       "      <th>candy</th>\n",
       "      <td>4</td>\n",
       "      <td>0</td>\n",
       "    </tr>\n",
       "    <tr>\n",
       "      <th>charcuterie</th>\n",
       "      <td>2</td>\n",
       "      <td>0</td>\n",
       "    </tr>\n",
       "    <tr>\n",
       "      <th>cheese</th>\n",
       "      <td>2</td>\n",
       "      <td>0</td>\n",
       "    </tr>\n",
       "    <tr>\n",
       "      <th>chicken</th>\n",
       "      <td>3</td>\n",
       "      <td>0</td>\n",
       "    </tr>\n",
       "    <tr>\n",
       "      <th>chips</th>\n",
       "      <td>3</td>\n",
       "      <td>0</td>\n",
       "    </tr>\n",
       "    <tr>\n",
       "      <th>chocolate</th>\n",
       "      <td>2</td>\n",
       "      <td>0</td>\n",
       "    </tr>\n",
       "    <tr>\n",
       "      <th>cookies</th>\n",
       "      <td>2</td>\n",
       "      <td>0</td>\n",
       "    </tr>\n",
       "    <tr>\n",
       "      <th>cucumber</th>\n",
       "      <td>1</td>\n",
       "      <td>0</td>\n",
       "    </tr>\n",
       "    <tr>\n",
       "      <th>curry sauce</th>\n",
       "      <td>1</td>\n",
       "      <td>0</td>\n",
       "    </tr>\n",
       "    <tr>\n",
       "      <th>danish</th>\n",
       "      <td>0</td>\n",
       "      <td>1</td>\n",
       "    </tr>\n",
       "    <tr>\n",
       "      <th>frozen snacks</th>\n",
       "      <td>1</td>\n",
       "      <td>0</td>\n",
       "    </tr>\n",
       "    <tr>\n",
       "      <th>grapes</th>\n",
       "      <td>1</td>\n",
       "      <td>0</td>\n",
       "    </tr>\n",
       "    <tr>\n",
       "      <th>hamburgers</th>\n",
       "      <td>1</td>\n",
       "      <td>0</td>\n",
       "    </tr>\n",
       "    <tr>\n",
       "      <th>ice tea</th>\n",
       "      <td>1</td>\n",
       "      <td>0</td>\n",
       "    </tr>\n",
       "    <tr>\n",
       "      <th>kiwis</th>\n",
       "      <td>2</td>\n",
       "      <td>0</td>\n",
       "    </tr>\n",
       "    <tr>\n",
       "      <th>lasagna</th>\n",
       "      <td>2</td>\n",
       "      <td>0</td>\n",
       "    </tr>\n",
       "    <tr>\n",
       "      <th>meat spread</th>\n",
       "      <td>1</td>\n",
       "      <td>0</td>\n",
       "    </tr>\n",
       "    <tr>\n",
       "      <th>milk</th>\n",
       "      <td>1</td>\n",
       "      <td>0</td>\n",
       "    </tr>\n",
       "    <tr>\n",
       "      <th>pancake mix</th>\n",
       "      <td>1</td>\n",
       "      <td>0</td>\n",
       "    </tr>\n",
       "    <tr>\n",
       "      <th>pasta</th>\n",
       "      <td>1</td>\n",
       "      <td>0</td>\n",
       "    </tr>\n",
       "    <tr>\n",
       "      <th>pita bread</th>\n",
       "      <td>1</td>\n",
       "      <td>0</td>\n",
       "    </tr>\n",
       "    <tr>\n",
       "      <th>pizza</th>\n",
       "      <td>3</td>\n",
       "      <td>0</td>\n",
       "    </tr>\n",
       "    <tr>\n",
       "      <th>popsicles</th>\n",
       "      <td>1</td>\n",
       "      <td>0</td>\n",
       "    </tr>\n",
       "    <tr>\n",
       "      <th>salad</th>\n",
       "      <td>1</td>\n",
       "      <td>0</td>\n",
       "    </tr>\n",
       "    <tr>\n",
       "      <th>sandwiches</th>\n",
       "      <td>6</td>\n",
       "      <td>0</td>\n",
       "    </tr>\n",
       "    <tr>\n",
       "      <th>sausage snacks</th>\n",
       "      <td>1</td>\n",
       "      <td>0</td>\n",
       "    </tr>\n",
       "    <tr>\n",
       "      <th>sausages</th>\n",
       "      <td>1</td>\n",
       "      <td>0</td>\n",
       "    </tr>\n",
       "    <tr>\n",
       "      <th>shampoo</th>\n",
       "      <td>1</td>\n",
       "      <td>0</td>\n",
       "    </tr>\n",
       "    <tr>\n",
       "      <th>soup</th>\n",
       "      <td>2</td>\n",
       "      <td>0</td>\n",
       "    </tr>\n",
       "    <tr>\n",
       "      <th>soup pasta</th>\n",
       "      <td>2</td>\n",
       "      <td>0</td>\n",
       "    </tr>\n",
       "    <tr>\n",
       "      <th>tomatoes</th>\n",
       "      <td>1</td>\n",
       "      <td>0</td>\n",
       "    </tr>\n",
       "    <tr>\n",
       "      <th>toothbrush</th>\n",
       "      <td>1</td>\n",
       "      <td>0</td>\n",
       "    </tr>\n",
       "    <tr>\n",
       "      <th>vegetable mix</th>\n",
       "      <td>1</td>\n",
       "      <td>0</td>\n",
       "    </tr>\n",
       "    <tr>\n",
       "      <th>water filters</th>\n",
       "      <td>1</td>\n",
       "      <td>0</td>\n",
       "    </tr>\n",
       "  </tbody>\n",
       "</table>\n",
       "</div>"
      ],
      "text/plain": [
       "store_name           Aldi  Tine\n",
       "item_type                      \n",
       "all-purpose cleaner     1     0\n",
       "apples                  1     0\n",
       "bacon                   1     0\n",
       "basil                   1     0\n",
       "bell peppers            1     0\n",
       "biscuits                1     0\n",
       "bread                   0     1\n",
       "butter                  1     0\n",
       "candy                   4     0\n",
       "charcuterie             2     0\n",
       "cheese                  2     0\n",
       "chicken                 3     0\n",
       "chips                   3     0\n",
       "chocolate               2     0\n",
       "cookies                 2     0\n",
       "cucumber                1     0\n",
       "curry sauce             1     0\n",
       "danish                  0     1\n",
       "frozen snacks           1     0\n",
       "grapes                  1     0\n",
       "hamburgers              1     0\n",
       "ice tea                 1     0\n",
       "kiwis                   2     0\n",
       "lasagna                 2     0\n",
       "meat spread             1     0\n",
       "milk                    1     0\n",
       "pancake mix             1     0\n",
       "pasta                   1     0\n",
       "pita bread              1     0\n",
       "pizza                   3     0\n",
       "popsicles               1     0\n",
       "salad                   1     0\n",
       "sandwiches              6     0\n",
       "sausage snacks          1     0\n",
       "sausages                1     0\n",
       "shampoo                 1     0\n",
       "soup                    2     0\n",
       "soup pasta              2     0\n",
       "tomatoes                1     0\n",
       "toothbrush              1     0\n",
       "vegetable mix           1     0\n",
       "water filters           1     0"
      ]
     },
     "execution_count": 65,
     "metadata": {},
     "output_type": "execute_result"
    }
   ],
   "source": [
    "CrosstabResult_Tuesday"
   ]
  },
  {
   "cell_type": "markdown",
   "id": "3b36dd14",
   "metadata": {},
   "source": [
    "## 2.5. Per STORE NAME"
   ]
  },
  {
   "cell_type": "code",
   "execution_count": 30,
   "id": "da12bef5",
   "metadata": {},
   "outputs": [
    {
     "name": "stdout",
     "output_type": "stream",
     "text": [
      "['Aldi' 'Tom&Co' 'Wouters' 'Colruyt' 'Vanessa' 'Tine' 'Albert Heijn'\n",
      " 'Food Factory' 'Maxi Zoo' 'Delhaize']\n"
     ]
    }
   ],
   "source": [
    "# Find unique values for store names\n",
    "print(df['store_name'].unique())"
   ]
  },
  {
   "cell_type": "code",
   "execution_count": 31,
   "id": "9e5e1a52",
   "metadata": {},
   "outputs": [],
   "source": [
    "# define data\n",
    "store1 = 'Aldi'\n",
    "store2 = 'Colruyt'\n",
    "store3 = 'Albert Heijn'\n",
    "store4 = 'Delhaize'\n",
    "store5 = 'Food Factory'\n",
    "store6 = 'Wouters'\n",
    "store7 = 'Vanessa'\n",
    "store8 = 'Tine'\n",
    "store9 = 'Tom&CO'\n",
    "store10 = 'Maxi Zoo'\n",
    "\n",
    "# select only these data for the df\n",
    "df_store1 = df[df['store_name'] == store1]\n",
    "df_store2 = df[df['store_name'] == store2]\n",
    "df_store3 = df[df['store_name'] == store3] \n",
    "df_store4 = df[df['store_name'] == store4] \n",
    "df_store5 = df[df['store_name'] == store5] \n",
    "df_store6 = df[df['store_name'] == store6] \n",
    "df_store7 = df[df['store_name'] == store7] \n",
    "df_store8 = df[df['store_name'] == store8] \n",
    "df_store9 = df[df['store_name'] == store9]\n",
    "df_store10 = df[df['store_name'] == store10] "
   ]
  },
  {
   "cell_type": "code",
   "execution_count": 36,
   "id": "8979989b",
   "metadata": {},
   "outputs": [
    {
     "name": "stdout",
     "output_type": "stream",
     "text": [
      "The P-Value of the ChiSq Test Aldi is: 0.7980730584593592\n",
      "The P-Value of the ChiSq Test Colruyt is: 0.4285718302281244\n",
      "The P-Value of the ChiSq Test Albert Heijn is: 1.0\n",
      "The P-Value of the ChiSq Test Delhaize is: 1.0\n",
      "The P-Value of the ChiSq Test Food Factory is: 1.0\n",
      "The P-Value of the ChiSq Test Wouters is: 1.0\n",
      "The P-Value of the ChiSq Test Vanessa is: 1.0\n",
      "The P-Value of the ChiSq Test Tine is: 1.0\n",
      "The P-Value of the ChiSq Test Maxi Zoo is: 1.0\n"
     ]
    }
   ],
   "source": [
    "# Cross tabulation between category and day\n",
    "CrosstabResult1=pd.crosstab(index=df_store1['item_type'],columns=df_store1['time'])\n",
    "CrosstabResult2=pd.crosstab(index=df_store2['item_type'],columns=df_store2['time'])\n",
    "CrosstabResult3=pd.crosstab(index=df_store3['item_type'],columns=df_store3['time'])\n",
    "CrosstabResult4=pd.crosstab(index=df_store4['item_type'],columns=df_store4['time'])\n",
    "CrosstabResult5=pd.crosstab(index=df_store5['item_type'],columns=df_store5['time'])\n",
    "CrosstabResult6=pd.crosstab(index=df_store6['item_type'],columns=df_store6['time'])\n",
    "CrosstabResult7=pd.crosstab(index=df_store7['item_type'],columns=df_store7['time'])\n",
    "CrosstabResult8=pd.crosstab(index=df_store8['item_type'],columns=df_store8['time'])\n",
    "CrosstabResult9=pd.crosstab(index=df_store9['item_type'],columns=df_store9['time'])\n",
    "CrosstabResult10=pd.crosstab(index=df_store10['item_type'],columns=df_store10['time'])\n",
    "\n",
    "# Performing Chi-sq test\n",
    "ChiSqResult1 = chi2_contingency(CrosstabResult1)\n",
    "ChiSqResult2 = chi2_contingency(CrosstabResult2)\n",
    "ChiSqResult3 = chi2_contingency(CrosstabResult3)\n",
    "ChiSqResult4 = chi2_contingency(CrosstabResult4)\n",
    "ChiSqResult5 = chi2_contingency(CrosstabResult5)\n",
    "ChiSqResult6 = chi2_contingency(CrosstabResult6)\n",
    "ChiSqResult7 = chi2_contingency(CrosstabResult7)\n",
    "ChiSqResult8 = chi2_contingency(CrosstabResult8)\n",
    "# ChiSqResult9 = chi2_contingency(CrosstabResult9)\n",
    "ChiSqResult10 = chi2_contingency(CrosstabResult10)\n",
    "\n",
    "# P-Value is the Probability of H0 being True\n",
    "# If P-Value > 0.05 then only we Accept the assumption(H0)\n",
    "\n",
    "print('The P-Value of the ChiSq Test Aldi is:', ChiSqResult1[1])\n",
    "print('The P-Value of the ChiSq Test Colruyt is:', ChiSqResult2[1])\n",
    "print('The P-Value of the ChiSq Test Albert Heijn is:', ChiSqResult3[1])\n",
    "print('The P-Value of the ChiSq Test Delhaize is:', ChiSqResult4[1])\n",
    "print('The P-Value of the ChiSq Test Food Factory is:', ChiSqResult5[1])\n",
    "print('The P-Value of the ChiSq Test Wouters is:', ChiSqResult6[1])\n",
    "print('The P-Value of the ChiSq Test Vanessa is:', ChiSqResult7[1])\n",
    "print('The P-Value of the ChiSq Test Tine is:', ChiSqResult8[1])\n",
    "# print('The P-Value of the ChiSq Test Tom&Co is:', ChiSqResult9[1])\n",
    "print('The P-Value of the ChiSq Test Maxi Zoo is:', ChiSqResult10[1])"
   ]
  },
  {
   "cell_type": "code",
   "execution_count": 35,
   "id": "4f8464f8",
   "metadata": {},
   "outputs": [
    {
     "name": "stdout",
     "output_type": "stream",
     "text": [
      "The P-Value of the ChiSq Test Aldi is: 0.9996540649152295\n",
      "The P-Value of the ChiSq Test Colruyt is: 0.9088660608901772\n",
      "The P-Value of the ChiSq Test Albert Heijn is: 1.0\n",
      "The P-Value of the ChiSq Test Delhaize is: 1.0\n",
      "The P-Value of the ChiSq Test Food Factory is: 1.0\n",
      "The P-Value of the ChiSq Test Wouters is: 1.0\n",
      "The P-Value of the ChiSq Test Vanessa is: 1.0\n",
      "The P-Value of the ChiSq Test Tine is: 1.0\n",
      "The P-Value of the ChiSq Test Maxi Zoo is: 1.0\n"
     ]
    }
   ],
   "source": [
    "# Cross tabulation between category and day\n",
    "CrosstabResult1=pd.crosstab(index=df_store1['item_type'],columns=df_store1['day'])\n",
    "CrosstabResult2=pd.crosstab(index=df_store2['item_type'],columns=df_store2['day'])\n",
    "CrosstabResult3=pd.crosstab(index=df_store3['item_type'],columns=df_store3['day'])\n",
    "CrosstabResult4=pd.crosstab(index=df_store4['item_type'],columns=df_store4['day'])\n",
    "CrosstabResult5=pd.crosstab(index=df_store5['item_type'],columns=df_store5['day'])\n",
    "CrosstabResult6=pd.crosstab(index=df_store6['item_type'],columns=df_store6['day'])\n",
    "CrosstabResult7=pd.crosstab(index=df_store7['item_type'],columns=df_store7['day'])\n",
    "CrosstabResult8=pd.crosstab(index=df_store8['item_type'],columns=df_store8['day'])\n",
    "CrosstabResult9=pd.crosstab(index=df_store9['item_type'],columns=df_store9['day'])\n",
    "CrosstabResult10=pd.crosstab(index=df_store10['item_type'],columns=df_store10['day'])\n",
    "\n",
    "# Performing Chi-sq test\n",
    "ChiSqResult1 = chi2_contingency(CrosstabResult1)\n",
    "ChiSqResult2 = chi2_contingency(CrosstabResult2)\n",
    "ChiSqResult3 = chi2_contingency(CrosstabResult3)\n",
    "ChiSqResult4 = chi2_contingency(CrosstabResult4)\n",
    "ChiSqResult5 = chi2_contingency(CrosstabResult5)\n",
    "ChiSqResult6 = chi2_contingency(CrosstabResult6)\n",
    "ChiSqResult7 = chi2_contingency(CrosstabResult7)\n",
    "ChiSqResult8 = chi2_contingency(CrosstabResult8)\n",
    "# ChiSqResult9 = chi2_contingency(CrosstabResult9)\n",
    "ChiSqResult10 = chi2_contingency(CrosstabResult10)\n",
    "\n",
    "# P-Value is the Probability of H0 being True\n",
    "# If P-Value > 0.05 then only we Accept the assumption(H0)\n",
    "\n",
    "print('The P-Value of the ChiSq Test Aldi is:', ChiSqResult1[1])\n",
    "print('The P-Value of the ChiSq Test Colruyt is:', ChiSqResult2[1])\n",
    "print('The P-Value of the ChiSq Test Albert Heijn is:', ChiSqResult3[1])\n",
    "print('The P-Value of the ChiSq Test Delhaize is:', ChiSqResult4[1])\n",
    "print('The P-Value of the ChiSq Test Food Factory is:', ChiSqResult5[1])\n",
    "print('The P-Value of the ChiSq Test Wouters is:', ChiSqResult6[1])\n",
    "print('The P-Value of the ChiSq Test Vanessa is:', ChiSqResult7[1])\n",
    "print('The P-Value of the ChiSq Test Tine is:', ChiSqResult8[1])\n",
    "# print('The P-Value of the ChiSq Test Tom&Co is:', ChiSqResult9[1])\n",
    "print('The P-Value of the ChiSq Test Maxi Zoo is:', ChiSqResult10[1])"
   ]
  }
 ],
 "metadata": {
  "kernelspec": {
   "display_name": "Python 3 (ipykernel)",
   "language": "python",
   "name": "python3"
  },
  "language_info": {
   "codemirror_mode": {
    "name": "ipython",
    "version": 3
   },
   "file_extension": ".py",
   "mimetype": "text/x-python",
   "name": "python",
   "nbconvert_exporter": "python",
   "pygments_lexer": "ipython3",
   "version": "3.9.7"
  }
 },
 "nbformat": 4,
 "nbformat_minor": 5
}

{
 "cells": [
  {
   "cell_type": "markdown",
   "id": "2cce2977",
   "metadata": {},
   "source": [
    "## 3: FIRST ALGORITHM - WHEN WILL THEY SHOP?\n",
    "\n",
    "\n",
    "1. build grid: when do/dont they shop, how many times, on which day...\n",
    "2. define priliminaries for algorithm\n",
    "3. define filters for algorithm\n",
    "4. RUN algorithm \n",
    "\n",
    "\n",
    "----\n",
    "\n",
    "\n",
    "Outcome (example):\n",
    "1. input: Wednesday\n",
    "2. output: TRUE, 1x\n",
    "\n",
    "Outcome pt. 2 (example):\n",
    "1. input: 12:45 (time)\n",
    "2. output: noon, TRUE\n",
    "\n",
    "or\n",
    "\n",
    "1. input: 19:34 (time)\n",
    "2. output: evening, FALSE"
   ]
  },
  {
   "cell_type": "markdown",
   "id": "87a037df",
   "metadata": {},
   "source": [
    "### Import libraries "
   ]
  },
  {
   "cell_type": "code",
   "execution_count": 1,
   "id": "419cb39a",
   "metadata": {},
   "outputs": [],
   "source": [
    "# %matplotlib notebook\n",
    "%matplotlib inline\n",
    "#Pandas is a software library written for the Python programming language for data manipulation and analysis.\n",
    "import pandas as pd\n",
    "#NumPy is a library for the Python programming language, adding support for large, multi-dimensional arrays and matrices, along with a large collection of high-level mathematical functions to operate on these arrays\n",
    "import numpy as np\n",
    "# Matplotlib is a plotting library for python and pyplot gives us a MatLab like plotting framework. We will use this in our plotter function to plot data.\n",
    "import matplotlib.pyplot as plt\n",
    "#Seaborn is a Python data visualization library based on matplotlib. It provides a high-level interface for drawing attractive and informative statistical graphics\n",
    "import seaborn as sns\n",
    "import dataframe_image as dfi\n",
    "from datetime import time\n",
    "import matplotlib.dates as mdates\n",
    "from matplotlib.ticker import StrMethodFormatter\n",
    "from matplotlib.pyplot import figure\n",
    "\n",
    "\n",
    "\n",
    "from sklearn.cluster import KMeans\n",
    "from sklearn.datasets import make_blobs\n",
    "from sklearn.ensemble import RandomForestClassifier\n",
    "from sklearn.linear_model import LinearRegression\n",
    "from sklearn.metrics import mean_absolute_error, mean_squared_error\n",
    "from sklearn.tree import DecisionTreeClassifier, export_graphviz, plot_tree"
   ]
  },
  {
   "cell_type": "code",
   "execution_count": 2,
   "id": "bd644e3a",
   "metadata": {},
   "outputs": [],
   "source": [
    "# importing the required function\n",
    "from scipy.stats import chi2_contingency"
   ]
  },
  {
   "cell_type": "markdown",
   "id": "f10011bb",
   "metadata": {},
   "source": [
    "### Load and view data "
   ]
  },
  {
   "cell_type": "code",
   "execution_count": 33,
   "id": "f90057bd",
   "metadata": {},
   "outputs": [],
   "source": [
    "df = pd.read_csv (r\"C:\\Users\\20204113\\OneDrive - TU Eindhoven\\2_Research\\1_Groceries\\DATA\\9th week - narrative (3rd attempt)\\HH2\\df\\df_HH2.csv\")\n",
    "\n",
    "# del df[\"HH\"]\n",
    "# df.describe(include='all')"
   ]
  },
  {
   "cell_type": "code",
   "execution_count": 4,
   "id": "2750f198",
   "metadata": {
    "collapsed": true
   },
   "outputs": [
    {
     "data": {
      "text/html": [
       "<div>\n",
       "<style scoped>\n",
       "    .dataframe tbody tr th:only-of-type {\n",
       "        vertical-align: middle;\n",
       "    }\n",
       "\n",
       "    .dataframe tbody tr th {\n",
       "        vertical-align: top;\n",
       "    }\n",
       "\n",
       "    .dataframe thead th {\n",
       "        text-align: right;\n",
       "    }\n",
       "</style>\n",
       "<table border=\"1\" class=\"dataframe\">\n",
       "  <thead>\n",
       "    <tr style=\"text-align: right;\">\n",
       "      <th></th>\n",
       "      <th>week</th>\n",
       "      <th>order_ID</th>\n",
       "      <th>amount</th>\n",
       "      <th>price_unit</th>\n",
       "      <th>price_total</th>\n",
       "      <th>promo</th>\n",
       "      <th>reorder</th>\n",
       "      <th>item_id</th>\n",
       "      <th>type_id</th>\n",
       "      <th>order_amount</th>\n",
       "      <th>order_price</th>\n",
       "      <th>day_num</th>\n",
       "      <th>storetype_num</th>\n",
       "      <th>storename_num</th>\n",
       "      <th>cat_num</th>\n",
       "      <th>time_num</th>\n",
       "      <th>timestamp</th>\n",
       "      <th>times_min</th>\n",
       "      <th>dates_days</th>\n",
       "    </tr>\n",
       "  </thead>\n",
       "  <tbody>\n",
       "    <tr>\n",
       "      <th>week</th>\n",
       "      <td>1.000000</td>\n",
       "      <td>0.983845</td>\n",
       "      <td>-0.006292</td>\n",
       "      <td>0.125175</td>\n",
       "      <td>0.115225</td>\n",
       "      <td>0.010478</td>\n",
       "      <td>0.260352</td>\n",
       "      <td>0.868604</td>\n",
       "      <td>0.439799</td>\n",
       "      <td>-0.167393</td>\n",
       "      <td>-0.026339</td>\n",
       "      <td>0.037875</td>\n",
       "      <td>0.060433</td>\n",
       "      <td>-0.127705</td>\n",
       "      <td>0.085194</td>\n",
       "      <td>0.460643</td>\n",
       "      <td>0.985761</td>\n",
       "      <td>-0.402949</td>\n",
       "      <td>0.846191</td>\n",
       "    </tr>\n",
       "    <tr>\n",
       "      <th>order_ID</th>\n",
       "      <td>0.983845</td>\n",
       "      <td>1.000000</td>\n",
       "      <td>0.005611</td>\n",
       "      <td>0.134515</td>\n",
       "      <td>0.129346</td>\n",
       "      <td>0.030952</td>\n",
       "      <td>0.283895</td>\n",
       "      <td>0.883791</td>\n",
       "      <td>0.462646</td>\n",
       "      <td>-0.118124</td>\n",
       "      <td>0.011544</td>\n",
       "      <td>0.048467</td>\n",
       "      <td>0.080177</td>\n",
       "      <td>-0.125979</td>\n",
       "      <td>0.082275</td>\n",
       "      <td>0.410639</td>\n",
       "      <td>0.972776</td>\n",
       "      <td>-0.386738</td>\n",
       "      <td>0.799191</td>\n",
       "    </tr>\n",
       "    <tr>\n",
       "      <th>amount</th>\n",
       "      <td>-0.006292</td>\n",
       "      <td>0.005611</td>\n",
       "      <td>1.000000</td>\n",
       "      <td>-0.209230</td>\n",
       "      <td>0.165403</td>\n",
       "      <td>-0.048528</td>\n",
       "      <td>0.010651</td>\n",
       "      <td>-0.043050</td>\n",
       "      <td>0.024686</td>\n",
       "      <td>-0.012262</td>\n",
       "      <td>-0.062144</td>\n",
       "      <td>0.163514</td>\n",
       "      <td>-0.112660</td>\n",
       "      <td>0.171548</td>\n",
       "      <td>-0.292798</td>\n",
       "      <td>0.044981</td>\n",
       "      <td>-0.022860</td>\n",
       "      <td>-0.049977</td>\n",
       "      <td>-0.071387</td>\n",
       "    </tr>\n",
       "    <tr>\n",
       "      <th>price_unit</th>\n",
       "      <td>0.125175</td>\n",
       "      <td>0.134515</td>\n",
       "      <td>-0.209230</td>\n",
       "      <td>1.000000</td>\n",
       "      <td>0.899533</td>\n",
       "      <td>0.183813</td>\n",
       "      <td>0.053878</td>\n",
       "      <td>0.136462</td>\n",
       "      <td>0.029568</td>\n",
       "      <td>-0.041801</td>\n",
       "      <td>0.030875</td>\n",
       "      <td>0.071248</td>\n",
       "      <td>0.061079</td>\n",
       "      <td>-0.066105</td>\n",
       "      <td>0.139905</td>\n",
       "      <td>0.083835</td>\n",
       "      <td>0.115674</td>\n",
       "      <td>-0.084926</td>\n",
       "      <td>0.083845</td>\n",
       "    </tr>\n",
       "    <tr>\n",
       "      <th>price_total</th>\n",
       "      <td>0.115225</td>\n",
       "      <td>0.129346</td>\n",
       "      <td>0.165403</td>\n",
       "      <td>0.899533</td>\n",
       "      <td>1.000000</td>\n",
       "      <td>0.179947</td>\n",
       "      <td>0.050948</td>\n",
       "      <td>0.110975</td>\n",
       "      <td>0.035410</td>\n",
       "      <td>-0.055200</td>\n",
       "      <td>0.010706</td>\n",
       "      <td>0.133835</td>\n",
       "      <td>0.002398</td>\n",
       "      <td>0.011269</td>\n",
       "      <td>0.009179</td>\n",
       "      <td>0.121559</td>\n",
       "      <td>0.096362</td>\n",
       "      <td>-0.126275</td>\n",
       "      <td>0.046190</td>\n",
       "    </tr>\n",
       "    <tr>\n",
       "      <th>promo</th>\n",
       "      <td>0.010478</td>\n",
       "      <td>0.030952</td>\n",
       "      <td>-0.048528</td>\n",
       "      <td>0.183813</td>\n",
       "      <td>0.179947</td>\n",
       "      <td>1.000000</td>\n",
       "      <td>-0.008377</td>\n",
       "      <td>0.037797</td>\n",
       "      <td>0.087143</td>\n",
       "      <td>-0.080867</td>\n",
       "      <td>-0.017922</td>\n",
       "      <td>0.033664</td>\n",
       "      <td>0.136420</td>\n",
       "      <td>-0.234044</td>\n",
       "      <td>0.099472</td>\n",
       "      <td>0.086898</td>\n",
       "      <td>0.002949</td>\n",
       "      <td>0.040621</td>\n",
       "      <td>-0.033650</td>\n",
       "    </tr>\n",
       "    <tr>\n",
       "      <th>reorder</th>\n",
       "      <td>0.260352</td>\n",
       "      <td>0.283895</td>\n",
       "      <td>0.010651</td>\n",
       "      <td>0.053878</td>\n",
       "      <td>0.050948</td>\n",
       "      <td>-0.008377</td>\n",
       "      <td>1.000000</td>\n",
       "      <td>0.168060</td>\n",
       "      <td>-0.425993</td>\n",
       "      <td>-0.168441</td>\n",
       "      <td>-0.131657</td>\n",
       "      <td>-0.000282</td>\n",
       "      <td>-0.233592</td>\n",
       "      <td>0.131240</td>\n",
       "      <td>-0.025548</td>\n",
       "      <td>0.129118</td>\n",
       "      <td>0.253852</td>\n",
       "      <td>-0.206410</td>\n",
       "      <td>0.186957</td>\n",
       "    </tr>\n",
       "    <tr>\n",
       "      <th>item_id</th>\n",
       "      <td>0.868604</td>\n",
       "      <td>0.883791</td>\n",
       "      <td>-0.043050</td>\n",
       "      <td>0.136462</td>\n",
       "      <td>0.110975</td>\n",
       "      <td>0.037797</td>\n",
       "      <td>0.168060</td>\n",
       "      <td>1.000000</td>\n",
       "      <td>0.513005</td>\n",
       "      <td>-0.019072</td>\n",
       "      <td>0.097113</td>\n",
       "      <td>0.072079</td>\n",
       "      <td>0.204650</td>\n",
       "      <td>-0.209381</td>\n",
       "      <td>0.136839</td>\n",
       "      <td>0.298844</td>\n",
       "      <td>0.863728</td>\n",
       "      <td>-0.297583</td>\n",
       "      <td>0.706667</td>\n",
       "    </tr>\n",
       "    <tr>\n",
       "      <th>type_id</th>\n",
       "      <td>0.439799</td>\n",
       "      <td>0.462646</td>\n",
       "      <td>0.024686</td>\n",
       "      <td>0.029568</td>\n",
       "      <td>0.035410</td>\n",
       "      <td>0.087143</td>\n",
       "      <td>-0.425993</td>\n",
       "      <td>0.513005</td>\n",
       "      <td>1.000000</td>\n",
       "      <td>0.050808</td>\n",
       "      <td>0.100285</td>\n",
       "      <td>0.079263</td>\n",
       "      <td>0.204804</td>\n",
       "      <td>-0.113204</td>\n",
       "      <td>0.052111</td>\n",
       "      <td>0.151548</td>\n",
       "      <td>0.442193</td>\n",
       "      <td>-0.129875</td>\n",
       "      <td>0.352110</td>\n",
       "    </tr>\n",
       "    <tr>\n",
       "      <th>order_amount</th>\n",
       "      <td>-0.167393</td>\n",
       "      <td>-0.118124</td>\n",
       "      <td>-0.012262</td>\n",
       "      <td>-0.041801</td>\n",
       "      <td>-0.055200</td>\n",
       "      <td>-0.080867</td>\n",
       "      <td>-0.168441</td>\n",
       "      <td>-0.019072</td>\n",
       "      <td>0.050808</td>\n",
       "      <td>1.000000</td>\n",
       "      <td>0.920146</td>\n",
       "      <td>-0.116226</td>\n",
       "      <td>0.666429</td>\n",
       "      <td>-0.017109</td>\n",
       "      <td>0.154839</td>\n",
       "      <td>-0.379538</td>\n",
       "      <td>-0.163762</td>\n",
       "      <td>0.248016</td>\n",
       "      <td>-0.213740</td>\n",
       "    </tr>\n",
       "    <tr>\n",
       "      <th>order_price</th>\n",
       "      <td>-0.026339</td>\n",
       "      <td>0.011544</td>\n",
       "      <td>-0.062144</td>\n",
       "      <td>0.030875</td>\n",
       "      <td>0.010706</td>\n",
       "      <td>-0.017922</td>\n",
       "      <td>-0.131657</td>\n",
       "      <td>0.097113</td>\n",
       "      <td>0.100285</td>\n",
       "      <td>0.920146</td>\n",
       "      <td>1.000000</td>\n",
       "      <td>-0.163981</td>\n",
       "      <td>0.685969</td>\n",
       "      <td>-0.128586</td>\n",
       "      <td>0.212201</td>\n",
       "      <td>-0.204887</td>\n",
       "      <td>-0.036339</td>\n",
       "      <td>0.069463</td>\n",
       "      <td>-0.076563</td>\n",
       "    </tr>\n",
       "    <tr>\n",
       "      <th>day_num</th>\n",
       "      <td>0.037875</td>\n",
       "      <td>0.048467</td>\n",
       "      <td>0.163514</td>\n",
       "      <td>0.071248</td>\n",
       "      <td>0.133835</td>\n",
       "      <td>0.033664</td>\n",
       "      <td>-0.000282</td>\n",
       "      <td>0.072079</td>\n",
       "      <td>0.079263</td>\n",
       "      <td>-0.116226</td>\n",
       "      <td>-0.163981</td>\n",
       "      <td>1.000000</td>\n",
       "      <td>-0.069984</td>\n",
       "      <td>0.332089</td>\n",
       "      <td>-0.108269</td>\n",
       "      <td>0.375540</td>\n",
       "      <td>-0.031768</td>\n",
       "      <td>-0.316375</td>\n",
       "      <td>-0.197257</td>\n",
       "    </tr>\n",
       "    <tr>\n",
       "      <th>storetype_num</th>\n",
       "      <td>0.060433</td>\n",
       "      <td>0.080177</td>\n",
       "      <td>-0.112660</td>\n",
       "      <td>0.061079</td>\n",
       "      <td>0.002398</td>\n",
       "      <td>0.136420</td>\n",
       "      <td>-0.233592</td>\n",
       "      <td>0.204650</td>\n",
       "      <td>0.204804</td>\n",
       "      <td>0.666429</td>\n",
       "      <td>0.685969</td>\n",
       "      <td>-0.069984</td>\n",
       "      <td>1.000000</td>\n",
       "      <td>-0.471853</td>\n",
       "      <td>0.335379</td>\n",
       "      <td>-0.229209</td>\n",
       "      <td>0.087094</td>\n",
       "      <td>0.348492</td>\n",
       "      <td>0.062080</td>\n",
       "    </tr>\n",
       "    <tr>\n",
       "      <th>storename_num</th>\n",
       "      <td>-0.127705</td>\n",
       "      <td>-0.125979</td>\n",
       "      <td>0.171548</td>\n",
       "      <td>-0.066105</td>\n",
       "      <td>0.011269</td>\n",
       "      <td>-0.234044</td>\n",
       "      <td>0.131240</td>\n",
       "      <td>-0.209381</td>\n",
       "      <td>-0.113204</td>\n",
       "      <td>-0.017109</td>\n",
       "      <td>-0.128586</td>\n",
       "      <td>0.332089</td>\n",
       "      <td>-0.471853</td>\n",
       "      <td>1.000000</td>\n",
       "      <td>-0.270087</td>\n",
       "      <td>0.159855</td>\n",
       "      <td>-0.165459</td>\n",
       "      <td>-0.390154</td>\n",
       "      <td>-0.182963</td>\n",
       "    </tr>\n",
       "    <tr>\n",
       "      <th>cat_num</th>\n",
       "      <td>0.085194</td>\n",
       "      <td>0.082275</td>\n",
       "      <td>-0.292798</td>\n",
       "      <td>0.139905</td>\n",
       "      <td>0.009179</td>\n",
       "      <td>0.099472</td>\n",
       "      <td>-0.025548</td>\n",
       "      <td>0.136839</td>\n",
       "      <td>0.052111</td>\n",
       "      <td>0.154839</td>\n",
       "      <td>0.212201</td>\n",
       "      <td>-0.108269</td>\n",
       "      <td>0.335379</td>\n",
       "      <td>-0.270087</td>\n",
       "      <td>1.000000</td>\n",
       "      <td>-0.116857</td>\n",
       "      <td>0.098262</td>\n",
       "      <td>0.138297</td>\n",
       "      <td>0.098177</td>\n",
       "    </tr>\n",
       "    <tr>\n",
       "      <th>time_num</th>\n",
       "      <td>0.460643</td>\n",
       "      <td>0.410639</td>\n",
       "      <td>0.044981</td>\n",
       "      <td>0.083835</td>\n",
       "      <td>0.121559</td>\n",
       "      <td>0.086898</td>\n",
       "      <td>0.129118</td>\n",
       "      <td>0.298844</td>\n",
       "      <td>0.151548</td>\n",
       "      <td>-0.379538</td>\n",
       "      <td>-0.204887</td>\n",
       "      <td>0.375540</td>\n",
       "      <td>-0.229209</td>\n",
       "      <td>0.159855</td>\n",
       "      <td>-0.116857</td>\n",
       "      <td>1.000000</td>\n",
       "      <td>0.389622</td>\n",
       "      <td>-0.741985</td>\n",
       "      <td>0.308242</td>\n",
       "    </tr>\n",
       "    <tr>\n",
       "      <th>timestamp</th>\n",
       "      <td>0.985761</td>\n",
       "      <td>0.972776</td>\n",
       "      <td>-0.022860</td>\n",
       "      <td>0.115674</td>\n",
       "      <td>0.096362</td>\n",
       "      <td>0.002949</td>\n",
       "      <td>0.253852</td>\n",
       "      <td>0.863728</td>\n",
       "      <td>0.442193</td>\n",
       "      <td>-0.163762</td>\n",
       "      <td>-0.036339</td>\n",
       "      <td>-0.031768</td>\n",
       "      <td>0.087094</td>\n",
       "      <td>-0.165459</td>\n",
       "      <td>0.098262</td>\n",
       "      <td>0.389622</td>\n",
       "      <td>1.000000</td>\n",
       "      <td>-0.350025</td>\n",
       "      <td>0.910300</td>\n",
       "    </tr>\n",
       "    <tr>\n",
       "      <th>times_min</th>\n",
       "      <td>-0.402949</td>\n",
       "      <td>-0.386738</td>\n",
       "      <td>-0.049977</td>\n",
       "      <td>-0.084926</td>\n",
       "      <td>-0.126275</td>\n",
       "      <td>0.040621</td>\n",
       "      <td>-0.206410</td>\n",
       "      <td>-0.297583</td>\n",
       "      <td>-0.129875</td>\n",
       "      <td>0.248016</td>\n",
       "      <td>0.069463</td>\n",
       "      <td>-0.316375</td>\n",
       "      <td>0.348492</td>\n",
       "      <td>-0.390154</td>\n",
       "      <td>0.138297</td>\n",
       "      <td>-0.741985</td>\n",
       "      <td>-0.350025</td>\n",
       "      <td>1.000000</td>\n",
       "      <td>-0.291386</td>\n",
       "    </tr>\n",
       "    <tr>\n",
       "      <th>dates_days</th>\n",
       "      <td>0.846191</td>\n",
       "      <td>0.799191</td>\n",
       "      <td>-0.071387</td>\n",
       "      <td>0.083845</td>\n",
       "      <td>0.046190</td>\n",
       "      <td>-0.033650</td>\n",
       "      <td>0.186957</td>\n",
       "      <td>0.706667</td>\n",
       "      <td>0.352110</td>\n",
       "      <td>-0.213740</td>\n",
       "      <td>-0.076563</td>\n",
       "      <td>-0.197257</td>\n",
       "      <td>0.062080</td>\n",
       "      <td>-0.182963</td>\n",
       "      <td>0.098177</td>\n",
       "      <td>0.308242</td>\n",
       "      <td>0.910300</td>\n",
       "      <td>-0.291386</td>\n",
       "      <td>1.000000</td>\n",
       "    </tr>\n",
       "  </tbody>\n",
       "</table>\n",
       "</div>"
      ],
      "text/plain": [
       "                   week  order_ID    amount  price_unit  price_total  \\\n",
       "week           1.000000  0.983845 -0.006292    0.125175     0.115225   \n",
       "order_ID       0.983845  1.000000  0.005611    0.134515     0.129346   \n",
       "amount        -0.006292  0.005611  1.000000   -0.209230     0.165403   \n",
       "price_unit     0.125175  0.134515 -0.209230    1.000000     0.899533   \n",
       "price_total    0.115225  0.129346  0.165403    0.899533     1.000000   \n",
       "promo          0.010478  0.030952 -0.048528    0.183813     0.179947   \n",
       "reorder        0.260352  0.283895  0.010651    0.053878     0.050948   \n",
       "item_id        0.868604  0.883791 -0.043050    0.136462     0.110975   \n",
       "type_id        0.439799  0.462646  0.024686    0.029568     0.035410   \n",
       "order_amount  -0.167393 -0.118124 -0.012262   -0.041801    -0.055200   \n",
       "order_price   -0.026339  0.011544 -0.062144    0.030875     0.010706   \n",
       "day_num        0.037875  0.048467  0.163514    0.071248     0.133835   \n",
       "storetype_num  0.060433  0.080177 -0.112660    0.061079     0.002398   \n",
       "storename_num -0.127705 -0.125979  0.171548   -0.066105     0.011269   \n",
       "cat_num        0.085194  0.082275 -0.292798    0.139905     0.009179   \n",
       "time_num       0.460643  0.410639  0.044981    0.083835     0.121559   \n",
       "timestamp      0.985761  0.972776 -0.022860    0.115674     0.096362   \n",
       "times_min     -0.402949 -0.386738 -0.049977   -0.084926    -0.126275   \n",
       "dates_days     0.846191  0.799191 -0.071387    0.083845     0.046190   \n",
       "\n",
       "                  promo   reorder   item_id   type_id  order_amount  \\\n",
       "week           0.010478  0.260352  0.868604  0.439799     -0.167393   \n",
       "order_ID       0.030952  0.283895  0.883791  0.462646     -0.118124   \n",
       "amount        -0.048528  0.010651 -0.043050  0.024686     -0.012262   \n",
       "price_unit     0.183813  0.053878  0.136462  0.029568     -0.041801   \n",
       "price_total    0.179947  0.050948  0.110975  0.035410     -0.055200   \n",
       "promo          1.000000 -0.008377  0.037797  0.087143     -0.080867   \n",
       "reorder       -0.008377  1.000000  0.168060 -0.425993     -0.168441   \n",
       "item_id        0.037797  0.168060  1.000000  0.513005     -0.019072   \n",
       "type_id        0.087143 -0.425993  0.513005  1.000000      0.050808   \n",
       "order_amount  -0.080867 -0.168441 -0.019072  0.050808      1.000000   \n",
       "order_price   -0.017922 -0.131657  0.097113  0.100285      0.920146   \n",
       "day_num        0.033664 -0.000282  0.072079  0.079263     -0.116226   \n",
       "storetype_num  0.136420 -0.233592  0.204650  0.204804      0.666429   \n",
       "storename_num -0.234044  0.131240 -0.209381 -0.113204     -0.017109   \n",
       "cat_num        0.099472 -0.025548  0.136839  0.052111      0.154839   \n",
       "time_num       0.086898  0.129118  0.298844  0.151548     -0.379538   \n",
       "timestamp      0.002949  0.253852  0.863728  0.442193     -0.163762   \n",
       "times_min      0.040621 -0.206410 -0.297583 -0.129875      0.248016   \n",
       "dates_days    -0.033650  0.186957  0.706667  0.352110     -0.213740   \n",
       "\n",
       "               order_price   day_num  storetype_num  storename_num   cat_num  \\\n",
       "week             -0.026339  0.037875       0.060433      -0.127705  0.085194   \n",
       "order_ID          0.011544  0.048467       0.080177      -0.125979  0.082275   \n",
       "amount           -0.062144  0.163514      -0.112660       0.171548 -0.292798   \n",
       "price_unit        0.030875  0.071248       0.061079      -0.066105  0.139905   \n",
       "price_total       0.010706  0.133835       0.002398       0.011269  0.009179   \n",
       "promo            -0.017922  0.033664       0.136420      -0.234044  0.099472   \n",
       "reorder          -0.131657 -0.000282      -0.233592       0.131240 -0.025548   \n",
       "item_id           0.097113  0.072079       0.204650      -0.209381  0.136839   \n",
       "type_id           0.100285  0.079263       0.204804      -0.113204  0.052111   \n",
       "order_amount      0.920146 -0.116226       0.666429      -0.017109  0.154839   \n",
       "order_price       1.000000 -0.163981       0.685969      -0.128586  0.212201   \n",
       "day_num          -0.163981  1.000000      -0.069984       0.332089 -0.108269   \n",
       "storetype_num     0.685969 -0.069984       1.000000      -0.471853  0.335379   \n",
       "storename_num    -0.128586  0.332089      -0.471853       1.000000 -0.270087   \n",
       "cat_num           0.212201 -0.108269       0.335379      -0.270087  1.000000   \n",
       "time_num         -0.204887  0.375540      -0.229209       0.159855 -0.116857   \n",
       "timestamp        -0.036339 -0.031768       0.087094      -0.165459  0.098262   \n",
       "times_min         0.069463 -0.316375       0.348492      -0.390154  0.138297   \n",
       "dates_days       -0.076563 -0.197257       0.062080      -0.182963  0.098177   \n",
       "\n",
       "               time_num  timestamp  times_min  dates_days  \n",
       "week           0.460643   0.985761  -0.402949    0.846191  \n",
       "order_ID       0.410639   0.972776  -0.386738    0.799191  \n",
       "amount         0.044981  -0.022860  -0.049977   -0.071387  \n",
       "price_unit     0.083835   0.115674  -0.084926    0.083845  \n",
       "price_total    0.121559   0.096362  -0.126275    0.046190  \n",
       "promo          0.086898   0.002949   0.040621   -0.033650  \n",
       "reorder        0.129118   0.253852  -0.206410    0.186957  \n",
       "item_id        0.298844   0.863728  -0.297583    0.706667  \n",
       "type_id        0.151548   0.442193  -0.129875    0.352110  \n",
       "order_amount  -0.379538  -0.163762   0.248016   -0.213740  \n",
       "order_price   -0.204887  -0.036339   0.069463   -0.076563  \n",
       "day_num        0.375540  -0.031768  -0.316375   -0.197257  \n",
       "storetype_num -0.229209   0.087094   0.348492    0.062080  \n",
       "storename_num  0.159855  -0.165459  -0.390154   -0.182963  \n",
       "cat_num       -0.116857   0.098262   0.138297    0.098177  \n",
       "time_num       1.000000   0.389622  -0.741985    0.308242  \n",
       "timestamp      0.389622   1.000000  -0.350025    0.910300  \n",
       "times_min     -0.741985  -0.350025   1.000000   -0.291386  \n",
       "dates_days     0.308242   0.910300  -0.291386    1.000000  "
      ]
     },
     "execution_count": 4,
     "metadata": {},
     "output_type": "execute_result"
    }
   ],
   "source": [
    "# use the corr function to display the correlation between all the features\n",
    "data_corr = df.corr()\n",
    "data_corr"
   ]
  },
  {
   "cell_type": "code",
   "execution_count": 88,
   "id": "52e43b89",
   "metadata": {},
   "outputs": [],
   "source": [
    "# df_count = df[['order_ID','store_name', 'day']]\n",
    "# df_count = df_count.drop_duplicates()\n",
    "# df_count = df_count.drop(columns=['order_ID'])\n",
    "# df_count.head()"
   ]
  },
  {
   "cell_type": "markdown",
   "id": "31a64028",
   "metadata": {},
   "source": [
    "# 1. DAY vs TIME (all orders)"
   ]
  },
  {
   "cell_type": "code",
   "execution_count": 34,
   "id": "04b6a807",
   "metadata": {},
   "outputs": [],
   "source": [
    "df_orders = df[['order_ID', 'store_name', 'storename_num', 'store_type', 'storetype_num','day', 'day_num', 'time', 'time_num', 'timestamp', 'times', 'dates', 'times_min', 'dates_days', 'order_amount', 'order_price']]\n",
    "df_orders = df_orders.drop_duplicates()"
   ]
  },
  {
   "cell_type": "code",
   "execution_count": 35,
   "id": "aadd8f0f",
   "metadata": {},
   "outputs": [
    {
     "name": "stdout",
     "output_type": "stream",
     "text": [
      "The P-Value of the ChiSq Test is: 0.1226046357444237\n"
     ]
    }
   ],
   "source": [
    "# Cross tabulation between DAY and TIME\n",
    "CrosstabResult=pd.crosstab(index=df_orders['time'],columns=df_orders['day'])\n",
    "print(CrosstabResult)\n",
    "\n",
    "\n",
    "# Performing Chi-sq test\n",
    "ChiSqResult = chi2_contingency(CrosstabResult)\n",
    "\n",
    "# P-Value is the Probability of H0 being True\n",
    "# If P-Value > 0.05 then only we Accept the assumption(H0)\n",
    "\n",
    "print('The P-Value of the ChiSq Test is:', ChiSqResult[1])"
   ]
  },
  {
   "cell_type": "code",
   "execution_count": 36,
   "id": "ab70bb4c",
   "metadata": {},
   "outputs": [
    {
     "name": "stdout",
     "output_type": "stream",
     "text": [
      "P-Value for Anova is:  0.07923696121350002\n"
     ]
    }
   ],
   "source": [
    "# f_oneway() function takes the group data as input and \n",
    "# returns F-statistic and P-value\n",
    "from scipy.stats import f_oneway\n",
    " \n",
    "# Assumption(H0) is that day and times are NOT correlated\n",
    " \n",
    "# Finds out the Prices data for each FuelType as a list\n",
    "CategoryGroupLists=df_orders.groupby('day')['times_min'].apply(list)\n",
    " \n",
    "# Performing the ANOVA test\n",
    "# We reject the Assumption(H0) only when P-Value < 0.05\n",
    "AnovaResults = f_oneway(*CategoryGroupLists)\n",
    "print('P-Value for Anova is: ', AnovaResults[1])"
   ]
  },
  {
   "cell_type": "code",
   "execution_count": 37,
   "id": "1bca9d32",
   "metadata": {},
   "outputs": [],
   "source": [
    "#Let's try afternoon and evening as one group\n",
    "df_orders['time'] = df_orders['time'].replace(['afternoon', 'evening'], 'afternoon')"
   ]
  },
  {
   "cell_type": "code",
   "execution_count": 39,
   "id": "fa607d10",
   "metadata": {},
   "outputs": [
    {
     "name": "stdout",
     "output_type": "stream",
     "text": [
      "day        Friday  Monday  Saturday  Sunday  Thursday  Tuesday  Wednesday\n",
      "time                                                                     \n",
      "afternoon       1       1         2       0         3        1          0\n",
      "morning         1       2         5       9         1        2          2\n",
      "noon            1       3         0       0         1        2          3\n",
      "The P-Value of the ChiSq Test is: 0.03936988225203821\n"
     ]
    }
   ],
   "source": [
    "# Cross tabulation between DAY and TIME\n",
    "CrosstabResult=pd.crosstab(index=df_orders['time'],columns=df_orders['day'])\n",
    "print(CrosstabResult)\n",
    "\n",
    "# Performing Chi-sq test\n",
    "ChiSqResult = chi2_contingency(CrosstabResult)\n",
    "\n",
    "# P-Value is the Probability of H0 being True\n",
    "# If P-Value > 0.05 then only we Accept the assumption(H0)\n",
    "\n",
    "print('The P-Value of the ChiSq Test is:', ChiSqResult[1])"
   ]
  },
  {
   "cell_type": "markdown",
   "id": "d1dd54c1",
   "metadata": {},
   "source": [
    "-\n",
    "# 2. Where?"
   ]
  },
  {
   "cell_type": "markdown",
   "id": "f4633980",
   "metadata": {},
   "source": [
    "## ALL ORDERS"
   ]
  },
  {
   "cell_type": "markdown",
   "id": "6bff361d",
   "metadata": {},
   "source": [
    "### check correlation per store TYPE"
   ]
  },
  {
   "cell_type": "code",
   "execution_count": 5,
   "id": "9b3af1d6",
   "metadata": {},
   "outputs": [],
   "source": [
    "df_orders = df[['order_ID', 'store_name', 'storename_num', 'store_type', 'storetype_num','day', 'day_num', 'time', 'time_num', 'timestamp', 'times', 'dates', 'times_min', 'dates_days', 'order_amount', 'order_price']]\n",
    "df_orders = df_orders.drop_duplicates()"
   ]
  },
  {
   "cell_type": "code",
   "execution_count": 14,
   "id": "bea9c5ff",
   "metadata": {
    "scrolled": false
   },
   "outputs": [
    {
     "data": {
      "text/html": [
       "<div>\n",
       "<style scoped>\n",
       "    .dataframe tbody tr th:only-of-type {\n",
       "        vertical-align: middle;\n",
       "    }\n",
       "\n",
       "    .dataframe tbody tr th {\n",
       "        vertical-align: top;\n",
       "    }\n",
       "\n",
       "    .dataframe thead th {\n",
       "        text-align: right;\n",
       "    }\n",
       "</style>\n",
       "<table border=\"1\" class=\"dataframe\">\n",
       "  <thead>\n",
       "    <tr style=\"text-align: right;\">\n",
       "      <th>day</th>\n",
       "      <th>Friday</th>\n",
       "      <th>Monday</th>\n",
       "      <th>Saturday</th>\n",
       "      <th>Sunday</th>\n",
       "      <th>Thursday</th>\n",
       "      <th>Tuesday</th>\n",
       "      <th>Wednesday</th>\n",
       "    </tr>\n",
       "    <tr>\n",
       "      <th>store_type</th>\n",
       "      <th></th>\n",
       "      <th></th>\n",
       "      <th></th>\n",
       "      <th></th>\n",
       "      <th></th>\n",
       "      <th></th>\n",
       "      <th></th>\n",
       "    </tr>\n",
       "  </thead>\n",
       "  <tbody>\n",
       "    <tr>\n",
       "      <th>bakery</th>\n",
       "      <td>0</td>\n",
       "      <td>1</td>\n",
       "      <td>3</td>\n",
       "      <td>5</td>\n",
       "      <td>0</td>\n",
       "      <td>2</td>\n",
       "      <td>1</td>\n",
       "    </tr>\n",
       "    <tr>\n",
       "      <th>butcher</th>\n",
       "      <td>0</td>\n",
       "      <td>1</td>\n",
       "      <td>1</td>\n",
       "      <td>1</td>\n",
       "      <td>1</td>\n",
       "      <td>0</td>\n",
       "      <td>0</td>\n",
       "    </tr>\n",
       "    <tr>\n",
       "      <th>drugstore</th>\n",
       "      <td>0</td>\n",
       "      <td>0</td>\n",
       "      <td>0</td>\n",
       "      <td>0</td>\n",
       "      <td>0</td>\n",
       "      <td>1</td>\n",
       "      <td>0</td>\n",
       "    </tr>\n",
       "    <tr>\n",
       "      <th>furniture store</th>\n",
       "      <td>1</td>\n",
       "      <td>0</td>\n",
       "      <td>0</td>\n",
       "      <td>0</td>\n",
       "      <td>0</td>\n",
       "      <td>0</td>\n",
       "      <td>0</td>\n",
       "    </tr>\n",
       "    <tr>\n",
       "      <th>supermarket</th>\n",
       "      <td>2</td>\n",
       "      <td>4</td>\n",
       "      <td>3</td>\n",
       "      <td>3</td>\n",
       "      <td>4</td>\n",
       "      <td>2</td>\n",
       "      <td>4</td>\n",
       "    </tr>\n",
       "  </tbody>\n",
       "</table>\n",
       "</div>"
      ],
      "text/plain": [
       "day              Friday  Monday  Saturday  Sunday  Thursday  Tuesday  \\\n",
       "store_type                                                             \n",
       "bakery                0       1         3       5         0        2   \n",
       "butcher               0       1         1       1         1        0   \n",
       "drugstore             0       0         0       0         0        1   \n",
       "furniture store       1       0         0       0         0        0   \n",
       "supermarket           2       4         3       3         4        2   \n",
       "\n",
       "day              Wednesday  \n",
       "store_type                  \n",
       "bakery                   1  \n",
       "butcher                  0  \n",
       "drugstore                0  \n",
       "furniture store          0  \n",
       "supermarket              4  "
      ]
     },
     "execution_count": 14,
     "metadata": {},
     "output_type": "execute_result"
    }
   ],
   "source": [
    "# Cross tabulation between DAY and STORE TYPE\n",
    "CrosstabResult=pd.crosstab(index=df_orders['store_type'],columns=df_orders['day'])\n",
    "CrosstabResult"
   ]
  },
  {
   "cell_type": "code",
   "execution_count": 15,
   "id": "f448e8e0",
   "metadata": {
    "scrolled": true
   },
   "outputs": [
    {
     "name": "stdout",
     "output_type": "stream",
     "text": [
      "The P-Value of the ChiSq Test is: 0.20212640487695582\n"
     ]
    }
   ],
   "source": [
    "# Performing Chi-sq test\n",
    "ChiSqResult = chi2_contingency(CrosstabResult)\n",
    "\n",
    "# P-Value is the Probability of H0 being True\n",
    "# If P-Value > 0.05 then only we Accept the assumption(H0)\n",
    "\n",
    "print('The P-Value of the ChiSq Test is:', ChiSqResult[1])"
   ]
  },
  {
   "cell_type": "markdown",
   "id": "3104a231",
   "metadata": {},
   "source": [
    "Not significant, let's get more specific:"
   ]
  },
  {
   "cell_type": "markdown",
   "id": "5d739133",
   "metadata": {},
   "source": [
    "### check correlation per store NAME"
   ]
  },
  {
   "cell_type": "code",
   "execution_count": 84,
   "id": "cc4406b5",
   "metadata": {
    "scrolled": false
   },
   "outputs": [
    {
     "data": {
      "text/html": [
       "<div>\n",
       "<style scoped>\n",
       "    .dataframe tbody tr th:only-of-type {\n",
       "        vertical-align: middle;\n",
       "    }\n",
       "\n",
       "    .dataframe tbody tr th {\n",
       "        vertical-align: top;\n",
       "    }\n",
       "\n",
       "    .dataframe thead th {\n",
       "        text-align: right;\n",
       "    }\n",
       "</style>\n",
       "<table border=\"1\" class=\"dataframe\">\n",
       "  <thead>\n",
       "    <tr style=\"text-align: right;\">\n",
       "      <th>day</th>\n",
       "      <th>Friday</th>\n",
       "      <th>Monday</th>\n",
       "      <th>Saturday</th>\n",
       "      <th>Sunday</th>\n",
       "      <th>Thursday</th>\n",
       "      <th>Tuesday</th>\n",
       "      <th>Wednesday</th>\n",
       "    </tr>\n",
       "    <tr>\n",
       "      <th>store_name</th>\n",
       "      <th></th>\n",
       "      <th></th>\n",
       "      <th></th>\n",
       "      <th></th>\n",
       "      <th></th>\n",
       "      <th></th>\n",
       "      <th></th>\n",
       "    </tr>\n",
       "  </thead>\n",
       "  <tbody>\n",
       "    <tr>\n",
       "      <th>Albert Heijn</th>\n",
       "      <td>1</td>\n",
       "      <td>4</td>\n",
       "      <td>0</td>\n",
       "      <td>1</td>\n",
       "      <td>2</td>\n",
       "      <td>0</td>\n",
       "      <td>4</td>\n",
       "    </tr>\n",
       "    <tr>\n",
       "      <th>Brabo</th>\n",
       "      <td>0</td>\n",
       "      <td>0</td>\n",
       "      <td>0</td>\n",
       "      <td>0</td>\n",
       "      <td>1</td>\n",
       "      <td>0</td>\n",
       "      <td>0</td>\n",
       "    </tr>\n",
       "    <tr>\n",
       "      <th>Carrefour</th>\n",
       "      <td>0</td>\n",
       "      <td>0</td>\n",
       "      <td>1</td>\n",
       "      <td>0</td>\n",
       "      <td>0</td>\n",
       "      <td>0</td>\n",
       "      <td>0</td>\n",
       "    </tr>\n",
       "    <tr>\n",
       "      <th>Delhaize</th>\n",
       "      <td>1</td>\n",
       "      <td>0</td>\n",
       "      <td>0</td>\n",
       "      <td>2</td>\n",
       "      <td>0</td>\n",
       "      <td>0</td>\n",
       "      <td>0</td>\n",
       "    </tr>\n",
       "    <tr>\n",
       "      <th>Ikea</th>\n",
       "      <td>1</td>\n",
       "      <td>0</td>\n",
       "      <td>0</td>\n",
       "      <td>0</td>\n",
       "      <td>0</td>\n",
       "      <td>0</td>\n",
       "      <td>0</td>\n",
       "    </tr>\n",
       "    <tr>\n",
       "      <th>Kruidvat</th>\n",
       "      <td>0</td>\n",
       "      <td>0</td>\n",
       "      <td>0</td>\n",
       "      <td>0</td>\n",
       "      <td>0</td>\n",
       "      <td>1</td>\n",
       "      <td>0</td>\n",
       "    </tr>\n",
       "    <tr>\n",
       "      <th>Okay</th>\n",
       "      <td>0</td>\n",
       "      <td>0</td>\n",
       "      <td>2</td>\n",
       "      <td>0</td>\n",
       "      <td>2</td>\n",
       "      <td>2</td>\n",
       "      <td>0</td>\n",
       "    </tr>\n",
       "    <tr>\n",
       "      <th>Sys</th>\n",
       "      <td>0</td>\n",
       "      <td>1</td>\n",
       "      <td>3</td>\n",
       "      <td>5</td>\n",
       "      <td>0</td>\n",
       "      <td>2</td>\n",
       "      <td>1</td>\n",
       "    </tr>\n",
       "    <tr>\n",
       "      <th>Versavel Poelman</th>\n",
       "      <td>0</td>\n",
       "      <td>1</td>\n",
       "      <td>1</td>\n",
       "      <td>1</td>\n",
       "      <td>0</td>\n",
       "      <td>0</td>\n",
       "      <td>0</td>\n",
       "    </tr>\n",
       "  </tbody>\n",
       "</table>\n",
       "</div>"
      ],
      "text/plain": [
       "day               Friday  Monday  Saturday  Sunday  Thursday  Tuesday  \\\n",
       "store_name                                                              \n",
       "Albert Heijn           1       4         0       1         2        0   \n",
       "Brabo                  0       0         0       0         1        0   \n",
       "Carrefour              0       0         1       0         0        0   \n",
       "Delhaize               1       0         0       2         0        0   \n",
       "Ikea                   1       0         0       0         0        0   \n",
       "Kruidvat               0       0         0       0         0        1   \n",
       "Okay                   0       0         2       0         2        2   \n",
       "Sys                    0       1         3       5         0        2   \n",
       "Versavel Poelman       0       1         1       1         0        0   \n",
       "\n",
       "day               Wednesday  \n",
       "store_name                   \n",
       "Albert Heijn              4  \n",
       "Brabo                     0  \n",
       "Carrefour                 0  \n",
       "Delhaize                  0  \n",
       "Ikea                      0  \n",
       "Kruidvat                  0  \n",
       "Okay                      0  \n",
       "Sys                       1  \n",
       "Versavel Poelman          0  "
      ]
     },
     "execution_count": 84,
     "metadata": {},
     "output_type": "execute_result"
    }
   ],
   "source": [
    "# Cross tabulation between DAY and STORE NAME\n",
    "CrosstabResult=pd.crosstab(index=df_orders['store_name'],columns=df_orders['day'])\n",
    "CrosstabResult"
   ]
  },
  {
   "cell_type": "code",
   "execution_count": 85,
   "id": "c9ebd5a7",
   "metadata": {
    "scrolled": false
   },
   "outputs": [
    {
     "name": "stdout",
     "output_type": "stream",
     "text": [
      "The P-Value of the ChiSq Test is: 0.03865973858951397\n"
     ]
    }
   ],
   "source": [
    "# Performing Chi-sq test\n",
    "ChiSqResult = chi2_contingency(CrosstabResult)\n",
    "\n",
    "# P-Value is the Probability of H0 being True\n",
    "# If P-Value > 0.05 then only we Accept the assumption(H0)\n",
    "\n",
    "print('The P-Value of the ChiSq Test is:', ChiSqResult[1])"
   ]
  },
  {
   "cell_type": "markdown",
   "id": "6c35fe86",
   "metadata": {},
   "source": [
    "This p-value is low enough to be a significant correlation!\n",
    "> e.g.: if it's Wednesday, they will probably go shopping at Albert Heijn"
   ]
  },
  {
   "cell_type": "markdown",
   "id": "e2d8cb48",
   "metadata": {},
   "source": [
    "## Visualize stores per day (ALL)"
   ]
  },
  {
   "cell_type": "code",
   "execution_count": 86,
   "id": "c8b8843b",
   "metadata": {},
   "outputs": [],
   "source": [
    "df_nunique = df.groupby(['day', 'store_name'])['order_ID'].nunique()\n",
    "df_nunique = pd.DataFrame (df_nunique)\n",
    "df_nunique = df_nunique.reset_index()\n",
    "df_nunique = df_nunique.loc[~(df_nunique==0).any(axis=1)]"
   ]
  },
  {
   "cell_type": "code",
   "execution_count": 87,
   "id": "b4bb07f8",
   "metadata": {},
   "outputs": [
    {
     "data": {
      "image/png": "[encoded data removed]",
      "text/plain": [
       "<Figure size 560x240 with 1 Axes>"
      ]
     },
     "metadata": {
      "needs_background": "light"
     },
     "output_type": "display_data"
    }
   ],
   "source": [
    "#order x and y axis chronologically\n",
    "order = ['Monday', 'Tuesday', 'Wednesday', 'Thursday', 'Friday', 'Saturday', 'Sunday']\n",
    "df_nunique['day'] = pd.Categorical(df_nunique['day'], order)\n",
    "df_nunique.sort_values(by=['day'], inplace=True)\n",
    "\n",
    "\n",
    "# select the x and y features\n",
    "x = df_nunique['day']# select the x feature\n",
    "y = df_nunique['store_name']# select the y feature\n",
    "\n",
    "# select the feature that decides the colors\n",
    "colors = df_nunique['order_ID'] # select the color column\n",
    "\n",
    "# select the feature that will decide the size of the circle (and divide the value by 1000 for reshaping in the plot)\n",
    "size = df_nunique['order_ID'] # select the column for the size and divide it by 1000 (/ 1000)\n",
    "\n",
    "# fit the points with the scatter function\n",
    "figure(figsize=(7, 3), dpi=80)\n",
    "sns.scatterplot(x=x, y=y, palette=\"pastel\", hue=colors, size=size, sizes=(20,200))\n",
    "plt.legend(bbox_to_anchor=(1.05, 1), loc=2, borderaxespad=0.)\n",
    "\n",
    "#repeat ChiSq value\n",
    "current_corr = round(ChiSqResult[1], 2)\n",
    "\n",
    "# give the graph a title and labels\n",
    "plt.xlabel(\"day\")\n",
    "plt.ylabel('time')\n",
    "plt.title(f\"The correlation between day & store name (r={current_corr})\")\n",
    "\n",
    "# call the graph (show function)\n",
    "plt.grid(False)\n",
    "plt.show()"
   ]
  },
  {
   "cell_type": "markdown",
   "id": "4a084f8e",
   "metadata": {},
   "source": [
    "## SPECIFIED TIME"
   ]
  },
  {
   "cell_type": "markdown",
   "id": "4d56df41",
   "metadata": {},
   "source": [
    "### check correlation per store TYPE"
   ]
  },
  {
   "cell_type": "code",
   "execution_count": 76,
   "id": "acb0d007",
   "metadata": {},
   "outputs": [],
   "source": [
    "df_orders = df[['order_ID', 'store_name', 'storename_num', 'store_type', 'storetype_num','day', 'day_num', 'time', 'time_num', 'timestamp', 'times', 'dates', 'times_min', 'dates_days', 'order_amount', 'order_price']]\n",
    "df_orders = df_orders.drop_duplicates()\n",
    "\n",
    "#Let's try afternoon and evening as one group\n",
    "df_orders['time'] = df_orders['time'].replace(['afternoon', 'evening'], 'afternoon')\n",
    "# df_orders['time'] = df_orders['time'].replace(['noon', 'morning'], 'morning')"
   ]
  },
  {
   "cell_type": "code",
   "execution_count": 78,
   "id": "11737341",
   "metadata": {},
   "outputs": [],
   "source": [
    "# to select only one\n",
    "time1 = 'morning'\n",
    "time2 = 'noon'\n",
    "time3 = 'afternoon'\n",
    "\n",
    "# select only these data for the df\n",
    "df_time1 = df_orders[df_orders['time'] == time1]\n",
    "df_time2 = df_orders[df_orders['time'] == time2]\n",
    "df_time3 = df_orders[df_orders['time'] == time3]"
   ]
  },
  {
   "cell_type": "code",
   "execution_count": 79,
   "id": "50b6f17b",
   "metadata": {
    "scrolled": false
   },
   "outputs": [
    {
     "data": {
      "text/html": [
       "<div>\n",
       "<style scoped>\n",
       "    .dataframe tbody tr th:only-of-type {\n",
       "        vertical-align: middle;\n",
       "    }\n",
       "\n",
       "    .dataframe tbody tr th {\n",
       "        vertical-align: top;\n",
       "    }\n",
       "\n",
       "    .dataframe thead th {\n",
       "        text-align: right;\n",
       "    }\n",
       "</style>\n",
       "<table border=\"1\" class=\"dataframe\">\n",
       "  <thead>\n",
       "    <tr style=\"text-align: right;\">\n",
       "      <th>day</th>\n",
       "      <th>Friday</th>\n",
       "      <th>Monday</th>\n",
       "      <th>Saturday</th>\n",
       "      <th>Thursday</th>\n",
       "      <th>Tuesday</th>\n",
       "    </tr>\n",
       "    <tr>\n",
       "      <th>store_type</th>\n",
       "      <th></th>\n",
       "      <th></th>\n",
       "      <th></th>\n",
       "      <th></th>\n",
       "      <th></th>\n",
       "    </tr>\n",
       "  </thead>\n",
       "  <tbody>\n",
       "    <tr>\n",
       "      <th>butcher</th>\n",
       "      <td>0</td>\n",
       "      <td>0</td>\n",
       "      <td>0</td>\n",
       "      <td>1</td>\n",
       "      <td>0</td>\n",
       "    </tr>\n",
       "    <tr>\n",
       "      <th>drugstore</th>\n",
       "      <td>0</td>\n",
       "      <td>0</td>\n",
       "      <td>0</td>\n",
       "      <td>0</td>\n",
       "      <td>1</td>\n",
       "    </tr>\n",
       "    <tr>\n",
       "      <th>supermarket</th>\n",
       "      <td>1</td>\n",
       "      <td>1</td>\n",
       "      <td>2</td>\n",
       "      <td>2</td>\n",
       "      <td>0</td>\n",
       "    </tr>\n",
       "  </tbody>\n",
       "</table>\n",
       "</div>"
      ],
      "text/plain": [
       "day          Friday  Monday  Saturday  Thursday  Tuesday\n",
       "store_type                                              \n",
       "butcher           0       0         0         1        0\n",
       "drugstore         0       0         0         0        1\n",
       "supermarket       1       1         2         2        0"
      ]
     },
     "execution_count": 79,
     "metadata": {},
     "output_type": "execute_result"
    }
   ],
   "source": [
    "# Cross tabulation between DAY and STORE TYPE\n",
    "CrosstabResult1=pd.crosstab(index=df_time1['store_type'],columns=df_time1['day'])\n",
    "CrosstabResult2=pd.crosstab(index=df_time2['store_type'],columns=df_time2['day'])\n",
    "CrosstabResult3=pd.crosstab(index=df_time3['store_type'],columns=df_time3['day'])\n",
    "CrosstabResult3"
   ]
  },
  {
   "cell_type": "code",
   "execution_count": 80,
   "id": "9b02ca4a",
   "metadata": {
    "scrolled": true
   },
   "outputs": [
    {
     "name": "stdout",
     "output_type": "stream",
     "text": [
      "The P-Value of the ChiSq Test is: 0.059649277097061276\n",
      "The P-Value of the ChiSq Test is: 0.3491858526038865\n",
      "The P-Value of the ChiSq Test is: 0.2809707836080619\n"
     ]
    }
   ],
   "source": [
    "# Performing Chi-sq test\n",
    "ChiSqResult1 = chi2_contingency(CrosstabResult1)\n",
    "ChiSqResult2 = chi2_contingency(CrosstabResult2)\n",
    "ChiSqResult3 = chi2_contingency(CrosstabResult3)\n",
    "\n",
    "# P-Value is the Probability of H0 being True\n",
    "# If P-Value > 0.05 then only we Accept the assumption(H0)\n",
    "\n",
    "print('The P-Value of the ChiSq Test is:', ChiSqResult1[1])\n",
    "print('The P-Value of the ChiSq Test is:', ChiSqResult2[1])\n",
    "print('The P-Value of the ChiSq Test is:', ChiSqResult3[1])"
   ]
  },
  {
   "cell_type": "markdown",
   "id": "d010b007",
   "metadata": {},
   "source": [
    "### check correlation per store NAME"
   ]
  },
  {
   "cell_type": "code",
   "execution_count": 81,
   "id": "28166e8a",
   "metadata": {},
   "outputs": [],
   "source": [
    "# to select only one\n",
    "time1 = 'morning'\n",
    "time2 = 'noon'\n",
    "time3 = 'afternoon'\n",
    "\n",
    "# select only these data for the df\n",
    "df_time1 = df_orders[df_orders['time'] == time1]\n",
    "df_time2 = df_orders[df_orders['time'] == time2]\n",
    "df_time3 = df_orders[df_orders['time'] == time3]"
   ]
  },
  {
   "cell_type": "code",
   "execution_count": 84,
   "id": "af9ba738",
   "metadata": {
    "scrolled": false
   },
   "outputs": [
    {
     "data": {
      "text/html": [
       "<div>\n",
       "<style scoped>\n",
       "    .dataframe tbody tr th:only-of-type {\n",
       "        vertical-align: middle;\n",
       "    }\n",
       "\n",
       "    .dataframe tbody tr th {\n",
       "        vertical-align: top;\n",
       "    }\n",
       "\n",
       "    .dataframe thead th {\n",
       "        text-align: right;\n",
       "    }\n",
       "</style>\n",
       "<table border=\"1\" class=\"dataframe\">\n",
       "  <thead>\n",
       "    <tr style=\"text-align: right;\">\n",
       "      <th>day</th>\n",
       "      <th>Friday</th>\n",
       "      <th>Monday</th>\n",
       "      <th>Saturday</th>\n",
       "      <th>Sunday</th>\n",
       "      <th>Thursday</th>\n",
       "      <th>Tuesday</th>\n",
       "      <th>Wednesday</th>\n",
       "    </tr>\n",
       "    <tr>\n",
       "      <th>store_name</th>\n",
       "      <th></th>\n",
       "      <th></th>\n",
       "      <th></th>\n",
       "      <th></th>\n",
       "      <th></th>\n",
       "      <th></th>\n",
       "      <th></th>\n",
       "    </tr>\n",
       "  </thead>\n",
       "  <tbody>\n",
       "    <tr>\n",
       "      <th>Albert Heijn</th>\n",
       "      <td>0</td>\n",
       "      <td>0</td>\n",
       "      <td>0</td>\n",
       "      <td>1</td>\n",
       "      <td>1</td>\n",
       "      <td>0</td>\n",
       "      <td>1</td>\n",
       "    </tr>\n",
       "    <tr>\n",
       "      <th>Delhaize</th>\n",
       "      <td>0</td>\n",
       "      <td>0</td>\n",
       "      <td>0</td>\n",
       "      <td>2</td>\n",
       "      <td>0</td>\n",
       "      <td>0</td>\n",
       "      <td>0</td>\n",
       "    </tr>\n",
       "    <tr>\n",
       "      <th>Ikea</th>\n",
       "      <td>1</td>\n",
       "      <td>0</td>\n",
       "      <td>0</td>\n",
       "      <td>0</td>\n",
       "      <td>0</td>\n",
       "      <td>0</td>\n",
       "      <td>0</td>\n",
       "    </tr>\n",
       "    <tr>\n",
       "      <th>Okay</th>\n",
       "      <td>0</td>\n",
       "      <td>0</td>\n",
       "      <td>1</td>\n",
       "      <td>0</td>\n",
       "      <td>0</td>\n",
       "      <td>1</td>\n",
       "      <td>0</td>\n",
       "    </tr>\n",
       "    <tr>\n",
       "      <th>Sys</th>\n",
       "      <td>0</td>\n",
       "      <td>1</td>\n",
       "      <td>3</td>\n",
       "      <td>5</td>\n",
       "      <td>0</td>\n",
       "      <td>1</td>\n",
       "      <td>1</td>\n",
       "    </tr>\n",
       "    <tr>\n",
       "      <th>Versavel Poelman</th>\n",
       "      <td>0</td>\n",
       "      <td>1</td>\n",
       "      <td>1</td>\n",
       "      <td>1</td>\n",
       "      <td>0</td>\n",
       "      <td>0</td>\n",
       "      <td>0</td>\n",
       "    </tr>\n",
       "  </tbody>\n",
       "</table>\n",
       "</div>"
      ],
      "text/plain": [
       "day               Friday  Monday  Saturday  Sunday  Thursday  Tuesday  \\\n",
       "store_name                                                              \n",
       "Albert Heijn           0       0         0       1         1        0   \n",
       "Delhaize               0       0         0       2         0        0   \n",
       "Ikea                   1       0         0       0         0        0   \n",
       "Okay                   0       0         1       0         0        1   \n",
       "Sys                    0       1         3       5         0        1   \n",
       "Versavel Poelman       0       1         1       1         0        0   \n",
       "\n",
       "day               Wednesday  \n",
       "store_name                   \n",
       "Albert Heijn              1  \n",
       "Delhaize                  0  \n",
       "Ikea                      0  \n",
       "Okay                      0  \n",
       "Sys                       1  \n",
       "Versavel Poelman          0  "
      ]
     },
     "execution_count": 84,
     "metadata": {},
     "output_type": "execute_result"
    }
   ],
   "source": [
    "# Cross tabulation between DAY and STORE TYPE\n",
    "CrosstabResult1=pd.crosstab(index=df_time1['store_name'],columns=df_time1['day'])\n",
    "CrosstabResult2=pd.crosstab(index=df_time2['store_name'],columns=df_time2['day'])\n",
    "CrosstabResult3=pd.crosstab(index=df_time3['store_name'],columns=df_time3['day'])\n",
    "CrosstabResult1"
   ]
  },
  {
   "cell_type": "code",
   "execution_count": 85,
   "id": "37726bbd",
   "metadata": {
    "scrolled": true
   },
   "outputs": [
    {
     "name": "stdout",
     "output_type": "stream",
     "text": [
      "The P-Value of the ChiSq Test is: 0.0647121144829477\n",
      "The P-Value of the ChiSq Test is: 0.26502591529736164\n",
      "The P-Value of the ChiSq Test is: 0.12034480882747386\n"
     ]
    }
   ],
   "source": [
    "# Performing Chi-sq test\n",
    "ChiSqResult1 = chi2_contingency(CrosstabResult1)\n",
    "ChiSqResult2 = chi2_contingency(CrosstabResult2)\n",
    "ChiSqResult3 = chi2_contingency(CrosstabResult3)\n",
    "\n",
    "# P-Value is the Probability of H0 being True\n",
    "# If P-Value > 0.05 then only we Accept the assumption(H0)\n",
    "\n",
    "print('The P-Value of the ChiSq Test is:', ChiSqResult1[1])\n",
    "print('The P-Value of the ChiSq Test is:', ChiSqResult2[1])\n",
    "print('The P-Value of the ChiSq Test is:', ChiSqResult3[1])"
   ]
  },
  {
   "cell_type": "code",
   "execution_count": null,
   "id": "f7aaf1ef",
   "metadata": {},
   "outputs": [],
   "source": []
  },
  {
   "cell_type": "code",
   "execution_count": null,
   "id": "7bbbf9c2",
   "metadata": {},
   "outputs": [],
   "source": []
  },
  {
   "cell_type": "code",
   "execution_count": null,
   "id": "d5e8b32a",
   "metadata": {},
   "outputs": [],
   "source": []
  },
  {
   "cell_type": "markdown",
   "id": "e15f9128",
   "metadata": {},
   "source": [
    "We now have our first two givens:\n",
    "> 1. It is <b>day X</b>\n",
    "2. The HH will shop at <b>store name X</b>"
   ]
  },
  {
   "cell_type": "markdown",
   "id": "0cc07b0e",
   "metadata": {},
   "source": [
    "-\n",
    "\n",
    "# 3. At what time?"
   ]
  },
  {
   "cell_type": "markdown",
   "id": "97ed79b4",
   "metadata": {},
   "source": [
    "### 3.1  DAY VS TIME"
   ]
  },
  {
   "cell_type": "code",
   "execution_count": 16,
   "id": "e59b7d76",
   "metadata": {},
   "outputs": [],
   "source": [
    "df = pd.read_csv (r\"C:\\Users\\20204113\\OneDrive - TU Eindhoven\\2_Research\\1_Groceries\\DATA\\9th week - narrative (3rd attempt)\\HH2\\df\\df_HH2.csv\")\n",
    "\n",
    "df_orders = df[['order_ID', 'store_name', 'storename_num', 'store_type', 'storetype_num','day', 'day_num', 'time', 'time_num', 'timestamp', 'times', 'dates', 'times_min', 'dates_days', 'order_amount', 'order_price']]\n",
    "df_orders = df_orders.drop_duplicates()"
   ]
  },
  {
   "cell_type": "markdown",
   "id": "d31c13a6",
   "metadata": {},
   "source": [
    "#### Now that we know which store, we select the correct store"
   ]
  },
  {
   "cell_type": "code",
   "execution_count": 17,
   "id": "a6e66c24",
   "metadata": {},
   "outputs": [],
   "source": [
    "# to select only one\n",
    "store1 = 'Albert Heijn'\n",
    "store2 = 'Sys'\n",
    "store3 = 'Okay'\n",
    "store4 = 'Delhaize'\n",
    "store5 = 'Versavel Poelman'\n",
    "store6 = 'Kruidvat'\n",
    "store7 = 'Brabo'\n",
    "store8 = 'Ikea'\n",
    "store9 = 'Carrefour'\n",
    "\n",
    "# select only these data for the df\n",
    "df_store1 = df_orders[df_orders['store_name'] == store1]\n",
    "df_store2 = df_orders[df_orders['store_name'] == store2]\n",
    "df_store3 = df_orders[df_orders['store_name'] == store3]\n",
    "df_store4 = df_orders[df_orders['store_name'] == store4]\n",
    "df_store5 = df_orders[df_orders['store_name'] == store5]\n",
    "df_store6 = df_orders[df_orders['store_name'] == store6]\n",
    "df_store7 = df_orders[df_orders['store_name'] == store7]\n",
    "df_store8 = df_orders[df_orders['store_name'] == store8]\n",
    "df_store9 = df_orders[df_orders['store_name'] == store9]"
   ]
  },
  {
   "cell_type": "code",
   "execution_count": 18,
   "id": "ffcab5f0",
   "metadata": {},
   "outputs": [
    {
     "data": {
      "text/html": [
       "<div>\n",
       "<style scoped>\n",
       "    .dataframe tbody tr th:only-of-type {\n",
       "        vertical-align: middle;\n",
       "    }\n",
       "\n",
       "    .dataframe tbody tr th {\n",
       "        vertical-align: top;\n",
       "    }\n",
       "\n",
       "    .dataframe thead th {\n",
       "        text-align: right;\n",
       "    }\n",
       "</style>\n",
       "<table border=\"1\" class=\"dataframe\">\n",
       "  <thead>\n",
       "    <tr style=\"text-align: right;\">\n",
       "      <th>day</th>\n",
       "      <th>Saturday</th>\n",
       "      <th>Thursday</th>\n",
       "      <th>Tuesday</th>\n",
       "    </tr>\n",
       "    <tr>\n",
       "      <th>time</th>\n",
       "      <th></th>\n",
       "      <th></th>\n",
       "      <th></th>\n",
       "    </tr>\n",
       "  </thead>\n",
       "  <tbody>\n",
       "    <tr>\n",
       "      <th>afternoon</th>\n",
       "      <td>1</td>\n",
       "      <td>1</td>\n",
       "      <td>0</td>\n",
       "    </tr>\n",
       "    <tr>\n",
       "      <th>evening</th>\n",
       "      <td>0</td>\n",
       "      <td>1</td>\n",
       "      <td>0</td>\n",
       "    </tr>\n",
       "    <tr>\n",
       "      <th>morning</th>\n",
       "      <td>1</td>\n",
       "      <td>0</td>\n",
       "      <td>1</td>\n",
       "    </tr>\n",
       "    <tr>\n",
       "      <th>noon</th>\n",
       "      <td>0</td>\n",
       "      <td>0</td>\n",
       "      <td>1</td>\n",
       "    </tr>\n",
       "  </tbody>\n",
       "</table>\n",
       "</div>"
      ],
      "text/plain": [
       "day        Saturday  Thursday  Tuesday\n",
       "time                                  \n",
       "afternoon         1         1        0\n",
       "evening           0         1        0\n",
       "morning           1         0        1\n",
       "noon              0         0        1"
      ]
     },
     "execution_count": 18,
     "metadata": {},
     "output_type": "execute_result"
    }
   ],
   "source": [
    "# Cross tabulation between DAY and TIME\n",
    "CrosstabResult1=pd.crosstab(index=df_store1['time'],columns=df_store1['day'])\n",
    "CrosstabResult2=pd.crosstab(index=df_store2['time'],columns=df_store2['day'])\n",
    "CrosstabResult3=pd.crosstab(index=df_store3['time'],columns=df_store3['day'])\n",
    "CrosstabResult4=pd.crosstab(index=df_store4['time'],columns=df_store4['day'])\n",
    "CrosstabResult5=pd.crosstab(index=df_store5['time'],columns=df_store5['day'])\n",
    "CrosstabResult6=pd.crosstab(index=df_store6['time'],columns=df_store6['day'])\n",
    "CrosstabResult7=pd.crosstab(index=df_store7['time'],columns=df_store7['day'])\n",
    "CrosstabResult8=pd.crosstab(index=df_store8['time'],columns=df_store8['day'])\n",
    "CrosstabResult9=pd.crosstab(index=df_store9['time'],columns=df_store9['day'])\n",
    "CrosstabResult3"
   ]
  },
  {
   "cell_type": "code",
   "execution_count": 19,
   "id": "bbc058b7",
   "metadata": {
    "scrolled": false
   },
   "outputs": [
    {
     "name": "stdout",
     "output_type": "stream",
     "text": [
      "The P-Value of the ChiSq Test 1 is: 0.536632667900785\n",
      "The P-Value of the ChiSq Test 2 is: 0.2437539574931151\n",
      "The P-Value of the ChiSq Test 3 is: 0.4231900811268435\n",
      "The P-Value of the ChiSq Test 4 is: 0.6650055421020291\n",
      "The P-Value of the ChiSq Test 5 is: 1.0\n",
      "The P-Value of the ChiSq Test 6 is: 1.0\n",
      "The P-Value of the ChiSq Test 7 is: 1.0\n",
      "The P-Value of the ChiSq Test 8 is: 1.0\n",
      "The P-Value of the ChiSq Test 9 is: 1.0\n"
     ]
    }
   ],
   "source": [
    "# Performing Chi-sq test\n",
    "ChiSqResult1 = chi2_contingency(CrosstabResult1)\n",
    "ChiSqResult2 = chi2_contingency(CrosstabResult2)\n",
    "ChiSqResult3 = chi2_contingency(CrosstabResult3)\n",
    "ChiSqResult4 = chi2_contingency(CrosstabResult4)\n",
    "ChiSqResult5 = chi2_contingency(CrosstabResult5)\n",
    "ChiSqResult6 = chi2_contingency(CrosstabResult6)\n",
    "ChiSqResult7 = chi2_contingency(CrosstabResult7)\n",
    "ChiSqResult8 = chi2_contingency(CrosstabResult8)\n",
    "ChiSqResult9 = chi2_contingency(CrosstabResult9)\n",
    "\n",
    "# P-Value is the Probability of H0 being True\n",
    "# If P-Value > 0.05 then only we Accept the assumption(H0)\n",
    "\n",
    "print('The P-Value of the ChiSq Test 1 is:', ChiSqResult1[1])\n",
    "print('The P-Value of the ChiSq Test 2 is:', ChiSqResult2[1])\n",
    "print('The P-Value of the ChiSq Test 3 is:', ChiSqResult3[1])\n",
    "print('The P-Value of the ChiSq Test 4 is:', ChiSqResult4[1])\n",
    "print('The P-Value of the ChiSq Test 5 is:', ChiSqResult5[1])\n",
    "print('The P-Value of the ChiSq Test 6 is:', ChiSqResult6[1])\n",
    "print('The P-Value of the ChiSq Test 7 is:', ChiSqResult7[1])\n",
    "print('The P-Value of the ChiSq Test 8 is:', ChiSqResult8[1])\n",
    "print('The P-Value of the ChiSq Test 9 is:', ChiSqResult9[1])"
   ]
  },
  {
   "cell_type": "markdown",
   "id": "a75a4bca",
   "metadata": {},
   "source": [
    "#### Let's try store type"
   ]
  },
  {
   "cell_type": "code",
   "execution_count": 93,
   "id": "d93ffe84",
   "metadata": {},
   "outputs": [],
   "source": [
    "# to select only one\n",
    "storet1 = 'supermarket'\n",
    "storet2 = 'butcher'\n",
    "storet3 = 'bakery'\n",
    "storet4 = 'drugstore'\n",
    "storet5 = 'furniture store'\n",
    "\n",
    "# select only these data for the df\n",
    "df_storet1 = df_orders[df_orders['store_type'] == storet1]\n",
    "df_storet2 = df_orders[df_orders['store_type'] == storet2]\n",
    "df_storet3 = df_orders[df_orders['store_type'] == storet3]\n",
    "df_storet4 = df_orders[df_orders['store_type'] == storet4]\n",
    "df_storet5 = df_orders[df_orders['store_type'] == storet5]"
   ]
  },
  {
   "cell_type": "code",
   "execution_count": 94,
   "id": "bfbba144",
   "metadata": {},
   "outputs": [
    {
     "data": {
      "text/html": [
       "<div>\n",
       "<style scoped>\n",
       "    .dataframe tbody tr th:only-of-type {\n",
       "        vertical-align: middle;\n",
       "    }\n",
       "\n",
       "    .dataframe tbody tr th {\n",
       "        vertical-align: top;\n",
       "    }\n",
       "\n",
       "    .dataframe thead th {\n",
       "        text-align: right;\n",
       "    }\n",
       "</style>\n",
       "<table border=\"1\" class=\"dataframe\">\n",
       "  <thead>\n",
       "    <tr style=\"text-align: right;\">\n",
       "      <th>day</th>\n",
       "      <th>Friday</th>\n",
       "      <th>Monday</th>\n",
       "      <th>Saturday</th>\n",
       "      <th>Sunday</th>\n",
       "      <th>Thursday</th>\n",
       "      <th>Tuesday</th>\n",
       "      <th>Wednesday</th>\n",
       "    </tr>\n",
       "    <tr>\n",
       "      <th>time</th>\n",
       "      <th></th>\n",
       "      <th></th>\n",
       "      <th></th>\n",
       "      <th></th>\n",
       "      <th></th>\n",
       "      <th></th>\n",
       "      <th></th>\n",
       "    </tr>\n",
       "  </thead>\n",
       "  <tbody>\n",
       "    <tr>\n",
       "      <th>afternoon</th>\n",
       "      <td>1</td>\n",
       "      <td>0</td>\n",
       "      <td>1</td>\n",
       "      <td>0</td>\n",
       "      <td>1</td>\n",
       "      <td>0</td>\n",
       "      <td>0</td>\n",
       "    </tr>\n",
       "    <tr>\n",
       "      <th>evening</th>\n",
       "      <td>0</td>\n",
       "      <td>1</td>\n",
       "      <td>1</td>\n",
       "      <td>0</td>\n",
       "      <td>1</td>\n",
       "      <td>0</td>\n",
       "      <td>0</td>\n",
       "    </tr>\n",
       "    <tr>\n",
       "      <th>morning</th>\n",
       "      <td>0</td>\n",
       "      <td>0</td>\n",
       "      <td>1</td>\n",
       "      <td>3</td>\n",
       "      <td>1</td>\n",
       "      <td>1</td>\n",
       "      <td>1</td>\n",
       "    </tr>\n",
       "    <tr>\n",
       "      <th>noon</th>\n",
       "      <td>1</td>\n",
       "      <td>3</td>\n",
       "      <td>0</td>\n",
       "      <td>0</td>\n",
       "      <td>1</td>\n",
       "      <td>1</td>\n",
       "      <td>3</td>\n",
       "    </tr>\n",
       "  </tbody>\n",
       "</table>\n",
       "</div>"
      ],
      "text/plain": [
       "day        Friday  Monday  Saturday  Sunday  Thursday  Tuesday  Wednesday\n",
       "time                                                                     \n",
       "afternoon       1       0         1       0         1        0          0\n",
       "evening         0       1         1       0         1        0          0\n",
       "morning         0       0         1       3         1        1          1\n",
       "noon            1       3         0       0         1        1          3"
      ]
     },
     "execution_count": 94,
     "metadata": {},
     "output_type": "execute_result"
    }
   ],
   "source": [
    "# Cross tabulation between DAY and TIME\n",
    "CrosstabResult1=pd.crosstab(index=df_storet1['time'],columns=df_storet1['day'])\n",
    "CrosstabResult2=pd.crosstab(index=df_storet2['time'],columns=df_storet2['day'])\n",
    "CrosstabResult3=pd.crosstab(index=df_storet3['time'],columns=df_storet3['day'])\n",
    "CrosstabResult4=pd.crosstab(index=df_storet4['time'],columns=df_storet4['day'])\n",
    "CrosstabResult5=pd.crosstab(index=df_storet5['time'],columns=df_storet5['day'])\n",
    "CrosstabResult1"
   ]
  },
  {
   "cell_type": "code",
   "execution_count": 95,
   "id": "a6c0c539",
   "metadata": {
    "scrolled": false
   },
   "outputs": [
    {
     "name": "stdout",
     "output_type": "stream",
     "text": [
      "The P-Value of the ChiSq Test 1 is: 0.3482146508127832\n",
      "The P-Value of the ChiSq Test 2 is: 0.26146412994911117\n",
      "The P-Value of the ChiSq Test 3 is: 0.2437539574931151\n",
      "The P-Value of the ChiSq Test 4 is: 1.0\n",
      "The P-Value of the ChiSq Test 5 is: 1.0\n"
     ]
    }
   ],
   "source": [
    "# Performing Chi-sq test\n",
    "ChiSqResult1 = chi2_contingency(CrosstabResult1)\n",
    "ChiSqResult2 = chi2_contingency(CrosstabResult2)\n",
    "ChiSqResult3 = chi2_contingency(CrosstabResult3)\n",
    "ChiSqResult4 = chi2_contingency(CrosstabResult4)\n",
    "ChiSqResult5 = chi2_contingency(CrosstabResult5)\n",
    "\n",
    "\n",
    "# P-Value is the Probability of H0 being True\n",
    "# If P-Value > 0.05 then only we Accept the assumption(H0)\n",
    "\n",
    "print('The P-Value of the ChiSq Test 1 is:', ChiSqResult1[1])\n",
    "print('The P-Value of the ChiSq Test 2 is:', ChiSqResult2[1])\n",
    "print('The P-Value of the ChiSq Test 3 is:', ChiSqResult3[1])\n",
    "print('The P-Value of the ChiSq Test 4 is:', ChiSqResult4[1])\n",
    "print('The P-Value of the ChiSq Test 5 is:', ChiSqResult5[1])"
   ]
  },
  {
   "cell_type": "markdown",
   "id": "20ae0efa",
   "metadata": {},
   "source": [
    "##### ChiSQ for day vs time is not significant!  ---> let's check day(ofweek) vs individual time"
   ]
  },
  {
   "cell_type": "code",
   "execution_count": 96,
   "id": "5df4ad7d",
   "metadata": {},
   "outputs": [
    {
     "data": {
      "text/plain": [
       "<AxesSubplot:xlabel='times_min', ylabel='day'>"
      ]
     },
     "execution_count": 96,
     "metadata": {},
     "output_type": "execute_result"
    },
    {
     "data": {
      "image/png": "[encoded data removed]",
      "text/plain": [
       "<Figure size 1200x160 with 1 Axes>"
      ]
     },
     "metadata": {
      "needs_background": "light"
     },
     "output_type": "display_data"
    }
   ],
   "source": [
    "figure(figsize=(15, 2), dpi=80)\n",
    "plt.xticks(rotation=45, ha='right')\n",
    "\n",
    "sns.scatterplot(data=df_store1, x='times_min', y='day')"
   ]
  },
  {
   "cell_type": "code",
   "execution_count": 97,
   "id": "2008fbff",
   "metadata": {},
   "outputs": [
    {
     "name": "stdout",
     "output_type": "stream",
     "text": [
      "P-Value for Anova is:  0.6112087994431359\n"
     ]
    }
   ],
   "source": [
    "# f_oneway() function takes the group data as input and \n",
    "# returns F-statistic and P-value\n",
    "from scipy.stats import f_oneway\n",
    " \n",
    "# Assumption(H0) is that day and times are NOT correlated\n",
    " \n",
    "# Finds out the Prices data for each FuelType as a list\n",
    "CategoryGroupLists=df_store1.groupby('day')['times_min'].apply(list)\n",
    " \n",
    "# Performing the ANOVA test\n",
    "# We reject the Assumption(H0) only when P-Value < 0.05\n",
    "AnovaResults = f_oneway(*CategoryGroupLists)\n",
    "print('P-Value for Anova is: ', AnovaResults[1])"
   ]
  },
  {
   "cell_type": "markdown",
   "id": "26532931",
   "metadata": {},
   "source": [
    "#### Perhaps we should aggregate two time groups"
   ]
  },
  {
   "cell_type": "code",
   "execution_count": 132,
   "id": "ee84fe32",
   "metadata": {},
   "outputs": [],
   "source": [
    "#Let's try afternoon and evening as one group\n",
    "df_orders['time'] = df_orders['time'].replace(['afternoon', 'evening'], 'afternoon')\n",
    "\n",
    "df_storet1 = df_orders[df_orders['store_type'] == storet1]\n",
    "df_store1 = df_orders[df_orders['store_name'] == store1]"
   ]
  },
  {
   "cell_type": "code",
   "execution_count": 133,
   "id": "c9375a08",
   "metadata": {},
   "outputs": [
    {
     "data": {
      "text/html": [
       "<div>\n",
       "<style scoped>\n",
       "    .dataframe tbody tr th:only-of-type {\n",
       "        vertical-align: middle;\n",
       "    }\n",
       "\n",
       "    .dataframe tbody tr th {\n",
       "        vertical-align: top;\n",
       "    }\n",
       "\n",
       "    .dataframe thead th {\n",
       "        text-align: right;\n",
       "    }\n",
       "</style>\n",
       "<table border=\"1\" class=\"dataframe\">\n",
       "  <thead>\n",
       "    <tr style=\"text-align: right;\">\n",
       "      <th>day</th>\n",
       "      <th>weekday</th>\n",
       "      <th>weekend</th>\n",
       "    </tr>\n",
       "    <tr>\n",
       "      <th>time</th>\n",
       "      <th></th>\n",
       "      <th></th>\n",
       "    </tr>\n",
       "  </thead>\n",
       "  <tbody>\n",
       "    <tr>\n",
       "      <th>afternoon</th>\n",
       "      <td>4</td>\n",
       "      <td>2</td>\n",
       "    </tr>\n",
       "    <tr>\n",
       "      <th>morning</th>\n",
       "      <td>3</td>\n",
       "      <td>4</td>\n",
       "    </tr>\n",
       "    <tr>\n",
       "      <th>noon</th>\n",
       "      <td>9</td>\n",
       "      <td>0</td>\n",
       "    </tr>\n",
       "  </tbody>\n",
       "</table>\n",
       "</div>"
      ],
      "text/plain": [
       "day        weekday  weekend\n",
       "time                       \n",
       "afternoon        4        2\n",
       "morning          3        4\n",
       "noon             9        0"
      ]
     },
     "execution_count": 133,
     "metadata": {},
     "output_type": "execute_result"
    }
   ],
   "source": [
    "# Cross tabulation between DAY and TIME\n",
    "CrosstabResult=pd.crosstab(index=df_storet1['time'],columns=df_storet1['day'])\n",
    "CrosstabResult"
   ]
  },
  {
   "cell_type": "code",
   "execution_count": 134,
   "id": "793ee1d2",
   "metadata": {},
   "outputs": [
    {
     "name": "stdout",
     "output_type": "stream",
     "text": [
      "The P-Value of the ChiSq Test is: 0.03624476516103243\n"
     ]
    }
   ],
   "source": [
    "# Performing Chi-sq test\n",
    "ChiSqResult = chi2_contingency(CrosstabResult)\n",
    "\n",
    "# P-Value is the Probability of H0 being True\n",
    "# If P-Value > 0.05 then only we Accept the assumption(H0)\n",
    "\n",
    "print('The P-Value of the ChiSq Test is:', ChiSqResult[1])"
   ]
  },
  {
   "cell_type": "markdown",
   "id": "52580c06",
   "metadata": {},
   "source": [
    "This p-value is low enough! e.g.: If they go on wednesday, most probably at noon (FOR ALL STORE TYPES)"
   ]
  },
  {
   "cell_type": "markdown",
   "id": "ed884142",
   "metadata": {},
   "source": [
    "Not a significant correlation between time and day <b>for store type or store name</b>!\n",
    "50/50 which time they may go at "
   ]
  },
  {
   "cell_type": "markdown",
   "id": "7a5fd2a8",
   "metadata": {},
   "source": [
    "#### Perhaps we should aggregate days - week vs weekend"
   ]
  },
  {
   "cell_type": "code",
   "execution_count": 119,
   "id": "3ddf5584",
   "metadata": {},
   "outputs": [],
   "source": [
    "df = pd.read_csv (r\"C:\\Users\\20204113\\OneDrive - TU Eindhoven\\2_Research\\1_Groceries\\DATA\\9th week - narrative (3rd attempt)\\HH2\\df\\df_HH2.csv\")\n",
    "\n",
    "df_orders = df[['order_ID', 'store_name', 'storename_num', 'store_type', 'storetype_num','day', 'day_num', 'time', 'time_num', 'timestamp', 'times', 'dates', 'times_min', 'dates_days', 'order_amount', 'order_price']]\n",
    "df_orders = df_orders.drop_duplicates()"
   ]
  },
  {
   "cell_type": "code",
   "execution_count": 120,
   "id": "6f638ff8",
   "metadata": {},
   "outputs": [],
   "source": [
    "#Let's try afternoon and evening as one group\n",
    "df_orders['day'] = df_orders['day'].replace(['Monday', 'Tuesday', 'Wednesday', 'Thursday', 'Friday'], 'weekday')\n",
    "df_orders['day'] = df_orders['day'].replace(['Saturday', 'Sunday'], 'weekend')"
   ]
  },
  {
   "cell_type": "code",
   "execution_count": 128,
   "id": "2e00fe42",
   "metadata": {},
   "outputs": [],
   "source": [
    "df_storet1 = df_orders[df_orders['store_type'] == storet1]\n",
    "df_store1 = df_orders[df_orders['store_name'] == store1]\n",
    "df_store3 = df_orders[df_orders['store_name'] == store3]"
   ]
  },
  {
   "cell_type": "code",
   "execution_count": 129,
   "id": "0eab58e2",
   "metadata": {},
   "outputs": [
    {
     "data": {
      "text/html": [
       "<div>\n",
       "<style scoped>\n",
       "    .dataframe tbody tr th:only-of-type {\n",
       "        vertical-align: middle;\n",
       "    }\n",
       "\n",
       "    .dataframe tbody tr th {\n",
       "        vertical-align: top;\n",
       "    }\n",
       "\n",
       "    .dataframe thead th {\n",
       "        text-align: right;\n",
       "    }\n",
       "</style>\n",
       "<table border=\"1\" class=\"dataframe\">\n",
       "  <thead>\n",
       "    <tr style=\"text-align: right;\">\n",
       "      <th>day</th>\n",
       "      <th>weekday</th>\n",
       "      <th>weekend</th>\n",
       "    </tr>\n",
       "    <tr>\n",
       "      <th>time</th>\n",
       "      <th></th>\n",
       "      <th></th>\n",
       "    </tr>\n",
       "  </thead>\n",
       "  <tbody>\n",
       "    <tr>\n",
       "      <th>afternoon</th>\n",
       "      <td>1</td>\n",
       "      <td>1</td>\n",
       "    </tr>\n",
       "    <tr>\n",
       "      <th>evening</th>\n",
       "      <td>1</td>\n",
       "      <td>0</td>\n",
       "    </tr>\n",
       "    <tr>\n",
       "      <th>morning</th>\n",
       "      <td>1</td>\n",
       "      <td>1</td>\n",
       "    </tr>\n",
       "    <tr>\n",
       "      <th>noon</th>\n",
       "      <td>1</td>\n",
       "      <td>0</td>\n",
       "    </tr>\n",
       "  </tbody>\n",
       "</table>\n",
       "</div>"
      ],
      "text/plain": [
       "day        weekday  weekend\n",
       "time                       \n",
       "afternoon        1        1\n",
       "evening          1        0\n",
       "morning          1        1\n",
       "noon             1        0"
      ]
     },
     "execution_count": 129,
     "metadata": {},
     "output_type": "execute_result"
    }
   ],
   "source": [
    "# Cross tabulation between DAY and TIME\n",
    "CrosstabResult=pd.crosstab(index=df_store3['time'],columns=df_store3['day'])\n",
    "CrosstabResult"
   ]
  },
  {
   "cell_type": "code",
   "execution_count": 130,
   "id": "6dbcd80a",
   "metadata": {},
   "outputs": [
    {
     "name": "stdout",
     "output_type": "stream",
     "text": [
      "The P-Value of the ChiSq Test is: 0.6822703303362125\n"
     ]
    }
   ],
   "source": [
    "# Performing Chi-sq test\n",
    "ChiSqResult = chi2_contingency(CrosstabResult)\n",
    "\n",
    "# P-Value is the Probability of H0 being True\n",
    "# If P-Value > 0.05 then only we Accept the assumption(H0)\n",
    "\n",
    "print('The P-Value of the ChiSq Test is:', ChiSqResult[1])"
   ]
  },
  {
   "cell_type": "markdown",
   "id": "8e2991c4",
   "metadata": {},
   "source": [
    "Also no, though the correlation for supermarket for time vs day is higher (p=0,08), not yet significant"
   ]
  },
  {
   "cell_type": "markdown",
   "id": "c5f89cd9",
   "metadata": {},
   "source": [
    "### WHAT IF WE AGGREGATE BOTH WEEK/WEEKEND & 3 TIMES"
   ]
  },
  {
   "cell_type": "code",
   "execution_count": 135,
   "id": "34ca1a85",
   "metadata": {},
   "outputs": [],
   "source": [
    "df = pd.read_csv (r\"C:\\Users\\20204113\\OneDrive - TU Eindhoven\\2_Research\\1_Groceries\\DATA\\9th week - narrative (3rd attempt)\\HH2\\df\\df_HH2.csv\")\n",
    "\n",
    "df_orders = df[['order_ID', 'store_name', 'storename_num', 'store_type', 'storetype_num','day', 'day_num', 'time', 'time_num', 'timestamp', 'times', 'dates', 'times_min', 'dates_days', 'order_amount', 'order_price']]\n",
    "df_orders = df_orders.drop_duplicates()"
   ]
  },
  {
   "cell_type": "code",
   "execution_count": 136,
   "id": "7a2b7158",
   "metadata": {},
   "outputs": [],
   "source": [
    "#Let's try afternoon and evening as one group\n",
    "df_orders['day'] = df_orders['day'].replace(['Monday', 'Tuesday', 'Wednesday', 'Thursday', 'Friday'], 'weekday')\n",
    "df_orders['day'] = df_orders['day'].replace(['Saturday', 'Sunday'], 'weekend')"
   ]
  },
  {
   "cell_type": "code",
   "execution_count": 137,
   "id": "e55501f2",
   "metadata": {},
   "outputs": [],
   "source": [
    "#Let's try afternoon and evening as one group\n",
    "df_orders['time'] = df_orders['time'].replace(['afternoon', 'evening'], 'afternoon')"
   ]
  },
  {
   "cell_type": "code",
   "execution_count": 138,
   "id": "c723a595",
   "metadata": {},
   "outputs": [],
   "source": [
    "df_storet1 = df_orders[df_orders['store_type'] == storet1]\n",
    "df_store1 = df_orders[df_orders['store_name'] == store1]"
   ]
  },
  {
   "cell_type": "code",
   "execution_count": 147,
   "id": "7da5040f",
   "metadata": {},
   "outputs": [
    {
     "data": {
      "text/html": [
       "<div>\n",
       "<style scoped>\n",
       "    .dataframe tbody tr th:only-of-type {\n",
       "        vertical-align: middle;\n",
       "    }\n",
       "\n",
       "    .dataframe tbody tr th {\n",
       "        vertical-align: top;\n",
       "    }\n",
       "\n",
       "    .dataframe thead th {\n",
       "        text-align: right;\n",
       "    }\n",
       "</style>\n",
       "<table border=\"1\" class=\"dataframe\">\n",
       "  <thead>\n",
       "    <tr style=\"text-align: right;\">\n",
       "      <th>day</th>\n",
       "      <th>weekday</th>\n",
       "      <th>weekend</th>\n",
       "    </tr>\n",
       "    <tr>\n",
       "      <th>time</th>\n",
       "      <th></th>\n",
       "      <th></th>\n",
       "    </tr>\n",
       "  </thead>\n",
       "  <tbody>\n",
       "    <tr>\n",
       "      <th>afternoon</th>\n",
       "      <td>4</td>\n",
       "      <td>2</td>\n",
       "    </tr>\n",
       "    <tr>\n",
       "      <th>morning</th>\n",
       "      <td>3</td>\n",
       "      <td>4</td>\n",
       "    </tr>\n",
       "    <tr>\n",
       "      <th>noon</th>\n",
       "      <td>9</td>\n",
       "      <td>0</td>\n",
       "    </tr>\n",
       "  </tbody>\n",
       "</table>\n",
       "</div>"
      ],
      "text/plain": [
       "day        weekday  weekend\n",
       "time                       \n",
       "afternoon        4        2\n",
       "morning          3        4\n",
       "noon             9        0"
      ]
     },
     "execution_count": 147,
     "metadata": {},
     "output_type": "execute_result"
    }
   ],
   "source": [
    "# Cross tabulation between DAY and TIME\n",
    "CrosstabResult=pd.crosstab(index=df_storet1['time'],columns=df_storet1['day'])\n",
    "CrosstabResult"
   ]
  },
  {
   "cell_type": "code",
   "execution_count": 148,
   "id": "f39811d4",
   "metadata": {},
   "outputs": [
    {
     "name": "stdout",
     "output_type": "stream",
     "text": [
      "The P-Value of the ChiSq Test is: 0.03624476516103243\n"
     ]
    }
   ],
   "source": [
    "# Performing Chi-sq test\n",
    "ChiSqResult = chi2_contingency(CrosstabResult)\n",
    "\n",
    "# P-Value is the Probability of H0 being True\n",
    "# If P-Value > 0.05 then only we Accept the assumption(H0)\n",
    "\n",
    "print('The P-Value of the ChiSq Test is:', ChiSqResult[1])"
   ]
  },
  {
   "cell_type": "markdown",
   "id": "1a520da1",
   "metadata": {},
   "source": [
    "#### Significant for store type @ week/weekend @3cat\n",
    "> We could use these numbers as weights"
   ]
  },
  {
   "cell_type": "code",
   "execution_count": null,
   "id": "08952853",
   "metadata": {},
   "outputs": [],
   "source": []
  },
  {
   "cell_type": "code",
   "execution_count": null,
   "id": "e60080eb",
   "metadata": {},
   "outputs": [],
   "source": []
  },
  {
   "cell_type": "code",
   "execution_count": null,
   "id": "717b4a67",
   "metadata": {},
   "outputs": [],
   "source": []
  },
  {
   "cell_type": "code",
   "execution_count": null,
   "id": "ea389329",
   "metadata": {},
   "outputs": [],
   "source": []
  },
  {
   "cell_type": "code",
   "execution_count": null,
   "id": "05256550",
   "metadata": {},
   "outputs": [],
   "source": []
  },
  {
   "cell_type": "markdown",
   "id": "579843a6",
   "metadata": {},
   "source": [
    "### scatterplot for amount of orders per day/time"
   ]
  },
  {
   "cell_type": "code",
   "execution_count": null,
   "id": "540f5b9e",
   "metadata": {},
   "outputs": [],
   "source": [
    "df_nunique = df_orders.groupby(['day', 'time'])['order_ID'].nunique()\n",
    "df_nunique = pd.DataFrame (df_nunique)\n",
    "df_nunique = df_nunique.reset_index()\n",
    "df_nunique = df_nunique.loc[~(df_nunique==0).any(axis=1)]\n",
    "# df_nunique.head()"
   ]
  },
  {
   "cell_type": "code",
   "execution_count": null,
   "id": "ff890781",
   "metadata": {},
   "outputs": [],
   "source": [
    "# What is the correlation between day & time?\n",
    "\n",
    "#order x and y axis chronologically\n",
    "order = ['Monday', 'Tuesday', 'Wednesday', 'Thursday', 'Friday', 'Saturday', 'Sunday']\n",
    "df_nunique['day'] = pd.Categorical(df_nunique['day'], order)\n",
    "order2 = ['morning', 'noon', 'afternoon']\n",
    "df_nunique['time'] = pd.Categorical(df_nunique['time'], order2)\n",
    "df_nunique.sort_values(by=['day', 'time'], inplace=True)\n",
    "\n",
    "# get the Pearson correlation between both variables\n",
    "current_corr = round(ChiSqResult[1], 2)\n",
    "\n",
    "# select the x and y features\n",
    "x = df_nunique['day']# select the x feature\n",
    "y = df_nunique['time']# select the y feature\n",
    "\n",
    "# select the feature that decides the colors\n",
    "colors = df_nunique['order_ID'] # select the color column\n",
    "\n",
    "# select the feature that will decide the size of the circle (and divide the value by 1000 for reshaping in the plot)\n",
    "size = df_nunique['order_ID'] # select the column for the size and divide it by 1000 (/ 1000)\n",
    "\n",
    "# fit the points with the scatter function\n",
    "figure(figsize=(7, 3), dpi=80)\n",
    "sns.scatterplot(x=x, y=y, palette=\"pastel\", hue=colors, size=size, sizes=(20,200))\n",
    "plt.legend(bbox_to_anchor=(1.05, 1), loc=2, borderaxespad=0.)\n",
    "\n",
    "\n",
    "# give the graph a title and labels\n",
    "plt.xlabel(\"day\")\n",
    "plt.ylabel('time')\n",
    "plt.title(f\"The ChiSq P-value between day & time = (r={current_corr})\")\n",
    "\n",
    "# call the graph (show function)\n",
    "plt.grid(False)\n",
    "plt.show()"
   ]
  },
  {
   "cell_type": "markdown",
   "id": "c55c68bd",
   "metadata": {},
   "source": [
    "### 3.2  STORE VS TIME"
   ]
  },
  {
   "cell_type": "code",
   "execution_count": null,
   "id": "7fc12ce5",
   "metadata": {},
   "outputs": [],
   "source": [
    "# Cross tabulation between DAY and TIME\n",
    "CrosstabResult=pd.crosstab(index=df_orders['time'],columns=df_orders['store_name'])\n",
    "CrosstabResult"
   ]
  },
  {
   "cell_type": "code",
   "execution_count": 21,
   "id": "8e4f88ad",
   "metadata": {},
   "outputs": [
    {
     "name": "stdout",
     "output_type": "stream",
     "text": [
      "The P-Value of the ChiSq Test is: 0.03865973858951397\n"
     ]
    }
   ],
   "source": [
    "# Performing Chi-sq test\n",
    "ChiSqResult = chi2_contingency(CrosstabResult)\n",
    "\n",
    "# P-Value is the Probability of H0 being True\n",
    "# If P-Value > 0.05 then only we Accept the assumption(H0)\n",
    "\n",
    "print('The P-Value of the ChiSq Test is:', ChiSqResult[1])"
   ]
  },
  {
   "cell_type": "markdown",
   "id": "793ec6e5",
   "metadata": {},
   "source": [
    "#### Let's try split up "
   ]
  },
  {
   "cell_type": "code",
   "execution_count": 26,
   "id": "d2556047",
   "metadata": {},
   "outputs": [],
   "source": [
    "# to select only one\n",
    "day= 'Wednesday'\n",
    "\n",
    "# select only these data (for day, store, store name)\n",
    "df_store = df_orders[df_orders['day'] == day]"
   ]
  },
  {
   "cell_type": "code",
   "execution_count": 29,
   "id": "617707d2",
   "metadata": {
    "scrolled": true
   },
   "outputs": [
    {
     "data": {
      "text/html": [
       "<div>\n",
       "<style scoped>\n",
       "    .dataframe tbody tr th:only-of-type {\n",
       "        vertical-align: middle;\n",
       "    }\n",
       "\n",
       "    .dataframe tbody tr th {\n",
       "        vertical-align: top;\n",
       "    }\n",
       "\n",
       "    .dataframe thead th {\n",
       "        text-align: right;\n",
       "    }\n",
       "</style>\n",
       "<table border=\"1\" class=\"dataframe\">\n",
       "  <thead>\n",
       "    <tr style=\"text-align: right;\">\n",
       "      <th>time</th>\n",
       "      <th>morning</th>\n",
       "      <th>noon</th>\n",
       "    </tr>\n",
       "    <tr>\n",
       "      <th>store_type</th>\n",
       "      <th></th>\n",
       "      <th></th>\n",
       "    </tr>\n",
       "  </thead>\n",
       "  <tbody>\n",
       "    <tr>\n",
       "      <th>bakery</th>\n",
       "      <td>1</td>\n",
       "      <td>0</td>\n",
       "    </tr>\n",
       "    <tr>\n",
       "      <th>supermarket</th>\n",
       "      <td>1</td>\n",
       "      <td>3</td>\n",
       "    </tr>\n",
       "  </tbody>\n",
       "</table>\n",
       "</div>"
      ],
      "text/plain": [
       "time         morning  noon\n",
       "store_type                \n",
       "bakery             1     0\n",
       "supermarket        1     3"
      ]
     },
     "execution_count": 29,
     "metadata": {},
     "output_type": "execute_result"
    }
   ],
   "source": [
    "# Cross tabulation between category and store type\n",
    "CrosstabResult=pd.crosstab(index=df_store['store_type'],columns=df_orders['time'])\n",
    "CrosstabResult"
   ]
  },
  {
   "cell_type": "code",
   "execution_count": 28,
   "id": "ec751ecf",
   "metadata": {},
   "outputs": [
    {
     "name": "stdout",
     "output_type": "stream",
     "text": [
      "The P-Value of the ChiSq Test is: 0.8194769767775212\n"
     ]
    }
   ],
   "source": [
    "# Performing Chi-sq test\n",
    "ChiSqResult = chi2_contingency(CrosstabResult)\n",
    "\n",
    "# P-Value is the Probability of H0 being True\n",
    "# If P-Value > 0.05 then only we Accept the assumption(H0)\n",
    "\n",
    "print('The P-Value of the ChiSq Test is:', ChiSqResult[1])"
   ]
  }
 ],
 "metadata": {
  "kernelspec": {
   "display_name": "Python 3 (ipykernel)",
   "language": "python",
   "name": "python3"
  },
  "language_info": {
   "codemirror_mode": {
    "name": "ipython",
    "version": 3
   },
   "file_extension": ".py",
   "mimetype": "text/x-python",
   "name": "python",
   "nbconvert_exporter": "python",
   "pygments_lexer": "ipython3",
   "version": "3.9.7"
  }
 },
 "nbformat": 4,
 "nbformat_minor": 5
}

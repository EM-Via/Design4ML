{
 "cells": [
  {
   "cell_type": "markdown",
   "id": "2cce2977",
   "metadata": {},
   "source": [
    "## 3: FIRST ALGORITHM - WHEN WILL THEY SHOP?\n",
    "\n",
    "\n",
    "1. build grid: when do/dont they shop, how many times, on which day...\n",
    "2. define priliminaries for algorithm\n",
    "3. define filters for algorithm\n",
    "4. RUN algorithm \n",
    "\n",
    "\n",
    "----\n",
    "\n",
    "\n",
    "Outcome (example):\n",
    "1. input: Wednesday\n",
    "2. output: TRUE, 1x\n",
    "\n",
    "Outcome pt. 2 (example):\n",
    "1. input: 12:45 (time)\n",
    "2. output: noon, TRUE\n",
    "\n",
    "or\n",
    "\n",
    "1. input: 19:34 (time)\n",
    "2. output: evening, FALSE"
   ]
  },
  {
   "cell_type": "markdown",
   "id": "87a037df",
   "metadata": {},
   "source": [
    "### Import libraries "
   ]
  },
  {
   "cell_type": "code",
   "execution_count": 1,
   "id": "419cb39a",
   "metadata": {},
   "outputs": [],
   "source": [
    "# %matplotlib notebook\n",
    "%matplotlib inline\n",
    "#Pandas is a software library written for the Python programming language for data manipulation and analysis.\n",
    "import pandas as pd\n",
    "#NumPy is a library for the Python programming language, adding support for large, multi-dimensional arrays and matrices, along with a large collection of high-level mathematical functions to operate on these arrays\n",
    "import numpy as np\n",
    "# Matplotlib is a plotting library for python and pyplot gives us a MatLab like plotting framework. We will use this in our plotter function to plot data.\n",
    "import matplotlib.pyplot as plt\n",
    "#Seaborn is a Python data visualization library based on matplotlib. It provides a high-level interface for drawing attractive and informative statistical graphics\n",
    "import seaborn as sns\n",
    "import dataframe_image as dfi\n",
    "from datetime import time\n",
    "import matplotlib.dates as mdates\n",
    "from matplotlib.ticker import StrMethodFormatter\n",
    "from matplotlib.pyplot import figure\n",
    "\n",
    "\n",
    "\n",
    "from sklearn.cluster import KMeans\n",
    "from sklearn.datasets import make_blobs\n",
    "from sklearn.ensemble import RandomForestClassifier\n",
    "from sklearn.linear_model import LinearRegression\n",
    "from sklearn.metrics import mean_absolute_error, mean_squared_error\n",
    "from sklearn.tree import DecisionTreeClassifier, export_graphviz, plot_tree"
   ]
  },
  {
   "cell_type": "code",
   "execution_count": 2,
   "id": "bd644e3a",
   "metadata": {},
   "outputs": [],
   "source": [
    "# importing the required function\n",
    "from scipy.stats import chi2_contingency"
   ]
  },
  {
   "cell_type": "markdown",
   "id": "f10011bb",
   "metadata": {},
   "source": [
    "### Load and view data "
   ]
  },
  {
   "cell_type": "code",
   "execution_count": 3,
   "id": "f90057bd",
   "metadata": {},
   "outputs": [],
   "source": [
    "df = pd.read_csv (r\"C:\\Users\\20204113\\OneDrive - TU Eindhoven\\2_Research\\1_Groceries\\DATA\\9th week - narrative (3rd attempt)\\HH2\\df\\df_HH2.csv\")\n",
    "\n",
    "# del df[\"HH\"]\n",
    "# df.describe(include='all')"
   ]
  },
  {
   "cell_type": "code",
   "execution_count": 52,
   "id": "2750f198",
   "metadata": {},
   "outputs": [],
   "source": [
    "# use the corr function to display the correlation between all the features\n",
    "data_corr = df.corr()\n",
    "# data_corr"
   ]
  },
  {
   "cell_type": "code",
   "execution_count": 5,
   "id": "52e43b89",
   "metadata": {},
   "outputs": [],
   "source": [
    "# df_count = df[['order_ID','store_name', 'day']]\n",
    "# df_count = df_count.drop_duplicates()\n",
    "# df_count = df_count.drop(columns=['order_ID'])\n",
    "# df_count.head()"
   ]
  },
  {
   "cell_type": "markdown",
   "id": "d1dd54c1",
   "metadata": {},
   "source": [
    "-\n",
    "# 1. Where?"
   ]
  },
  {
   "cell_type": "markdown",
   "id": "f4633980",
   "metadata": {},
   "source": [
    "## ALL ORDERS"
   ]
  },
  {
   "cell_type": "markdown",
   "id": "6bff361d",
   "metadata": {},
   "source": [
    "### check correlation per store TYPE"
   ]
  },
  {
   "cell_type": "code",
   "execution_count": 6,
   "id": "9b3af1d6",
   "metadata": {},
   "outputs": [],
   "source": [
    "df_orders = df[['order_ID', 'store_name', 'storename_num', 'store_type', 'storetype_num','day', 'day_num', 'time', 'time_num', 'timestamp', 'times', 'dates', 'times_min', 'dates_days', 'order_amount', 'order_price']]\n",
    "df_orders = df_orders.drop_duplicates()"
   ]
  },
  {
   "cell_type": "code",
   "execution_count": 7,
   "id": "bea9c5ff",
   "metadata": {
    "scrolled": false
   },
   "outputs": [
    {
     "data": {
      "text/html": [
       "<div>\n",
       "<style scoped>\n",
       "    .dataframe tbody tr th:only-of-type {\n",
       "        vertical-align: middle;\n",
       "    }\n",
       "\n",
       "    .dataframe tbody tr th {\n",
       "        vertical-align: top;\n",
       "    }\n",
       "\n",
       "    .dataframe thead th {\n",
       "        text-align: right;\n",
       "    }\n",
       "</style>\n",
       "<table border=\"1\" class=\"dataframe\">\n",
       "  <thead>\n",
       "    <tr style=\"text-align: right;\">\n",
       "      <th>day</th>\n",
       "      <th>Friday</th>\n",
       "      <th>Monday</th>\n",
       "      <th>Saturday</th>\n",
       "      <th>Sunday</th>\n",
       "      <th>Thursday</th>\n",
       "      <th>Tuesday</th>\n",
       "      <th>Wednesday</th>\n",
       "    </tr>\n",
       "    <tr>\n",
       "      <th>store_type</th>\n",
       "      <th></th>\n",
       "      <th></th>\n",
       "      <th></th>\n",
       "      <th></th>\n",
       "      <th></th>\n",
       "      <th></th>\n",
       "      <th></th>\n",
       "    </tr>\n",
       "  </thead>\n",
       "  <tbody>\n",
       "    <tr>\n",
       "      <th>bakery</th>\n",
       "      <td>0</td>\n",
       "      <td>1</td>\n",
       "      <td>3</td>\n",
       "      <td>5</td>\n",
       "      <td>0</td>\n",
       "      <td>2</td>\n",
       "      <td>1</td>\n",
       "    </tr>\n",
       "    <tr>\n",
       "      <th>butcher</th>\n",
       "      <td>0</td>\n",
       "      <td>1</td>\n",
       "      <td>1</td>\n",
       "      <td>1</td>\n",
       "      <td>1</td>\n",
       "      <td>0</td>\n",
       "      <td>0</td>\n",
       "    </tr>\n",
       "    <tr>\n",
       "      <th>drugstore</th>\n",
       "      <td>0</td>\n",
       "      <td>0</td>\n",
       "      <td>0</td>\n",
       "      <td>0</td>\n",
       "      <td>0</td>\n",
       "      <td>1</td>\n",
       "      <td>0</td>\n",
       "    </tr>\n",
       "    <tr>\n",
       "      <th>furniture store</th>\n",
       "      <td>1</td>\n",
       "      <td>0</td>\n",
       "      <td>0</td>\n",
       "      <td>0</td>\n",
       "      <td>0</td>\n",
       "      <td>0</td>\n",
       "      <td>0</td>\n",
       "    </tr>\n",
       "    <tr>\n",
       "      <th>supermarket</th>\n",
       "      <td>2</td>\n",
       "      <td>4</td>\n",
       "      <td>3</td>\n",
       "      <td>3</td>\n",
       "      <td>4</td>\n",
       "      <td>2</td>\n",
       "      <td>4</td>\n",
       "    </tr>\n",
       "  </tbody>\n",
       "</table>\n",
       "</div>"
      ],
      "text/plain": [
       "day              Friday  Monday  Saturday  Sunday  Thursday  Tuesday  \\\n",
       "store_type                                                             \n",
       "bakery                0       1         3       5         0        2   \n",
       "butcher               0       1         1       1         1        0   \n",
       "drugstore             0       0         0       0         0        1   \n",
       "furniture store       1       0         0       0         0        0   \n",
       "supermarket           2       4         3       3         4        2   \n",
       "\n",
       "day              Wednesday  \n",
       "store_type                  \n",
       "bakery                   1  \n",
       "butcher                  0  \n",
       "drugstore                0  \n",
       "furniture store          0  \n",
       "supermarket              4  "
      ]
     },
     "execution_count": 7,
     "metadata": {},
     "output_type": "execute_result"
    }
   ],
   "source": [
    "# Cross tabulation between DAY and STORE TYPE\n",
    "CrosstabResult=pd.crosstab(index=df_orders['store_type'],columns=df_orders['day'])\n",
    "CrosstabResult"
   ]
  },
  {
   "cell_type": "code",
   "execution_count": 8,
   "id": "f448e8e0",
   "metadata": {
    "scrolled": true
   },
   "outputs": [
    {
     "name": "stdout",
     "output_type": "stream",
     "text": [
      "The P-Value of the ChiSq Test is: 0.20212640487695582\n"
     ]
    }
   ],
   "source": [
    "# Performing Chi-sq test\n",
    "ChiSqResult = chi2_contingency(CrosstabResult)\n",
    "\n",
    "# P-Value is the Probability of H0 being True\n",
    "# If P-Value > 0.05 then only we Accept the assumption(H0)\n",
    "\n",
    "print('The P-Value of the ChiSq Test is:', ChiSqResult[1])"
   ]
  },
  {
   "cell_type": "markdown",
   "id": "3104a231",
   "metadata": {},
   "source": [
    "Not significant, let's get more specific:"
   ]
  },
  {
   "cell_type": "markdown",
   "id": "5d739133",
   "metadata": {},
   "source": [
    "### check correlation per store NAME"
   ]
  },
  {
   "cell_type": "code",
   "execution_count": 9,
   "id": "cc4406b5",
   "metadata": {
    "scrolled": false
   },
   "outputs": [
    {
     "data": {
      "text/html": [
       "<div>\n",
       "<style scoped>\n",
       "    .dataframe tbody tr th:only-of-type {\n",
       "        vertical-align: middle;\n",
       "    }\n",
       "\n",
       "    .dataframe tbody tr th {\n",
       "        vertical-align: top;\n",
       "    }\n",
       "\n",
       "    .dataframe thead th {\n",
       "        text-align: right;\n",
       "    }\n",
       "</style>\n",
       "<table border=\"1\" class=\"dataframe\">\n",
       "  <thead>\n",
       "    <tr style=\"text-align: right;\">\n",
       "      <th>day</th>\n",
       "      <th>Friday</th>\n",
       "      <th>Monday</th>\n",
       "      <th>Saturday</th>\n",
       "      <th>Sunday</th>\n",
       "      <th>Thursday</th>\n",
       "      <th>Tuesday</th>\n",
       "      <th>Wednesday</th>\n",
       "    </tr>\n",
       "    <tr>\n",
       "      <th>store_name</th>\n",
       "      <th></th>\n",
       "      <th></th>\n",
       "      <th></th>\n",
       "      <th></th>\n",
       "      <th></th>\n",
       "      <th></th>\n",
       "      <th></th>\n",
       "    </tr>\n",
       "  </thead>\n",
       "  <tbody>\n",
       "    <tr>\n",
       "      <th>Albert Heijn</th>\n",
       "      <td>1</td>\n",
       "      <td>4</td>\n",
       "      <td>0</td>\n",
       "      <td>1</td>\n",
       "      <td>2</td>\n",
       "      <td>0</td>\n",
       "      <td>4</td>\n",
       "    </tr>\n",
       "    <tr>\n",
       "      <th>Brabo</th>\n",
       "      <td>0</td>\n",
       "      <td>0</td>\n",
       "      <td>0</td>\n",
       "      <td>0</td>\n",
       "      <td>1</td>\n",
       "      <td>0</td>\n",
       "      <td>0</td>\n",
       "    </tr>\n",
       "    <tr>\n",
       "      <th>Carrefour</th>\n",
       "      <td>0</td>\n",
       "      <td>0</td>\n",
       "      <td>1</td>\n",
       "      <td>0</td>\n",
       "      <td>0</td>\n",
       "      <td>0</td>\n",
       "      <td>0</td>\n",
       "    </tr>\n",
       "    <tr>\n",
       "      <th>Delhaize</th>\n",
       "      <td>1</td>\n",
       "      <td>0</td>\n",
       "      <td>0</td>\n",
       "      <td>2</td>\n",
       "      <td>0</td>\n",
       "      <td>0</td>\n",
       "      <td>0</td>\n",
       "    </tr>\n",
       "    <tr>\n",
       "      <th>Ikea</th>\n",
       "      <td>1</td>\n",
       "      <td>0</td>\n",
       "      <td>0</td>\n",
       "      <td>0</td>\n",
       "      <td>0</td>\n",
       "      <td>0</td>\n",
       "      <td>0</td>\n",
       "    </tr>\n",
       "    <tr>\n",
       "      <th>Kruidvat</th>\n",
       "      <td>0</td>\n",
       "      <td>0</td>\n",
       "      <td>0</td>\n",
       "      <td>0</td>\n",
       "      <td>0</td>\n",
       "      <td>1</td>\n",
       "      <td>0</td>\n",
       "    </tr>\n",
       "    <tr>\n",
       "      <th>Okay</th>\n",
       "      <td>0</td>\n",
       "      <td>0</td>\n",
       "      <td>2</td>\n",
       "      <td>0</td>\n",
       "      <td>2</td>\n",
       "      <td>2</td>\n",
       "      <td>0</td>\n",
       "    </tr>\n",
       "    <tr>\n",
       "      <th>Sys</th>\n",
       "      <td>0</td>\n",
       "      <td>1</td>\n",
       "      <td>3</td>\n",
       "      <td>5</td>\n",
       "      <td>0</td>\n",
       "      <td>2</td>\n",
       "      <td>1</td>\n",
       "    </tr>\n",
       "    <tr>\n",
       "      <th>Versavel Poelman</th>\n",
       "      <td>0</td>\n",
       "      <td>1</td>\n",
       "      <td>1</td>\n",
       "      <td>1</td>\n",
       "      <td>0</td>\n",
       "      <td>0</td>\n",
       "      <td>0</td>\n",
       "    </tr>\n",
       "  </tbody>\n",
       "</table>\n",
       "</div>"
      ],
      "text/plain": [
       "day               Friday  Monday  Saturday  Sunday  Thursday  Tuesday  \\\n",
       "store_name                                                              \n",
       "Albert Heijn           1       4         0       1         2        0   \n",
       "Brabo                  0       0         0       0         1        0   \n",
       "Carrefour              0       0         1       0         0        0   \n",
       "Delhaize               1       0         0       2         0        0   \n",
       "Ikea                   1       0         0       0         0        0   \n",
       "Kruidvat               0       0         0       0         0        1   \n",
       "Okay                   0       0         2       0         2        2   \n",
       "Sys                    0       1         3       5         0        2   \n",
       "Versavel Poelman       0       1         1       1         0        0   \n",
       "\n",
       "day               Wednesday  \n",
       "store_name                   \n",
       "Albert Heijn              4  \n",
       "Brabo                     0  \n",
       "Carrefour                 0  \n",
       "Delhaize                  0  \n",
       "Ikea                      0  \n",
       "Kruidvat                  0  \n",
       "Okay                      0  \n",
       "Sys                       1  \n",
       "Versavel Poelman          0  "
      ]
     },
     "execution_count": 9,
     "metadata": {},
     "output_type": "execute_result"
    }
   ],
   "source": [
    "# Cross tabulation between DAY and STORE NAME\n",
    "CrosstabResult=pd.crosstab(index=df_orders['store_name'],columns=df_orders['day'])\n",
    "CrosstabResult"
   ]
  },
  {
   "cell_type": "code",
   "execution_count": 10,
   "id": "c9ebd5a7",
   "metadata": {
    "scrolled": false
   },
   "outputs": [
    {
     "name": "stdout",
     "output_type": "stream",
     "text": [
      "The P-Value of the ChiSq Test is: 0.03865973858951397\n"
     ]
    }
   ],
   "source": [
    "# Performing Chi-sq test\n",
    "ChiSqResult = chi2_contingency(CrosstabResult)\n",
    "\n",
    "# P-Value is the Probability of H0 being True\n",
    "# If P-Value > 0.05 then only we Accept the assumption(H0)\n",
    "\n",
    "print('The P-Value of the ChiSq Test is:', ChiSqResult[1])"
   ]
  },
  {
   "cell_type": "markdown",
   "id": "6c35fe86",
   "metadata": {},
   "source": [
    "This p-value is low enough to be a significant correlation!\n",
    "> e.g.: if it's Wednesday, they will probably go shopping at Albert Heijn"
   ]
  },
  {
   "cell_type": "markdown",
   "id": "e2d8cb48",
   "metadata": {},
   "source": [
    "## Visualize stores per day (ALL)"
   ]
  },
  {
   "cell_type": "code",
   "execution_count": 11,
   "id": "c8b8843b",
   "metadata": {},
   "outputs": [],
   "source": [
    "df_nunique = df.groupby(['day', 'store_name'])['order_ID'].nunique()\n",
    "df_nunique = pd.DataFrame (df_nunique)\n",
    "df_nunique = df_nunique.reset_index()\n",
    "df_nunique = df_nunique.loc[~(df_nunique==0).any(axis=1)]"
   ]
  },
  {
   "cell_type": "code",
   "execution_count": 12,
   "id": "b4bb07f8",
   "metadata": {},
   "outputs": [
    {
     "data": {
      "image/png": "[encoded data removed]",
      "text/plain": [
       "<Figure size 560x240 with 1 Axes>"
      ]
     },
     "metadata": {
      "needs_background": "light"
     },
     "output_type": "display_data"
    }
   ],
   "source": [
    "#order x and y axis chronologically\n",
    "order = ['Monday', 'Tuesday', 'Wednesday', 'Thursday', 'Friday', 'Saturday', 'Sunday']\n",
    "df_nunique['day'] = pd.Categorical(df_nunique['day'], order)\n",
    "df_nunique.sort_values(by=['day'], inplace=True)\n",
    "\n",
    "\n",
    "# select the x and y features\n",
    "x = df_nunique['day']# select the x feature\n",
    "y = df_nunique['store_name']# select the y feature\n",
    "\n",
    "# select the feature that decides the colors\n",
    "colors = df_nunique['order_ID'] # select the color column\n",
    "\n",
    "# select the feature that will decide the size of the circle (and divide the value by 1000 for reshaping in the plot)\n",
    "size = df_nunique['order_ID'] # select the column for the size and divide it by 1000 (/ 1000)\n",
    "\n",
    "# fit the points with the scatter function\n",
    "figure(figsize=(7, 3), dpi=80)\n",
    "sns.scatterplot(x=x, y=y, palette=\"pastel\", hue=colors, size=size, sizes=(20,200))\n",
    "plt.legend(bbox_to_anchor=(1.05, 1), loc=2, borderaxespad=0.)\n",
    "\n",
    "#repeat ChiSq value\n",
    "current_corr = round(ChiSqResult[1], 2)\n",
    "\n",
    "# give the graph a title and labels\n",
    "plt.xlabel(\"day\")\n",
    "plt.ylabel('time')\n",
    "plt.title(f\"The correlation between day & store name (r={current_corr})\")\n",
    "\n",
    "# call the graph (show function)\n",
    "plt.grid(False)\n",
    "plt.show()"
   ]
  },
  {
   "cell_type": "markdown",
   "id": "e15f9128",
   "metadata": {},
   "source": [
    "We now have our first two givens:\n",
    "> 1. It is <b>day X</b>\n",
    "2. The HH will shop at <b>store name X</b>"
   ]
  },
  {
   "cell_type": "markdown",
   "id": "02f7fd42",
   "metadata": {},
   "source": [
    "#### Can we also say at which time they may go to this store on this day?"
   ]
  },
  {
   "cell_type": "markdown",
   "id": "31a64028",
   "metadata": {},
   "source": [
    "# 2. DAY vs TIME (all orders)"
   ]
  },
  {
   "cell_type": "code",
   "execution_count": 13,
   "id": "04b6a807",
   "metadata": {},
   "outputs": [],
   "source": [
    "df_orders = df[['order_ID', 'store_name', 'storename_num', 'store_type', 'storetype_num','day', 'day_num', 'time', 'time_num', 'timestamp', 'times', 'dates', 'times_min', 'dates_days', 'order_amount', 'order_price']]\n",
    "df_orders = df_orders.drop_duplicates()"
   ]
  },
  {
   "cell_type": "code",
   "execution_count": 14,
   "id": "aadd8f0f",
   "metadata": {},
   "outputs": [
    {
     "name": "stdout",
     "output_type": "stream",
     "text": [
      "day        Friday  Monday  Saturday  Sunday  Thursday  Tuesday  Wednesday\n",
      "time                                                                     \n",
      "afternoon       1       0         1       0         2        1          0\n",
      "evening         0       1         1       0         1        0          0\n",
      "morning         1       2         5       9         1        2          2\n",
      "noon            1       3         0       0         1        2          3\n",
      "The P-Value of the ChiSq Test is: 0.1226046357444237\n"
     ]
    }
   ],
   "source": [
    "# Cross tabulation between DAY and TIME\n",
    "CrosstabResult=pd.crosstab(index=df_orders['time'],columns=df_orders['day'])\n",
    "print(CrosstabResult)\n",
    "\n",
    "\n",
    "# Performing Chi-sq test\n",
    "ChiSqResult = chi2_contingency(CrosstabResult)\n",
    "\n",
    "# P-Value is the Probability of H0 being True\n",
    "# If P-Value > 0.05 then only we Accept the assumption(H0)\n",
    "\n",
    "print('The P-Value of the ChiSq Test is:', ChiSqResult[1])"
   ]
  },
  {
   "cell_type": "code",
   "execution_count": 15,
   "id": "ab70bb4c",
   "metadata": {},
   "outputs": [
    {
     "name": "stdout",
     "output_type": "stream",
     "text": [
      "P-Value for Anova is:  0.07923696121350002\n"
     ]
    }
   ],
   "source": [
    "# f_oneway() function takes the group data as input and \n",
    "# returns F-statistic and P-value\n",
    "from scipy.stats import f_oneway\n",
    " \n",
    "# Assumption(H0) is that day and times are NOT correlated\n",
    " \n",
    "# Finds out the Prices data for each FuelType as a list\n",
    "CategoryGroupLists=df_orders.groupby('day')['times_min'].apply(list)\n",
    " \n",
    "# Performing the ANOVA test\n",
    "# We reject the Assumption(H0) only when P-Value < 0.05\n",
    "AnovaResults = f_oneway(*CategoryGroupLists)\n",
    "print('P-Value for Anova is: ', AnovaResults[1])"
   ]
  },
  {
   "cell_type": "code",
   "execution_count": 16,
   "id": "1bca9d32",
   "metadata": {},
   "outputs": [],
   "source": [
    "#Let's try afternoon and evening as one group\n",
    "df_orders['time'] = df_orders['time'].replace(['afternoon', 'evening'], 'afternoon')"
   ]
  },
  {
   "cell_type": "code",
   "execution_count": 17,
   "id": "fa607d10",
   "metadata": {
    "scrolled": true
   },
   "outputs": [
    {
     "name": "stdout",
     "output_type": "stream",
     "text": [
      "day        Friday  Monday  Saturday  Sunday  Thursday  Tuesday  Wednesday\n",
      "time                                                                     \n",
      "afternoon       1       1         2       0         3        1          0\n",
      "morning         1       2         5       9         1        2          2\n",
      "noon            1       3         0       0         1        2          3\n",
      "The P-Value of the ChiSq Test is: 0.03936988225203821\n"
     ]
    }
   ],
   "source": [
    "# Cross tabulation between DAY and TIME\n",
    "CrosstabResult=pd.crosstab(index=df_orders['time'],columns=df_orders['day'])\n",
    "print(CrosstabResult)\n",
    "\n",
    "# Performing Chi-sq test\n",
    "ChiSqResult = chi2_contingency(CrosstabResult)\n",
    "\n",
    "# P-Value is the Probability of H0 being True\n",
    "# If P-Value > 0.05 then only we Accept the assumption(H0)\n",
    "\n",
    "print('The P-Value of the ChiSq Test is:', ChiSqResult[1])"
   ]
  },
  {
   "cell_type": "markdown",
   "id": "360a4dfa",
   "metadata": {},
   "source": [
    "#### They go to (any) store on X day => at X time"
   ]
  },
  {
   "cell_type": "markdown",
   "id": "84972ee4",
   "metadata": {},
   "source": [
    "We now have our first THREE givens:\n",
    "> 1. It is <b>day X</b>\n",
    "    1. The HH will shop at <b>store name X</b>\n",
    "    2. The HH will shop at <b>time X</b>"
   ]
  },
  {
   "cell_type": "code",
   "execution_count": null,
   "id": "a700917b",
   "metadata": {},
   "outputs": [],
   "source": []
  },
  {
   "cell_type": "code",
   "execution_count": null,
   "id": "b76a2d99",
   "metadata": {},
   "outputs": [],
   "source": []
  },
  {
   "cell_type": "code",
   "execution_count": null,
   "id": "f735ffe0",
   "metadata": {},
   "outputs": [],
   "source": []
  },
  {
   "cell_type": "code",
   "execution_count": null,
   "id": "3e241914",
   "metadata": {},
   "outputs": [],
   "source": []
  },
  {
   "cell_type": "code",
   "execution_count": null,
   "id": "1dd3bb0c",
   "metadata": {},
   "outputs": [],
   "source": []
  },
  {
   "cell_type": "code",
   "execution_count": null,
   "id": "61a52fd7",
   "metadata": {},
   "outputs": [],
   "source": []
  },
  {
   "cell_type": "code",
   "execution_count": null,
   "id": "33b33a7c",
   "metadata": {},
   "outputs": [],
   "source": []
  },
  {
   "cell_type": "code",
   "execution_count": null,
   "id": "0673b415",
   "metadata": {},
   "outputs": [],
   "source": []
  },
  {
   "cell_type": "code",
   "execution_count": null,
   "id": "59b289b5",
   "metadata": {},
   "outputs": [],
   "source": []
  },
  {
   "cell_type": "code",
   "execution_count": null,
   "id": "25ca7fb3",
   "metadata": {},
   "outputs": [],
   "source": []
  },
  {
   "cell_type": "markdown",
   "id": "4a084f8e",
   "metadata": {},
   "source": [
    "# 3.1 STORE VS DAY @ SPECIFIED TIME"
   ]
  },
  {
   "cell_type": "markdown",
   "id": "4d56df41",
   "metadata": {},
   "source": [
    "### check correlation per store TYPE"
   ]
  },
  {
   "cell_type": "code",
   "execution_count": 18,
   "id": "acb0d007",
   "metadata": {},
   "outputs": [],
   "source": [
    "df_orders = df[['order_ID', 'store_name', 'storename_num', 'store_type', 'storetype_num','day', 'day_num', 'time', 'time_num', 'timestamp', 'times', 'dates', 'times_min', 'dates_days', 'order_amount', 'order_price']]\n",
    "df_orders = df_orders.drop_duplicates()\n",
    "\n",
    "#Let's try afternoon and evening as one group\n",
    "df_orders['time'] = df_orders['time'].replace(['afternoon', 'evening'], 'afternoon')\n",
    "# df_orders['time'] = df_orders['time'].replace(['noon', 'morning'], 'morning')"
   ]
  },
  {
   "cell_type": "code",
   "execution_count": 19,
   "id": "11737341",
   "metadata": {},
   "outputs": [],
   "source": [
    "# to select only one\n",
    "time1 = 'morning'\n",
    "time2 = 'noon'\n",
    "time3 = 'afternoon'\n",
    "\n",
    "# select only these data for the df\n",
    "df_time1 = df_orders[df_orders['time'] == time1]\n",
    "df_time2 = df_orders[df_orders['time'] == time2]\n",
    "df_time3 = df_orders[df_orders['time'] == time3]"
   ]
  },
  {
   "cell_type": "code",
   "execution_count": 20,
   "id": "50b6f17b",
   "metadata": {
    "scrolled": false
   },
   "outputs": [
    {
     "data": {
      "text/html": [
       "<div>\n",
       "<style scoped>\n",
       "    .dataframe tbody tr th:only-of-type {\n",
       "        vertical-align: middle;\n",
       "    }\n",
       "\n",
       "    .dataframe tbody tr th {\n",
       "        vertical-align: top;\n",
       "    }\n",
       "\n",
       "    .dataframe thead th {\n",
       "        text-align: right;\n",
       "    }\n",
       "</style>\n",
       "<table border=\"1\" class=\"dataframe\">\n",
       "  <thead>\n",
       "    <tr style=\"text-align: right;\">\n",
       "      <th>day</th>\n",
       "      <th>Friday</th>\n",
       "      <th>Monday</th>\n",
       "      <th>Saturday</th>\n",
       "      <th>Thursday</th>\n",
       "      <th>Tuesday</th>\n",
       "    </tr>\n",
       "    <tr>\n",
       "      <th>store_type</th>\n",
       "      <th></th>\n",
       "      <th></th>\n",
       "      <th></th>\n",
       "      <th></th>\n",
       "      <th></th>\n",
       "    </tr>\n",
       "  </thead>\n",
       "  <tbody>\n",
       "    <tr>\n",
       "      <th>butcher</th>\n",
       "      <td>0</td>\n",
       "      <td>0</td>\n",
       "      <td>0</td>\n",
       "      <td>1</td>\n",
       "      <td>0</td>\n",
       "    </tr>\n",
       "    <tr>\n",
       "      <th>drugstore</th>\n",
       "      <td>0</td>\n",
       "      <td>0</td>\n",
       "      <td>0</td>\n",
       "      <td>0</td>\n",
       "      <td>1</td>\n",
       "    </tr>\n",
       "    <tr>\n",
       "      <th>supermarket</th>\n",
       "      <td>1</td>\n",
       "      <td>1</td>\n",
       "      <td>2</td>\n",
       "      <td>2</td>\n",
       "      <td>0</td>\n",
       "    </tr>\n",
       "  </tbody>\n",
       "</table>\n",
       "</div>"
      ],
      "text/plain": [
       "day          Friday  Monday  Saturday  Thursday  Tuesday\n",
       "store_type                                              \n",
       "butcher           0       0         0         1        0\n",
       "drugstore         0       0         0         0        1\n",
       "supermarket       1       1         2         2        0"
      ]
     },
     "execution_count": 20,
     "metadata": {},
     "output_type": "execute_result"
    }
   ],
   "source": [
    "# Cross tabulation between DAY and STORE TYPE\n",
    "CrosstabResult1=pd.crosstab(index=df_time1['store_type'],columns=df_time1['day'])\n",
    "CrosstabResult2=pd.crosstab(index=df_time2['store_type'],columns=df_time2['day'])\n",
    "CrosstabResult3=pd.crosstab(index=df_time3['store_type'],columns=df_time3['day'])\n",
    "CrosstabResult3"
   ]
  },
  {
   "cell_type": "code",
   "execution_count": 21,
   "id": "9b02ca4a",
   "metadata": {
    "scrolled": true
   },
   "outputs": [
    {
     "name": "stdout",
     "output_type": "stream",
     "text": [
      "The P-Value of the ChiSq Test is: 0.059649277097061276\n",
      "The P-Value of the ChiSq Test is: 0.3491858526038865\n",
      "The P-Value of the ChiSq Test is: 0.2809707836080619\n"
     ]
    }
   ],
   "source": [
    "# Performing Chi-sq test\n",
    "ChiSqResult1 = chi2_contingency(CrosstabResult1)\n",
    "ChiSqResult2 = chi2_contingency(CrosstabResult2)\n",
    "ChiSqResult3 = chi2_contingency(CrosstabResult3)\n",
    "\n",
    "# P-Value is the Probability of H0 being True\n",
    "# If P-Value > 0.05 then only we Accept the assumption(H0)\n",
    "\n",
    "print('The P-Value of the ChiSq Test is:', ChiSqResult1[1])\n",
    "print('The P-Value of the ChiSq Test is:', ChiSqResult2[1])\n",
    "print('The P-Value of the ChiSq Test is:', ChiSqResult3[1])"
   ]
  },
  {
   "cell_type": "markdown",
   "id": "d010b007",
   "metadata": {},
   "source": [
    "### check correlation per store NAME"
   ]
  },
  {
   "cell_type": "code",
   "execution_count": 22,
   "id": "28166e8a",
   "metadata": {},
   "outputs": [],
   "source": [
    "# to select only one\n",
    "time1 = 'morning'\n",
    "time2 = 'noon'\n",
    "time3 = 'afternoon'\n",
    "\n",
    "# select only these data for the df\n",
    "df_time1 = df_orders[df_orders['time'] == time1]\n",
    "df_time2 = df_orders[df_orders['time'] == time2]\n",
    "df_time3 = df_orders[df_orders['time'] == time3]"
   ]
  },
  {
   "cell_type": "code",
   "execution_count": 23,
   "id": "af9ba738",
   "metadata": {
    "scrolled": false
   },
   "outputs": [
    {
     "data": {
      "text/html": [
       "<div>\n",
       "<style scoped>\n",
       "    .dataframe tbody tr th:only-of-type {\n",
       "        vertical-align: middle;\n",
       "    }\n",
       "\n",
       "    .dataframe tbody tr th {\n",
       "        vertical-align: top;\n",
       "    }\n",
       "\n",
       "    .dataframe thead th {\n",
       "        text-align: right;\n",
       "    }\n",
       "</style>\n",
       "<table border=\"1\" class=\"dataframe\">\n",
       "  <thead>\n",
       "    <tr style=\"text-align: right;\">\n",
       "      <th>day</th>\n",
       "      <th>Friday</th>\n",
       "      <th>Monday</th>\n",
       "      <th>Saturday</th>\n",
       "      <th>Sunday</th>\n",
       "      <th>Thursday</th>\n",
       "      <th>Tuesday</th>\n",
       "      <th>Wednesday</th>\n",
       "    </tr>\n",
       "    <tr>\n",
       "      <th>store_name</th>\n",
       "      <th></th>\n",
       "      <th></th>\n",
       "      <th></th>\n",
       "      <th></th>\n",
       "      <th></th>\n",
       "      <th></th>\n",
       "      <th></th>\n",
       "    </tr>\n",
       "  </thead>\n",
       "  <tbody>\n",
       "    <tr>\n",
       "      <th>Albert Heijn</th>\n",
       "      <td>0</td>\n",
       "      <td>0</td>\n",
       "      <td>0</td>\n",
       "      <td>1</td>\n",
       "      <td>1</td>\n",
       "      <td>0</td>\n",
       "      <td>1</td>\n",
       "    </tr>\n",
       "    <tr>\n",
       "      <th>Delhaize</th>\n",
       "      <td>0</td>\n",
       "      <td>0</td>\n",
       "      <td>0</td>\n",
       "      <td>2</td>\n",
       "      <td>0</td>\n",
       "      <td>0</td>\n",
       "      <td>0</td>\n",
       "    </tr>\n",
       "    <tr>\n",
       "      <th>Ikea</th>\n",
       "      <td>1</td>\n",
       "      <td>0</td>\n",
       "      <td>0</td>\n",
       "      <td>0</td>\n",
       "      <td>0</td>\n",
       "      <td>0</td>\n",
       "      <td>0</td>\n",
       "    </tr>\n",
       "    <tr>\n",
       "      <th>Okay</th>\n",
       "      <td>0</td>\n",
       "      <td>0</td>\n",
       "      <td>1</td>\n",
       "      <td>0</td>\n",
       "      <td>0</td>\n",
       "      <td>1</td>\n",
       "      <td>0</td>\n",
       "    </tr>\n",
       "    <tr>\n",
       "      <th>Sys</th>\n",
       "      <td>0</td>\n",
       "      <td>1</td>\n",
       "      <td>3</td>\n",
       "      <td>5</td>\n",
       "      <td>0</td>\n",
       "      <td>1</td>\n",
       "      <td>1</td>\n",
       "    </tr>\n",
       "    <tr>\n",
       "      <th>Versavel Poelman</th>\n",
       "      <td>0</td>\n",
       "      <td>1</td>\n",
       "      <td>1</td>\n",
       "      <td>1</td>\n",
       "      <td>0</td>\n",
       "      <td>0</td>\n",
       "      <td>0</td>\n",
       "    </tr>\n",
       "  </tbody>\n",
       "</table>\n",
       "</div>"
      ],
      "text/plain": [
       "day               Friday  Monday  Saturday  Sunday  Thursday  Tuesday  \\\n",
       "store_name                                                              \n",
       "Albert Heijn           0       0         0       1         1        0   \n",
       "Delhaize               0       0         0       2         0        0   \n",
       "Ikea                   1       0         0       0         0        0   \n",
       "Okay                   0       0         1       0         0        1   \n",
       "Sys                    0       1         3       5         0        1   \n",
       "Versavel Poelman       0       1         1       1         0        0   \n",
       "\n",
       "day               Wednesday  \n",
       "store_name                   \n",
       "Albert Heijn              1  \n",
       "Delhaize                  0  \n",
       "Ikea                      0  \n",
       "Okay                      0  \n",
       "Sys                       1  \n",
       "Versavel Poelman          0  "
      ]
     },
     "execution_count": 23,
     "metadata": {},
     "output_type": "execute_result"
    }
   ],
   "source": [
    "# Cross tabulation between DAY and STORE TYPE\n",
    "CrosstabResult1=pd.crosstab(index=df_time1['store_name'],columns=df_time1['day'])\n",
    "CrosstabResult2=pd.crosstab(index=df_time2['store_name'],columns=df_time2['day'])\n",
    "CrosstabResult3=pd.crosstab(index=df_time3['store_name'],columns=df_time3['day'])\n",
    "CrosstabResult1"
   ]
  },
  {
   "cell_type": "code",
   "execution_count": 24,
   "id": "37726bbd",
   "metadata": {
    "scrolled": true
   },
   "outputs": [
    {
     "name": "stdout",
     "output_type": "stream",
     "text": [
      "The P-Value of the ChiSq Test is: 0.0647121144829477\n",
      "The P-Value of the ChiSq Test is: 0.26502591529736164\n",
      "The P-Value of the ChiSq Test is: 0.12034480882747386\n"
     ]
    }
   ],
   "source": [
    "# Performing Chi-sq test\n",
    "ChiSqResult1 = chi2_contingency(CrosstabResult1)\n",
    "ChiSqResult2 = chi2_contingency(CrosstabResult2)\n",
    "ChiSqResult3 = chi2_contingency(CrosstabResult3)\n",
    "\n",
    "# P-Value is the Probability of H0 being True\n",
    "# If P-Value > 0.05 then only we Accept the assumption(H0)\n",
    "\n",
    "print('The P-Value of the ChiSq Test is:', ChiSqResult1[1])\n",
    "print('The P-Value of the ChiSq Test is:', ChiSqResult2[1])\n",
    "print('The P-Value of the ChiSq Test is:', ChiSqResult3[1])"
   ]
  },
  {
   "cell_type": "markdown",
   "id": "0cc07b0e",
   "metadata": {},
   "source": [
    "-\n",
    "\n",
    "# 3.2 TIME VS DAY @ SPECIFIED STORE"
   ]
  },
  {
   "cell_type": "code",
   "execution_count": 25,
   "id": "e59b7d76",
   "metadata": {},
   "outputs": [],
   "source": [
    "df = pd.read_csv (r\"C:\\Users\\20204113\\OneDrive - TU Eindhoven\\2_Research\\1_Groceries\\DATA\\9th week - narrative (3rd attempt)\\HH2\\df\\df_HH2.csv\")\n",
    "\n",
    "df_orders = df[['order_ID', 'store_name', 'storename_num', 'store_type', 'storetype_num','day', 'day_num', 'time', 'time_num', 'timestamp', 'times', 'dates', 'times_min', 'dates_days', 'order_amount', 'order_price']]\n",
    "df_orders = df_orders.drop_duplicates()"
   ]
  },
  {
   "cell_type": "markdown",
   "id": "d31c13a6",
   "metadata": {},
   "source": [
    "#### Now that we know which store, we select the correct store"
   ]
  },
  {
   "cell_type": "code",
   "execution_count": 26,
   "id": "a6e66c24",
   "metadata": {},
   "outputs": [],
   "source": [
    "# to select only one\n",
    "store1 = 'Albert Heijn'\n",
    "store2 = 'Sys'\n",
    "store3 = 'Okay'\n",
    "store4 = 'Delhaize'\n",
    "store5 = 'Versavel Poelman'\n",
    "store6 = 'Kruidvat'\n",
    "store7 = 'Brabo'\n",
    "store8 = 'Ikea'\n",
    "store9 = 'Carrefour'\n",
    "\n",
    "# select only these data for the df\n",
    "df_store1 = df_orders[df_orders['store_name'] == store1]\n",
    "df_store2 = df_orders[df_orders['store_name'] == store2]\n",
    "df_store3 = df_orders[df_orders['store_name'] == store3]\n",
    "df_store4 = df_orders[df_orders['store_name'] == store4]\n",
    "df_store5 = df_orders[df_orders['store_name'] == store5]\n",
    "df_store6 = df_orders[df_orders['store_name'] == store6]\n",
    "df_store7 = df_orders[df_orders['store_name'] == store7]\n",
    "df_store8 = df_orders[df_orders['store_name'] == store8]\n",
    "df_store9 = df_orders[df_orders['store_name'] == store9]"
   ]
  },
  {
   "cell_type": "code",
   "execution_count": 27,
   "id": "ffcab5f0",
   "metadata": {},
   "outputs": [
    {
     "data": {
      "text/html": [
       "<div>\n",
       "<style scoped>\n",
       "    .dataframe tbody tr th:only-of-type {\n",
       "        vertical-align: middle;\n",
       "    }\n",
       "\n",
       "    .dataframe tbody tr th {\n",
       "        vertical-align: top;\n",
       "    }\n",
       "\n",
       "    .dataframe thead th {\n",
       "        text-align: right;\n",
       "    }\n",
       "</style>\n",
       "<table border=\"1\" class=\"dataframe\">\n",
       "  <thead>\n",
       "    <tr style=\"text-align: right;\">\n",
       "      <th>day</th>\n",
       "      <th>Saturday</th>\n",
       "      <th>Thursday</th>\n",
       "      <th>Tuesday</th>\n",
       "    </tr>\n",
       "    <tr>\n",
       "      <th>time</th>\n",
       "      <th></th>\n",
       "      <th></th>\n",
       "      <th></th>\n",
       "    </tr>\n",
       "  </thead>\n",
       "  <tbody>\n",
       "    <tr>\n",
       "      <th>afternoon</th>\n",
       "      <td>1</td>\n",
       "      <td>1</td>\n",
       "      <td>0</td>\n",
       "    </tr>\n",
       "    <tr>\n",
       "      <th>evening</th>\n",
       "      <td>0</td>\n",
       "      <td>1</td>\n",
       "      <td>0</td>\n",
       "    </tr>\n",
       "    <tr>\n",
       "      <th>morning</th>\n",
       "      <td>1</td>\n",
       "      <td>0</td>\n",
       "      <td>1</td>\n",
       "    </tr>\n",
       "    <tr>\n",
       "      <th>noon</th>\n",
       "      <td>0</td>\n",
       "      <td>0</td>\n",
       "      <td>1</td>\n",
       "    </tr>\n",
       "  </tbody>\n",
       "</table>\n",
       "</div>"
      ],
      "text/plain": [
       "day        Saturday  Thursday  Tuesday\n",
       "time                                  \n",
       "afternoon         1         1        0\n",
       "evening           0         1        0\n",
       "morning           1         0        1\n",
       "noon              0         0        1"
      ]
     },
     "execution_count": 27,
     "metadata": {},
     "output_type": "execute_result"
    }
   ],
   "source": [
    "# Cross tabulation between DAY and TIME\n",
    "CrosstabResult1=pd.crosstab(index=df_store1['time'],columns=df_store1['day'])\n",
    "CrosstabResult2=pd.crosstab(index=df_store2['time'],columns=df_store2['day'])\n",
    "CrosstabResult3=pd.crosstab(index=df_store3['time'],columns=df_store3['day'])\n",
    "CrosstabResult4=pd.crosstab(index=df_store4['time'],columns=df_store4['day'])\n",
    "CrosstabResult5=pd.crosstab(index=df_store5['time'],columns=df_store5['day'])\n",
    "CrosstabResult6=pd.crosstab(index=df_store6['time'],columns=df_store6['day'])\n",
    "CrosstabResult7=pd.crosstab(index=df_store7['time'],columns=df_store7['day'])\n",
    "CrosstabResult8=pd.crosstab(index=df_store8['time'],columns=df_store8['day'])\n",
    "CrosstabResult9=pd.crosstab(index=df_store9['time'],columns=df_store9['day'])\n",
    "CrosstabResult3"
   ]
  },
  {
   "cell_type": "code",
   "execution_count": 28,
   "id": "bbc058b7",
   "metadata": {
    "scrolled": false
   },
   "outputs": [
    {
     "name": "stdout",
     "output_type": "stream",
     "text": [
      "The P-Value of the ChiSq Test 1 is: 0.536632667900785\n",
      "The P-Value of the ChiSq Test 2 is: 0.2437539574931151\n",
      "The P-Value of the ChiSq Test 3 is: 0.4231900811268435\n",
      "The P-Value of the ChiSq Test 4 is: 0.6650055421020291\n",
      "The P-Value of the ChiSq Test 5 is: 1.0\n",
      "The P-Value of the ChiSq Test 6 is: 1.0\n",
      "The P-Value of the ChiSq Test 7 is: 1.0\n",
      "The P-Value of the ChiSq Test 8 is: 1.0\n",
      "The P-Value of the ChiSq Test 9 is: 1.0\n"
     ]
    }
   ],
   "source": [
    "# Performing Chi-sq test\n",
    "ChiSqResult1 = chi2_contingency(CrosstabResult1)\n",
    "ChiSqResult2 = chi2_contingency(CrosstabResult2)\n",
    "ChiSqResult3 = chi2_contingency(CrosstabResult3)\n",
    "ChiSqResult4 = chi2_contingency(CrosstabResult4)\n",
    "ChiSqResult5 = chi2_contingency(CrosstabResult5)\n",
    "ChiSqResult6 = chi2_contingency(CrosstabResult6)\n",
    "ChiSqResult7 = chi2_contingency(CrosstabResult7)\n",
    "ChiSqResult8 = chi2_contingency(CrosstabResult8)\n",
    "ChiSqResult9 = chi2_contingency(CrosstabResult9)\n",
    "\n",
    "# P-Value is the Probability of H0 being True\n",
    "# If P-Value > 0.05 then only we Accept the assumption(H0)\n",
    "\n",
    "print('The P-Value of the ChiSq Test 1 is:', ChiSqResult1[1])\n",
    "print('The P-Value of the ChiSq Test 2 is:', ChiSqResult2[1])\n",
    "print('The P-Value of the ChiSq Test 3 is:', ChiSqResult3[1])\n",
    "print('The P-Value of the ChiSq Test 4 is:', ChiSqResult4[1])\n",
    "print('The P-Value of the ChiSq Test 5 is:', ChiSqResult5[1])\n",
    "print('The P-Value of the ChiSq Test 6 is:', ChiSqResult6[1])\n",
    "print('The P-Value of the ChiSq Test 7 is:', ChiSqResult7[1])\n",
    "print('The P-Value of the ChiSq Test 8 is:', ChiSqResult8[1])\n",
    "print('The P-Value of the ChiSq Test 9 is:', ChiSqResult9[1])"
   ]
  },
  {
   "cell_type": "markdown",
   "id": "a75a4bca",
   "metadata": {},
   "source": [
    "#### Let's try store type"
   ]
  },
  {
   "cell_type": "code",
   "execution_count": 29,
   "id": "d93ffe84",
   "metadata": {},
   "outputs": [],
   "source": [
    "# to select only one\n",
    "storet1 = 'supermarket'\n",
    "storet2 = 'butcher'\n",
    "storet3 = 'bakery'\n",
    "storet4 = 'drugstore'\n",
    "storet5 = 'furniture store'\n",
    "\n",
    "# select only these data for the df\n",
    "df_storet1 = df_orders[df_orders['store_type'] == storet1]\n",
    "df_storet2 = df_orders[df_orders['store_type'] == storet2]\n",
    "df_storet3 = df_orders[df_orders['store_type'] == storet3]\n",
    "df_storet4 = df_orders[df_orders['store_type'] == storet4]\n",
    "df_storet5 = df_orders[df_orders['store_type'] == storet5]"
   ]
  },
  {
   "cell_type": "code",
   "execution_count": 30,
   "id": "bfbba144",
   "metadata": {},
   "outputs": [
    {
     "data": {
      "text/html": [
       "<div>\n",
       "<style scoped>\n",
       "    .dataframe tbody tr th:only-of-type {\n",
       "        vertical-align: middle;\n",
       "    }\n",
       "\n",
       "    .dataframe tbody tr th {\n",
       "        vertical-align: top;\n",
       "    }\n",
       "\n",
       "    .dataframe thead th {\n",
       "        text-align: right;\n",
       "    }\n",
       "</style>\n",
       "<table border=\"1\" class=\"dataframe\">\n",
       "  <thead>\n",
       "    <tr style=\"text-align: right;\">\n",
       "      <th>day</th>\n",
       "      <th>Friday</th>\n",
       "      <th>Monday</th>\n",
       "      <th>Saturday</th>\n",
       "      <th>Sunday</th>\n",
       "      <th>Thursday</th>\n",
       "      <th>Tuesday</th>\n",
       "      <th>Wednesday</th>\n",
       "    </tr>\n",
       "    <tr>\n",
       "      <th>time</th>\n",
       "      <th></th>\n",
       "      <th></th>\n",
       "      <th></th>\n",
       "      <th></th>\n",
       "      <th></th>\n",
       "      <th></th>\n",
       "      <th></th>\n",
       "    </tr>\n",
       "  </thead>\n",
       "  <tbody>\n",
       "    <tr>\n",
       "      <th>afternoon</th>\n",
       "      <td>1</td>\n",
       "      <td>0</td>\n",
       "      <td>1</td>\n",
       "      <td>0</td>\n",
       "      <td>1</td>\n",
       "      <td>0</td>\n",
       "      <td>0</td>\n",
       "    </tr>\n",
       "    <tr>\n",
       "      <th>evening</th>\n",
       "      <td>0</td>\n",
       "      <td>1</td>\n",
       "      <td>1</td>\n",
       "      <td>0</td>\n",
       "      <td>1</td>\n",
       "      <td>0</td>\n",
       "      <td>0</td>\n",
       "    </tr>\n",
       "    <tr>\n",
       "      <th>morning</th>\n",
       "      <td>0</td>\n",
       "      <td>0</td>\n",
       "      <td>1</td>\n",
       "      <td>3</td>\n",
       "      <td>1</td>\n",
       "      <td>1</td>\n",
       "      <td>1</td>\n",
       "    </tr>\n",
       "    <tr>\n",
       "      <th>noon</th>\n",
       "      <td>1</td>\n",
       "      <td>3</td>\n",
       "      <td>0</td>\n",
       "      <td>0</td>\n",
       "      <td>1</td>\n",
       "      <td>1</td>\n",
       "      <td>3</td>\n",
       "    </tr>\n",
       "  </tbody>\n",
       "</table>\n",
       "</div>"
      ],
      "text/plain": [
       "day        Friday  Monday  Saturday  Sunday  Thursday  Tuesday  Wednesday\n",
       "time                                                                     \n",
       "afternoon       1       0         1       0         1        0          0\n",
       "evening         0       1         1       0         1        0          0\n",
       "morning         0       0         1       3         1        1          1\n",
       "noon            1       3         0       0         1        1          3"
      ]
     },
     "execution_count": 30,
     "metadata": {},
     "output_type": "execute_result"
    }
   ],
   "source": [
    "# Cross tabulation between DAY and TIME\n",
    "CrosstabResult1=pd.crosstab(index=df_storet1['time'],columns=df_storet1['day'])\n",
    "CrosstabResult2=pd.crosstab(index=df_storet2['time'],columns=df_storet2['day'])\n",
    "CrosstabResult3=pd.crosstab(index=df_storet3['time'],columns=df_storet3['day'])\n",
    "CrosstabResult4=pd.crosstab(index=df_storet4['time'],columns=df_storet4['day'])\n",
    "CrosstabResult5=pd.crosstab(index=df_storet5['time'],columns=df_storet5['day'])\n",
    "CrosstabResult1"
   ]
  },
  {
   "cell_type": "code",
   "execution_count": 31,
   "id": "a6c0c539",
   "metadata": {
    "scrolled": false
   },
   "outputs": [
    {
     "name": "stdout",
     "output_type": "stream",
     "text": [
      "The P-Value of the ChiSq Test 1 is: 0.3482146508127832\n",
      "The P-Value of the ChiSq Test 2 is: 0.26146412994911117\n",
      "The P-Value of the ChiSq Test 3 is: 0.2437539574931151\n",
      "The P-Value of the ChiSq Test 4 is: 1.0\n",
      "The P-Value of the ChiSq Test 5 is: 1.0\n"
     ]
    }
   ],
   "source": [
    "# Performing Chi-sq test\n",
    "ChiSqResult1 = chi2_contingency(CrosstabResult1)\n",
    "ChiSqResult2 = chi2_contingency(CrosstabResult2)\n",
    "ChiSqResult3 = chi2_contingency(CrosstabResult3)\n",
    "ChiSqResult4 = chi2_contingency(CrosstabResult4)\n",
    "ChiSqResult5 = chi2_contingency(CrosstabResult5)\n",
    "\n",
    "\n",
    "# P-Value is the Probability of H0 being True\n",
    "# If P-Value > 0.05 then only we Accept the assumption(H0)\n",
    "\n",
    "print('The P-Value of the ChiSq Test 1 is:', ChiSqResult1[1])\n",
    "print('The P-Value of the ChiSq Test 2 is:', ChiSqResult2[1])\n",
    "print('The P-Value of the ChiSq Test 3 is:', ChiSqResult3[1])\n",
    "print('The P-Value of the ChiSq Test 4 is:', ChiSqResult4[1])\n",
    "print('The P-Value of the ChiSq Test 5 is:', ChiSqResult5[1])"
   ]
  },
  {
   "cell_type": "markdown",
   "id": "20ae0efa",
   "metadata": {},
   "source": [
    "##### ChiSQ for day vs time is not significant!  ---> let's check day(ofweek) vs individual time"
   ]
  },
  {
   "cell_type": "code",
   "execution_count": null,
   "id": "d70f8ebb",
   "metadata": {},
   "outputs": [],
   "source": []
  },
  {
   "cell_type": "code",
   "execution_count": null,
   "id": "a4a97065",
   "metadata": {},
   "outputs": [],
   "source": []
  },
  {
   "cell_type": "code",
   "execution_count": null,
   "id": "846cee2a",
   "metadata": {},
   "outputs": [],
   "source": []
  },
  {
   "cell_type": "markdown",
   "id": "c5f89cd9",
   "metadata": {},
   "source": [
    "### WHAT IF WE AGGREGATE BOTH WEEK/WEEKEND & 3 TIMES"
   ]
  },
  {
   "cell_type": "code",
   "execution_count": 37,
   "id": "34ca1a85",
   "metadata": {},
   "outputs": [],
   "source": [
    "df = pd.read_csv (r\"C:\\Users\\20204113\\OneDrive - TU Eindhoven\\2_Research\\1_Groceries\\DATA\\9th week - narrative (3rd attempt)\\HH2\\df\\df_HH2.csv\")\n",
    "\n",
    "df_orders = df[['order_ID', 'store_name', 'storename_num', 'store_type', 'storetype_num','day', 'day_num', 'time', 'time_num', 'timestamp', 'times', 'dates', 'times_min', 'dates_days', 'order_amount', 'order_price']]\n",
    "df_orders = df_orders.drop_duplicates()"
   ]
  },
  {
   "cell_type": "code",
   "execution_count": 38,
   "id": "7a2b7158",
   "metadata": {},
   "outputs": [],
   "source": [
    "#Let's try afternoon and evening as one group\n",
    "df_orders['day'] = df_orders['day'].replace(['Monday', 'Tuesday', 'Wednesday', 'Thursday', 'Friday'], 'weekday')\n",
    "df_orders['day'] = df_orders['day'].replace(['Saturday', 'Sunday'], 'weekend')"
   ]
  },
  {
   "cell_type": "code",
   "execution_count": 39,
   "id": "e55501f2",
   "metadata": {},
   "outputs": [],
   "source": [
    "#Let's try afternoon and evening as one group\n",
    "df_orders['time'] = df_orders['time'].replace(['afternoon', 'evening'], 'afternoon')"
   ]
  },
  {
   "cell_type": "code",
   "execution_count": 40,
   "id": "c723a595",
   "metadata": {},
   "outputs": [],
   "source": [
    "df_storet1 = df_orders[df_orders['store_type'] == storet1]\n",
    "df_store1 = df_orders[df_orders['store_name'] == store1]"
   ]
  },
  {
   "cell_type": "code",
   "execution_count": 47,
   "id": "7da5040f",
   "metadata": {},
   "outputs": [
    {
     "data": {
      "text/html": [
       "<div>\n",
       "<style scoped>\n",
       "    .dataframe tbody tr th:only-of-type {\n",
       "        vertical-align: middle;\n",
       "    }\n",
       "\n",
       "    .dataframe tbody tr th {\n",
       "        vertical-align: top;\n",
       "    }\n",
       "\n",
       "    .dataframe thead th {\n",
       "        text-align: right;\n",
       "    }\n",
       "</style>\n",
       "<table border=\"1\" class=\"dataframe\">\n",
       "  <thead>\n",
       "    <tr style=\"text-align: right;\">\n",
       "      <th>day</th>\n",
       "      <th>weekday</th>\n",
       "      <th>weekend</th>\n",
       "    </tr>\n",
       "    <tr>\n",
       "      <th>time</th>\n",
       "      <th></th>\n",
       "      <th></th>\n",
       "    </tr>\n",
       "  </thead>\n",
       "  <tbody>\n",
       "    <tr>\n",
       "      <th>afternoon</th>\n",
       "      <td>4</td>\n",
       "      <td>2</td>\n",
       "    </tr>\n",
       "    <tr>\n",
       "      <th>morning</th>\n",
       "      <td>3</td>\n",
       "      <td>4</td>\n",
       "    </tr>\n",
       "    <tr>\n",
       "      <th>noon</th>\n",
       "      <td>9</td>\n",
       "      <td>0</td>\n",
       "    </tr>\n",
       "  </tbody>\n",
       "</table>\n",
       "</div>"
      ],
      "text/plain": [
       "day        weekday  weekend\n",
       "time                       \n",
       "afternoon        4        2\n",
       "morning          3        4\n",
       "noon             9        0"
      ]
     },
     "execution_count": 47,
     "metadata": {},
     "output_type": "execute_result"
    }
   ],
   "source": [
    "# Cross tabulation between DAY and TIME\n",
    "CrosstabResult=pd.crosstab(index=df_storet1['time'],columns=df_storet1['day'])\n",
    "CrosstabResult"
   ]
  },
  {
   "cell_type": "code",
   "execution_count": 48,
   "id": "f39811d4",
   "metadata": {},
   "outputs": [
    {
     "name": "stdout",
     "output_type": "stream",
     "text": [
      "The P-Value of the ChiSq Test is: 0.03624476516103243\n"
     ]
    }
   ],
   "source": [
    "# Performing Chi-sq test\n",
    "ChiSqResult = chi2_contingency(CrosstabResult)\n",
    "\n",
    "# P-Value is the Probability of H0 being True\n",
    "# If P-Value > 0.05 then only we Accept the assumption(H0)\n",
    "\n",
    "print('The P-Value of the ChiSq Test is:', ChiSqResult[1])"
   ]
  },
  {
   "cell_type": "markdown",
   "id": "1a520da1",
   "metadata": {},
   "source": [
    "#### Significant for store type @ week/weekend @3cat\n",
    "> perhaps not very useful?"
   ]
  }
 ],
 "metadata": {
  "kernelspec": {
   "display_name": "Python 3 (ipykernel)",
   "language": "python",
   "name": "python3"
  },
  "language_info": {
   "codemirror_mode": {
    "name": "ipython",
    "version": 3
   },
   "file_extension": ".py",
   "mimetype": "text/x-python",
   "name": "python",
   "nbconvert_exporter": "python",
   "pygments_lexer": "ipython3",
   "version": "3.9.7"
  }
 },
 "nbformat": 4,
 "nbformat_minor": 5
}

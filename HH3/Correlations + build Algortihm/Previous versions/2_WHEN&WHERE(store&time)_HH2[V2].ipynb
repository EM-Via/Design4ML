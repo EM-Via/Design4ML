{
 "cells": [
  {
   "cell_type": "markdown",
   "id": "2cce2977",
   "metadata": {},
   "source": [
    "## 3: FIRST ALGORITHM - WHEN WILL THEY SHOP?\n",
    "\n",
    "\n",
    "1. build grid: when do/dont they shop, how many times, on which day...\n",
    "2. define priliminaries for algorithm\n",
    "3. define filters for algorithm\n",
    "4. RUN algorithm \n",
    "\n",
    "\n",
    "----\n",
    "\n",
    "\n",
    "Outcome (example):\n",
    "1. input: Wednesday\n",
    "2. output: TRUE, 1x\n",
    "\n",
    "Outcome pt. 2 (example):\n",
    "1. input: 12:45 (time)\n",
    "2. output: noon, TRUE\n",
    "\n",
    "or\n",
    "\n",
    "1. input: 19:34 (time)\n",
    "2. output: evening, FALSE"
   ]
  },
  {
   "cell_type": "markdown",
   "id": "87a037df",
   "metadata": {},
   "source": [
    "### Import libraries "
   ]
  },
  {
   "cell_type": "code",
   "execution_count": 2,
   "id": "419cb39a",
   "metadata": {},
   "outputs": [],
   "source": [
    "# %matplotlib notebook\n",
    "%matplotlib inline\n",
    "#Pandas is a software library written for the Python programming language for data manipulation and analysis.\n",
    "import pandas as pd\n",
    "#NumPy is a library for the Python programming language, adding support for large, multi-dimensional arrays and matrices, along with a large collection of high-level mathematical functions to operate on these arrays\n",
    "import numpy as np\n",
    "# Matplotlib is a plotting library for python and pyplot gives us a MatLab like plotting framework. We will use this in our plotter function to plot data.\n",
    "import matplotlib.pyplot as plt\n",
    "#Seaborn is a Python data visualization library based on matplotlib. It provides a high-level interface for drawing attractive and informative statistical graphics\n",
    "import seaborn as sns\n",
    "import dataframe_image as dfi\n",
    "from datetime import time\n",
    "import matplotlib.dates as mdates\n",
    "from matplotlib.ticker import StrMethodFormatter\n",
    "from matplotlib.pyplot import figure\n",
    "\n",
    "\n",
    "\n",
    "from sklearn.cluster import KMeans\n",
    "from sklearn.datasets import make_blobs\n",
    "from sklearn.ensemble import RandomForestClassifier\n",
    "from sklearn.linear_model import LinearRegression\n",
    "from sklearn.metrics import mean_absolute_error, mean_squared_error\n",
    "from sklearn.tree import DecisionTreeClassifier, export_graphviz, plot_tree"
   ]
  },
  {
   "cell_type": "code",
   "execution_count": 3,
   "id": "bd644e3a",
   "metadata": {},
   "outputs": [],
   "source": [
    "# importing the required function\n",
    "from scipy.stats import chi2_contingency"
   ]
  },
  {
   "cell_type": "markdown",
   "id": "f10011bb",
   "metadata": {},
   "source": [
    "### Load and view data "
   ]
  },
  {
   "cell_type": "code",
   "execution_count": 4,
   "id": "f90057bd",
   "metadata": {},
   "outputs": [],
   "source": [
    "df = pd.read_csv (r\"C:\\Users\\20204113\\OneDrive - TU Eindhoven\\2_Research\\1_Groceries\\DATA\\9th week - narrative (3rd attempt)\\HH2\\df\\df_HH2.csv\")\n",
    "\n",
    "# del df[\"HH\"]\n",
    "# df.describe(include='all')"
   ]
  },
  {
   "cell_type": "code",
   "execution_count": 5,
   "id": "2750f198",
   "metadata": {},
   "outputs": [],
   "source": [
    "# use the corr function to display the correlation between all the features\n",
    "data_corr = df.corr()\n",
    "# data_corr"
   ]
  },
  {
   "cell_type": "markdown",
   "id": "d1dd54c1",
   "metadata": {},
   "source": [
    "-\n",
    "# 1. Where? (store type/name)"
   ]
  },
  {
   "cell_type": "markdown",
   "id": "a4295e48",
   "metadata": {},
   "source": [
    "### Check the correlations"
   ]
  },
  {
   "cell_type": "markdown",
   "id": "d81049ff",
   "metadata": {},
   "source": [
    "#### check correlation per store type"
   ]
  },
  {
   "cell_type": "code",
   "execution_count": 7,
   "id": "72e6c1f7",
   "metadata": {},
   "outputs": [],
   "source": [
    "df = pd.read_csv (r\"C:\\Users\\20204113\\OneDrive - TU Eindhoven\\2_Research\\1_Groceries\\DATA\\9th week - narrative (3rd attempt)\\HH2\\df\\df_HH2.csv\")\n",
    "\n",
    "df_orders = df[['week', 'order_ID', 'store_name', 'storename_num', 'store_type', 'storetype_num','day', 'day_num', 'time', 'time_num', 'timestamp', 'times', 'dates', 'times_min', 'dates_days', 'order_amount', 'order_price']]\n",
    "df_orders = df_orders.drop_duplicates()"
   ]
  },
  {
   "cell_type": "code",
   "execution_count": 8,
   "id": "940aa6a5",
   "metadata": {
    "scrolled": false
   },
   "outputs": [
    {
     "data": {
      "text/html": [
       "<div>\n",
       "<style scoped>\n",
       "    .dataframe tbody tr th:only-of-type {\n",
       "        vertical-align: middle;\n",
       "    }\n",
       "\n",
       "    .dataframe tbody tr th {\n",
       "        vertical-align: top;\n",
       "    }\n",
       "\n",
       "    .dataframe thead th {\n",
       "        text-align: right;\n",
       "    }\n",
       "</style>\n",
       "<table border=\"1\" class=\"dataframe\">\n",
       "  <thead>\n",
       "    <tr style=\"text-align: right;\">\n",
       "      <th>day</th>\n",
       "      <th>Friday</th>\n",
       "      <th>Monday</th>\n",
       "      <th>Saturday</th>\n",
       "      <th>Sunday</th>\n",
       "      <th>Thursday</th>\n",
       "      <th>Tuesday</th>\n",
       "      <th>Wednesday</th>\n",
       "    </tr>\n",
       "    <tr>\n",
       "      <th>store_type</th>\n",
       "      <th></th>\n",
       "      <th></th>\n",
       "      <th></th>\n",
       "      <th></th>\n",
       "      <th></th>\n",
       "      <th></th>\n",
       "      <th></th>\n",
       "    </tr>\n",
       "  </thead>\n",
       "  <tbody>\n",
       "    <tr>\n",
       "      <th>bakery</th>\n",
       "      <td>0</td>\n",
       "      <td>1</td>\n",
       "      <td>3</td>\n",
       "      <td>5</td>\n",
       "      <td>0</td>\n",
       "      <td>2</td>\n",
       "      <td>1</td>\n",
       "    </tr>\n",
       "    <tr>\n",
       "      <th>butcher</th>\n",
       "      <td>0</td>\n",
       "      <td>1</td>\n",
       "      <td>1</td>\n",
       "      <td>1</td>\n",
       "      <td>1</td>\n",
       "      <td>0</td>\n",
       "      <td>0</td>\n",
       "    </tr>\n",
       "    <tr>\n",
       "      <th>drugstore</th>\n",
       "      <td>0</td>\n",
       "      <td>0</td>\n",
       "      <td>0</td>\n",
       "      <td>0</td>\n",
       "      <td>0</td>\n",
       "      <td>1</td>\n",
       "      <td>0</td>\n",
       "    </tr>\n",
       "    <tr>\n",
       "      <th>furniture store</th>\n",
       "      <td>1</td>\n",
       "      <td>0</td>\n",
       "      <td>0</td>\n",
       "      <td>0</td>\n",
       "      <td>0</td>\n",
       "      <td>0</td>\n",
       "      <td>0</td>\n",
       "    </tr>\n",
       "    <tr>\n",
       "      <th>supermarket</th>\n",
       "      <td>2</td>\n",
       "      <td>4</td>\n",
       "      <td>3</td>\n",
       "      <td>3</td>\n",
       "      <td>4</td>\n",
       "      <td>2</td>\n",
       "      <td>4</td>\n",
       "    </tr>\n",
       "  </tbody>\n",
       "</table>\n",
       "</div>"
      ],
      "text/plain": [
       "day              Friday  Monday  Saturday  Sunday  Thursday  Tuesday  \\\n",
       "store_type                                                             \n",
       "bakery                0       1         3       5         0        2   \n",
       "butcher               0       1         1       1         1        0   \n",
       "drugstore             0       0         0       0         0        1   \n",
       "furniture store       1       0         0       0         0        0   \n",
       "supermarket           2       4         3       3         4        2   \n",
       "\n",
       "day              Wednesday  \n",
       "store_type                  \n",
       "bakery                   1  \n",
       "butcher                  0  \n",
       "drugstore                0  \n",
       "furniture store          0  \n",
       "supermarket              4  "
      ]
     },
     "execution_count": 8,
     "metadata": {},
     "output_type": "execute_result"
    }
   ],
   "source": [
    "# Cross tabulation between DAY and TIME\n",
    "CrosstabResult=pd.crosstab(index=df_orders['store_type'],columns=df_orders['day'])\n",
    "CrosstabResult"
   ]
  },
  {
   "cell_type": "code",
   "execution_count": 9,
   "id": "dde37951",
   "metadata": {
    "scrolled": true
   },
   "outputs": [
    {
     "name": "stdout",
     "output_type": "stream",
     "text": [
      "The P-Value of the ChiSq Test is: 0.20212640487695582\n"
     ]
    }
   ],
   "source": [
    "# Performing Chi-sq test\n",
    "ChiSqResult = chi2_contingency(CrosstabResult)\n",
    "\n",
    "# P-Value is the Probability of H0 being True\n",
    "# If P-Value > 0.05 then only we Accept the assumption(H0)\n",
    "\n",
    "print('The P-Value of the ChiSq Test is:', ChiSqResult[1])"
   ]
  },
  {
   "cell_type": "markdown",
   "id": "40a62cd1",
   "metadata": {},
   "source": [
    "Not significant, let's get more specific:"
   ]
  },
  {
   "cell_type": "markdown",
   "id": "5d739133",
   "metadata": {},
   "source": [
    "#### check correlation per store name"
   ]
  },
  {
   "cell_type": "code",
   "execution_count": 10,
   "id": "cc4406b5",
   "metadata": {
    "scrolled": false
   },
   "outputs": [
    {
     "data": {
      "text/html": [
       "<div>\n",
       "<style scoped>\n",
       "    .dataframe tbody tr th:only-of-type {\n",
       "        vertical-align: middle;\n",
       "    }\n",
       "\n",
       "    .dataframe tbody tr th {\n",
       "        vertical-align: top;\n",
       "    }\n",
       "\n",
       "    .dataframe thead th {\n",
       "        text-align: right;\n",
       "    }\n",
       "</style>\n",
       "<table border=\"1\" class=\"dataframe\">\n",
       "  <thead>\n",
       "    <tr style=\"text-align: right;\">\n",
       "      <th>day</th>\n",
       "      <th>Friday</th>\n",
       "      <th>Monday</th>\n",
       "      <th>Saturday</th>\n",
       "      <th>Sunday</th>\n",
       "      <th>Thursday</th>\n",
       "      <th>Tuesday</th>\n",
       "      <th>Wednesday</th>\n",
       "    </tr>\n",
       "    <tr>\n",
       "      <th>store_name</th>\n",
       "      <th></th>\n",
       "      <th></th>\n",
       "      <th></th>\n",
       "      <th></th>\n",
       "      <th></th>\n",
       "      <th></th>\n",
       "      <th></th>\n",
       "    </tr>\n",
       "  </thead>\n",
       "  <tbody>\n",
       "    <tr>\n",
       "      <th>Albert Heijn</th>\n",
       "      <td>1</td>\n",
       "      <td>4</td>\n",
       "      <td>0</td>\n",
       "      <td>1</td>\n",
       "      <td>2</td>\n",
       "      <td>0</td>\n",
       "      <td>4</td>\n",
       "    </tr>\n",
       "    <tr>\n",
       "      <th>Brabo</th>\n",
       "      <td>0</td>\n",
       "      <td>0</td>\n",
       "      <td>0</td>\n",
       "      <td>0</td>\n",
       "      <td>1</td>\n",
       "      <td>0</td>\n",
       "      <td>0</td>\n",
       "    </tr>\n",
       "    <tr>\n",
       "      <th>Carrefour</th>\n",
       "      <td>0</td>\n",
       "      <td>0</td>\n",
       "      <td>1</td>\n",
       "      <td>0</td>\n",
       "      <td>0</td>\n",
       "      <td>0</td>\n",
       "      <td>0</td>\n",
       "    </tr>\n",
       "    <tr>\n",
       "      <th>Delhaize</th>\n",
       "      <td>1</td>\n",
       "      <td>0</td>\n",
       "      <td>0</td>\n",
       "      <td>2</td>\n",
       "      <td>0</td>\n",
       "      <td>0</td>\n",
       "      <td>0</td>\n",
       "    </tr>\n",
       "    <tr>\n",
       "      <th>Ikea</th>\n",
       "      <td>1</td>\n",
       "      <td>0</td>\n",
       "      <td>0</td>\n",
       "      <td>0</td>\n",
       "      <td>0</td>\n",
       "      <td>0</td>\n",
       "      <td>0</td>\n",
       "    </tr>\n",
       "    <tr>\n",
       "      <th>Kruidvat</th>\n",
       "      <td>0</td>\n",
       "      <td>0</td>\n",
       "      <td>0</td>\n",
       "      <td>0</td>\n",
       "      <td>0</td>\n",
       "      <td>1</td>\n",
       "      <td>0</td>\n",
       "    </tr>\n",
       "    <tr>\n",
       "      <th>Okay</th>\n",
       "      <td>0</td>\n",
       "      <td>0</td>\n",
       "      <td>2</td>\n",
       "      <td>0</td>\n",
       "      <td>2</td>\n",
       "      <td>2</td>\n",
       "      <td>0</td>\n",
       "    </tr>\n",
       "    <tr>\n",
       "      <th>Sys</th>\n",
       "      <td>0</td>\n",
       "      <td>1</td>\n",
       "      <td>3</td>\n",
       "      <td>5</td>\n",
       "      <td>0</td>\n",
       "      <td>2</td>\n",
       "      <td>1</td>\n",
       "    </tr>\n",
       "    <tr>\n",
       "      <th>Versavel Poelman</th>\n",
       "      <td>0</td>\n",
       "      <td>1</td>\n",
       "      <td>1</td>\n",
       "      <td>1</td>\n",
       "      <td>0</td>\n",
       "      <td>0</td>\n",
       "      <td>0</td>\n",
       "    </tr>\n",
       "  </tbody>\n",
       "</table>\n",
       "</div>"
      ],
      "text/plain": [
       "day               Friday  Monday  Saturday  Sunday  Thursday  Tuesday  \\\n",
       "store_name                                                              \n",
       "Albert Heijn           1       4         0       1         2        0   \n",
       "Brabo                  0       0         0       0         1        0   \n",
       "Carrefour              0       0         1       0         0        0   \n",
       "Delhaize               1       0         0       2         0        0   \n",
       "Ikea                   1       0         0       0         0        0   \n",
       "Kruidvat               0       0         0       0         0        1   \n",
       "Okay                   0       0         2       0         2        2   \n",
       "Sys                    0       1         3       5         0        2   \n",
       "Versavel Poelman       0       1         1       1         0        0   \n",
       "\n",
       "day               Wednesday  \n",
       "store_name                   \n",
       "Albert Heijn              4  \n",
       "Brabo                     0  \n",
       "Carrefour                 0  \n",
       "Delhaize                  0  \n",
       "Ikea                      0  \n",
       "Kruidvat                  0  \n",
       "Okay                      0  \n",
       "Sys                       1  \n",
       "Versavel Poelman          0  "
      ]
     },
     "execution_count": 10,
     "metadata": {},
     "output_type": "execute_result"
    }
   ],
   "source": [
    "# Cross tabulation between DAY and TIME\n",
    "CrosstabResult=pd.crosstab(index=df_orders['store_name'],columns=df_orders['day'])\n",
    "CrosstabResult"
   ]
  },
  {
   "cell_type": "code",
   "execution_count": 11,
   "id": "c9ebd5a7",
   "metadata": {
    "scrolled": true
   },
   "outputs": [
    {
     "name": "stdout",
     "output_type": "stream",
     "text": [
      "The P-Value of the ChiSq Test is: 0.03865973858951397\n"
     ]
    }
   ],
   "source": [
    "# Performing Chi-sq test\n",
    "ChiSqResult = chi2_contingency(CrosstabResult)\n",
    "\n",
    "# P-Value is the Probability of H0 being True\n",
    "# If P-Value > 0.05 then only we Accept the assumption(H0)\n",
    "\n",
    "print('The P-Value of the ChiSq Test is:', ChiSqResult[1])"
   ]
  },
  {
   "cell_type": "markdown",
   "id": "260fefb9",
   "metadata": {},
   "source": [
    "This p-value is low enough to be a significant correlation!\n",
    "> e.g.: if it's Wednesday, they will probably go shopping at Albert Heijn"
   ]
  },
  {
   "cell_type": "markdown",
   "id": "e2d8cb48",
   "metadata": {},
   "source": [
    "### Visualize stores per day (scatterplot)"
   ]
  },
  {
   "cell_type": "code",
   "execution_count": 12,
   "id": "c8b8843b",
   "metadata": {},
   "outputs": [],
   "source": [
    "df_nunique = df.groupby(['day', 'store_name'])['order_ID'].nunique()\n",
    "df_nunique = pd.DataFrame (df_nunique)\n",
    "df_nunique = df_nunique.reset_index()\n",
    "df_nunique = df_nunique.loc[~(df_nunique==0).any(axis=1)]"
   ]
  },
  {
   "cell_type": "code",
   "execution_count": 13,
   "id": "b4bb07f8",
   "metadata": {},
   "outputs": [
    {
     "data": {
      "image/png": "[encoded data removed]",
      "text/plain": [
       "<Figure size 560x240 with 1 Axes>"
      ]
     },
     "metadata": {
      "needs_background": "light"
     },
     "output_type": "display_data"
    }
   ],
   "source": [
    "#order x and y axis chronologically\n",
    "order = ['Monday', 'Tuesday', 'Wednesday', 'Thursday', 'Friday', 'Saturday', 'Sunday']\n",
    "df_nunique['day'] = pd.Categorical(df_nunique['day'], order)\n",
    "df_nunique.sort_values(by=['day'], inplace=True)\n",
    "\n",
    "\n",
    "# select the x and y features\n",
    "x = df_nunique['day']# select the x feature\n",
    "y = df_nunique['store_name']# select the y feature\n",
    "\n",
    "# select the feature that decides the colors\n",
    "colors = df_nunique['order_ID'] # select the color column\n",
    "\n",
    "# select the feature that will decide the size of the circle (and divide the value by 1000 for reshaping in the plot)\n",
    "size = df_nunique['order_ID'] # select the column for the size and divide it by 1000 (/ 1000)\n",
    "\n",
    "# fit the points with the scatter function\n",
    "figure(figsize=(7, 3), dpi=80)\n",
    "sns.scatterplot(x=x, y=y, palette=\"pastel\", hue=colors, size=size, sizes=(20,200))\n",
    "plt.legend(bbox_to_anchor=(1.05, 1), loc=2, borderaxespad=0.)\n",
    "\n",
    "#repeat ChiSq value\n",
    "current_corr = round(ChiSqResult[1], 2)\n",
    "\n",
    "# give the graph a title and labels\n",
    "plt.xlabel(\"day\")\n",
    "plt.ylabel('time')\n",
    "plt.title(f\"The correlation between day & store name (r={current_corr})\")\n",
    "\n",
    "# call the graph (show function)\n",
    "plt.grid(False)\n",
    "plt.show()"
   ]
  },
  {
   "cell_type": "code",
   "execution_count": 352,
   "id": "52e43b89",
   "metadata": {},
   "outputs": [],
   "source": [
    "# df_count = df[['order_ID','store_name', 'day']]\n",
    "# df_count = df_count.drop_duplicates()\n",
    "# df_count = df_count.drop(columns=['order_ID'])\n",
    "# df_count.head()"
   ]
  },
  {
   "cell_type": "markdown",
   "id": "493a1ef5",
   "metadata": {},
   "source": [
    "We now have our first two givens:\n",
    "> 1. It is <b>day X</b>\n",
    "2. The HH will shop at <b>store name X</b>"
   ]
  },
  {
   "cell_type": "markdown",
   "id": "0cc07b0e",
   "metadata": {},
   "source": [
    "-\n",
    "\n",
    "# 2. At what time?"
   ]
  },
  {
   "cell_type": "markdown",
   "id": "97ed79b4",
   "metadata": {},
   "source": [
    "### 2.1  DAY VS TIME"
   ]
  },
  {
   "cell_type": "code",
   "execution_count": 22,
   "id": "e59b7d76",
   "metadata": {},
   "outputs": [],
   "source": [
    "df = pd.read_csv (r\"C:\\Users\\20204113\\OneDrive - TU Eindhoven\\2_Research\\1_Groceries\\DATA\\9th week - narrative (3rd attempt)\\HH2\\df\\df_HH2.csv\")\n",
    "\n",
    "df_orders = df[['order_ID', 'store_name', 'storename_num', 'store_type', 'storetype_num','day', 'day_num', 'time', 'time_num', 'timestamp', 'times', 'dates', 'times_min', 'dates_days', 'order_amount', 'order_price']]\n",
    "df_orders = df_orders.drop_duplicates()"
   ]
  },
  {
   "cell_type": "markdown",
   "id": "773244be",
   "metadata": {},
   "source": [
    "#### Now that we know which store, we select the correct store"
   ]
  },
  {
   "cell_type": "code",
   "execution_count": 14,
   "id": "80250fa7",
   "metadata": {},
   "outputs": [],
   "source": [
    "# to select only one\n",
    "store1 = 'Albert Heijn'\n",
    "store2 = 'Sys'\n",
    "store3 = 'Okay'\n",
    "store4 = 'Delhaize'\n",
    "store5 = 'Versavel Poelman'\n",
    "store6 = 'Kruidvat'\n",
    "store7 = 'Brabo'\n",
    "store8 = 'Ikea'\n",
    "store9 = 'Carrefour'\n",
    "\n",
    "# select only these data for the df\n",
    "df_store1 = df_orders[df_orders['store_name'] == store1]\n",
    "df_store2 = df_orders[df_orders['store_name'] == store2]\n",
    "df_store3 = df_orders[df_orders['store_name'] == store3]\n",
    "df_store4 = df_orders[df_orders['store_name'] == store4]\n",
    "df_store5 = df_orders[df_orders['store_name'] == store5]\n",
    "df_store6 = df_orders[df_orders['store_name'] == store6]\n",
    "df_store7 = df_orders[df_orders['store_name'] == store7]\n",
    "df_store8 = df_orders[df_orders['store_name'] == store8]\n",
    "df_store9 = df_orders[df_orders['store_name'] == store9]"
   ]
  },
  {
   "cell_type": "code",
   "execution_count": 23,
   "id": "ffcab5f0",
   "metadata": {},
   "outputs": [],
   "source": [
    "# Cross tabulation between DAY and TIME\n",
    "CrosstabResult1=pd.crosstab(index=df_store1['time'],columns=df_store1['day'])\n",
    "CrosstabResult2=pd.crosstab(index=df_store2['time'],columns=df_store2['day'])\n",
    "CrosstabResult3=pd.crosstab(index=df_store3['time'],columns=df_store3['day'])\n",
    "CrosstabResult4=pd.crosstab(index=df_store4['time'],columns=df_store4['day'])\n",
    "CrosstabResult5=pd.crosstab(index=df_store5['time'],columns=df_store5['day'])\n",
    "CrosstabResult6=pd.crosstab(index=df_store6['time'],columns=df_store6['day'])\n",
    "CrosstabResult7=pd.crosstab(index=df_store7['time'],columns=df_store7['day'])\n",
    "CrosstabResult8=pd.crosstab(index=df_store8['time'],columns=df_store8['day'])\n",
    "CrosstabResult9=pd.crosstab(index=df_store9['time'],columns=df_store9['day'])\n",
    "\n",
    "# Cross tabulation for all stores\n",
    "CrosstabResult10=pd.crosstab(index=df_orders['time'],columns=df_orders['day'])\n"
   ]
  },
  {
   "cell_type": "code",
   "execution_count": 24,
   "id": "bbc058b7",
   "metadata": {
    "scrolled": false
   },
   "outputs": [
    {
     "name": "stdout",
     "output_type": "stream",
     "text": [
      "The P-Value of the ChiSq Test 1 is: 0.536632667900785\n",
      "The P-Value of the ChiSq Test 2 is: 0.2437539574931151\n",
      "The P-Value of the ChiSq Test 3 is: 0.4231900811268435\n",
      "The P-Value of the ChiSq Test 4 is: 0.6650055421020291\n",
      "The P-Value of the ChiSq Test 5 is: 1.0\n",
      "The P-Value of the ChiSq Test 6 is: 1.0\n",
      "The P-Value of the ChiSq Test 7 is: 1.0\n",
      "The P-Value of the ChiSq Test 8 is: 1.0\n",
      "The P-Value of the ChiSq Test 9 is: 1.0\n",
      "The P-Value of the ChiSq Test for ALL stores is: 0.1226046357444237\n"
     ]
    }
   ],
   "source": [
    "# Performing Chi-sq test\n",
    "ChiSqResult1 = chi2_contingency(CrosstabResult1)\n",
    "ChiSqResult2 = chi2_contingency(CrosstabResult2)\n",
    "ChiSqResult3 = chi2_contingency(CrosstabResult3)\n",
    "ChiSqResult4 = chi2_contingency(CrosstabResult4)\n",
    "ChiSqResult5 = chi2_contingency(CrosstabResult5)\n",
    "ChiSqResult6 = chi2_contingency(CrosstabResult6)\n",
    "ChiSqResult7 = chi2_contingency(CrosstabResult7)\n",
    "ChiSqResult8 = chi2_contingency(CrosstabResult8)\n",
    "ChiSqResult9 = chi2_contingency(CrosstabResult9)\n",
    "ChiSqResult10 = chi2_contingency(CrosstabResult10)\n",
    "\n",
    "# P-Value is the Probability of H0 being True\n",
    "# If P-Value > 0.05 then only we Accept the assumption(H0)\n",
    "\n",
    "print('The P-Value of the ChiSq Test 1 is:', ChiSqResult1[1])\n",
    "print('The P-Value of the ChiSq Test 2 is:', ChiSqResult2[1])\n",
    "print('The P-Value of the ChiSq Test 3 is:', ChiSqResult3[1])\n",
    "print('The P-Value of the ChiSq Test 4 is:', ChiSqResult4[1])\n",
    "print('The P-Value of the ChiSq Test 5 is:', ChiSqResult5[1])\n",
    "print('The P-Value of the ChiSq Test 6 is:', ChiSqResult6[1])\n",
    "print('The P-Value of the ChiSq Test 7 is:', ChiSqResult7[1])\n",
    "print('The P-Value of the ChiSq Test 8 is:', ChiSqResult8[1])\n",
    "print('The P-Value of the ChiSq Test 9 is:', ChiSqResult9[1])\n",
    "\n",
    "print('The P-Value of the ChiSq Test for ALL stores is:', ChiSqResult10[1])"
   ]
  },
  {
   "cell_type": "markdown",
   "id": "20ae0efa",
   "metadata": {},
   "source": [
    "##### Day vs time is not significant for any store name!  ---> let's check day(ofweek) vs individual time"
   ]
  },
  {
   "cell_type": "markdown",
   "id": "5850616d",
   "metadata": {},
   "source": [
    "Let's only check for all stores, since the correlation is highest there at this point"
   ]
  },
  {
   "cell_type": "code",
   "execution_count": 28,
   "id": "2008fbff",
   "metadata": {},
   "outputs": [
    {
     "name": "stdout",
     "output_type": "stream",
     "text": [
      "P-Value for Anova is:  0.07923696121350002\n"
     ]
    }
   ],
   "source": [
    "# f_oneway() function takes the group data as input and \n",
    "# returns F-statistic and P-value\n",
    "from scipy.stats import f_oneway\n",
    " \n",
    "# Assumption(H0) is that day and times are NOT correlated\n",
    " \n",
    "# Finds out the Prices data for each FuelType as a list\n",
    "CategoryGroupLists=df_orders.groupby('day')['times_min'].apply(list)\n",
    " \n",
    "# Performing the ANOVA test\n",
    "# We reject the Assumption(H0) only when P-Value < 0.05\n",
    "AnovaResults = f_oneway(*CategoryGroupLists)\n",
    "print('P-Value for Anova is: ', AnovaResults[1])"
   ]
  },
  {
   "cell_type": "code",
   "execution_count": 29,
   "id": "c594748a",
   "metadata": {
    "scrolled": true
   },
   "outputs": [
    {
     "data": {
      "image/png": "[encoded data removed]",
      "text/plain": [
       "<Figure size 1200x160 with 1 Axes>"
      ]
     },
     "metadata": {
      "needs_background": "light"
     },
     "output_type": "display_data"
    }
   ],
   "source": [
    "figure(figsize=(15, 2), dpi=80)\n",
    "plt.xticks(rotation=45, ha='right')\n",
    "\n",
    "sns.scatterplot(data=df_orders, x='times_min', y='day')\n",
    "\n",
    "# get the Pearson correlation between both variables\n",
    "current_corr = round(AnovaResults[1], 2)\n",
    "\n",
    "# give the graph a title and labels\n",
    "plt.title(f\"The Anova P-value between day & time = (r={current_corr})\")\n",
    "\n",
    "# call the graph (show function)\n",
    "plt.grid(False)\n",
    "plt.show()"
   ]
  },
  {
   "cell_type": "markdown",
   "id": "b66193ff",
   "metadata": {},
   "source": [
    "#### Perhaps we should aggregate days - week vs weekend"
   ]
  },
  {
   "cell_type": "code",
   "execution_count": 30,
   "id": "82e3eea7",
   "metadata": {},
   "outputs": [],
   "source": [
    "#replace weekdays and weekend-days\n",
    "df_orders['day'] = df_orders['day'].replace(['Monday', 'Tuesday', 'Wednesday', 'Thursday', 'Friday'], 'weekday')\n",
    "df_orders['day'] = df_orders['day'].replace(['Saturday', 'Sunday'], 'weekend')"
   ]
  },
  {
   "cell_type": "markdown",
   "id": "63035e77",
   "metadata": {},
   "source": [
    "No significance here either\n",
    "> <b> CONCLUSION: We know the day, we know which store they go to; but it does not matter at what time </b>"
   ]
  }
 ],
 "metadata": {
  "kernelspec": {
   "display_name": "Python 3 (ipykernel)",
   "language": "python",
   "name": "python3"
  },
  "language_info": {
   "codemirror_mode": {
    "name": "ipython",
    "version": 3
   },
   "file_extension": ".py",
   "mimetype": "text/x-python",
   "name": "python",
   "nbconvert_exporter": "python",
   "pygments_lexer": "ipython3",
   "version": "3.9.7"
  }
 },
 "nbformat": 4,
 "nbformat_minor": 5
}

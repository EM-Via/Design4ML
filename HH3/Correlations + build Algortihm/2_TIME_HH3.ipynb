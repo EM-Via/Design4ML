{
 "cells": [
  {
   "cell_type": "markdown",
   "id": "2cce2977",
   "metadata": {},
   "source": [
    "## 3: CORRELATIONS -WHEN WILL THEY SHOP?"
   ]
  },
  {
   "cell_type": "markdown",
   "id": "87a037df",
   "metadata": {},
   "source": [
    "### Import libraries "
   ]
  },
  {
   "cell_type": "code",
   "execution_count": 1,
   "id": "419cb39a",
   "metadata": {},
   "outputs": [],
   "source": [
    "# %matplotlib notebook\n",
    "%matplotlib inline\n",
    "#Pandas is a software library written for the Python programming language for data manipulation and analysis.\n",
    "import pandas as pd\n",
    "#NumPy is a library for the Python programming language, adding support for large, multi-dimensional arrays and matrices, along with a large collection of high-level mathematical functions to operate on these arrays\n",
    "import numpy as np\n",
    "# Matplotlib is a plotting library for python and pyplot gives us a MatLab like plotting framework. We will use this in our plotter function to plot data.\n",
    "import matplotlib.pyplot as plt\n",
    "#Seaborn is a Python data visualization library based on matplotlib. It provides a high-level interface for drawing attractive and informative statistical graphics\n",
    "import seaborn as sns\n",
    "import dataframe_image as dfi\n",
    "from datetime import time\n",
    "import matplotlib.dates as mdates\n",
    "from matplotlib.ticker import StrMethodFormatter\n",
    "from matplotlib.pyplot import figure\n",
    "\n",
    "\n",
    "\n",
    "from sklearn.cluster import KMeans\n",
    "from sklearn.datasets import make_blobs\n",
    "from sklearn.ensemble import RandomForestClassifier\n",
    "from sklearn.linear_model import LinearRegression\n",
    "from sklearn.metrics import mean_absolute_error, mean_squared_error\n",
    "from sklearn.tree import DecisionTreeClassifier, export_graphviz, plot_tree"
   ]
  },
  {
   "cell_type": "code",
   "execution_count": 2,
   "id": "bd644e3a",
   "metadata": {},
   "outputs": [],
   "source": [
    "# importing the required function\n",
    "from scipy.stats import chi2_contingency"
   ]
  },
  {
   "cell_type": "markdown",
   "id": "f10011bb",
   "metadata": {},
   "source": [
    "### Load and view data "
   ]
  },
  {
   "cell_type": "code",
   "execution_count": 3,
   "id": "f90057bd",
   "metadata": {},
   "outputs": [],
   "source": [
    "df = pd.read_csv (r\"C:\\Users\\20204113\\OneDrive - TU Eindhoven\\2_Research\\1_Groceries\\DATA\\9th week - narrative (3rd attempt)\\HH3\\df\\df_HH3.csv\")\n",
    "\n",
    "# del df[\"HH\"]\n",
    "# df.describe(include='all')"
   ]
  },
  {
   "cell_type": "code",
   "execution_count": 4,
   "id": "2750f198",
   "metadata": {},
   "outputs": [],
   "source": [
    "# use the corr function to display the correlation between all the features\n",
    "data_corr = df.corr()\n",
    "# data_corr"
   ]
  },
  {
   "cell_type": "code",
   "execution_count": 5,
   "id": "52e43b89",
   "metadata": {},
   "outputs": [],
   "source": [
    "# df_count = df[['order_ID','store_name', 'day']]\n",
    "# df_count = df_count.drop_duplicates()\n",
    "# df_count = df_count.drop(columns=['order_ID'])\n",
    "# df_count.head()"
   ]
  },
  {
   "cell_type": "markdown",
   "id": "31a64028",
   "metadata": {},
   "source": [
    "# 1.1 DAY vs TIME (all orders)"
   ]
  },
  {
   "cell_type": "code",
   "execution_count": 6,
   "id": "04b6a807",
   "metadata": {},
   "outputs": [],
   "source": [
    "df_orders = df[['order_ID', 'week', 'store_name', 'storename_num', 'store_type', 'storetype_num','day', 'day_num', 'time', 'time_num', 'timestamp', 'times', 'dates', 'times_min', 'dates_days', 'order_amount', 'order_price']]\n",
    "df_orders = df_orders.drop_duplicates()"
   ]
  },
  {
   "cell_type": "code",
   "execution_count": 7,
   "id": "aadd8f0f",
   "metadata": {
    "scrolled": true
   },
   "outputs": [
    {
     "name": "stdout",
     "output_type": "stream",
     "text": [
      "day        Friday  Monday  Sunday  Thursday  Tuesday  Wednesday\n",
      "time                                                           \n",
      "afternoon       1       2       0         3        1          1\n",
      "evening         0       2       0         0        1          2\n",
      "noon            0       0       4         0        1          0\n",
      "The P-Value of the ChiSq Test is: 0.029729166687277375\n"
     ]
    }
   ],
   "source": [
    "# Cross tabulation between DAY and TIME\n",
    "CrosstabResult=pd.crosstab(index=df_orders['time'],columns=df_orders['day'])\n",
    "print(CrosstabResult)\n",
    "\n",
    "\n",
    "# Performing Chi-sq test\n",
    "ChiSqResult = chi2_contingency(CrosstabResult)\n",
    "\n",
    "# P-Value is the Probability of H0 being True\n",
    "# If P-Value > 0.05 then only we Accept the assumption(H0)\n",
    "\n",
    "print('The P-Value of the ChiSq Test is:', ChiSqResult[1])"
   ]
  },
  {
   "cell_type": "markdown",
   "id": "d2f8a968",
   "metadata": {},
   "source": [
    "#### Let's try check continuous time vs day"
   ]
  },
  {
   "cell_type": "code",
   "execution_count": 8,
   "id": "ab70bb4c",
   "metadata": {},
   "outputs": [
    {
     "name": "stdout",
     "output_type": "stream",
     "text": [
      "P-Value for Anova is:  0.01035019551797106\n"
     ]
    }
   ],
   "source": [
    "# f_oneway() function takes the group data as input and \n",
    "# returns F-statistic and P-value\n",
    "from scipy.stats import f_oneway\n",
    " \n",
    "# Assumption(H0) is that day and times are NOT correlated\n",
    " \n",
    "# Finds out the Prices data for each FuelType as a list\n",
    "CategoryGroupLists=df_orders.groupby('day')['times_min'].apply(list)\n",
    " \n",
    "# Performing the ANOVA test\n",
    "# We reject the Assumption(H0) only when P-Value < 0.05\n",
    "AnovaResults = f_oneway(*CategoryGroupLists)\n",
    "print('P-Value for Anova is: ', AnovaResults[1])"
   ]
  },
  {
   "cell_type": "code",
   "execution_count": 9,
   "id": "c75283d2",
   "metadata": {},
   "outputs": [
    {
     "data": {
      "image/png": "[encoded data removed]",
      "text/plain": [
       "<Figure size 1200x160 with 1 Axes>"
      ]
     },
     "metadata": {
      "needs_background": "light"
     },
     "output_type": "display_data"
    }
   ],
   "source": [
    "figure(figsize=(15, 2), dpi=80)\n",
    "plt.xticks(rotation=45, ha='right')\n",
    "\n",
    "sns.scatterplot(data=df_orders, x='times_min', y='day')\n",
    "\n",
    "# get the Pearson correlation between both variables\n",
    "current_corr = round(AnovaResults[1], 2)\n",
    "\n",
    "# give the graph a title and labels\n",
    "plt.title(f\"The Anova P-value between day & time = (r={current_corr})\")\n",
    "\n",
    "# call the graph (show function)\n",
    "plt.grid(False)\n",
    "plt.show()"
   ]
  },
  {
   "cell_type": "markdown",
   "id": "7e651782",
   "metadata": {},
   "source": [
    "Significant: day of week is related to time of day. \n",
    "- We can see groups around noon (morning to about 1300) + 1400 to 1730 + after 1800"
   ]
  },
  {
   "cell_type": "markdown",
   "id": "f1fb822c",
   "metadata": {},
   "source": [
    "#### Let's try new time definitions"
   ]
  },
  {
   "cell_type": "code",
   "execution_count": 10,
   "id": "07b48d39",
   "metadata": {},
   "outputs": [],
   "source": [
    "def categorize(row):  \n",
    "    if row['times_min'] < 1300:\n",
    "        return 'noon'\n",
    "    elif row['times_min'] >= 1300  and row['times_min'] < 1730:\n",
    "        return 'afternoon'\n",
    "    elif row['times_min'] >= 1800:\n",
    "        return 'evening'"
   ]
  },
  {
   "cell_type": "code",
   "execution_count": 11,
   "id": "3a528aa7",
   "metadata": {},
   "outputs": [],
   "source": [
    "df_orders['time'] = df.apply(lambda row: categorize(row), axis=1)"
   ]
  },
  {
   "cell_type": "code",
   "execution_count": 12,
   "id": "fa607d10",
   "metadata": {
    "scrolled": true
   },
   "outputs": [
    {
     "name": "stdout",
     "output_type": "stream",
     "text": [
      "time       afternoon  evening  noon\n",
      "day                                \n",
      "Friday             1        0     0\n",
      "Monday             2        2     0\n",
      "Sunday             0        0     4\n",
      "Thursday           3        0     0\n",
      "Tuesday            1        1     1\n",
      "Wednesday          1        2     0\n",
      "The P-Value of the ChiSq Test is: 0.029729166687277375\n"
     ]
    }
   ],
   "source": [
    "# Cross tabulation between DAY and TIME\n",
    "CrosstabResult=pd.crosstab(index=df_orders['day'],columns=df_orders['time'])\n",
    "print(CrosstabResult)\n",
    "\n",
    "# Performing Chi-sq test\n",
    "ChiSqResult = chi2_contingency(CrosstabResult)\n",
    "\n",
    "# P-Value is the Probability of H0 being True\n",
    "# If P-Value > 0.05 then only we Accept the assumption(H0)\n",
    "\n",
    "print('The P-Value of the ChiSq Test is:', ChiSqResult[1])"
   ]
  },
  {
   "cell_type": "markdown",
   "id": "dc51a2e2",
   "metadata": {},
   "source": [
    "#### We can use this new time definition"
   ]
  },
  {
   "cell_type": "markdown",
   "id": "dc48fa9f",
   "metadata": {},
   "source": [
    "# 1.2 STORE vs TIME (all orders)"
   ]
  },
  {
   "cell_type": "code",
   "execution_count": 13,
   "id": "bc8d000e",
   "metadata": {},
   "outputs": [
    {
     "name": "stdout",
     "output_type": "stream",
     "text": [
      "time          afternoon  evening  noon\n",
      "store_type                            \n",
      "bakery                0        0     5\n",
      "pet supplies          2        0     0\n",
      "supermarket           6        5     0\n",
      "The P-Value of the ChiSq Test is: 0.0004891858811301636\n"
     ]
    }
   ],
   "source": [
    "# Cross tabulation between DAY and TIME\n",
    "CrosstabResult=pd.crosstab(index=df_orders['store_type'],columns=df_orders['time'])\n",
    "print(CrosstabResult)\n",
    "\n",
    "# Performing Chi-sq test\n",
    "ChiSqResult = chi2_contingency(CrosstabResult)\n",
    "\n",
    "# P-Value is the Probability of H0 being True\n",
    "# If P-Value > 0.05 then only we Accept the assumption(H0)\n",
    "\n",
    "print('The P-Value of the ChiSq Test is:', ChiSqResult[1])"
   ]
  },
  {
   "cell_type": "code",
   "execution_count": 14,
   "id": "161f0432",
   "metadata": {},
   "outputs": [
    {
     "name": "stdout",
     "output_type": "stream",
     "text": [
      "time          afternoon  evening  noon\n",
      "store_name                            \n",
      "Albert Heijn          1        0     0\n",
      "Aldi                  2        1     0\n",
      "Colruyt               1        4     0\n",
      "Delhaize              1        0     0\n",
      "Food Factory          1        0     0\n",
      "Maxi Zoo              1        0     0\n",
      "Tine                  0        0     1\n",
      "Tom&Co                1        0     0\n",
      "Vanessa               0        0     3\n",
      "Wouters               0        0     1\n",
      "The P-Value of the ChiSq Test is: 0.07144784159880203\n"
     ]
    }
   ],
   "source": [
    "# Cross tabulation between DAY and TIME\n",
    "CrosstabResult=pd.crosstab(index=df_orders['store_name'],columns=df_orders['time'])\n",
    "print(CrosstabResult)\n",
    "\n",
    "# Performing Chi-sq test\n",
    "ChiSqResult = chi2_contingency(CrosstabResult)\n",
    "\n",
    "# P-Value is the Probability of H0 being True\n",
    "# If P-Value > 0.05 then only we Accept the assumption(H0)\n",
    "\n",
    "print('The P-Value of the ChiSq Test is:', ChiSqResult[1])"
   ]
  },
  {
   "cell_type": "markdown",
   "id": "23cd9a7c",
   "metadata": {},
   "source": [
    "# 1.3 WEEK vs TIME (all orders)"
   ]
  },
  {
   "cell_type": "code",
   "execution_count": 15,
   "id": "1d9e97c5",
   "metadata": {},
   "outputs": [],
   "source": [
    "df_orders = df[['order_ID', 'week', 'store_name', 'storename_num', 'store_type', 'storetype_num','day', 'day_num', 'time', 'time_num', 'timestamp', 'times', 'dates', 'times_min', 'dates_days', 'order_amount', 'order_price']]\n",
    "df_orders = df_orders.drop_duplicates()"
   ]
  },
  {
   "cell_type": "code",
   "execution_count": 16,
   "id": "01c53949",
   "metadata": {
    "scrolled": true
   },
   "outputs": [
    {
     "name": "stdout",
     "output_type": "stream",
     "text": [
      "time  afternoon  evening  noon\n",
      "week                          \n",
      "1             1        1     1\n",
      "2             0        1     1\n",
      "3             1        0     1\n",
      "4             2        0     0\n",
      "5             0        1     0\n",
      "6             0        1     0\n",
      "7             3        0     1\n",
      "8             1        1     1\n",
      "The P-Value of the ChiSq Test is: 0.5672141346376671\n"
     ]
    }
   ],
   "source": [
    "# Cross tabulation between DAY and TIME\n",
    "CrosstabResult=pd.crosstab(index=df_orders['week'],columns=df_orders['time'])\n",
    "print(CrosstabResult)\n",
    "\n",
    "\n",
    "# Performing Chi-sq test\n",
    "ChiSqResult = chi2_contingency(CrosstabResult)\n",
    "\n",
    "# P-Value is the Probability of H0 being True\n",
    "# If P-Value > 0.05 then only we Accept the assumption(H0)\n",
    "\n",
    "print('The P-Value of the ChiSq Test is:', ChiSqResult[1])"
   ]
  },
  {
   "cell_type": "markdown",
   "id": "25e31ea4",
   "metadata": {},
   "source": [
    "There is no correlation between time and week.\n",
    "> In different weeks, they went on similar times (more predictable?)"
   ]
  },
  {
   "cell_type": "markdown",
   "id": "77e9fb0a",
   "metadata": {},
   "source": [
    "## Let's check continuous time vs weeks (Anova)"
   ]
  },
  {
   "cell_type": "code",
   "execution_count": 17,
   "id": "057ff4ab",
   "metadata": {},
   "outputs": [],
   "source": [
    "df = pd.read_csv (r\"C:\\Users\\20204113\\OneDrive - TU Eindhoven\\2_Research\\1_Groceries\\DATA\\9th week - narrative (3rd attempt)\\HH3\\df\\df_HH3.csv\")\n",
    "\n",
    "df_orders = df[['week','order_ID', 'store_name', 'storename_num', 'store_type', 'storetype_num','day', 'day_num', 'time', 'time_num', 'timestamp', 'times', 'dates', 'times_min', 'dates_days', 'order_amount', 'order_price']]\n",
    "df_orders = df_orders.drop_duplicates()"
   ]
  },
  {
   "cell_type": "code",
   "execution_count": 18,
   "id": "9ad293ab",
   "metadata": {},
   "outputs": [
    {
     "name": "stdout",
     "output_type": "stream",
     "text": [
      "P-Value for Anova is:  0.9337950663850271\n"
     ]
    },
    {
     "data": {
      "image/png": "[encoded data removed]",
      "text/plain": [
       "<Figure size 1200x240 with 1 Axes>"
      ]
     },
     "metadata": {
      "needs_background": "light"
     },
     "output_type": "display_data"
    }
   ],
   "source": [
    "# f_oneway() function takes the group data as input and \n",
    "# returns F-statistic and P-value\n",
    "from scipy.stats import f_oneway\n",
    " \n",
    "# Assumption(H0) is that day and times are NOT correlated\n",
    " \n",
    "# Finds out the Prices data for each FuelType as a list\n",
    "CategoryGroupLists=df_orders.groupby('week')['times_min'].apply(list)\n",
    " \n",
    "# Performing the ANOVA test\n",
    "# We reject the Assumption(H0) only when P-Value < 0.05\n",
    "AnovaResults = f_oneway(*CategoryGroupLists)\n",
    "print('P-Value for Anova is: ', AnovaResults[1])\n",
    "\n",
    "figure(figsize=(15, 3), dpi=80)\n",
    "plt.xticks(rotation=45, ha='right')\n",
    "\n",
    "sns.scatterplot(data=df_orders, x='times_min', y='week')\n",
    "\n",
    "# get the Pearson correlation between both variables\n",
    "current_corr = round(AnovaResults[1], 2)\n",
    "\n",
    "# give the graph a title and labels\n",
    "plt.title(f\"The Anova P-value between week & time = (r={current_corr})\")\n",
    "\n",
    "# call the graph (show function)\n",
    "plt.grid(False)\n",
    "plt.show()"
   ]
  },
  {
   "cell_type": "markdown",
   "id": "5cf14f7f",
   "metadata": {},
   "source": [
    "### Not significant, so overall it is indeed quite predictable"
   ]
  },
  {
   "cell_type": "markdown",
   "id": "b71b20e0",
   "metadata": {},
   "source": [
    "# 2.1. SPECIFIC: Per STORE TYPE"
   ]
  },
  {
   "cell_type": "code",
   "execution_count": 19,
   "id": "e636200c",
   "metadata": {},
   "outputs": [
    {
     "data": {
      "text/html": [
       "<div>\n",
       "<style scoped>\n",
       "    .dataframe tbody tr th:only-of-type {\n",
       "        vertical-align: middle;\n",
       "    }\n",
       "\n",
       "    .dataframe tbody tr th {\n",
       "        vertical-align: top;\n",
       "    }\n",
       "\n",
       "    .dataframe thead th {\n",
       "        text-align: right;\n",
       "    }\n",
       "</style>\n",
       "<table border=\"1\" class=\"dataframe\">\n",
       "  <thead>\n",
       "    <tr style=\"text-align: right;\">\n",
       "      <th>day</th>\n",
       "      <th>Monday</th>\n",
       "      <th>Thursday</th>\n",
       "      <th>Tuesday</th>\n",
       "      <th>Wednesday</th>\n",
       "    </tr>\n",
       "    <tr>\n",
       "      <th>time</th>\n",
       "      <th></th>\n",
       "      <th></th>\n",
       "      <th></th>\n",
       "      <th></th>\n",
       "    </tr>\n",
       "  </thead>\n",
       "  <tbody>\n",
       "    <tr>\n",
       "      <th>afternoon</th>\n",
       "      <td>2</td>\n",
       "      <td>2</td>\n",
       "      <td>1</td>\n",
       "      <td>1</td>\n",
       "    </tr>\n",
       "    <tr>\n",
       "      <th>evening</th>\n",
       "      <td>2</td>\n",
       "      <td>0</td>\n",
       "      <td>1</td>\n",
       "      <td>2</td>\n",
       "    </tr>\n",
       "  </tbody>\n",
       "</table>\n",
       "</div>"
      ],
      "text/plain": [
       "day        Monday  Thursday  Tuesday  Wednesday\n",
       "time                                           \n",
       "afternoon       2         2        1          1\n",
       "evening         2         0        1          2"
      ]
     },
     "execution_count": 19,
     "metadata": {},
     "output_type": "execute_result"
    }
   ],
   "source": [
    "# to select only one\n",
    "storet1 = 'supermarket'\n",
    "storet2 = 'bakery'\n",
    "storet3 = 'pet supplies'\n",
    "\n",
    "# select only these data for the df\n",
    "df_storet1 = df_orders[df_orders['store_type'] == storet1]\n",
    "df_storet2 = df_orders[df_orders['store_type'] == storet2]\n",
    "df_storet3 = df_orders[df_orders['store_type'] == storet3]\n",
    "\n",
    "# Cross tabulation between category and day\n",
    "CrosstabResult1=pd.crosstab(index=df_storet1['time'],columns=df_storet1['day'])\n",
    "CrosstabResult2=pd.crosstab(index=df_storet2['time'],columns=df_storet2['day'])\n",
    "CrosstabResult3=pd.crosstab(index=df_storet3['time'],columns=df_storet3['day'])\n",
    "CrosstabResult1"
   ]
  },
  {
   "cell_type": "code",
   "execution_count": 20,
   "id": "2573b0fa",
   "metadata": {},
   "outputs": [
    {
     "name": "stdout",
     "output_type": "stream",
     "text": [
      "The P-Value of the ChiSq Test supermarket is: 0.5200118950961687\n",
      "The P-Value of the ChiSq Test bakery is: 1.0\n",
      "The P-Value of the ChiSq Test pet supplies is: 1.0\n"
     ]
    }
   ],
   "source": [
    "# Performing Chi-sq test\n",
    "ChiSqResult1 = chi2_contingency(CrosstabResult1)\n",
    "ChiSqResult2 = chi2_contingency(CrosstabResult2)\n",
    "ChiSqResult3 = chi2_contingency(CrosstabResult3)\n",
    "\n",
    "# P-Value is the Probability of H0 being True\n",
    "# If P-Value > 0.05 then only we Accept the assumption(H0)\n",
    "\n",
    "print('The P-Value of the ChiSq Test supermarket is:', ChiSqResult1[1])\n",
    "print('The P-Value of the ChiSq Test bakery is:', ChiSqResult2[1])\n",
    "print('The P-Value of the ChiSq Test pet supplies is:', ChiSqResult3[1])"
   ]
  },
  {
   "cell_type": "markdown",
   "id": "fd01a1ed",
   "metadata": {},
   "source": [
    "# 2.2. SPECIFIC: TIME VS STORE TYPE Per DAY"
   ]
  },
  {
   "cell_type": "code",
   "execution_count": 21,
   "id": "f63f51f7",
   "metadata": {},
   "outputs": [
    {
     "data": {
      "text/html": [
       "<div>\n",
       "<style scoped>\n",
       "    .dataframe tbody tr th:only-of-type {\n",
       "        vertical-align: middle;\n",
       "    }\n",
       "\n",
       "    .dataframe tbody tr th {\n",
       "        vertical-align: top;\n",
       "    }\n",
       "\n",
       "    .dataframe thead th {\n",
       "        text-align: right;\n",
       "    }\n",
       "</style>\n",
       "<table border=\"1\" class=\"dataframe\">\n",
       "  <thead>\n",
       "    <tr style=\"text-align: right;\">\n",
       "      <th>time</th>\n",
       "      <th>afternoon</th>\n",
       "      <th>evening</th>\n",
       "    </tr>\n",
       "    <tr>\n",
       "      <th>store_type</th>\n",
       "      <th></th>\n",
       "      <th></th>\n",
       "    </tr>\n",
       "  </thead>\n",
       "  <tbody>\n",
       "    <tr>\n",
       "      <th>supermarket</th>\n",
       "      <td>2</td>\n",
       "      <td>2</td>\n",
       "    </tr>\n",
       "  </tbody>\n",
       "</table>\n",
       "</div>"
      ],
      "text/plain": [
       "time         afternoon  evening\n",
       "store_type                     \n",
       "supermarket          2        2"
      ]
     },
     "execution_count": 21,
     "metadata": {},
     "output_type": "execute_result"
    }
   ],
   "source": [
    "# Select only one day\n",
    "Monday = 'Monday'\n",
    "Tuesday = 'Tuesday'\n",
    "Wednesday = 'Wednesday'\n",
    "Thursday = 'Thursday'\n",
    "Friday = 'Friday'\n",
    "Saturday = 'Saturday'\n",
    "Sunday = 'Sunday'\n",
    "\n",
    "# select only these data for the df\n",
    "df_Monday = df_orders[df_orders['day'] == 'Monday']\n",
    "df_Tuesday = df_orders[df_orders['day'] == 'Tuesday']\n",
    "df_Wednesday = df_orders[df_orders['day'] == 'Wednesday']\n",
    "df_Thursday = df_orders[df_orders['day'] == 'Thursday']\n",
    "df_Friday = df_orders[df_orders['day'] == 'Friday']\n",
    "df_Saturday = df_orders[df_orders['day'] == 'Saturday']\n",
    "df_Sunday = df_orders[df_orders['day'] == 'Sunday']\n",
    "\n",
    "CrosstabResult_Mo=pd.crosstab(index=df_Monday['store_type'],columns=df_Monday['time'])\n",
    "CrosstabResult_Tu=pd.crosstab(index=df_Tuesday['store_type'],columns=df_Tuesday['time'])\n",
    "CrosstabResult_We=pd.crosstab(index=df_Wednesday['store_type'],columns=df_Wednesday['time'])\n",
    "CrosstabResult_Th=pd.crosstab(index=df_Thursday['store_type'],columns=df_Thursday['time'])\n",
    "CrosstabResult_Fr=pd.crosstab(index=df_Friday['store_type'],columns=df_Friday['time'])\n",
    "CrosstabResult_Sa=pd.crosstab(index=df_Saturday['store_type'],columns=df_Saturday['time'])\n",
    "CrosstabResult_Su=pd.crosstab(index=df_Sunday['store_type'],columns=df_Sunday['time'])\n",
    "CrosstabResult_Mo"
   ]
  },
  {
   "cell_type": "code",
   "execution_count": 22,
   "id": "2a747555",
   "metadata": {},
   "outputs": [
    {
     "name": "stdout",
     "output_type": "stream",
     "text": [
      "The P-Value of the ChiSq Test for Monday is: 1.0\n",
      "The P-Value of the ChiSq Test for Tuesday is: 0.22313016014842982\n",
      "The P-Value of the ChiSq Test for Wednesday is: 1.0\n",
      "The P-Value of the ChiSq Test for Thursday is: 1.0\n",
      "The P-Value of the ChiSq Test for Friday is: 1.0\n",
      "The P-Value of the ChiSq Test for Sunday is: 1.0\n"
     ]
    }
   ],
   "source": [
    "# Performing Chi-sq test\n",
    "ChiSqResult_Mo = chi2_contingency(CrosstabResult_Mo)\n",
    "ChiSqResult_Tu = chi2_contingency(CrosstabResult_Tu)\n",
    "ChiSqResult_We = chi2_contingency(CrosstabResult_We)\n",
    "ChiSqResult_Th = chi2_contingency(CrosstabResult_Th)\n",
    "ChiSqResult_Fr = chi2_contingency(CrosstabResult_Fr)\n",
    "# ChiSqResult_Sa = chi2_contingency(CrosstabResult_Sa)\n",
    "ChiSqResult_Su = chi2_contingency(CrosstabResult_Su)\n",
    "\n",
    "# P-Value is the Probability of H0 being True\n",
    "# If P-Value > 0.05 then only we Accept the assumption(H0)\n",
    "\n",
    "print('The P-Value of the ChiSq Test for Monday is:', ChiSqResult_Mo[1])\n",
    "print('The P-Value of the ChiSq Test for Tuesday is:', ChiSqResult_Tu[1])\n",
    "print('The P-Value of the ChiSq Test for Wednesday is:', ChiSqResult_We[1])\n",
    "print('The P-Value of the ChiSq Test for Thursday is:', ChiSqResult_Th[1])\n",
    "print('The P-Value of the ChiSq Test for Friday is:', ChiSqResult_Fr[1])\n",
    "# print('The P-Value of the ChiSq Test for Saturday is:', ChiSqResult_Sa[1])\n",
    "print('The P-Value of the ChiSq Test for Sunday is:', ChiSqResult_Su[1])"
   ]
  },
  {
   "cell_type": "markdown",
   "id": "32ab53e6",
   "metadata": {},
   "source": [
    "# 3. New Dataframes per store"
   ]
  },
  {
   "cell_type": "markdown",
   "id": "c9a97c53",
   "metadata": {},
   "source": [
    "## Let's recategorize the times"
   ]
  },
  {
   "cell_type": "code",
   "execution_count": 23,
   "id": "6a6cfa82",
   "metadata": {},
   "outputs": [],
   "source": [
    "df = pd.read_csv (r\"C:\\Users\\20204113\\OneDrive - TU Eindhoven\\2_Research\\1_Groceries\\DATA\\9th week - narrative (3rd attempt)\\HH3\\df\\df_HH3.csv\")"
   ]
  },
  {
   "cell_type": "code",
   "execution_count": 24,
   "id": "d2a78846",
   "metadata": {},
   "outputs": [],
   "source": [
    "def categorize(row):  \n",
    "    if row['times_min'] < 1300:\n",
    "        return 'noon'\n",
    "    elif row['times_min'] >= 1300  and row['times_min'] < 1730:\n",
    "        return 'afternoon'\n",
    "    elif row['times_min'] >= 1800:\n",
    "        return 'evening'\n",
    "    \n",
    "df['time'] = df.apply(lambda row: categorize(row), axis=1)"
   ]
  },
  {
   "cell_type": "code",
   "execution_count": 25,
   "id": "24434f7d",
   "metadata": {},
   "outputs": [],
   "source": [
    "df.to_csv(r\"C:\\Users\\20204113\\OneDrive - TU Eindhoven\\2_Research\\1_Groceries\\DATA\\9th week - narrative (3rd attempt)\\HH3\\df\\df_HH3.csv\", index=False)"
   ]
  },
  {
   "cell_type": "code",
   "execution_count": 26,
   "id": "cbddc248",
   "metadata": {},
   "outputs": [],
   "source": [
    "df = pd.read_csv (r\"C:\\Users\\20204113\\OneDrive - TU Eindhoven\\2_Research\\1_Groceries\\DATA\\9th week - narrative (3rd attempt)\\HH3\\df\\df_HH3.csv\")\n",
    "df_orders = df[['week','order_ID', 'store_name', 'storename_num', 'store_type', 'storetype_num','day', 'day_num', 'time', 'time_num', 'timestamp', 'times', 'dates', 'times_min', 'dates_days', 'order_amount', 'order_price']]\n",
    "df_orders = df_orders.drop_duplicates()"
   ]
  },
  {
   "cell_type": "code",
   "execution_count": 27,
   "id": "7e30f1ba",
   "metadata": {},
   "outputs": [],
   "source": [
    "# Select only one day\n",
    "Monday = 'Monday'\n",
    "Tuesday = 'Tuesday'\n",
    "Wednesday = 'Wednesday'\n",
    "Thursday = 'Thursday'\n",
    "Friday = 'Friday'\n",
    "Saturday = 'Saturday'\n",
    "Sunday = 'Sunday'\n",
    "\n",
    "# select only these data for the df\n",
    "df_Monday = df_orders[df_orders['day'] == 'Monday']\n",
    "df_Tuesday = df_orders[df_orders['day'] == 'Tuesday']\n",
    "df_Wednesday = df_orders[df_orders['day'] == 'Wednesday']\n",
    "df_Thursday = df_orders[df_orders['day'] == 'Thursday']\n",
    "df_Friday = df_orders[df_orders['day'] == 'Friday']\n",
    "df_Saturday = df_orders[df_orders['day'] == 'Saturday']\n",
    "df_Sunday = df_orders[df_orders['day'] == 'Sunday']"
   ]
  },
  {
   "cell_type": "code",
   "execution_count": 28,
   "id": "f5f34a60",
   "metadata": {},
   "outputs": [],
   "source": [
    "df_Mondays = df_Monday.groupby(['time'])['order_ID'].nunique()\n",
    "df_Mondays = pd.DataFrame (df_Mondays)\n",
    "df_Mondays = df_Mondays.reset_index()\n",
    "df_Mondays = df_Mondays.loc[~(df_Mondays==0).any(axis=1)]\n",
    "df_Mondays = df_Mondays.rename(columns={\"order_ID\": \"weight\"})\n",
    "\n",
    "df_Tuesdays = df_Tuesday.groupby(['time'])['order_ID'].nunique()\n",
    "df_Tuesdays = pd.DataFrame (df_Tuesdays)\n",
    "df_Tuesdays = df_Tuesdays.reset_index()\n",
    "df_Tuesdays = df_Tuesdays.loc[~(df_Tuesdays==0).any(axis=1)]\n",
    "df_Tuesdays = df_Tuesdays.rename(columns={\"order_ID\": \"weight\"})\n",
    "\n",
    "df_Wednesdays = df_Wednesday.groupby(['time'])['order_ID'].nunique()\n",
    "df_Wednesdays = pd.DataFrame (df_Wednesdays)\n",
    "df_Wednesdays = df_Wednesdays.reset_index()\n",
    "df_Wednesdays = df_Wednesdays.loc[~(df_Wednesdays==0).any(axis=1)]\n",
    "df_Wednesdays = df_Wednesdays.rename(columns={\"order_ID\": \"weight\"})\n",
    "\n",
    "df_Thursdays = df_Thursday.groupby(['time'])['order_ID'].nunique()\n",
    "df_Thursdays = pd.DataFrame (df_Thursdays)\n",
    "df_Thursdays = df_Thursdays.reset_index()\n",
    "df_Thursdays = df_Thursdays.loc[~(df_Thursdays==0).any(axis=1)]\n",
    "df_Thursdays = df_Thursdays.rename(columns={\"order_ID\": \"weight\"})\n",
    "\n",
    "df_Fridays = df_Friday.groupby(['time'])['order_ID'].nunique()\n",
    "df_Fridays = pd.DataFrame (df_Fridays)\n",
    "df_Fridays = df_Fridays.reset_index()\n",
    "df_Fridays = df_Fridays.loc[~(df_Fridays==0).any(axis=1)]\n",
    "df_Fridays = df_Fridays.rename(columns={\"order_ID\": \"weight\"})\n",
    "\n",
    "df_Saturdays = df_Saturday.groupby(['time'])['order_ID'].nunique()\n",
    "df_Saturdays = pd.DataFrame (df_Saturdays)\n",
    "df_Saturdays = df_Saturdays.reset_index()\n",
    "df_Saturdays = df_Saturdays.loc[~(df_Saturdays==0).any(axis=1)]\n",
    "df_Saturdays = df_Saturdays.rename(columns={\"order_ID\": \"weight\"})\n",
    "\n",
    "df_Sundays = df_Sunday.groupby(['time'])['order_ID'].nunique()\n",
    "df_Sundays = pd.DataFrame (df_Sundays)\n",
    "df_Sundays = df_Sundays.reset_index()\n",
    "df_Sundays = df_Sundays.loc[~(df_Sundays==0).any(axis=1)]\n",
    "df_Sundays = df_Sundays.rename(columns={\"order_ID\": \"weight\"})"
   ]
  },
  {
   "cell_type": "code",
   "execution_count": 29,
   "id": "7bab33f1",
   "metadata": {},
   "outputs": [],
   "source": [
    "df_Mondays.to_csv (r\"C:\\Users\\20204113\\OneDrive - TU Eindhoven\\2_Research\\1_Groceries\\DATA\\9th week - narrative (3rd attempt)\\HH3\\df\\df_HH3_MoTime.csv\", index = None, header=True)\n",
    "df_Tuesdays.to_csv (r\"C:\\Users\\20204113\\OneDrive - TU Eindhoven\\2_Research\\1_Groceries\\DATA\\9th week - narrative (3rd attempt)\\HH3\\df\\df_HH3_TuTime.csv\", index = None, header=True)\n",
    "df_Wednesdays.to_csv (r\"C:\\Users\\20204113\\OneDrive - TU Eindhoven\\2_Research\\1_Groceries\\DATA\\9th week - narrative (3rd attempt)\\HH3\\df\\df_HH3_WeTime.csv\", index = None, header=True)\n",
    "df_Thursdays.to_csv (r\"C:\\Users\\20204113\\OneDrive - TU Eindhoven\\2_Research\\1_Groceries\\DATA\\9th week - narrative (3rd attempt)\\HH3\\df\\df_HH3_ThTime.csv\", index = None, header=True)\n",
    "df_Fridays.to_csv (r\"C:\\Users\\20204113\\OneDrive - TU Eindhoven\\2_Research\\1_Groceries\\DATA\\9th week - narrative (3rd attempt)\\HH3\\df\\df_HH3_FrTime.csv\", index = None, header=True)\n",
    "df_Saturdays.to_csv (r\"C:\\Users\\20204113\\OneDrive - TU Eindhoven\\2_Research\\1_Groceries\\DATA\\9th week - narrative (3rd attempt)\\HH3\\df\\df_HH3_SaTime.csv\", index = None, header=True)\n",
    "df_Sundays.to_csv (r\"C:\\Users\\20204113\\OneDrive - TU Eindhoven\\2_Research\\1_Groceries\\DATA\\9th week - narrative (3rd attempt)\\HH3\\df\\df_HH3_SuTime.csv\", index = None, header=True)"
   ]
  },
  {
   "cell_type": "markdown",
   "id": "61a7d11d",
   "metadata": {},
   "source": [
    "##### Up Next: Algorithm Func -  Time_HH3"
   ]
  },
  {
   "cell_type": "markdown",
   "id": "629c2232",
   "metadata": {},
   "source": [
    "# CONCLUSION"
   ]
  },
  {
   "cell_type": "markdown",
   "id": "360a4dfa",
   "metadata": {},
   "source": [
    "#### If they go to store X (on day Y) => at X time (noon, afternoon, evening)"
   ]
  },
  {
   "cell_type": "markdown",
   "id": "84972ee4",
   "metadata": {},
   "source": [
    "Data to build the algorithm:\n",
    ">  2. Number of visits per time (per week)\n",
    "    1. Assign weights to each time (based on times shopped on these times)\n",
    "    \n",
    "    \n",
    "We then have the second given:\n",
    "> 1. Week 9: HH3 will shop on <b>Monday/Tuesday/..., X times</b>\n",
    "> 2. Week 9: HH3 will shop on <b>noon/afternoon/..., X times</b> ==> related to the day"
   ]
  }
 ],
 "metadata": {
  "kernelspec": {
   "display_name": "Python 3 (ipykernel)",
   "language": "python",
   "name": "python3"
  },
  "language_info": {
   "codemirror_mode": {
    "name": "ipython",
    "version": 3
   },
   "file_extension": ".py",
   "mimetype": "text/x-python",
   "name": "python",
   "nbconvert_exporter": "python",
   "pygments_lexer": "ipython3",
   "version": "3.9.7"
  }
 },
 "nbformat": 4,
 "nbformat_minor": 5
}
